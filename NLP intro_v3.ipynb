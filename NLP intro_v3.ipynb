{
 "cells": [
  {
   "cell_type": "markdown",
   "metadata": {},
   "source": [
    "# Instructions"
   ]
  },
  {
   "cell_type": "markdown",
   "metadata": {},
   "source": [
    "To make this notebook interactive:\n",
    "\n",
    "First, press the 'Kernel tab' and select 'Restart & Run All'"
   ]
  },
  {
   "cell_type": "markdown",
   "metadata": {
    "ExecuteTime": {
     "end_time": "2020-05-30T10:48:02.731236Z",
     "start_time": "2020-05-30T10:48:02.698239Z"
    }
   },
   "source": [
    "![step1](./images/step1.jpg)"
   ]
  },
  {
   "cell_type": "markdown",
   "metadata": {
    "ExecuteTime": {
     "end_time": "2020-05-30T10:51:40.788951Z",
     "start_time": "2020-05-30T10:51:40.781912Z"
    }
   },
   "source": [
    "Then press the red 'Restart and Run All Cells' button."
   ]
  },
  {
   "cell_type": "markdown",
   "metadata": {},
   "source": [
    "![step2](./images/step2.jpg)"
   ]
  },
  {
   "cell_type": "markdown",
   "metadata": {},
   "source": [
    "## Set up - Ignore"
   ]
  },
  {
   "cell_type": "code",
   "execution_count": 1,
   "metadata": {
    "ExecuteTime": {
     "end_time": "2020-05-30T10:57:58.599554Z",
     "start_time": "2020-05-30T10:57:46.336114Z"
    },
    "code_folding": [],
    "hideCode": false,
    "hidePrompt": false
   },
   "outputs": [
    {
     "data": {
      "text/html": [
       "<style>.container { width:80% !important; }</style>"
      ],
      "text/plain": [
       "<IPython.core.display.HTML object>"
      ]
     },
     "metadata": {},
     "output_type": "display_data"
    }
   ],
   "source": [
    "from IPython.core.display import display, HTML\n",
    "display(HTML(\"<style>.container { width:80% !important; }</style>\"))\n",
    "import pandas as pd\n",
    "import numpy as np\n",
    "from IPython.core.interactiveshell import InteractiveShell\n",
    "from IPython.display import IFrame\n",
    "from spacy.tokens import Doc, Span, Token\n",
    "import matplotlib.pyplot as plt\n",
    "from sklearn.decomposition import PCA\n",
    "from scipy import spatial\n",
    "from scipy.spatial import distance\n",
    "cosine_similarity = lambda x, y: 1 - spatial.distance.cosine(x, y)\n",
    "import spacy\n",
    "from spacy import displacy\n",
    "nlp = spacy.load('en_core_web_lg') \n",
    "import warnings\n",
    "warnings.filterwarnings('ignore')\n",
    "from vaderSentiment.vaderSentiment import SentimentIntensityAnalyzer\n",
    "sentiment_analyzer = SentimentIntensityAnalyzer()\n",
    "\n",
    "# CUSTOM FUNCTIONS\n",
    "def compareMeanings(words):\n",
    "    # calculate similarities\n",
    "    pca = PCA(n_components=2)\n",
    "    pca.fit([nlp(word).vector for word in words])\n",
    "    word_vecs_2d = pca.transform([nlp(word).vector for word in words])\n",
    "    # create plot \n",
    "    plt.figure(figsize=(10,5))\n",
    "    plt.scatter(word_vecs_2d[:,0], word_vecs_2d[:,1])\n",
    "    # for each word and coordinate pair: draw the text on the plot\n",
    "    for word, coord in zip(words, word_vecs_2d):\n",
    "        x, y = coord\n",
    "        plt.text(x, y, word, size= 15)\n",
    "    plt.show()\n",
    "    \n",
    "def calculateVector(start, subtract, add, n=5):\n",
    "    x = nlp.vocab[start].vector - nlp.vocab[subtract].vector + nlp.vocab[add].vector\n",
    "    similar_words = []\n",
    "    for word in nlp.vocab:\n",
    "        if not (word.has_vector & word.is_lower):\n",
    "            continue\n",
    "        if not ((word.text!=start)&(word.text!=add)&(word.text!=subtract)):\n",
    "            continue\n",
    "        similarity = cosine_similarity(x, word.vector)\n",
    "        similar_words.append((word.text, similarity))    \n",
    "    similar_words = sorted(similar_words, key=lambda item: -item[1])\n",
    "    result = pd.DataFrame(similar_words, columns=['word', 'similarity'])\n",
    "    with pd.option_context('display.max_rows', None):\n",
    "        display(result.head(n))\n",
    "\n",
    "# set up info\n",
    "#%load_ext watermark\n",
    "#%watermark -v -p pandas,numpy,scipy,statsmodels,matplotlib,seaborn,spacy,watermark,vaderSentiment"
   ]
  },
  {
   "cell_type": "markdown",
   "metadata": {
    "hideCode": false,
    "hidePrompt": false,
    "toc": true
   },
   "source": [
    "<h1>Table of Contents<span class=\"tocSkip\"></span></h1>\n",
    "<div class=\"toc\"><ul class=\"toc-item\"><li><span><a href=\"#Instructions\" data-toc-modified-id=\"Instructions-1\"><span class=\"toc-item-num\">1&nbsp;&nbsp;</span>Instructions</a></span><ul class=\"toc-item\"><li><span><a href=\"#Set-up---Ignore\" data-toc-modified-id=\"Set-up---Ignore-1.1\"><span class=\"toc-item-num\">1.1&nbsp;&nbsp;</span>Set up - Ignore</a></span></li></ul></li><li><span><a href=\"#Introduction\" data-toc-modified-id=\"Introduction-2\"><span class=\"toc-item-num\">2&nbsp;&nbsp;</span>Introduction</a></span></li><li><span><a href=\"#Notebooks\" data-toc-modified-id=\"Notebooks-3\"><span class=\"toc-item-num\">3&nbsp;&nbsp;</span>Notebooks</a></span></li><li><span><a href=\"#Natural-Language-Processing-(NLP)\" data-toc-modified-id=\"Natural-Language-Processing-(NLP)-4\"><span class=\"toc-item-num\">4&nbsp;&nbsp;</span>Natural Language Processing (NLP)</a></span><ul class=\"toc-item\"><li><span><a href=\"#Search-is-AI-in-action\" data-toc-modified-id=\"Search-is-AI-in-action-4.1\"><span class=\"toc-item-num\">4.1&nbsp;&nbsp;</span>Search is AI in action</a></span></li><li><span><a href=\"#It-wasn't-always-so-easy\" data-toc-modified-id=\"It-wasn't-always-so-easy-4.2\"><span class=\"toc-item-num\">4.2&nbsp;&nbsp;</span>It wasn't always so easy</a></span></li></ul></li><li><span><a href=\"#Generation-1:-Word-Frequency\" data-toc-modified-id=\"Generation-1:-Word-Frequency-5\"><span class=\"toc-item-num\">5&nbsp;&nbsp;</span>Generation 1: Word Frequency</a></span><ul class=\"toc-item\"><li><span><a href=\"#Word-frequnecy-in-research\" data-toc-modified-id=\"Word-frequnecy-in-research-5.1\"><span class=\"toc-item-num\">5.1&nbsp;&nbsp;</span>Word frequnecy in research</a></span></li><li><span><a href=\"#Sentiment-via-word-frequency\" data-toc-modified-id=\"Sentiment-via-word-frequency-5.2\"><span class=\"toc-item-num\">5.2&nbsp;&nbsp;</span>Sentiment via word frequency</a></span></li><li><span><a href=\"#Scattertext\" data-toc-modified-id=\"Scattertext-5.3\"><span class=\"toc-item-num\">5.3&nbsp;&nbsp;</span>Scattertext</a></span></li><li><span><a href=\"#Limitations\" data-toc-modified-id=\"Limitations-5.4\"><span class=\"toc-item-num\">5.4&nbsp;&nbsp;</span>Limitations</a></span></li></ul></li><li><span><a href=\"#Generation-2:-Word-embeddings\" data-toc-modified-id=\"Generation-2:-Word-embeddings-6\"><span class=\"toc-item-num\">6&nbsp;&nbsp;</span>Generation 2: Word embeddings</a></span><ul class=\"toc-item\"><li><span><a href=\"#Comparing-word-similarity\" data-toc-modified-id=\"Comparing-word-similarity-6.1\"><span class=\"toc-item-num\">6.1&nbsp;&nbsp;</span>Comparing word similarity</a></span></li><li><span><a href=\"#Comparing-sentence-meaning\" data-toc-modified-id=\"Comparing-sentence-meaning-6.2\"><span class=\"toc-item-num\">6.2&nbsp;&nbsp;</span>Comparing sentence meaning</a></span></li><li><span><a href=\"#Measuring-sentences-for-target-concept\" data-toc-modified-id=\"Measuring-sentences-for-target-concept-6.3\"><span class=\"toc-item-num\">6.3&nbsp;&nbsp;</span>Measuring sentences for target concept</a></span></li><li><span><a href=\"#Adding-and-subtracting-meanings\" data-toc-modified-id=\"Adding-and-subtracting-meanings-6.4\"><span class=\"toc-item-num\">6.4&nbsp;&nbsp;</span>Adding and subtracting meanings</a></span></li><li><span><a href=\"#Syntax\" data-toc-modified-id=\"Syntax-6.5\"><span class=\"toc-item-num\">6.5&nbsp;&nbsp;</span>Syntax</a></span></li><li><span><a href=\"#Semantic-components\" data-toc-modified-id=\"Semantic-components-6.6\"><span class=\"toc-item-num\">6.6&nbsp;&nbsp;</span>Semantic components</a></span></li></ul></li><li><span><a href=\"#Use-in-social-research\" data-toc-modified-id=\"Use-in-social-research-7\"><span class=\"toc-item-num\">7&nbsp;&nbsp;</span>Use in social research</a></span></li><li><span><a href=\"#Conclusion\" data-toc-modified-id=\"Conclusion-8\"><span class=\"toc-item-num\">8&nbsp;&nbsp;</span>Conclusion</a></span></li></ul></div>"
   ]
  },
  {
   "cell_type": "markdown",
   "metadata": {
    "hideCode": true,
    "hidePrompt": true
   },
   "source": [
    "# Introduction"
   ]
  },
  {
   "cell_type": "markdown",
   "metadata": {},
   "source": [
    "**Outline**\n",
    "- Notebooks\n",
    "- Natural Language Processing (NLP)\n",
    "- Generation 1: word frequencies\n",
    "- Generation 2: word embeddings\n",
    "- Use in social research"
   ]
  },
  {
   "cell_type": "markdown",
   "metadata": {},
   "source": [
    "**Interactive**\n",
    "- Interactive lecture\n",
    "- Code-along\n",
    "- Open link (2 mins)\n",
    "- Menu > 'Kernel' > 'Restart & Run All'\n",
    "- Grey cells have computer code (e.g., `print('hello')`) \n"
   ]
  },
  {
   "cell_type": "markdown",
   "metadata": {
    "ExecuteTime": {
     "end_time": "2020-04-19T13:34:33.351914Z",
     "start_time": "2020-04-19T13:34:33.348913Z"
    }
   },
   "source": [
    "# Notebooks"
   ]
  },
  {
   "cell_type": "markdown",
   "metadata": {
    "ExecuteTime": {
     "end_time": "2020-04-18T13:53:13.634174Z",
     "start_time": "2020-04-18T13:53:13.629176Z"
    }
   },
   "source": [
    "- Scientific articles separate text from data and analysis.\n",
    "- Data science notebooks enable researchers and readers to present text, data and analysis side-by-side.\n",
    "- [Jupyter notebooks](https://jupyter.org/) (and more recently Jupyter Lab) are language agnostic notebooks. \n",
    "- They can run many languages, especially: **Ju**lia, **Pyt**hon, and **R**. \n",
    "- Initiated in 2014, Jupyter notebooks have rapidly become a [dominant platform for data analysis](https://www.nature.com/articles/d41586-018-07196-1).\n",
    "- Maybe notebooks will [replace the scientific article](https://www.theatlantic.com/science/archive/2018/04/the-scientific-paper-is-obsolete/556676/).\n",
    "- Notebooks can display and process numeric, image, sound, and text data.\n",
    "- Notebooks are an accessible, reproducible and transparent way to share research.\n",
    "- Here is a [gallery of interesting notebooks](https://github.com/jupyter/jupyter/wiki/A-gallery-of-interesting-Jupyter-Notebooks)."
   ]
  },
  {
   "cell_type": "markdown",
   "metadata": {},
   "source": [
    "The current notebook is in Python, so it can run Python code. \n",
    "\n",
    "For example:"
   ]
  },
  {
   "cell_type": "code",
   "execution_count": 2,
   "metadata": {
    "ExecuteTime": {
     "end_time": "2020-05-30T10:57:58.607461Z",
     "start_time": "2020-05-30T10:57:58.601462Z"
    }
   },
   "outputs": [
    {
     "name": "stdout",
     "output_type": "stream",
     "text": [
      "Hello World!\n"
     ]
    }
   ],
   "source": [
    "print('Hello World!')"
   ]
  },
  {
   "cell_type": "code",
   "execution_count": 3,
   "metadata": {
    "ExecuteTime": {
     "end_time": "2020-05-30T10:57:58.616495Z",
     "start_time": "2020-05-30T10:57:58.609462Z"
    }
   },
   "outputs": [
    {
     "data": {
      "text/plain": [
       "9"
      ]
     },
     "execution_count": 3,
     "metadata": {},
     "output_type": "execute_result"
    }
   ],
   "source": [
    "a = 2\n",
    "b = 7\n",
    "a+b"
   ]
  },
  {
   "cell_type": "markdown",
   "metadata": {},
   "source": [
    "Try it: \n",
    "\n",
    "1. Insert a new cell: Menu > 'Insert' > 'Insert Cell Above' (or double-tap 'a' (above) or 'b' (below))\n",
    "\n",
    "1. Try `print('This is a notebook')` or `676*232`\n",
    "\n",
    "3. Press Menu > 'Run' (or shift/ctrl-return)"
   ]
  },
  {
   "cell_type": "markdown",
   "metadata": {
    "hideCode": false,
    "hidePrompt": false
   },
   "source": [
    "# Natural Language Processing (NLP)\n",
    "\n",
    "NLP refers to using computers to search, manipulate and respond to human language.\n",
    "\n",
    "It is closely connected to AI, Machine Learning, Big Data.\n",
    "\n",
    "Google, Facebook, etc. are investing vast resources in making computers understand text, image and sound."
   ]
  },
  {
   "cell_type": "markdown",
   "metadata": {},
   "source": [
    "## Search is AI in action"
   ]
  },
  {
   "cell_type": "markdown",
   "metadata": {
    "ExecuteTime": {
     "end_time": "2020-04-19T14:48:57.809295Z",
     "start_time": "2020-04-19T14:48:57.804295Z"
    }
   },
   "source": [
    "Have you noticed how Google search has become very good at [finding what you want](https://www.google.com/intl/en_uk/search/howsearchworks/algorithms/)?\n",
    "\n",
    "Not only does it index billions of web pages, but, it also:\n",
    "- spell checks (try: '[appple piee](https://www.google.co.uk/search?hl=en&q=appple%20piee&meta=)')\n",
    "- considers words in context (try: '[apple shares](https://www.google.co.uk/search?hl=en&q=apple%20shares&meta=)' vs. '[apple pie](https://www.google.co.uk/search?hl=en&q=apple%20pie&meta=)')\n",
    "- understands synonyms (try: '[apple with pastry top](https://www.google.co.uk/search?hl=en&q=apple%20with%20pastry%20top&meta=)')\n",
    "- and intent (try: '[how should one prepare a pie made with apples?](https://www.google.co.uk/search?hl=en&q=how%20should%20one%20prepare%20a%20pie%20made%20with%20apples%3F&meta=)')"
   ]
  },
  {
   "cell_type": "markdown",
   "metadata": {},
   "source": [
    "## It wasn't always so easy"
   ]
  },
  {
   "cell_type": "markdown",
   "metadata": {},
   "source": [
    "Does anyone remember searching with AltaVista, Lycos, WebCrawler, Ask Jeeves ....\n",
    "\n",
    "Yahoo search in the 1990s was a glorified telephone directory"
   ]
  },
  {
   "cell_type": "markdown",
   "metadata": {},
   "source": [
    "![Yahoo search in the 1990s](./images/yahoo_1990s.jpg)"
   ]
  },
  {
   "cell_type": "markdown",
   "metadata": {
    "ExecuteTime": {
     "end_time": "2020-04-19T14:47:24.804269Z",
     "start_time": "2020-04-19T14:47:24.799271Z"
    }
   },
   "source": [
    "So, what happened?\n",
    "1. identifying quality based on links ('page rank') - not our focus\n",
    "2. advances in understanding the meaning of words - our focus"
   ]
  },
  {
   "cell_type": "markdown",
   "metadata": {
    "hideCode": false,
    "hidePrompt": false
   },
   "source": [
    "# Generation 1: Word Frequency"
   ]
  },
  {
   "cell_type": "markdown",
   "metadata": {
    "hideCode": false,
    "hidePrompt": false
   },
   "source": [
    "Before 2013 most search was based on words occurance. Given the some text, search engines counted how often words occured.\n",
    "\n"
   ]
  },
  {
   "cell_type": "code",
   "execution_count": 4,
   "metadata": {
    "ExecuteTime": {
     "end_time": "2020-05-30T10:57:58.625467Z",
     "start_time": "2020-05-30T10:57:58.619459Z"
    }
   },
   "outputs": [
    {
     "data": {
      "text/plain": [
       "0"
      ]
     },
     "execution_count": 4,
     "metadata": {},
     "output_type": "execute_result"
    }
   ],
   "source": [
    "text_to_search = 'This webpage is about Bob the cat and other cats but not The Cat'\n",
    "\n",
    "text_to_search.count('bob')"
   ]
  },
  {
   "cell_type": "markdown",
   "metadata": {},
   "source": [
    "## Word frequnecy in research"
   ]
  },
  {
   "cell_type": "markdown",
   "metadata": {},
   "source": [
    "In social research, word frequency has been counted since the 1960s.\n",
    "\n",
    "One of the most popular software platforms for this is the LIWC ('[Linguistic Inquiry Word Count](https://liwc.wpengine.com/)').\n",
    "\n",
    "This proprietary software was developed by James Pennebaker et al., and has validated psychometric properties ([2015](https://repositories.lib.utexas.edu/bitstream/handle/2152/31333/LIWC2015_LanguageManual.pdf))."
   ]
  },
  {
   "cell_type": "markdown",
   "metadata": {},
   "source": [
    "![LIWC](./images/LIWC.jpg)"
   ]
  },
  {
   "cell_type": "markdown",
   "metadata": {
    "ExecuteTime": {
     "end_time": "2020-04-20T09:48:01.986853Z",
     "start_time": "2020-04-20T09:48:01.980847Z"
    }
   },
   "source": [
    "Indicative research: <br>\n",
    "- Identifying [authorship in Shakespeare's plays](http://elizabethan-theatre.org/wps/wp-content/uploads/2015/07/Double-Falsehood-by-Ryan-Boyd-Psychological-Science-2015.pdf)\n",
    "- Longitudinal studies of Mayor [Giuliani's adaptation to the crisis of 9/11](https://www.sciencedirect.com/science/article/abs/pii/S0092656602923494)\n",
    "- Detecting people's [personality from their writing style](https://www.ncbi.nlm.nih.gov/pmc/articles/PMC2885844/?_escaped_fragment_=po=2.77778)\n",
    "- Monitoring [public anxiety](https://www.tandfonline.com/doi/abs/10.1080/10410236.2011.571759) and public mood (which is [associated with stock prices](https://arxiv.org/pdf/1010.3003&))\n",
    "- CFOs who copy the CEO style of [speech speak-up less](https://journals.aom.org/doi/abs/10.5465/amj.2016.1062)\n",
    "\n",
    "But, all these studies use fairly basic word count techniques, or, slightly more advanced sentiment analysis."
   ]
  },
  {
   "cell_type": "markdown",
   "metadata": {},
   "source": [
    "## Sentiment via word frequency"
   ]
  },
  {
   "cell_type": "markdown",
   "metadata": {},
   "source": [
    "In order to analyze concepts, such as [moral foundations](https://moralfoundations.org/other-materials/), researchers developed 'dictionaries', namely, word-lists for targeted concepts.\n",
    "\n",
    "Some of these dictionaries are elaborate, with each word having a different score, and, ability to handle negations. \n",
    "\n",
    "Below, is [VADER](https://github.com/cjhutto/vaderSentiment) - an advanced sentiment analysis dictionary ([Hutto & Gilbert, 2014](https://www.aaai.org/ocs/index.php/ICWSM/ICWSM14/paper/download/8109/8122))."
   ]
  },
  {
   "cell_type": "code",
   "execution_count": 5,
   "metadata": {
    "ExecuteTime": {
     "end_time": "2020-05-30T10:57:58.633460Z",
     "start_time": "2020-05-30T10:57:58.628485Z"
    }
   },
   "outputs": [
    {
     "data": {
      "text/plain": [
       "{'neg': 0.0, 'neu': 0.351, 'pos': 0.649, 'compound': 0.5719}"
      ]
     },
     "execution_count": 5,
     "metadata": {},
     "output_type": "execute_result"
    }
   ],
   "source": [
    "text = 'i am wonderful'\n",
    "\n",
    "sentiment_analyzer.polarity_scores(text)"
   ]
  },
  {
   "cell_type": "markdown",
   "metadata": {},
   "source": [
    "Try changing the above to:\n",
    "- `'i am not happy'` (basic negation works)\n",
    "- `'i am not hapy'` (but typos cause a problem)"
   ]
  },
  {
   "cell_type": "markdown",
   "metadata": {},
   "source": [
    "## Scattertext"
   ]
  },
  {
   "cell_type": "markdown",
   "metadata": {},
   "source": [
    "Words can be used as individual variables to predict binary outcomes.\n",
    "\n",
    "A [scattertext](https://github.com/JasonKessler/scattertext) interactive plot is a good way to start qualitatively analysing the data.\n",
    "\n",
    "For example, we used the [Walking the Plank](https://www.dropbox.com/s/stxemdc1glml79w/Data_Sheet_1_walking_the_plank.pdf?dl=0) experimental pradigm to examine participants' voice behaivour in a risky situation ([Noort, Reader & Gillespie, 2019](https://www.frontiersin.org/articles/10.3389/fpsyg.2019.00668/full))."
   ]
  },
  {
   "cell_type": "code",
   "execution_count": 6,
   "metadata": {
    "ExecuteTime": {
     "end_time": "2020-05-30T10:57:58.642463Z",
     "start_time": "2020-05-30T10:57:58.635461Z"
    },
    "scrolled": false
   },
   "outputs": [
    {
     "data": {
      "text/html": [
       "\n",
       "        <iframe\n",
       "            width=\"1300\"\n",
       "            height=\"1000\"\n",
       "            src=\"./images/walkingThePlank_concernVoice.html\"\n",
       "            frameborder=\"0\"\n",
       "            allowfullscreen\n",
       "        ></iframe>\n",
       "        "
      ],
      "text/plain": [
       "<IPython.lib.display.IFrame at 0x1b0c7725348>"
      ]
     },
     "execution_count": 6,
     "metadata": {},
     "output_type": "execute_result"
    }
   ],
   "source": [
    "file_name = './images/walkingThePlank_concernVoice.html'\n",
    "IFrame(src=file_name, width=1300, height=1000)"
   ]
  },
  {
   "cell_type": "markdown",
   "metadata": {},
   "source": [
    "## Limitations"
   ]
  },
  {
   "cell_type": "markdown",
   "metadata": {},
   "source": [
    "The problems with word counting:\n",
    "- similarity is based on characters\n",
    "- 'dog' is not the same as 'Dog' (capital) or 'dgo' (typo)\n",
    "- 'dog' is similar to 'dogs' (same stem)\n",
    "- 'dog' is also similar to 'god' (same characters)\n",
    "- But, 'dog' is not similar to 'labrador' (type of dog) or 'cat' (also a pet)"
   ]
  },
  {
   "cell_type": "markdown",
   "metadata": {
    "hideCode": false,
    "hidePrompt": false
   },
   "source": [
    "# Generation 2: Word embeddings"
   ]
  },
  {
   "cell_type": "markdown",
   "metadata": {
    "hideCode": true,
    "hidePrompt": true
   },
   "source": [
    "**History**\n",
    "\n",
    "'Word embeddings' were developed by [Yoshua Bengio](https://scholar.google.co.uk/citations?user=kukA0LcAAAAJ&hl=en), [Yann LeCun](https://scholar.google.co.uk/citations?user=WLN3QrAAAAAJ&hl=en&oi=ao), [Geoffrey Hinton](https://scholar.google.co.uk/citations?user=JicYPdAAAAAJ&hl=en&oi=ao) et al. using neural networks and deep learning techniques. This work has recently led to a huge breakthrough in NLP.\n",
    "\n",
    "The core idea is evident Wittgenstein's ([1953](https://en.wikipedia.org/wiki/Philosophical_Investigations); also Firth, [1957](https://en.wikipedia.org/wiki/John_Rupert_Firth)) insight: the meaning of words comes from the context in which they are used. "
   ]
  },
  {
   "cell_type": "markdown",
   "metadata": {},
   "source": [
    "**Intuition**\n",
    "\n",
    "Consider the sentence 'the X sat on the mat' - most people would agree that 'dog' and 'cat' are plausible candidates for X. That is to say, 'dog' and 'cat' occupy similar roles within similar sentences. \n",
    "\n",
    "This is also the core idea behind predictive text: where algorithms try to predict the next word you might use on the basis of what has been typed. ([Demo: can predictive text finish your manuscript?](https://talktotransformer.com/))."
   ]
  },
  {
   "cell_type": "markdown",
   "metadata": {},
   "source": [
    "**Creation**\n",
    "\n",
    "These are statistical models of language. Based on huge (billions of words) datasets, the statistics are used to predict words.\n",
    "\n",
    "The key idea: instead of counting words, ignore the word itself, and count the words that it co-occurs with.\n",
    "\n",
    "This might seem odd, but, when scaled accross billions of pages of text (books, webpages) it produces models that *seem* to encode meaning.\n",
    "\n",
    "Word embeddings encode the meaning of words not in terms of the words themselves, but, in terms of the context in which the words appear. By analyzing billions of webpages and books, statistical models are built based on which words occur in the same context. These models _seem_ to encode meaning.\n",
    "\n",
    "Here is an [interactive illustration](https://projector.tensorflow.org/) of a small model (10k words mapped in 200 dimensions).\n"
   ]
  },
  {
   "cell_type": "markdown",
   "metadata": {
    "ExecuteTime": {
     "end_time": "2020-04-20T17:50:36.905601Z",
     "start_time": "2020-04-20T17:50:36.900602Z"
    }
   },
   "source": [
    "**Semantic structure**\n",
    "\n",
    "Although word embeddings are non-supervised (created 'bottom-up' from language use) they [encode patterns of meaning](https://nlp.stanford.edu/projects/glove/).\n",
    "\n",
    "For example, the translations in the vector space between 'queen' and 'king' are parallel - in a dimension that seems to encode 'gender'."
   ]
  },
  {
   "cell_type": "markdown",
   "metadata": {
    "ExecuteTime": {
     "end_time": "2020-04-20T17:46:14.150373Z",
     "start_time": "2020-04-20T17:46:14.137372Z"
    }
   },
   "source": [
    "![word_embedding_dimensions.jpg](./images/word_embedding_dimensions.jpg)"
   ]
  },
  {
   "cell_type": "markdown",
   "metadata": {
    "hideCode": false,
    "hidePrompt": false
   },
   "source": [
    "## Comparing word similarity\n",
    "Most people would agree that 'dog' is more similar to 'cat' than 'road' - and the models agree:"
   ]
  },
  {
   "cell_type": "code",
   "execution_count": 7,
   "metadata": {
    "ExecuteTime": {
     "end_time": "2020-05-30T10:57:59.233553Z",
     "start_time": "2020-05-30T10:57:58.644462Z"
    },
    "hideCode": false,
    "hidePrompt": false
   },
   "outputs": [
    {
     "data": {
      "image/png": "[encoded data removed]",
      "text/plain": [
       "<Figure size 720x360 with 1 Axes>"
      ]
     },
     "metadata": {
      "needs_background": "light"
     },
     "output_type": "display_data"
    }
   ],
   "source": [
    "words = ['behaviour', 'man', 'woman', 'psychology', 'car', 'satisfaction', 'lecture', 'window']\n",
    "    \n",
    "compareMeanings(words)"
   ]
  },
  {
   "cell_type": "markdown",
   "metadata": {},
   "source": [
    "Change the above code, to see how similar `'dog'`, `'Dog'`, `'canine'`, and `'K9'` are."
   ]
  },
  {
   "cell_type": "markdown",
   "metadata": {
    "hideCode": false,
    "hidePrompt": false
   },
   "source": [
    "## Comparing sentence meaning"
   ]
  },
  {
   "cell_type": "markdown",
   "metadata": {
    "hideCode": false,
    "hidePrompt": false
   },
   "source": [
    "We can also use these models to compare sentences. Consider the following (all using unique words). Just by averaging the word embeddings for each sentence, we can see, that the model corresponds broadly to our human judgement. <br>\n",
    "<br>\n",
    "Change the sentences and re-run the cell to see the result."
   ]
  },
  {
   "cell_type": "code",
   "execution_count": 8,
   "metadata": {
    "ExecuteTime": {
     "end_time": "2020-05-30T10:57:59.470523Z",
     "start_time": "2020-05-30T10:57:59.235530Z"
    },
    "hideCode": false,
    "hidePrompt": false
   },
   "outputs": [
    {
     "data": {
      "image/png": "[encoded data removed]",
      "text/plain": [
       "<Figure size 720x360 with 1 Axes>"
      ]
     },
     "metadata": {
      "needs_background": "light"
     },
     "output_type": "display_data"
    }
   ],
   "source": [
    "sentences = ['the pilot flew the plane', \n",
    "             'trees do not grow on rocks',\n",
    "             'i broke my arm', \n",
    "             'he snapped his leg',\n",
    "             'a helicopter soared up',\n",
    "             'plants need lots of water']\n",
    "\n",
    "compareMeanings(sentences)"
   ]
  },
  {
   "cell_type": "markdown",
   "metadata": {},
   "source": [
    "## Measuring sentences for target concept\n",
    "The idea here comes from the [Garten et al. (2018)](https://link.springer.com/article/10.3758/s13428-017-0875-9) who argue that "
   ]
  },
  {
   "cell_type": "code",
   "execution_count": 9,
   "metadata": {
    "ExecuteTime": {
     "end_time": "2020-05-30T10:57:59.567554Z",
     "start_time": "2020-05-30T10:57:59.472521Z"
    }
   },
   "outputs": [
    {
     "name": "stdout",
     "output_type": "stream",
     "text": [
      "Similarity to 'died':  0.09  'Superb excellent ++'\n",
      "Similarity to 'died':  0.29  'accessible car park'\n",
      "Similarity to 'died':  0.44  'my arm broke'\n",
      "Similarity to 'died':  0.68  'she was dying'\n",
      "Similarity to 'died':  0.73  'he died later'\n",
      "Similarity to 'died':  0.8   'died died died'\n",
      "Similarity to 'died':  0.49  'bad mistake'\n"
     ]
    }
   ],
   "source": [
    "target = 'died die death deadly fatal'\n",
    "\n",
    "sentences = [\"Superb excellent ++\",\n",
    "             'accessible car park',\n",
    "             'my arm broke', \n",
    "             'she was dying', \n",
    "             'he died later',\n",
    "             'died died died',\n",
    "            'bad mistake']\n",
    "\n",
    "for sent in sentences:\n",
    "    score = round(nlp(sent).similarity(nlp(target)), 2)\n",
    "    print(\"Similarity to 'died':  {:<4}  '{:}'\".format(score, sent))"
   ]
  },
  {
   "cell_type": "markdown",
   "metadata": {},
   "source": [
    "The above code can be reporposed to measure any concept that manifests in textual data.\n",
    "\n",
    "For example, change the target concept to:\n",
    "- `'happy wonderful brilliant super'` to measure sentiment\n",
    "- `'trust'` to measure trust\n",
    "- `'anxiety'` to measure anxiety\n"
   ]
  },
  {
   "cell_type": "markdown",
   "metadata": {
    "hideCode": false,
    "hidePrompt": false
   },
   "source": [
    "## Adding and subtracting meanings\n",
    "\n",
    "Meanings are represented by numbers (e.g., 300 dimension = list of 300 numbers)\n",
    "\n",
    "This means that meanings can be added and subtracted (see [this article](https://www.technologyreview.com/2015/09/17/166211/king-man-woman-queen-the-marvelous-mathematics-of-computational-linguistics/) for an accessible explanation).\n",
    "\n",
    "What happens if one subtracts 'man' from 'king' and adds 'woman'?"
   ]
  },
  {
   "cell_type": "code",
   "execution_count": 10,
   "metadata": {
    "ExecuteTime": {
     "end_time": "2020-05-30T10:58:15.953557Z",
     "start_time": "2020-05-30T10:57:59.568518Z"
    }
   },
   "outputs": [
    {
     "data": {
      "text/html": [
       "<div>\n",
       "<style scoped>\n",
       "    .dataframe tbody tr th:only-of-type {\n",
       "        vertical-align: middle;\n",
       "    }\n",
       "\n",
       "    .dataframe tbody tr th {\n",
       "        vertical-align: top;\n",
       "    }\n",
       "\n",
       "    .dataframe thead th {\n",
       "        text-align: right;\n",
       "    }\n",
       "</style>\n",
       "<table border=\"1\" class=\"dataframe\">\n",
       "  <thead>\n",
       "    <tr style=\"text-align: right;\">\n",
       "      <th></th>\n",
       "      <th>word</th>\n",
       "      <th>similarity</th>\n",
       "    </tr>\n",
       "  </thead>\n",
       "  <tbody>\n",
       "    <tr>\n",
       "      <th>0</th>\n",
       "      <td>queen</td>\n",
       "      <td>0.788084</td>\n",
       "    </tr>\n",
       "    <tr>\n",
       "      <th>1</th>\n",
       "      <td>prince</td>\n",
       "      <td>0.640108</td>\n",
       "    </tr>\n",
       "    <tr>\n",
       "      <th>2</th>\n",
       "      <td>kings</td>\n",
       "      <td>0.620854</td>\n",
       "    </tr>\n",
       "    <tr>\n",
       "      <th>3</th>\n",
       "      <td>princess</td>\n",
       "      <td>0.612564</td>\n",
       "    </tr>\n",
       "    <tr>\n",
       "      <th>4</th>\n",
       "      <td>royal</td>\n",
       "      <td>0.580097</td>\n",
       "    </tr>\n",
       "    <tr>\n",
       "      <th>5</th>\n",
       "      <td>throne</td>\n",
       "      <td>0.578701</td>\n",
       "    </tr>\n",
       "    <tr>\n",
       "      <th>6</th>\n",
       "      <td>queens</td>\n",
       "      <td>0.574379</td>\n",
       "    </tr>\n",
       "    <tr>\n",
       "      <th>7</th>\n",
       "      <td>monarch</td>\n",
       "      <td>0.563362</td>\n",
       "    </tr>\n",
       "    <tr>\n",
       "      <th>8</th>\n",
       "      <td>kingdom</td>\n",
       "      <td>0.552098</td>\n",
       "    </tr>\n",
       "    <tr>\n",
       "      <th>9</th>\n",
       "      <td>empress</td>\n",
       "      <td>0.528953</td>\n",
       "    </tr>\n",
       "  </tbody>\n",
       "</table>\n",
       "</div>"
      ],
      "text/plain": [
       "       word  similarity\n",
       "0     queen    0.788084\n",
       "1    prince    0.640108\n",
       "2     kings    0.620854\n",
       "3  princess    0.612564\n",
       "4     royal    0.580097\n",
       "5    throne    0.578701\n",
       "6    queens    0.574379\n",
       "7   monarch    0.563362\n",
       "8   kingdom    0.552098\n",
       "9   empress    0.528953"
      ]
     },
     "metadata": {},
     "output_type": "display_data"
    }
   ],
   "source": [
    "calculateVector(start='king', subtract='man', add='woman', n=10)"
   ]
  },
  {
   "cell_type": "code",
   "execution_count": 11,
   "metadata": {
    "ExecuteTime": {
     "end_time": "2020-05-30T10:58:32.305521Z",
     "start_time": "2020-05-30T10:58:15.954518Z"
    }
   },
   "outputs": [
    {
     "data": {
      "text/html": [
       "<div>\n",
       "<style scoped>\n",
       "    .dataframe tbody tr th:only-of-type {\n",
       "        vertical-align: middle;\n",
       "    }\n",
       "\n",
       "    .dataframe tbody tr th {\n",
       "        vertical-align: top;\n",
       "    }\n",
       "\n",
       "    .dataframe thead th {\n",
       "        text-align: right;\n",
       "    }\n",
       "</style>\n",
       "<table border=\"1\" class=\"dataframe\">\n",
       "  <thead>\n",
       "    <tr style=\"text-align: right;\">\n",
       "      <th></th>\n",
       "      <th>word</th>\n",
       "      <th>similarity</th>\n",
       "    </tr>\n",
       "  </thead>\n",
       "  <tbody>\n",
       "    <tr>\n",
       "      <th>0</th>\n",
       "      <td>nurse</td>\n",
       "      <td>0.702265</td>\n",
       "    </tr>\n",
       "    <tr>\n",
       "      <th>1</th>\n",
       "      <td>doctors</td>\n",
       "      <td>0.675905</td>\n",
       "    </tr>\n",
       "    <tr>\n",
       "      <th>2</th>\n",
       "      <td>physician</td>\n",
       "      <td>0.668101</td>\n",
       "    </tr>\n",
       "    <tr>\n",
       "      <th>3</th>\n",
       "      <td>pregnant</td>\n",
       "      <td>0.665777</td>\n",
       "    </tr>\n",
       "    <tr>\n",
       "      <th>4</th>\n",
       "      <td>gynecologist</td>\n",
       "      <td>0.629010</td>\n",
       "    </tr>\n",
       "  </tbody>\n",
       "</table>\n",
       "</div>"
      ],
      "text/plain": [
       "           word  similarity\n",
       "0         nurse    0.702265\n",
       "1       doctors    0.675905\n",
       "2     physician    0.668101\n",
       "3      pregnant    0.665777\n",
       "4  gynecologist    0.629010"
      ]
     },
     "metadata": {},
     "output_type": "display_data"
    }
   ],
   "source": [
    "calculateVector(start='doctor', subtract='man', add='woman', n=5)"
   ]
  },
  {
   "cell_type": "markdown",
   "metadata": {},
   "source": [
    "Here are some relations to try:\n",
    "- `'paris'` minus `'france'` add `'uk'`\n",
    "- `'berlin'` minus `'germany'` add `'france'`\n",
    "- `'india'` minus `'curry'` add `'pizza'`\n",
    "- `'man'` minus `boy'` add `'girl'`\n",
    "- `'doctor'` minus `'man'` add `'woman'`"
   ]
  },
  {
   "cell_type": "markdown",
   "metadata": {},
   "source": [
    "## Syntax"
   ]
  },
  {
   "cell_type": "markdown",
   "metadata": {},
   "source": [
    "Language models have also been developed to understand the syntactic components of text.\n",
    "\n",
    "These models identify traditional grammatical components (e.g., pronouns, verbs, nouns) and 'dependency grammar' - which is how the words are related to one another (e.g., who is the subject of the verb).\n"
   ]
  },
  {
   "cell_type": "code",
   "execution_count": 12,
   "metadata": {
    "ExecuteTime": {
     "end_time": "2020-05-30T10:58:32.324520Z",
     "start_time": "2020-05-30T10:58:32.307521Z"
    }
   },
   "outputs": [
    {
     "data": {
      "text/html": [
       "<span class=\"tex2jax_ignore\"><svg xmlns=\"http://www.w3.org/2000/svg\" xmlns:xlink=\"http://www.w3.org/1999/xlink\" xml:lang=\"en\" id=\"80323d669f4f4620991250203ee133b1-0\" class=\"displacy\" width=\"1100\" height=\"312.0\" direction=\"ltr\" style=\"max-width: none; height: 312.0px; color: #000000; background: #ffffff; font-family: Arial; direction: ltr\">\n",
       "<text class=\"displacy-token\" fill=\"currentColor\" text-anchor=\"middle\" y=\"222.0\">\n",
       "    <tspan class=\"displacy-word\" fill=\"currentColor\" x=\"50\">alexeesonetnuhon</tspan>\n",
       "    <tspan class=\"displacy-tag\" dy=\"2em\" fill=\"currentColor\" x=\"50\">PROPN</tspan>\n",
       "</text>\n",
       "\n",
       "<text class=\"displacy-token\" fill=\"currentColor\" text-anchor=\"middle\" y=\"222.0\">\n",
       "    <tspan class=\"displacy-word\" fill=\"currentColor\" x=\"225\">is</tspan>\n",
       "    <tspan class=\"displacy-tag\" dy=\"2em\" fill=\"currentColor\" x=\"225\">AUX</tspan>\n",
       "</text>\n",
       "\n",
       "<text class=\"displacy-token\" fill=\"currentColor\" text-anchor=\"middle\" y=\"222.0\">\n",
       "    <tspan class=\"displacy-word\" fill=\"currentColor\" x=\"400\">going</tspan>\n",
       "    <tspan class=\"displacy-tag\" dy=\"2em\" fill=\"currentColor\" x=\"400\">VERB</tspan>\n",
       "</text>\n",
       "\n",
       "<text class=\"displacy-token\" fill=\"currentColor\" text-anchor=\"middle\" y=\"222.0\">\n",
       "    <tspan class=\"displacy-word\" fill=\"currentColor\" x=\"575\">to</tspan>\n",
       "    <tspan class=\"displacy-tag\" dy=\"2em\" fill=\"currentColor\" x=\"575\">ADP</tspan>\n",
       "</text>\n",
       "\n",
       "<text class=\"displacy-token\" fill=\"currentColor\" text-anchor=\"middle\" y=\"222.0\">\n",
       "    <tspan class=\"displacy-word\" fill=\"currentColor\" x=\"750\">the</tspan>\n",
       "    <tspan class=\"displacy-tag\" dy=\"2em\" fill=\"currentColor\" x=\"750\">DET</tspan>\n",
       "</text>\n",
       "\n",
       "<text class=\"displacy-token\" fill=\"currentColor\" text-anchor=\"middle\" y=\"222.0\">\n",
       "    <tspan class=\"displacy-word\" fill=\"currentColor\" x=\"925\">shop</tspan>\n",
       "    <tspan class=\"displacy-tag\" dy=\"2em\" fill=\"currentColor\" x=\"925\">NOUN</tspan>\n",
       "</text>\n",
       "\n",
       "<g class=\"displacy-arrow\">\n",
       "    <path class=\"displacy-arc\" id=\"arrow-80323d669f4f4620991250203ee133b1-0-0\" stroke-width=\"2px\" d=\"M70,177.0 C70,2.0 400.0,2.0 400.0,177.0\" fill=\"none\" stroke=\"currentColor\"/>\n",
       "    <text dy=\"1.25em\" style=\"font-size: 0.8em; letter-spacing: 1px\">\n",
       "        <textPath xlink:href=\"#arrow-80323d669f4f4620991250203ee133b1-0-0\" class=\"displacy-label\" startOffset=\"50%\" side=\"left\" fill=\"currentColor\" text-anchor=\"middle\">nsubj</textPath>\n",
       "    </text>\n",
       "    <path class=\"displacy-arrowhead\" d=\"M70,179.0 L62,167.0 78,167.0\" fill=\"currentColor\"/>\n",
       "</g>\n",
       "\n",
       "<g class=\"displacy-arrow\">\n",
       "    <path class=\"displacy-arc\" id=\"arrow-80323d669f4f4620991250203ee133b1-0-1\" stroke-width=\"2px\" d=\"M245,177.0 C245,89.5 395.0,89.5 395.0,177.0\" fill=\"none\" stroke=\"currentColor\"/>\n",
       "    <text dy=\"1.25em\" style=\"font-size: 0.8em; letter-spacing: 1px\">\n",
       "        <textPath xlink:href=\"#arrow-80323d669f4f4620991250203ee133b1-0-1\" class=\"displacy-label\" startOffset=\"50%\" side=\"left\" fill=\"currentColor\" text-anchor=\"middle\">aux</textPath>\n",
       "    </text>\n",
       "    <path class=\"displacy-arrowhead\" d=\"M245,179.0 L237,167.0 253,167.0\" fill=\"currentColor\"/>\n",
       "</g>\n",
       "\n",
       "<g class=\"displacy-arrow\">\n",
       "    <path class=\"displacy-arc\" id=\"arrow-80323d669f4f4620991250203ee133b1-0-2\" stroke-width=\"2px\" d=\"M420,177.0 C420,89.5 570.0,89.5 570.0,177.0\" fill=\"none\" stroke=\"currentColor\"/>\n",
       "    <text dy=\"1.25em\" style=\"font-size: 0.8em; letter-spacing: 1px\">\n",
       "        <textPath xlink:href=\"#arrow-80323d669f4f4620991250203ee133b1-0-2\" class=\"displacy-label\" startOffset=\"50%\" side=\"left\" fill=\"currentColor\" text-anchor=\"middle\">prep</textPath>\n",
       "    </text>\n",
       "    <path class=\"displacy-arrowhead\" d=\"M570.0,179.0 L578.0,167.0 562.0,167.0\" fill=\"currentColor\"/>\n",
       "</g>\n",
       "\n",
       "<g class=\"displacy-arrow\">\n",
       "    <path class=\"displacy-arc\" id=\"arrow-80323d669f4f4620991250203ee133b1-0-3\" stroke-width=\"2px\" d=\"M770,177.0 C770,89.5 920.0,89.5 920.0,177.0\" fill=\"none\" stroke=\"currentColor\"/>\n",
       "    <text dy=\"1.25em\" style=\"font-size: 0.8em; letter-spacing: 1px\">\n",
       "        <textPath xlink:href=\"#arrow-80323d669f4f4620991250203ee133b1-0-3\" class=\"displacy-label\" startOffset=\"50%\" side=\"left\" fill=\"currentColor\" text-anchor=\"middle\">det</textPath>\n",
       "    </text>\n",
       "    <path class=\"displacy-arrowhead\" d=\"M770,179.0 L762,167.0 778,167.0\" fill=\"currentColor\"/>\n",
       "</g>\n",
       "\n",
       "<g class=\"displacy-arrow\">\n",
       "    <path class=\"displacy-arc\" id=\"arrow-80323d669f4f4620991250203ee133b1-0-4\" stroke-width=\"2px\" d=\"M595,177.0 C595,2.0 925.0,2.0 925.0,177.0\" fill=\"none\" stroke=\"currentColor\"/>\n",
       "    <text dy=\"1.25em\" style=\"font-size: 0.8em; letter-spacing: 1px\">\n",
       "        <textPath xlink:href=\"#arrow-80323d669f4f4620991250203ee133b1-0-4\" class=\"displacy-label\" startOffset=\"50%\" side=\"left\" fill=\"currentColor\" text-anchor=\"middle\">pobj</textPath>\n",
       "    </text>\n",
       "    <path class=\"displacy-arrowhead\" d=\"M925.0,179.0 L933.0,167.0 917.0,167.0\" fill=\"currentColor\"/>\n",
       "</g>\n",
       "</svg></span>"
      ],
      "text/plain": [
       "<IPython.core.display.HTML object>"
      ]
     },
     "metadata": {},
     "output_type": "display_data"
    }
   ],
   "source": [
    "text = \"alexeesonetnuhon is going to the shop\"\n",
    "displacy.render(nlp(text), style=\"dep\", jupyter=True)"
   ]
  },
  {
   "cell_type": "markdown",
   "metadata": {},
   "source": [
    "Change the text in the above example to try and confuse the language model.\n",
    "- try: `'to the shop i went'`\n",
    "- try: `'i weeent to the shopppp'`"
   ]
  },
  {
   "cell_type": "markdown",
   "metadata": {},
   "source": [
    "## Semantic components"
   ]
  },
  {
   "cell_type": "markdown",
   "metadata": {},
   "source": [
    "Using the analysis of syntax, the language models have become quite good at identifying people, organisations, products, dates, etc."
   ]
  },
  {
   "cell_type": "code",
   "execution_count": 13,
   "metadata": {
    "ExecuteTime": {
     "end_time": "2020-05-30T10:58:32.354520Z",
     "start_time": "2020-05-30T10:58:32.326524Z"
    }
   },
   "outputs": [
    {
     "data": {
      "text/html": [
       "<span class=\"tex2jax_ignore\"><div class=\"entities\" style=\"line-height: 2.5; direction: ltr\">\n",
       "<mark class=\"entity\" style=\"background: #aa9cfc; padding: 0.45em 0.6em; margin: 0 0.25em; line-height: 1; border-radius: 0.35em;\">\n",
       "    Elon Musk\n",
       "    <span style=\"font-size: 0.8em; font-weight: bold; line-height: 1; border-radius: 0.35em; text-transform: uppercase; vertical-align: middle; margin-left: 0.5rem\">PERSON</span>\n",
       "</mark>\n",
       " is CEO of \n",
       "<mark class=\"entity\" style=\"background: #7aecec; padding: 0.45em 0.6em; margin: 0 0.25em; line-height: 1; border-radius: 0.35em;\">\n",
       "    Tsla\n",
       "    <span style=\"font-size: 0.8em; font-weight: bold; line-height: 1; border-radius: 0.35em; text-transform: uppercase; vertical-align: middle; margin-left: 0.5rem\">ORG</span>\n",
       "</mark>\n",
       "</div></span>"
      ],
      "text/plain": [
       "<IPython.core.display.HTML object>"
      ]
     },
     "metadata": {},
     "output_type": "display_data"
    }
   ],
   "source": [
    "text = 'Elon Musk is CEO of Tsla'\n",
    "displacy.render(nlp(text), jupyter=True, style=\"ent\")"
   ]
  },
  {
   "cell_type": "markdown",
   "metadata": {
    "ExecuteTime": {
     "end_time": "2020-04-20T11:48:06.176982Z",
     "start_time": "2020-04-20T11:48:06.171982Z"
    }
   },
   "source": [
    "Again, these language models have a degree of robustness against unfamiliar words and typos. \n",
    "\n",
    "- Try a typo: `'Elon Mussk is CEO of Tsla'`\n",
    "- Try: `'I saw the mona lisa on the 25th of sept'`"
   ]
  },
  {
   "cell_type": "markdown",
   "metadata": {},
   "source": [
    "The ability to model grammar and understand entities within text is driving increasingly powerful question and answer systems ([demo](https://demo.allennlp.org/reading-comprehension))."
   ]
  },
  {
   "cell_type": "markdown",
   "metadata": {},
   "source": [
    "# Use in social research"
   ]
  },
  {
   "cell_type": "markdown",
   "metadata": {},
   "source": [
    "[Salganik (2019)](https://www.bitbybitbook.com/en/1st-ed/preface/) gives a good overview of the impact of NLP (and data science in general) on social research"
   ]
  },
  {
   "cell_type": "markdown",
   "metadata": {},
   "source": [
    "**Accessible examples of research**:\n",
    "- Analysis of [speeches in parliament](https://pudding.cool/2018/07/women-in-parliament/) (very good)\n",
    "- Analysis of [Trump's Tweets](https://www.dremio.com/trump-twitter-sentiment-analysis/)\n"
   ]
  },
  {
   "cell_type": "markdown",
   "metadata": {},
   "source": [
    "**Leading academic research**\n",
    "- Organizations that have diversity within employees are more creative & profitable ([Corritore et al., 2019](https://journals.sagepub.com/doi/abs/10.1177/0001839219844175))\n",
    "\n",
    "- Detecting unsafe restaurants based on phone location and searches ([Sadilek et al., 2018](https://www.nature.com/articles/s41746-018-0045-1.pdf?origin=ppub))\n",
    "\n",
    "- Simulating human judgement using distributed language models ([Bhatia et al., 2019](https://www.sciencedirect.com/science/article/pii/S2352154618301712))"
   ]
  },
  {
   "cell_type": "markdown",
   "metadata": {},
   "source": [
    "**Future potential**\n",
    "\n",
    "The volume of unstructured data (text, image, audio & video) is [expanding exponentially](https://towardsdatascience.com/everything-a-data-scientist-should-know-about-data-management-6877788c6a42). "
   ]
  },
  {
   "cell_type": "markdown",
   "metadata": {},
   "source": [
    "![unstructured_data](./images/unstructured_data2.jpg)"
   ]
  },
  {
   "cell_type": "markdown",
   "metadata": {},
   "source": [
    "**Datasets**\n",
    "- Github has a community maintained list of [big data sets](https://github.com/awesomedata/awesome-public-datasets#socialsciences)\n",
    "- The Internet Archive has a [data collection](https://archive.org/details/datasets)\n",
    "- Google has launched a search engine [just for data](https://datasetsearch.research.google.com/)\n",
    "- And here is a [huge collection of text data](https://datasets.quantumstat.com/)\n",
    "                           "
   ]
  },
  {
   "cell_type": "markdown",
   "metadata": {
    "ExecuteTime": {
     "end_time": "2020-04-19T15:28:18.906178Z",
     "start_time": "2020-04-19T15:28:18.901177Z"
    }
   },
   "source": [
    "This rapid growth of data opens up possibilities for new research.\n",
    "\n",
    "For example, in relation to COVID-19, there is already:\n",
    "- 4 million Tweets per day, [available for download](http://www.panacealab.org/covid19/)\n",
    "- Google social distancing data, [for all major regions in 131 countries](https://www.google.com/covid19/mobility/)\n",
    "- And, of course, the WHO COVID-19 mortality data is [available for download](https://covid.ourworldindata.org/data/owid-covid-data.csv)"
   ]
  },
  {
   "cell_type": "markdown",
   "metadata": {
    "ExecuteTime": {
     "end_time": "2020-04-20T11:28:40.834757Z",
     "start_time": "2020-04-20T11:27:45.561Z"
    }
   },
   "source": [
    "# Conclusion\n",
    "\n",
    "The tools for NLP are getting more powerful and easier to use.\n",
    "\n",
    "The volume of textual data is growing exponentially.\n",
    "\n",
    "This provides new opportunities for testing theories in real-world contexts.\n"
   ]
  }
 ],
 "metadata": {
  "hide_code_all_hidden": true,
  "kernelspec": {
   "display_name": "Python 3",
   "language": "python",
   "name": "python3"
  },
  "language_info": {
   "codemirror_mode": {
    "name": "ipython",
    "version": 3
   },
   "file_extension": ".py",
   "mimetype": "text/x-python",
   "name": "python",
   "nbconvert_exporter": "python",
   "pygments_lexer": "ipython3",
   "version": "3.7.7"
  },
  "toc": {
   "base_numbering": 1,
   "nav_menu": {
    "height": "345px",
    "width": "256px"
   },
   "number_sections": true,
   "sideBar": true,
   "skip_h1_title": false,
   "title_cell": "Table of Contents",
   "title_sidebar": "Contents",
   "toc_cell": true,
   "toc_position": {
    "height": "calc(100% - 180px)",
    "left": "10px",
    "top": "150px",
    "width": "165px"
   },
   "toc_section_display": true,
   "toc_window_display": true
  },
  "varInspector": {
   "cols": {
    "lenName": 16,
    "lenType": 16,
    "lenVar": 40
   },
   "kernels_config": {
    "python": {
     "delete_cmd_postfix": "",
     "delete_cmd_prefix": "del ",
     "library": "var_list.py",
     "varRefreshCmd": "print(var_dic_list())"
    },
    "r": {
     "delete_cmd_postfix": ") ",
     "delete_cmd_prefix": "rm(",
     "library": "var_list.r",
     "varRefreshCmd": "cat(var_dic_list()) "
    }
   },
   "types_to_exclude": [
    "module",
    "function",
    "builtin_function_or_method",
    "instance",
    "_Feature"
   ],
   "window_display": false
  },
  "widgets": {
   "application/vnd.jupyter.widget-state+json": {
    "state": {},
    "version_major": 2,
    "version_minor": 0
   }
  }
 },
 "nbformat": 4,
 "nbformat_minor": 2
}
