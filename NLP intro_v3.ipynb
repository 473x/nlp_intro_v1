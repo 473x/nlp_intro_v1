{
 "cells": [
  {
   "cell_type": "code",
   "execution_count": 1,
   "metadata": {
    "ExecuteTime": {
     "end_time": "2020-04-20T14:10:05.969886Z",
     "start_time": "2020-04-20T14:10:05.967886Z"
    }
   },
   "outputs": [],
   "source": [
    "# MOVE FUNCTIONS TO SEPARATE NOTEBOOK"
   ]
  },
  {
   "cell_type": "code",
   "execution_count": 52,
   "metadata": {
    "ExecuteTime": {
     "end_time": "2020-04-20T15:29:51.363969Z",
     "start_time": "2020-04-20T15:29:43.940969Z"
    },
    "code_folding": [],
    "hideCode": false,
    "hidePrompt": false
   },
   "outputs": [
    {
     "data": {
      "text/html": [
       "<style>.container { width:80% !important; }</style>"
      ],
      "text/plain": [
       "<IPython.core.display.HTML object>"
      ]
     },
     "metadata": {},
     "output_type": "display_data"
    },
    {
     "name": "stdout",
     "output_type": "stream",
     "text": [
      "The watermark extension is already loaded. To reload it, use:\n",
      "  %reload_ext watermark\n",
      "CPython 3.7.6\n",
      "IPython 7.12.0\n",
      "\n",
      "pandas 0.25.1\n",
      "numpy 1.17.2\n",
      "scipy 1.4.1\n",
      "statsmodels 0.11.1\n",
      "matplotlib 3.1.3\n",
      "seaborn 0.10.0\n",
      "spacy 2.2.3\n",
      "tqdm 4.43.0\n",
      "watermark 2.0.2\n",
      "vaderSentiment 3.2.1\n",
      "\n",
      "compiler   : MSC v.1916 64 bit (AMD64)\n",
      "system     : Windows\n",
      "release    : 10\n",
      "machine    : AMD64\n",
      "processor  : Intel64 Family 6 Model 158 Stepping 10, GenuineIntel\n",
      "CPU cores  : 12\n",
      "interpreter: 64bit\n",
      "\u001b[1m\n",
      "============================== Info about spaCy ==============================\u001b[0m\n",
      "\n",
      "spaCy version    2.2.3                         \n",
      "Location         C:\\Users\\alexg\\Anaconda3\\envs\\PyR_202003_pandas_0_25_3\\lib\\site-packages\\spacy\n",
      "Platform         Windows-10-10.0.18362-SP0     \n",
      "Python version   3.7.6                         \n",
      "Models                                         \n",
      "\n"
     ]
    }
   ],
   "source": [
    "# LOAD MODULES\n",
    "from IPython.core.display import display, HTML # for max width\n",
    "display(HTML(\"<style>.container { width:80% !important; }</style>\"))\n",
    "import pandas as pd\n",
    "import numpy as np\n",
    "from IPython.core.interactiveshell import InteractiveShell\n",
    "from spacy.tokens import Doc, Span, Token\n",
    "import scattertext as st\n",
    "from IPython.display import IFrame\n",
    "import matplotlib.pyplot as plt\n",
    "from sklearn.decomposition import PCA\n",
    "from scipy import spatial\n",
    "from scipy.spatial import distance\n",
    "cosine_similarity = lambda x, y: 1 - spatial.distance.cosine(x, y)\n",
    "import spacy\n",
    "from spacy import displacy\n",
    "nlp = spacy.load('en_core_web_lg') \n",
    "import warnings\n",
    "warnings.filterwarnings('ignore')\n",
    "\n",
    "from vaderSentiment.vaderSentiment import SentimentIntensityAnalyzer as analyze_sentiment\n",
    "sentiment_analyzer = SentimentIntensityAnalyzer()\n",
    "\n",
    "# LOAD FUNCTIONS\n",
    "def compareMeanings(words):\n",
    "    # calculate similarities\n",
    "    pca = PCA(n_components=2)\n",
    "    pca.fit([nlp(word).vector for word in words])\n",
    "    word_vecs_2d = pca.transform([nlp(word).vector for word in words])\n",
    "    \n",
    "    # create plot \n",
    "    plt.figure(figsize=(10,5))\n",
    "    plt.scatter(word_vecs_2d[:,0], word_vecs_2d[:,1])\n",
    "    # for each word and coordinate pair: draw the text on the plot\n",
    "    for word, coord in zip(words, word_vecs_2d):\n",
    "        x, y = coord\n",
    "        plt.text(x, y, word, size= 15)\n",
    "    #plt.savefig('fig.jpg', dpi=1000)\n",
    "    # show the plot\n",
    "    plt.show()\n",
    "    \n",
    "    \n",
    "def mathsOnMeaning(start, subtract, add):\n",
    "    x = nlp.vocab[start].vector - nlp.vocab[subtract].vector + nlp.vocab[add].vector\n",
    "    \n",
    "    similar_words = []\n",
    "    for word in nlp.vocab:\n",
    "        if not (word.has_vector & word.is_lower):\n",
    "            continue\n",
    "        if not ((word.text!=start)&(word.text!=add)&(word.text!=subtract)):\n",
    "            continue\n",
    "     \n",
    "        similarity = cosine_similarity(x, word.vector)\n",
    "        similar_words.append((word, similarity))\n",
    "        \n",
    "    similar_words = sorted(similar_words, key=lambda item: -item[1])\n",
    "    result = [w[0].text for w in similar_words[:5]][0]\n",
    "    print(f\"'{start}' minus '{subtract}' add '{add}' = {result}\")\n",
    "    \n",
    "\n",
    "# set up info\n",
    "%load_ext watermark\n",
    "%watermark -m -v -p pandas,numpy,scipy,statsmodels,matplotlib,seaborn,spacy,tqdm,watermark,vaderSentiment\n",
    "\n",
    "# spacy model info\n",
    "!python -m spacy info \n",
    "#!python -m spacy info en_core_web_md"
   ]
  },
  {
   "cell_type": "code",
   "execution_count": 23,
   "metadata": {
    "ExecuteTime": {
     "end_time": "2020-04-20T15:02:09.151251Z",
     "start_time": "2020-04-20T15:02:09.134251Z"
    }
   },
   "outputs": [],
   "source": []
  },
  {
   "cell_type": "markdown",
   "metadata": {
    "hideCode": false,
    "hidePrompt": false,
    "toc": true
   },
   "source": [
    "<h1>Table of Contents<span class=\"tocSkip\"></span></h1>\n",
    "<div class=\"toc\"><ul class=\"toc-item\"><li><span><a href=\"#Introduction\" data-toc-modified-id=\"Introduction-1\"><span class=\"toc-item-num\">1&nbsp;&nbsp;</span>Introduction</a></span><ul class=\"toc-item\"><li><span><a href=\"#Notebooks\" data-toc-modified-id=\"Notebooks-1.1\"><span class=\"toc-item-num\">1.1&nbsp;&nbsp;</span>Notebooks</a></span></li></ul></li><li><span><a href=\"#Natural-Language-Processing-(NLP)\" data-toc-modified-id=\"Natural-Language-Processing-(NLP)-2\"><span class=\"toc-item-num\">2&nbsp;&nbsp;</span>Natural Language Processing (NLP)</a></span><ul class=\"toc-item\"><li><span><a href=\"#Search-is-AI-in-action\" data-toc-modified-id=\"Search-is-AI-in-action-2.1\"><span class=\"toc-item-num\">2.1&nbsp;&nbsp;</span>Search is AI in action</a></span></li><li><span><a href=\"#It-wasn't-always-so-easy\" data-toc-modified-id=\"It-wasn't-always-so-easy-2.2\"><span class=\"toc-item-num\">2.2&nbsp;&nbsp;</span>It wasn't always so easy</a></span></li><li><span><a href=\"#Generation-1:-Word-Frequency\" data-toc-modified-id=\"Generation-1:-Word-Frequency-2.3\"><span class=\"toc-item-num\">2.3&nbsp;&nbsp;</span>Generation 1: Word Frequency</a></span><ul class=\"toc-item\"><li><span><a href=\"#sentiment\" data-toc-modified-id=\"sentiment-2.3.1\"><span class=\"toc-item-num\">2.3.1&nbsp;&nbsp;</span>sentiment</a></span></li><li><span><a href=\"#limitations\" data-toc-modified-id=\"limitations-2.3.2\"><span class=\"toc-item-num\">2.3.2&nbsp;&nbsp;</span>limitations</a></span></li></ul></li><li><span><a href=\"#Generation-2:-Word-embeddings\" data-toc-modified-id=\"Generation-2:-Word-embeddings-2.4\"><span class=\"toc-item-num\">2.4&nbsp;&nbsp;</span>Generation 2: Word embeddings</a></span></li></ul></li><li><span><a href=\"#Using-word-Embeddings\" data-toc-modified-id=\"Using-word-Embeddings-3\"><span class=\"toc-item-num\">3&nbsp;&nbsp;</span>Using word Embeddings</a></span><ul class=\"toc-item\"><li><span><a href=\"#Comparing-word-similarity\" data-toc-modified-id=\"Comparing-word-similarity-3.1\"><span class=\"toc-item-num\">3.1&nbsp;&nbsp;</span>Comparing word similarity</a></span></li><li><span><a href=\"#Comparing-sentence-meaning\" data-toc-modified-id=\"Comparing-sentence-meaning-3.2\"><span class=\"toc-item-num\">3.2&nbsp;&nbsp;</span>Comparing sentence meaning</a></span></li><li><span><a href=\"#Measuring-sentences-for-target-concept\" data-toc-modified-id=\"Measuring-sentences-for-target-concept-3.3\"><span class=\"toc-item-num\">3.3&nbsp;&nbsp;</span>Measuring sentences for target concept</a></span></li><li><span><a href=\"#Adding-and-subtracting-meanings\" data-toc-modified-id=\"Adding-and-subtracting-meanings-3.4\"><span class=\"toc-item-num\">3.4&nbsp;&nbsp;</span>Adding and subtracting meanings</a></span></li><li><span><a href=\"#Syntax\" data-toc-modified-id=\"Syntax-3.5\"><span class=\"toc-item-num\">3.5&nbsp;&nbsp;</span>Syntax</a></span></li><li><span><a href=\"#Semantic-components\" data-toc-modified-id=\"Semantic-components-3.6\"><span class=\"toc-item-num\">3.6&nbsp;&nbsp;</span>Semantic components</a></span></li></ul></li><li><span><a href=\"#Use-in-social-research?\" data-toc-modified-id=\"Use-in-social-research?-4\"><span class=\"toc-item-num\">4&nbsp;&nbsp;</span>Use in social research?</a></span></li><li><span><a href=\"#Conclusion\" data-toc-modified-id=\"Conclusion-5\"><span class=\"toc-item-num\">5&nbsp;&nbsp;</span>Conclusion</a></span></li></ul></div>"
   ]
  },
  {
   "cell_type": "markdown",
   "metadata": {
    "hideCode": true,
    "hidePrompt": true
   },
   "source": [
    "# Introduction"
   ]
  },
  {
   "cell_type": "markdown",
   "metadata": {},
   "source": [
    "**Aims**\n",
    "- Introduce recent advances in Natural Language Processing (NLP)\n",
    "- Demonstrate how these advances can be used in social research"
   ]
  },
  {
   "cell_type": "markdown",
   "metadata": {},
   "source": [
    "**Format**\n",
    "- Interactive lecture\n",
    "- Code-along\n",
    "- RUN THIS LINK"
   ]
  },
  {
   "cell_type": "markdown",
   "metadata": {
    "ExecuteTime": {
     "end_time": "2020-04-19T13:34:33.351914Z",
     "start_time": "2020-04-19T13:34:33.348913Z"
    }
   },
   "source": [
    "## Notebooks"
   ]
  },
  {
   "cell_type": "markdown",
   "metadata": {
    "ExecuteTime": {
     "end_time": "2020-04-18T13:53:13.634174Z",
     "start_time": "2020-04-18T13:53:13.629176Z"
    }
   },
   "source": [
    "- Scientific articles separate text from data and analysis.\n",
    "- Data science notebooks enable researchers and readers to present text, data and analysis side-by-side.\n",
    "- [Jupyter notebooks](https://jupyter.org/) (and more recently Jupyter Lab) are language agnostic notebooks. \n",
    "- They can run many languages, especially: **Ju**lia, **Pyt**hon, and **R**. \n",
    "- Initiated in 2014, Jupyter notebooks have rapidly become a [dominant platform for data analysis](https://www.nature.com/articles/d41586-018-07196-1).\n",
    "- Maybe notebooks will [replace the scientific article](https://www.theatlantic.com/science/archive/2018/04/the-scientific-paper-is-obsolete/556676/).\n",
    "- Notebooks can display and process numeric, image, sound, and text data.\n",
    "- Notebooks are an accessible, reproducible and transparent way to share research.\n",
    "- Here is a [gallery of interesting notebooks](https://github.com/jupyter/jupyter/wiki/A-gallery-of-interesting-Jupyter-Notebooks)."
   ]
  },
  {
   "cell_type": "markdown",
   "metadata": {},
   "source": [
    "The current notebook is in Python, so it can run Python code. \n",
    "\n",
    "For example:"
   ]
  },
  {
   "cell_type": "code",
   "execution_count": 3,
   "metadata": {
    "ExecuteTime": {
     "end_time": "2020-04-20T14:10:14.878232Z",
     "start_time": "2020-04-20T14:10:14.876231Z"
    }
   },
   "outputs": [
    {
     "name": "stdout",
     "output_type": "stream",
     "text": [
      "Hello world!\n"
     ]
    }
   ],
   "source": [
    "print('Hello world!')"
   ]
  },
  {
   "cell_type": "code",
   "execution_count": 4,
   "metadata": {
    "ExecuteTime": {
     "end_time": "2020-04-20T14:10:14.892232Z",
     "start_time": "2020-04-20T14:10:14.879232Z"
    }
   },
   "outputs": [
    {
     "data": {
      "text/plain": [
       "5"
      ]
     },
     "execution_count": 4,
     "metadata": {},
     "output_type": "execute_result"
    }
   ],
   "source": [
    "a = 2\n",
    "b = 3\n",
    "a+b"
   ]
  },
  {
   "cell_type": "markdown",
   "metadata": {},
   "source": [
    "Try it: \n",
    "\n",
    "1. Insert a new cell: Menu > 'Insert' > 'Insert Cell Above' (or double-tap 'a' (above) or 'b' (below))\n",
    "\n",
    "1. Type: `name = input('What is your name? ')`\n",
    "\n",
    "2. Type: `print('Hello ', name)`\n",
    "\n",
    "3. Press Menu > 'Run' (or shift/ctrl-return)"
   ]
  },
  {
   "cell_type": "markdown",
   "metadata": {
    "hideCode": false,
    "hidePrompt": false
   },
   "source": [
    "# Natural Language Processing (NLP)\n",
    "\n",
    "NLP refers to using computers to search, manipulate and respond to human language.\n",
    "\n",
    "It is closely connected to AI, Machine Learning, Big Data.\n",
    "\n",
    "Google, Facebook, etc. are investing vast resources in making computers understand text, image and sound."
   ]
  },
  {
   "cell_type": "markdown",
   "metadata": {},
   "source": [
    "## Search is AI in action"
   ]
  },
  {
   "cell_type": "markdown",
   "metadata": {
    "ExecuteTime": {
     "end_time": "2020-04-19T14:48:57.809295Z",
     "start_time": "2020-04-19T14:48:57.804295Z"
    }
   },
   "source": [
    "Have you noticed how Google search has become very good at [finding what you want](https://www.google.com/intl/en_uk/search/howsearchworks/algorithms/)?\n",
    "\n",
    "Not only does it index billions of web pages, but, it also:\n",
    "- spell checks (try: '[appple piee](https://www.google.co.uk/search?hl=en&q=appple%20piee&meta=)')\n",
    "- considers words in context (try: '[apple shares](https://www.google.co.uk/search?hl=en&q=apple%20shares&meta=)' vs. '[apple pie](https://www.google.co.uk/search?hl=en&q=apple%20pie&meta=)')\n",
    "- understands synonyms (try: '[apple with pastry top](https://www.google.co.uk/search?hl=en&q=apple%20with%20pastry%20top&meta=)')\n",
    "- and intent (try: '[how should one prepare a pie made with apples?](https://www.google.co.uk/search?hl=en&q=how%20should%20one%20prepare%20a%20pie%20made%20with%20apples%3F&meta=)')"
   ]
  },
  {
   "cell_type": "markdown",
   "metadata": {},
   "source": [
    "## It wasn't always so easy"
   ]
  },
  {
   "cell_type": "markdown",
   "metadata": {},
   "source": [
    "Does anyone remember searching with AltaVista, Lycos, WebCrawler, Ask Jeeves ....\n",
    "\n",
    "Yahoo search in the 1990s was a glorified telephone directory"
   ]
  },
  {
   "cell_type": "markdown",
   "metadata": {},
   "source": [
    "![Yahoo search in the 1990s - a glorified telephone directory](yahoo_1990-compressor.jpg)"
   ]
  },
  {
   "cell_type": "markdown",
   "metadata": {
    "ExecuteTime": {
     "end_time": "2020-04-19T14:47:24.804269Z",
     "start_time": "2020-04-19T14:47:24.799271Z"
    }
   },
   "source": [
    "So, what happened?\n",
    "1. identifying quality based on links ('page rank') - not our focus\n",
    "2. advances in understanding the meaning of words - our focus"
   ]
  },
  {
   "cell_type": "markdown",
   "metadata": {
    "hideCode": false,
    "hidePrompt": false
   },
   "source": [
    "## Generation 1: Word Frequency"
   ]
  },
  {
   "cell_type": "markdown",
   "metadata": {
    "hideCode": false,
    "hidePrompt": false
   },
   "source": [
    "Before 2013 most search was based on words occurance. Given the some text, search engines counted how often words occured.\n",
    "\n"
   ]
  },
  {
   "cell_type": "code",
   "execution_count": 5,
   "metadata": {
    "ExecuteTime": {
     "end_time": "2020-04-20T14:10:14.899231Z",
     "start_time": "2020-04-20T14:10:14.893232Z"
    }
   },
   "outputs": [
    {
     "data": {
      "text/plain": [
       "2"
      ]
     },
     "execution_count": 5,
     "metadata": {},
     "output_type": "execute_result"
    }
   ],
   "source": [
    "text_to_search = 'This webpage is about Bob the cat and other cats but not The Cat'\n",
    "\n",
    "text_to_search.count('cat')"
   ]
  },
  {
   "cell_type": "markdown",
   "metadata": {},
   "source": [
    "In social research, word frequency has been counted since the 1960s.\n",
    "\n",
    "One of the most popular software platforms for this is the LIWC ('[Linguistic Inquiry Word Count](https://liwc.wpengine.com/)').\n",
    "\n",
    "This proprietary software was developed by James Pennebaker et al., and has validated psychometric properties ([2015](https://repositories.lib.utexas.edu/bitstream/handle/2152/31333/LIWC2015_LanguageManual.pdf))."
   ]
  },
  {
   "cell_type": "markdown",
   "metadata": {},
   "source": [
    "![LIWC](LIWC.jpg)"
   ]
  },
  {
   "cell_type": "markdown",
   "metadata": {
    "ExecuteTime": {
     "end_time": "2020-04-20T09:48:01.986853Z",
     "start_time": "2020-04-20T09:48:01.980847Z"
    }
   },
   "source": [
    "Indicative research: <br>\n",
    "- Identifying [authorship in Shakespeare's plays](http://elizabethan-theatre.org/wps/wp-content/uploads/2015/07/Double-Falsehood-by-Ryan-Boyd-Psychological-Science-2015.pdf)\n",
    "- Longitudinal studies of Mayor [Giuliani's adaptation to the crisis of 9/11](https://www.sciencedirect.com/science/article/abs/pii/S0092656602923494)\n",
    "- Detecting people's [personality from their writing style](https://www.ncbi.nlm.nih.gov/pmc/articles/PMC2885844/?_escaped_fragment_=po=2.77778)\n",
    "- Monitoring [public anxiety](https://www.tandfonline.com/doi/abs/10.1080/10410236.2011.571759) and public mood (which is [associated with stock prices](https://arxiv.org/pdf/1010.3003&))\n",
    "- CFOs who copy the CEO style of [speech speak-up less](https://journals.aom.org/doi/abs/10.5465/amj.2016.1062)\n",
    "\n",
    "But, all these studies use fairly basic word count techniques, or, slightly more advanced sentiment analysis."
   ]
  },
  {
   "cell_type": "markdown",
   "metadata": {},
   "source": [
    "### sentiment"
   ]
  },
  {
   "cell_type": "markdown",
   "metadata": {},
   "source": [
    "In order to analyze concepts, such as [moral foundations](https://moralfoundations.org/other-materials/), researchers developed 'dictionaries', namely, word-lists for targeted concepts.\n",
    "\n",
    "Some of these dictionaries are elaborate, with each word having a different score, and, ability to handle negations. \n",
    "\n",
    "Below, is [VADER](https://github.com/cjhutto/vaderSentiment) - an advanced sentiment analysis dictionary ([Hutto & Gilbert, 2014](https://www.aaai.org/ocs/index.php/ICWSM/ICWSM14/paper/download/8109/8122))."
   ]
  },
  {
   "cell_type": "code",
   "execution_count": 60,
   "metadata": {
    "ExecuteTime": {
     "end_time": "2020-04-20T15:40:17.864703Z",
     "start_time": "2020-04-20T15:40:17.861701Z"
    }
   },
   "outputs": [
    {
     "data": {
      "text/plain": [
       "{'neg': 0.0, 'neu': 0.213, 'pos': 0.787, 'compound': 0.5719}"
      ]
     },
     "execution_count": 60,
     "metadata": {},
     "output_type": "execute_result"
    }
   ],
   "source": [
    "text = 'i am happy'\n",
    "\n",
    "sentiment_analyzer.polarity_scores(text)"
   ]
  },
  {
   "cell_type": "markdown",
   "metadata": {},
   "source": [
    "Try changing the above to:\n",
    "- `'i am not happy'` (basic negation works)\n",
    "- `'i am not hapy'` (but typos cause a problem)"
   ]
  },
  {
   "cell_type": "markdown",
   "metadata": {},
   "source": [
    "### limitations"
   ]
  },
  {
   "cell_type": "markdown",
   "metadata": {},
   "source": [
    "The problems with word counting:\n",
    "- similarity is based on characters\n",
    "- 'dog' is not the same as 'Dog' (capital) or 'dgo' (typo)\n",
    "- 'dog' is similar to 'dogs' (same stem)\n",
    "- 'dog' is also similar to 'god' (same characters)\n",
    "- But, 'dog' is not similar to 'labrador' (type of dog) or 'cat' (also a pet)"
   ]
  },
  {
   "cell_type": "markdown",
   "metadata": {
    "hideCode": false,
    "hidePrompt": false
   },
   "source": [
    "## Generation 2: Word embeddings"
   ]
  },
  {
   "cell_type": "markdown",
   "metadata": {
    "hideCode": true,
    "hidePrompt": true
   },
   "source": [
    "'Word embeddings' were developed by [Yoshua Bengio](https://scholar.google.co.uk/citations?user=kukA0LcAAAAJ&hl=en), [Yann LeCun](https://scholar.google.co.uk/citations?user=WLN3QrAAAAAJ&hl=en&oi=ao), [Geoffrey Hinton](https://scholar.google.co.uk/citations?user=JicYPdAAAAAJ&hl=en&oi=ao) et al. using neural networks and deep learning techniques. This work has recently led to a huge breakthrough in NLP.\n",
    "\n",
    "The core idea is evident Wittgenstein's ([1953](https://en.wikipedia.org/wiki/Philosophical_Investigations); also Firth, [1957](https://en.wikipedia.org/wiki/John_Rupert_Firth)) insight: the meaning of words comes from the context in which they are used. \n",
    "\n",
    "Consider the sentence 'the X sat on the mat' - most people would agree that 'dog' and 'cat' are plausible candidates for X. That is to say, 'dog' and 'cat' occupy similar roles within similar sentences. \n",
    "\n",
    "This is also the core idea behind predictive text: where algorithms try to predict the next word you might use on the basis of what has been typed. ([Demo: can predictive text finish your manuscript?](https://talktotransformer.com/)).\n",
    "\n",
    "These are statistical models of language. Based on huge (billions of words) datasets, the statistics are used to predict words.\n",
    "\n",
    "The key idea: instead of counting words, ignore the word itself, and count the words that it co-occurs with.\n",
    "\n",
    "This might seem odd, but, when scaled accross billions of pages of text (books, webpages) it produces models that *seem to encode meaning."
   ]
  },
  {
   "cell_type": "markdown",
   "metadata": {},
   "source": [
    "Word embeddings encode the meaning of words not in terms of the words themselves, but, in terms of the context in which the words appear. By analyzing billions of webpages and books, statistical models are built based on which words occur in the same context. These models _seem_ to encode meaning.\n",
    "\n",
    "Here is an [interactive illustration](https://projector.tensorflow.org/) of a small model (10k words mapped in 200 dimensions).\n"
   ]
  },
  {
   "cell_type": "markdown",
   "metadata": {},
   "source": [
    "# Using word Embeddings"
   ]
  },
  {
   "cell_type": "markdown",
   "metadata": {
    "hideCode": false,
    "hidePrompt": false
   },
   "source": [
    "## Comparing word similarity\n",
    "Most people would agree that 'dog' is more similar to 'cat' than 'road' - and the models agree:"
   ]
  },
  {
   "cell_type": "code",
   "execution_count": 61,
   "metadata": {
    "ExecuteTime": {
     "end_time": "2020-04-20T15:41:37.497529Z",
     "start_time": "2020-04-20T15:41:37.338530Z"
    },
    "hideCode": false,
    "hidePrompt": false
   },
   "outputs": [
    {
     "data": {
      "image/png": "[encoded data removed]",
      "text/plain": [
       "<Figure size 720x360 with 1 Axes>"
      ]
     },
     "metadata": {
      "needs_background": "light"
     },
     "output_type": "display_data"
    }
   ],
   "source": [
    "words = ['dog', 'cat', 'car', 'road', 'traffic', 'ideas']\n",
    "    \n",
    "compareMeanings(words)"
   ]
  },
  {
   "cell_type": "markdown",
   "metadata": {},
   "source": [
    "Change the above code, to see how similar `'dog'`, `'Dog'`, `'canine'`, and `'K9'` are."
   ]
  },
  {
   "cell_type": "markdown",
   "metadata": {
    "hideCode": false,
    "hidePrompt": false
   },
   "source": [
    "## Comparing sentence meaning"
   ]
  },
  {
   "cell_type": "markdown",
   "metadata": {
    "hideCode": false,
    "hidePrompt": false
   },
   "source": [
    "We can also use these models to compare sentences. Consider the following (all using unique words). Just by averaging the word embeddings for each sentence, we can see, that the model corresponds broadly to our human judgement. <br>\n",
    "<br>\n",
    "Change the sentences and re-run the cell to see the result."
   ]
  },
  {
   "cell_type": "code",
   "execution_count": 62,
   "metadata": {
    "ExecuteTime": {
     "end_time": "2020-04-20T15:41:42.792287Z",
     "start_time": "2020-04-20T15:41:42.619289Z"
    },
    "hideCode": false,
    "hidePrompt": false
   },
   "outputs": [
    {
     "data": {
      "image/png": "[encoded data removed]",
      "text/plain": [
       "<Figure size 720x360 with 1 Axes>"
      ]
     },
     "metadata": {
      "needs_background": "light"
     },
     "output_type": "display_data"
    }
   ],
   "source": [
    "sentences = ['the pilot flew the plane', \n",
    "             'trees do not grow on rocks',\n",
    "             'i broke my arm', \n",
    "             'he snapped his leg',\n",
    "             'a helicopter soared up',\n",
    "             'plants need lots of water']\n",
    "\n",
    "compareMeanings(sentences)"
   ]
  },
  {
   "cell_type": "markdown",
   "metadata": {},
   "source": [
    "## Measuring sentences for target concept\n",
    "The idea here comes from the [Garten et al. (2018)](https://link.springer.com/article/10.3758/s13428-017-0875-9) who argue that "
   ]
  },
  {
   "cell_type": "code",
   "execution_count": 63,
   "metadata": {
    "ExecuteTime": {
     "end_time": "2020-04-20T15:41:54.839846Z",
     "start_time": "2020-04-20T15:41:54.779847Z"
    }
   },
   "outputs": [
    {
     "name": "stdout",
     "output_type": "stream",
     "text": [
      "Similarity to 'died':  0.04  'Superb excellent ++'\n",
      "Similarity to 'died':  0.2   'accessible car park'\n",
      "Similarity to 'died':  0.4   'my arm broke'\n",
      "Similarity to 'died':  0.68  'she was dying'\n",
      "Similarity to 'died':  0.85  'he died later'\n",
      "Similarity to 'died':  1.0   'died died died'\n"
     ]
    }
   ],
   "source": [
    "target = 'died'\n",
    "\n",
    "sentences = [\"Superb excellent ++\",\n",
    "             'accessible car park',\n",
    "             'my arm broke', \n",
    "             'she was dying', \n",
    "             'he died later',\n",
    "             'died died died']\n",
    "\n",
    "for sent in sentences:\n",
    "    score = round(nlp(sent).similarity(nlp(target)), 2)\n",
    "    print(\"Similarity to 'died':  {:<4}  '{:}'\".format(score, sent))"
   ]
  },
  {
   "cell_type": "markdown",
   "metadata": {},
   "source": [
    "The above code can be reporposed to measure any concept that manifests in textual data.\n",
    "\n",
    "For example, change the target concept to:\n",
    "- `'happy wonderful brilliant super'` to measure sentiment\n",
    "- `'trust'` to measure trust\n",
    "- `'anxiety'` to measure anxiety\n"
   ]
  },
  {
   "cell_type": "markdown",
   "metadata": {
    "hideCode": false,
    "hidePrompt": false
   },
   "source": [
    "## Adding and subtracting meanings\n",
    "\n",
    "Meanings are represented by numbers (e.g., 300 dimension = list of 300 numbers)\n",
    "\n",
    "This means that meanings can be added and subtracted."
   ]
  },
  {
   "cell_type": "markdown",
   "metadata": {},
   "source": [
    "Here are the words near 'died dead and dying'. "
   ]
  },
  {
   "cell_type": "markdown",
   "metadata": {},
   "source": [
    "But, people tend to die in two ways: unintentional and intentional (murder). <br>\n",
    "To find words associated with intentionall death, we subtract the concept of 'accident' and add the concept 'murder'."
   ]
  },
  {
   "cell_type": "code",
   "execution_count": 95,
   "metadata": {
    "ExecuteTime": {
     "end_time": "2020-04-20T15:57:46.817872Z",
     "start_time": "2020-04-20T15:57:46.812872Z"
    }
   },
   "outputs": [],
   "source": [
    "def calculateVector(start, subtract, add, n=5):\n",
    "    x = nlp.vocab[start].vector - nlp.vocab[subtract].vector + nlp.vocab[add].vector\n",
    "    \n",
    "    similar_words = []\n",
    "    for word in nlp.vocab:\n",
    "        if not (word.has_vector & word.is_lower):\n",
    "            continue\n",
    "        if not ((word.text!=start)&(word.text!=add)&(word.text!=subtract)):\n",
    "            continue\n",
    "     \n",
    "        similarity = cosine_similarity(x, word.vector)\n",
    "        similar_words.append((word.text, similarity))\n",
    "        \n",
    "    similar_words = sorted(similar_words, key=lambda item: -item[1])\n",
    "    result = pd.DataFrame(similar_words, columns=['word', 'similarity'])\n",
    "    with pd.option_context('display.max_rows', None):\n",
    "        display(result.head(n))"
   ]
  },
  {
   "cell_type": "code",
   "execution_count": 99,
   "metadata": {
    "ExecuteTime": {
     "end_time": "2020-04-20T16:01:51.901408Z",
     "start_time": "2020-04-20T16:01:37.086408Z"
    }
   },
   "outputs": [
    {
     "data": {
      "text/html": [
       "<div>\n",
       "<style scoped>\n",
       "    .dataframe tbody tr th:only-of-type {\n",
       "        vertical-align: middle;\n",
       "    }\n",
       "\n",
       "    .dataframe tbody tr th {\n",
       "        vertical-align: top;\n",
       "    }\n",
       "\n",
       "    .dataframe thead th {\n",
       "        text-align: right;\n",
       "    }\n",
       "</style>\n",
       "<table border=\"1\" class=\"dataframe\">\n",
       "  <thead>\n",
       "    <tr style=\"text-align: right;\">\n",
       "      <th></th>\n",
       "      <th>word</th>\n",
       "      <th>similarity</th>\n",
       "    </tr>\n",
       "  </thead>\n",
       "  <tbody>\n",
       "    <tr>\n",
       "      <td>0</td>\n",
       "      <td>nurse</td>\n",
       "      <td>0.702265</td>\n",
       "    </tr>\n",
       "    <tr>\n",
       "      <td>1</td>\n",
       "      <td>doctors</td>\n",
       "      <td>0.675905</td>\n",
       "    </tr>\n",
       "    <tr>\n",
       "      <td>2</td>\n",
       "      <td>physician</td>\n",
       "      <td>0.668101</td>\n",
       "    </tr>\n",
       "    <tr>\n",
       "      <td>3</td>\n",
       "      <td>pregnant</td>\n",
       "      <td>0.665777</td>\n",
       "    </tr>\n",
       "    <tr>\n",
       "      <td>4</td>\n",
       "      <td>gynecologist</td>\n",
       "      <td>0.629010</td>\n",
       "    </tr>\n",
       "  </tbody>\n",
       "</table>\n",
       "</div>"
      ],
      "text/plain": [
       "           word  similarity\n",
       "0         nurse    0.702265\n",
       "1       doctors    0.675905\n",
       "2     physician    0.668101\n",
       "3      pregnant    0.665777\n",
       "4  gynecologist    0.629010"
      ]
     },
     "metadata": {},
     "output_type": "display_data"
    }
   ],
   "source": [
    "calculateVector(start='doctor', subtract='man', add='woman', n=5)"
   ]
  },
  {
   "cell_type": "code",
   "execution_count": 100,
   "metadata": {
    "ExecuteTime": {
     "end_time": "2020-04-20T16:02:29.132716Z",
     "start_time": "2020-04-20T16:02:14.344716Z"
    }
   },
   "outputs": [
    {
     "data": {
      "text/html": [
       "<div>\n",
       "<style scoped>\n",
       "    .dataframe tbody tr th:only-of-type {\n",
       "        vertical-align: middle;\n",
       "    }\n",
       "\n",
       "    .dataframe tbody tr th {\n",
       "        vertical-align: top;\n",
       "    }\n",
       "\n",
       "    .dataframe thead th {\n",
       "        text-align: right;\n",
       "    }\n",
       "</style>\n",
       "<table border=\"1\" class=\"dataframe\">\n",
       "  <thead>\n",
       "    <tr style=\"text-align: right;\">\n",
       "      <th></th>\n",
       "      <th>word</th>\n",
       "      <th>similarity</th>\n",
       "    </tr>\n",
       "  </thead>\n",
       "  <tbody>\n",
       "    <tr>\n",
       "      <td>0</td>\n",
       "      <td>physician</td>\n",
       "      <td>0.627890</td>\n",
       "    </tr>\n",
       "    <tr>\n",
       "      <td>1</td>\n",
       "      <td>doctors</td>\n",
       "      <td>0.591856</td>\n",
       "    </tr>\n",
       "    <tr>\n",
       "      <td>2</td>\n",
       "      <td>medicine</td>\n",
       "      <td>0.569031</td>\n",
       "    </tr>\n",
       "    <tr>\n",
       "      <td>3</td>\n",
       "      <td>surgeon</td>\n",
       "      <td>0.563236</td>\n",
       "    </tr>\n",
       "    <tr>\n",
       "      <td>4</td>\n",
       "      <td>pharmacist</td>\n",
       "      <td>0.547604</td>\n",
       "    </tr>\n",
       "  </tbody>\n",
       "</table>\n",
       "</div>"
      ],
      "text/plain": [
       "         word  similarity\n",
       "0   physician    0.627890\n",
       "1     doctors    0.591856\n",
       "2    medicine    0.569031\n",
       "3     surgeon    0.563236\n",
       "4  pharmacist    0.547604"
      ]
     },
     "metadata": {},
     "output_type": "display_data"
    }
   ],
   "source": [
    "calculateVector(start='doctor', subtract='woman', add='man', n=5)"
   ]
  },
  {
   "cell_type": "code",
   "execution_count": null,
   "metadata": {},
   "outputs": [],
   "source": []
  },
  {
   "cell_type": "raw",
   "metadata": {
    "ExecuteTime": {
     "end_time": "2020-04-20T14:10:30.038231Z",
     "start_time": "2020-04-20T14:10:28.510231Z"
    }
   },
   "source": [
    "start = 'he'\n",
    "subtract = 'doctor'\n",
    "add = 'woman'\n",
    "\n",
    "start = 'doctor'\n",
    "subtract = 'man'\n",
    "add = 'woman'\n",
    "\n",
    "\n",
    "v = nlp.vocab[start].vector - nlp.vocab[subtract].vector + nlp.vocab[add].vector\n",
    "#print(v)\n",
    "\n",
    "from scipy.spatial import distance\n",
    "import numpy as np\n",
    "\n",
    "# Format the vocabulary for use in the distance function\n",
    "ids = [x for x in nlp.vocab.vectors.keys()]\n",
    "vectors1 = [nlp.vocab.vectors[x] for x in ids]\n",
    "vectors2 = np.array(vectors1)\n",
    "#print(vectors2)\n",
    "        \n",
    "# measure distances\n",
    "dist = distance.cdist([np.array(v)],vectors2)[0]\n",
    "    \n",
    "# create df of results\n",
    "df = pd.DataFrame({'distance':[x for x in dist]})\n",
    "df.sort_values('distance', inplace=True)\n",
    "\n",
    "# print output\n",
    "words = []\n",
    "for i in df.index[:50]:\n",
    "    word_id = ids[i]\n",
    "    output_word = nlp.vocab[word_id].text\n",
    "    output_word = output_word.lower()\n",
    "    if output_word not in words:\n",
    "        words.append(output_word.lower())\n",
    "        \n",
    "words         \n",
    "#remove input tokens"
   ]
  },
  {
   "cell_type": "code",
   "execution_count": 101,
   "metadata": {
    "ExecuteTime": {
     "end_time": "2020-04-20T16:04:40.953377Z",
     "start_time": "2020-04-20T16:04:26.130378Z"
    }
   },
   "outputs": [
    {
     "data": {
      "text/html": [
       "<div>\n",
       "<style scoped>\n",
       "    .dataframe tbody tr th:only-of-type {\n",
       "        vertical-align: middle;\n",
       "    }\n",
       "\n",
       "    .dataframe tbody tr th {\n",
       "        vertical-align: top;\n",
       "    }\n",
       "\n",
       "    .dataframe thead th {\n",
       "        text-align: right;\n",
       "    }\n",
       "</style>\n",
       "<table border=\"1\" class=\"dataframe\">\n",
       "  <thead>\n",
       "    <tr style=\"text-align: right;\">\n",
       "      <th></th>\n",
       "      <th>word</th>\n",
       "      <th>similarity</th>\n",
       "    </tr>\n",
       "  </thead>\n",
       "  <tbody>\n",
       "    <tr>\n",
       "      <td>0</td>\n",
       "      <td>queen</td>\n",
       "      <td>0.788084</td>\n",
       "    </tr>\n",
       "    <tr>\n",
       "      <td>1</td>\n",
       "      <td>prince</td>\n",
       "      <td>0.640108</td>\n",
       "    </tr>\n",
       "    <tr>\n",
       "      <td>2</td>\n",
       "      <td>kings</td>\n",
       "      <td>0.620854</td>\n",
       "    </tr>\n",
       "    <tr>\n",
       "      <td>3</td>\n",
       "      <td>princess</td>\n",
       "      <td>0.612564</td>\n",
       "    </tr>\n",
       "    <tr>\n",
       "      <td>4</td>\n",
       "      <td>royal</td>\n",
       "      <td>0.580097</td>\n",
       "    </tr>\n",
       "  </tbody>\n",
       "</table>\n",
       "</div>"
      ],
      "text/plain": [
       "       word  similarity\n",
       "0     queen    0.788084\n",
       "1    prince    0.640108\n",
       "2     kings    0.620854\n",
       "3  princess    0.612564\n",
       "4     royal    0.580097"
      ]
     },
     "metadata": {},
     "output_type": "display_data"
    }
   ],
   "source": [
    "calculateVector(start='king', subtract='man', add='woman', n=5)"
   ]
  },
  {
   "cell_type": "code",
   "execution_count": 102,
   "metadata": {
    "ExecuteTime": {
     "end_time": "2020-04-20T16:05:25.167731Z",
     "start_time": "2020-04-20T16:05:10.460732Z"
    }
   },
   "outputs": [
    {
     "data": {
      "text/html": [
       "<div>\n",
       "<style scoped>\n",
       "    .dataframe tbody tr th:only-of-type {\n",
       "        vertical-align: middle;\n",
       "    }\n",
       "\n",
       "    .dataframe tbody tr th {\n",
       "        vertical-align: top;\n",
       "    }\n",
       "\n",
       "    .dataframe thead th {\n",
       "        text-align: right;\n",
       "    }\n",
       "</style>\n",
       "<table border=\"1\" class=\"dataframe\">\n",
       "  <thead>\n",
       "    <tr style=\"text-align: right;\">\n",
       "      <th></th>\n",
       "      <th>word</th>\n",
       "      <th>similarity</th>\n",
       "    </tr>\n",
       "  </thead>\n",
       "  <tbody>\n",
       "    <tr>\n",
       "      <td>0</td>\n",
       "      <td>switzerland</td>\n",
       "      <td>0.536004</td>\n",
       "    </tr>\n",
       "    <tr>\n",
       "      <td>1</td>\n",
       "      <td>usa</td>\n",
       "      <td>0.526874</td>\n",
       "    </tr>\n",
       "    <tr>\n",
       "      <td>2</td>\n",
       "      <td>canada</td>\n",
       "      <td>0.517747</td>\n",
       "    </tr>\n",
       "    <tr>\n",
       "      <td>3</td>\n",
       "      <td>wisconsin</td>\n",
       "      <td>0.508208</td>\n",
       "    </tr>\n",
       "    <tr>\n",
       "      <td>4</td>\n",
       "      <td>australia</td>\n",
       "      <td>0.463609</td>\n",
       "    </tr>\n",
       "  </tbody>\n",
       "</table>\n",
       "</div>"
      ],
      "text/plain": [
       "          word  similarity\n",
       "0  switzerland    0.536004\n",
       "1          usa    0.526874\n",
       "2       canada    0.517747\n",
       "3    wisconsin    0.508208\n",
       "4    australia    0.463609"
      ]
     },
     "metadata": {},
     "output_type": "display_data"
    }
   ],
   "source": [
    "calculateVector(start='uk', subtract='london', add='geneva', n=5)"
   ]
  },
  {
   "cell_type": "markdown",
   "metadata": {},
   "source": [
    "- Try: 'uk' minus 'london' add 'geneva'\n",
    "- Try: 'berlin' minus 'germany' add 'france'\n",
    "- Try: 'india' minus 'curry' add 'pizza'\n",
    "- Try: 'man' minus 'boy' add 'girl'\n",
    "- Try: 'paris' minus 'france' add 'uk'"
   ]
  },
  {
   "cell_type": "markdown",
   "metadata": {},
   "source": [
    "## Syntax"
   ]
  },
  {
   "cell_type": "markdown",
   "metadata": {},
   "source": [
    "Language models have also been developed to understand the syntactic components of text.\n",
    "\n",
    "These models identify traditional grammatical components (e.g., pronouns, verbs, nouns) and 'dependency grammar' - which is how the words are related to one another (e.g., who is the subject of the verb).\n"
   ]
  },
  {
   "cell_type": "code",
   "execution_count": 21,
   "metadata": {
    "ExecuteTime": {
     "end_time": "2020-04-20T14:11:01.915232Z",
     "start_time": "2020-04-20T14:11:01.905231Z"
    }
   },
   "outputs": [
    {
     "data": {
      "text/html": [
       "<svg xmlns=\"http://www.w3.org/2000/svg\" xmlns:xlink=\"http://www.w3.org/1999/xlink\" xml:lang=\"en\" id=\"a5278772c03e4d079a2c5f586acde663-0\" class=\"displacy\" width=\"925\" height=\"312.0\" direction=\"ltr\" style=\"max-width: none; height: 312.0px; color: #000000; background: #ffffff; font-family: Arial; direction: ltr\">\n",
       "<text class=\"displacy-token\" fill=\"currentColor\" text-anchor=\"middle\" y=\"222.0\">\n",
       "    <tspan class=\"displacy-word\" fill=\"currentColor\" x=\"50\">i</tspan>\n",
       "    <tspan class=\"displacy-tag\" dy=\"2em\" fill=\"currentColor\" x=\"50\">PRON</tspan>\n",
       "</text>\n",
       "\n",
       "<text class=\"displacy-token\" fill=\"currentColor\" text-anchor=\"middle\" y=\"222.0\">\n",
       "    <tspan class=\"displacy-word\" fill=\"currentColor\" x=\"225\">went</tspan>\n",
       "    <tspan class=\"displacy-tag\" dy=\"2em\" fill=\"currentColor\" x=\"225\">VERB</tspan>\n",
       "</text>\n",
       "\n",
       "<text class=\"displacy-token\" fill=\"currentColor\" text-anchor=\"middle\" y=\"222.0\">\n",
       "    <tspan class=\"displacy-word\" fill=\"currentColor\" x=\"400\">to</tspan>\n",
       "    <tspan class=\"displacy-tag\" dy=\"2em\" fill=\"currentColor\" x=\"400\">ADP</tspan>\n",
       "</text>\n",
       "\n",
       "<text class=\"displacy-token\" fill=\"currentColor\" text-anchor=\"middle\" y=\"222.0\">\n",
       "    <tspan class=\"displacy-word\" fill=\"currentColor\" x=\"575\">the</tspan>\n",
       "    <tspan class=\"displacy-tag\" dy=\"2em\" fill=\"currentColor\" x=\"575\">DET</tspan>\n",
       "</text>\n",
       "\n",
       "<text class=\"displacy-token\" fill=\"currentColor\" text-anchor=\"middle\" y=\"222.0\">\n",
       "    <tspan class=\"displacy-word\" fill=\"currentColor\" x=\"750\">shop</tspan>\n",
       "    <tspan class=\"displacy-tag\" dy=\"2em\" fill=\"currentColor\" x=\"750\">NOUN</tspan>\n",
       "</text>\n",
       "\n",
       "<g class=\"displacy-arrow\">\n",
       "    <path class=\"displacy-arc\" id=\"arrow-a5278772c03e4d079a2c5f586acde663-0-0\" stroke-width=\"2px\" d=\"M70,177.0 C70,89.5 220.0,89.5 220.0,177.0\" fill=\"none\" stroke=\"currentColor\"/>\n",
       "    <text dy=\"1.25em\" style=\"font-size: 0.8em; letter-spacing: 1px\">\n",
       "        <textPath xlink:href=\"#arrow-a5278772c03e4d079a2c5f586acde663-0-0\" class=\"displacy-label\" startOffset=\"50%\" side=\"left\" fill=\"currentColor\" text-anchor=\"middle\">nsubj</textPath>\n",
       "    </text>\n",
       "    <path class=\"displacy-arrowhead\" d=\"M70,179.0 L62,167.0 78,167.0\" fill=\"currentColor\"/>\n",
       "</g>\n",
       "\n",
       "<g class=\"displacy-arrow\">\n",
       "    <path class=\"displacy-arc\" id=\"arrow-a5278772c03e4d079a2c5f586acde663-0-1\" stroke-width=\"2px\" d=\"M245,177.0 C245,89.5 395.0,89.5 395.0,177.0\" fill=\"none\" stroke=\"currentColor\"/>\n",
       "    <text dy=\"1.25em\" style=\"font-size: 0.8em; letter-spacing: 1px\">\n",
       "        <textPath xlink:href=\"#arrow-a5278772c03e4d079a2c5f586acde663-0-1\" class=\"displacy-label\" startOffset=\"50%\" side=\"left\" fill=\"currentColor\" text-anchor=\"middle\">prep</textPath>\n",
       "    </text>\n",
       "    <path class=\"displacy-arrowhead\" d=\"M395.0,179.0 L403.0,167.0 387.0,167.0\" fill=\"currentColor\"/>\n",
       "</g>\n",
       "\n",
       "<g class=\"displacy-arrow\">\n",
       "    <path class=\"displacy-arc\" id=\"arrow-a5278772c03e4d079a2c5f586acde663-0-2\" stroke-width=\"2px\" d=\"M595,177.0 C595,89.5 745.0,89.5 745.0,177.0\" fill=\"none\" stroke=\"currentColor\"/>\n",
       "    <text dy=\"1.25em\" style=\"font-size: 0.8em; letter-spacing: 1px\">\n",
       "        <textPath xlink:href=\"#arrow-a5278772c03e4d079a2c5f586acde663-0-2\" class=\"displacy-label\" startOffset=\"50%\" side=\"left\" fill=\"currentColor\" text-anchor=\"middle\">det</textPath>\n",
       "    </text>\n",
       "    <path class=\"displacy-arrowhead\" d=\"M595,179.0 L587,167.0 603,167.0\" fill=\"currentColor\"/>\n",
       "</g>\n",
       "\n",
       "<g class=\"displacy-arrow\">\n",
       "    <path class=\"displacy-arc\" id=\"arrow-a5278772c03e4d079a2c5f586acde663-0-3\" stroke-width=\"2px\" d=\"M420,177.0 C420,2.0 750.0,2.0 750.0,177.0\" fill=\"none\" stroke=\"currentColor\"/>\n",
       "    <text dy=\"1.25em\" style=\"font-size: 0.8em; letter-spacing: 1px\">\n",
       "        <textPath xlink:href=\"#arrow-a5278772c03e4d079a2c5f586acde663-0-3\" class=\"displacy-label\" startOffset=\"50%\" side=\"left\" fill=\"currentColor\" text-anchor=\"middle\">pobj</textPath>\n",
       "    </text>\n",
       "    <path class=\"displacy-arrowhead\" d=\"M750.0,179.0 L758.0,167.0 742.0,167.0\" fill=\"currentColor\"/>\n",
       "</g>\n",
       "</svg>"
      ],
      "text/plain": [
       "<IPython.core.display.HTML object>"
      ]
     },
     "metadata": {},
     "output_type": "display_data"
    }
   ],
   "source": [
    "text = \"i went to the shop\"\n",
    "displacy.render(nlp(text), style=\"dep\", jupyter=True)"
   ]
  },
  {
   "cell_type": "markdown",
   "metadata": {},
   "source": [
    "Change the text in the above example to try and confuse the language model.\n",
    "- try: `'to the shop i went'`\n",
    "- try: `'i weeent to the shopppp'`"
   ]
  },
  {
   "cell_type": "markdown",
   "metadata": {},
   "source": [
    "## Semantic components"
   ]
  },
  {
   "cell_type": "markdown",
   "metadata": {},
   "source": [
    "Using the analysis of syntax, the language models have become quite good at identifying people, organisations, products, dates, etc."
   ]
  },
  {
   "cell_type": "code",
   "execution_count": 22,
   "metadata": {
    "ExecuteTime": {
     "end_time": "2020-04-20T14:11:01.925231Z",
     "start_time": "2020-04-20T14:11:01.916231Z"
    }
   },
   "outputs": [
    {
     "data": {
      "text/html": [
       "<div class=\"entities\" style=\"line-height: 2.5; direction: ltr\">\n",
       "<mark class=\"entity\" style=\"background: #aa9cfc; padding: 0.45em 0.6em; margin: 0 0.25em; line-height: 1; border-radius: 0.35em;\">\n",
       "    Elon Musk\n",
       "    <span style=\"font-size: 0.8em; font-weight: bold; line-height: 1; border-radius: 0.35em; text-transform: uppercase; vertical-align: middle; margin-left: 0.5rem\">PERSON</span>\n",
       "</mark>\n",
       " is CEO of \n",
       "<mark class=\"entity\" style=\"background: #7aecec; padding: 0.45em 0.6em; margin: 0 0.25em; line-height: 1; border-radius: 0.35em;\">\n",
       "    Tesla\n",
       "    <span style=\"font-size: 0.8em; font-weight: bold; line-height: 1; border-radius: 0.35em; text-transform: uppercase; vertical-align: middle; margin-left: 0.5rem\">ORG</span>\n",
       "</mark>\n",
       "</div>"
      ],
      "text/plain": [
       "<IPython.core.display.HTML object>"
      ]
     },
     "metadata": {},
     "output_type": "display_data"
    }
   ],
   "source": [
    "text = 'Elon Musk is CEO of Tesla'\n",
    "displacy.render(nlp(text), jupyter=True, style=\"ent\")"
   ]
  },
  {
   "cell_type": "markdown",
   "metadata": {
    "ExecuteTime": {
     "end_time": "2020-04-20T11:48:06.176982Z",
     "start_time": "2020-04-20T11:48:06.171982Z"
    }
   },
   "source": [
    "Again, these language models have a degree of robustness against unfamiliar words and typos. \n",
    "\n",
    "- Try a typo: `'Elon Mussk is CEO of Tsla'`\n",
    "- Try: `'I saw the mona lisa on the 25th of sept'`"
   ]
  },
  {
   "cell_type": "markdown",
   "metadata": {},
   "source": [
    "# Use in social research?"
   ]
  },
  {
   "cell_type": "markdown",
   "metadata": {},
   "source": [
    "[Salganik (2019)](https://www.bitbybitbook.com/en/1st-ed/preface/) gives a good overview of the impact of NLP (and data science in general) on social research"
   ]
  },
  {
   "cell_type": "markdown",
   "metadata": {},
   "source": [
    "Popular apps and web-pages provide:\n",
    "1. Analysis of [speeches in parliament](https://pudding.cool/2018/07/women-in-parliament/) (very good)\n",
    "1. Analysis of [Trump's Tweets](https://www.dremio.com/trump-twitter-sentiment-analysis/)\n"
   ]
  },
  {
   "cell_type": "markdown",
   "metadata": {},
   "source": [
    "There is an ever-growing list of datasets:\n",
    "- Github has a community maintained list of [big data sets](https://github.com/awesomedata/awesome-public-datasets#socialsciences)\n",
    "- The Internet Archive has a [data collection](https://archive.org/details/datasets)\n",
    "- Google has launched a search engine [just for data](https://datasetsearch.research.google.com/)\n",
    "- And here is a [huge collection of text data](https://datasets.quantumstat.com/)\n",
    "                           "
   ]
  },
  {
   "cell_type": "markdown",
   "metadata": {
    "ExecuteTime": {
     "end_time": "2020-04-19T15:28:18.906178Z",
     "start_time": "2020-04-19T15:28:18.901177Z"
    }
   },
   "source": [
    "These datasets grow rapidly. For COVID-19, there is already:\n",
    "- 4 million Tweets per day, [available for download](http://www.panacealab.org/covid19/)\n",
    "- Google social distancing data, [for all major regions in 131 countries](https://www.google.com/covid19/mobility/)\n",
    "- And, of course, the WHO COVID-19 mortality data is [available for download](https://covid.ourworldindata.org/data/owid-covid-data.csv)"
   ]
  },
  {
   "cell_type": "markdown",
   "metadata": {
    "ExecuteTime": {
     "end_time": "2020-04-20T11:28:40.834757Z",
     "start_time": "2020-04-20T11:27:45.561Z"
    }
   },
   "source": [
    "Examples of recent research:\n",
    "- Organizations that have diversity within employees are more creative & profitable ([Corritore et al., 2019](https://journals.sagepub.com/doi/abs/10.1177/0001839219844175))\n",
    "\n",
    "- Detecting unsafe restaurants based on phone location and searches ([Sadilek et al., 2018](https://www.nature.com/articles/s41746-018-0045-1.pdf?origin=ppub))\n",
    "\n",
    "- Simulating human judgement using distributed language models ([Bhatia et al., 2019](https://www.sciencedirect.com/science/article/pii/S2352154618301712))\n"
   ]
  },
  {
   "cell_type": "markdown",
   "metadata": {
    "hideCode": false,
    "hidePrompt": false
   },
   "source": [
    "# Conclusion\n",
    "\n",
    "\n"
   ]
  }
 ],
 "metadata": {
  "hide_code_all_hidden": true,
  "kernelspec": {
   "display_name": "Python 3",
   "language": "python",
   "name": "python3"
  },
  "language_info": {
   "codemirror_mode": {
    "name": "ipython",
    "version": 3
   },
   "file_extension": ".py",
   "mimetype": "text/x-python",
   "name": "python",
   "nbconvert_exporter": "python",
   "pygments_lexer": "ipython3",
   "version": "3.7.6"
  },
  "toc": {
   "base_numbering": 1,
   "nav_menu": {
    "height": "345px",
    "width": "256px"
   },
   "number_sections": true,
   "sideBar": true,
   "skip_h1_title": false,
   "title_cell": "Table of Contents",
   "title_sidebar": "Contents",
   "toc_cell": true,
   "toc_position": {
    "height": "calc(100% - 180px)",
    "left": "10px",
    "top": "150px",
    "width": "165px"
   },
   "toc_section_display": true,
   "toc_window_display": true
  },
  "varInspector": {
   "cols": {
    "lenName": 16,
    "lenType": 16,
    "lenVar": 40
   },
   "kernels_config": {
    "python": {
     "delete_cmd_postfix": "",
     "delete_cmd_prefix": "del ",
     "library": "var_list.py",
     "varRefreshCmd": "print(var_dic_list())"
    },
    "r": {
     "delete_cmd_postfix": ") ",
     "delete_cmd_prefix": "rm(",
     "library": "var_list.r",
     "varRefreshCmd": "cat(var_dic_list()) "
    }
   },
   "types_to_exclude": [
    "module",
    "function",
    "builtin_function_or_method",
    "instance",
    "_Feature"
   ],
   "window_display": false
  }
 },
 "nbformat": 4,
 "nbformat_minor": 2
}
