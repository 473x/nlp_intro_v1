{
 "cells": [
  {
   "cell_type": "markdown",
   "metadata": {
    "hideCode": false,
    "hidePrompt": false
   },
   "source": [
    "We ask each of you to prepare a 20 minute talk, spending 10 minutes presenting an aspect of your current/recent research, and 10 minutes addressing the bigger picture of what you are trying to advance or achieve with the kind of research you do. For example, you might have particular theoretical ambitions, or political commitments. What is the broader intellectual movement to which your research aims to contribute? We will have 10 minutes for discussion after each presentation. "
   ]
  },
  {
   "cell_type": "code",
   "execution_count": 1,
   "metadata": {
    "hideCode": false,
    "hidePrompt": false
   },
   "outputs": [
    {
     "data": {
      "text/html": [
       "<style>.container { width:100% !important; }</style>"
      ],
      "text/plain": [
       "<IPython.core.display.HTML object>"
      ]
     },
     "metadata": {},
     "output_type": "display_data"
    },
    {
     "name": "stdout",
     "output_type": "stream",
     "text": [
      "Notebook loaded successfully\n"
     ]
    }
   ],
   "source": [
    "from IPython.core.display import display, HTML # for max width\n",
    "display(HTML(\"<style>.container { width:100% !important; }</style>\"))\n",
    "import pandas as pd\n",
    "from IPython.core.interactiveshell import InteractiveShell\n",
    "from spacy.tokens import Doc, Span, Token\n",
    "import scattertext as st\n",
    "from IPython.display import IFrame\n",
    "import matplotlib.pyplot as plt\n",
    "from sklearn.decomposition import PCA\n",
    "from scipy import spatial\n",
    "cosine_similarity = lambda x, y: 1 - spatial.distance.cosine(x, y)\n",
    "import spacy # software for analysing text\n",
    "from spacy import displacy\n",
    "nlp = spacy.load('en_core_web_md') # a medium english language model\n",
    "import warnings\n",
    "warnings.filterwarnings('ignore')\n",
    "print('Notebook loaded successfully')"
   ]
  },
  {
   "cell_type": "markdown",
   "metadata": {
    "hideCode": false,
    "hidePrompt": false,
    "toc": true
   },
   "source": [
    "<h1>Table of Contents<span class=\"tocSkip\"></span></h1>\n",
    "<div class=\"toc\"><ul class=\"toc-item\"><li><span><a href=\"#Guiding-Questions\" data-toc-modified-id=\"Guiding-Questions-1\"><span class=\"toc-item-num\">1&nbsp;&nbsp;</span>Guiding Questions</a></span><ul class=\"toc-item\"><li><span><a href=\"#Inspirations\" data-toc-modified-id=\"Inspirations-1.1\"><span class=\"toc-item-num\">1.1&nbsp;&nbsp;</span>Inspirations</a></span></li></ul></li><li><span><a href=\"#Why-should-Sociocultural-Psychology-Care-About-'Big-Data'-and-'AI'?\" data-toc-modified-id=\"Why-should-Sociocultural-Psychology-Care-About-'Big-Data'-and-'AI'?-2\"><span class=\"toc-item-num\">2&nbsp;&nbsp;</span>Why should Sociocultural Psychology Care About 'Big Data' and 'AI'?</a></span></li><li><span><a href=\"#Meaning-&amp;-Machine-Learning\" data-toc-modified-id=\"Meaning-&amp;-Machine-Learning-3\"><span class=\"toc-item-num\">3&nbsp;&nbsp;</span>Meaning &amp; Machine Learning</a></span><ul class=\"toc-item\"><li><span><a href=\"#How-Similar-are-Words?\" data-toc-modified-id=\"How-Similar-are-Words?-3.1\"><span class=\"toc-item-num\">3.1&nbsp;&nbsp;</span>How Similar are Words?</a></span></li><li><span><a href=\"#How-Similar-are-Sentences?\" data-toc-modified-id=\"How-Similar-are-Sentences?-3.2\"><span class=\"toc-item-num\">3.2&nbsp;&nbsp;</span>How Similar are Sentences?</a></span></li><li><span><a href=\"#Adding-and-Subtracting-Meanings?\" data-toc-modified-id=\"Adding-and-Subtracting-Meanings?-3.3\"><span class=\"toc-item-num\">3.3&nbsp;&nbsp;</span>Adding and Subtracting Meanings?</a></span></li><li><span><a href=\"#'Thought-Vectors'\" data-toc-modified-id=\"'Thought-Vectors'-3.4\"><span class=\"toc-item-num\">3.4&nbsp;&nbsp;</span>'Thought Vectors'</a></span></li></ul></li><li><span><a href=\"#Hospital-Staff-Responding-to-Criticism\" data-toc-modified-id=\"Hospital-Staff-Responding-to-Criticism-4\"><span class=\"toc-item-num\">4&nbsp;&nbsp;</span>Hospital Staff Responding to Criticism</a></span><ul class=\"toc-item\"><li><span><a href=\"#Past-Tense-Verbs\" data-toc-modified-id=\"Past-Tense-Verbs-4.1\"><span class=\"toc-item-num\">4.1&nbsp;&nbsp;</span>Past Tense Verbs</a></span></li></ul></li><li><span><a href=\"#Clinical-observations-or-patient-'experiences'?\" data-toc-modified-id=\"Clinical-observations-or-patient-'experiences'?-5\"><span class=\"toc-item-num\">5&nbsp;&nbsp;</span>Clinical observations or patient 'experiences'?</a></span></li><li><span><a href=\"#Which-responses-have-least-perspective-taking?\" data-toc-modified-id=\"Which-responses-have-least-perspective-taking?-6\"><span class=\"toc-item-num\">6&nbsp;&nbsp;</span>Which responses have least perspective taking?</a></span></li><li><span><a href=\"#Which-responses-have-most-psychological-distancing?\" data-toc-modified-id=\"Which-responses-have-most-psychological-distancing?-7\"><span class=\"toc-item-num\">7&nbsp;&nbsp;</span>Which responses have most psychological distancing?</a></span></li></ul></div>"
   ]
  },
  {
   "cell_type": "markdown",
   "metadata": {
    "hideCode": false,
    "hidePrompt": false
   },
   "source": [
    "# Guiding Questions\n",
    "\n",
    "- Like most sociocultural psychologists, I have been concered with the constitutive and creative potential of social interaction. But, dialogue, social interaction, and perspective-taking rarely lead to any transformation. \n",
    "- Thus my question has become: how is social interaction non-transformative? What blocks learning and creativity in social interaction? And how do people protect themselves from the perspective of the other?"
   ]
  },
  {
   "cell_type": "markdown",
   "metadata": {
    "hideCode": false,
    "hidePrompt": false
   },
   "source": [
    "\n",
    "I focus on the clash of perspectives at two levels:\n",
    "1. What are the differences between perspectives in the social world?\n",
    "2. What are the differences between perspectives within individuals?\n"
   ]
  },
  {
   "cell_type": "markdown",
   "metadata": {
    "hideCode": false,
    "hidePrompt": false
   },
   "source": [
    "##  Inspirations\n",
    "- Dewey, James, Mead, Bakhtin, Vygotksy, Wittgenstein, Markova, Linell\n",
    "- Recent developments in 'natural language processing' or 'machine learning'\n"
   ]
  },
  {
   "cell_type": "markdown",
   "metadata": {
    "hideCode": false,
    "hidePrompt": false
   },
   "source": [
    "# Why should Sociocultural Psychology Care About 'Big Data' and 'AI'?"
   ]
  },
  {
   "cell_type": "markdown",
   "metadata": {
    "hideCode": false,
    "hidePrompt": false
   },
   "source": [
    "A lot of big data is text and image - and this is the bread and butter of sociocultural psychology. Indeed, analysis of the big data from the Hadron Colider is actually relatively straightforward compared to analysing all the text and images on the internet. Google, Facebook, etc. are investing vast resources in making computers understand text, image and sound in a way that matters for humans. "
   ]
  },
  {
   "cell_type": "markdown",
   "metadata": {
    "hideCode": false,
    "hidePrompt": false
   },
   "source": [
    "Here are some example studies that are using basic text analysis approaches to understand sociocultural issues. "
   ]
  },
  {
   "cell_type": "markdown",
   "metadata": {
    "hideCode": false,
    "hidePrompt": false
   },
   "source": [
    "__Digital Humanities__\n",
    "\n",
    "Boyd, R. L., & Pennebaker, J. W. (2015). [Did Shakespeare write Double Falsehood? Identifying individuals by creating psychological signatures with text analysis.](http://elizabethan-theatre.org/wps/wp-content/uploads/2015/07/Double-Falsehood-by-Ryan-Boyd-Psychological-Science-2015.pdf) Psychological science, 26(5), 570-582.\n",
    "\n",
    "Jänicke, S., Franzini, G., Cheema, M. F., & Scheuermann, G. (2017, September). [Visual text analysis in digital humanities.](https://pdfs.semanticscholar.org/3b83/ce394c898b54c982c62f216e9d200c392e99.pdf) In Computer Graphics Forum (Vol. 36, No. 6, pp. 226-250)."
   ]
  },
  {
   "cell_type": "markdown",
   "metadata": {
    "hideCode": false,
    "hidePrompt": false
   },
   "source": [
    "__Personality__\n",
    "\n",
    "Pennebaker, J. W., & Lay, T. C. (2002). [Language use and personality during crises: Analyses of Mayor Rudolph Giuliani's press conferences.](https://www.sciencedirect.com/science/article/abs/pii/S0092656602923494) Journal of Research in Personality, 36(3), 271-282.\n",
    "\n",
    "Yarkoni, T. (2010). [Personality in 100,000 words: A large-scale analysis of personality and word use among bloggers.](https://www.ncbi.nlm.nih.gov/pmc/articles/PMC2885844/?_escaped_fragment_=po=2.77778) Journal of research in personality, 44(3), 363-373."
   ]
  },
  {
   "cell_type": "markdown",
   "metadata": {
    "hideCode": false,
    "hidePrompt": false
   },
   "source": [
    "__Collective Emotions__\n",
    "\n",
    "Tausczik, Y., Faasse, K., Pennebaker, J. W., & Petrie, K. J. (2012). [Public anxiety and information seeking following the H1N1 outbreak: blogs, newspaper articles, and Wikipedia visits.](https://www.tandfonline.com/doi/abs/10.1080/10410236.2011.571759) Health communication, 27(2), 179-185.\n",
    "\n",
    "Bollen, J., Mao, H., & Zeng, X. (2011). [Twitter mood predicts the stock market.](https://arxiv.org/pdf/1010.3003&) Journal of computational science, 2(1), 1-8."
   ]
  },
  {
   "cell_type": "markdown",
   "metadata": {
    "hideCode": false,
    "hidePrompt": false
   },
   "source": [
    "But, all these studies are mainly using fairly basic word count techniques, or, slightly more advanced sentiment analysis."
   ]
  },
  {
   "cell_type": "markdown",
   "metadata": {
    "hideCode": false,
    "hidePrompt": false
   },
   "source": [
    "# Meaning & Machine Learning"
   ]
  },
  {
   "cell_type": "markdown",
   "metadata": {
    "hideCode": false,
    "hidePrompt": false
   },
   "source": [
    "Word vectors, or 'word embeddings', have become super popular (Yoshua Bengio, Geoffrey Hinton), due to some almost magical properties. Before about 2013, most computational analysis of words focused on the textual appearance of a word; for example, 'dog' was close to 'god' (same letters) and 'hog' (2 letters in the same order), but far from 'cat' (no similar letters). There seemed to be no way to make computers understand that 'dog' and 'cat' are actually quite close semantically.\n",
    "\n",
    "The breakthrough came from a Wittgenstein (1953) insight: the meaning of words comes from the context in which they are used. Consider the sentence 'the X sat on the mat' - most people would agree that 'dog' and 'cat' are both plausible candidates for X. That is to say, 'dog' and 'cat' occupy similar roles within similar sentences. Word embeddings encode the meaning of words not in terms of the words themselves, but, in terms of the context in which the words appear. \n",
    "\n",
    "By analyzing billions of webpages and books, statistical models are built based on which words occur in the same context. These models _seem_ to encode meaning."
   ]
  },
  {
   "cell_type": "markdown",
   "metadata": {
    "hideCode": false,
    "hidePrompt": false
   },
   "source": [
    "## How Similar are Words?\n",
    "Most people would agree that 'dog' is more similar to 'cat' than 'road' - and the models agree:"
   ]
  },
  {
   "cell_type": "code",
   "execution_count": 2,
   "metadata": {
    "hideCode": false,
    "hidePrompt": false
   },
   "outputs": [
    {
     "data": {
      "image/png": "[encoded data removed]",
      "text/plain": [
       "<Figure size 720x360 with 1 Axes>"
      ]
     },
     "metadata": {
      "needs_background": "light"
     },
     "output_type": "display_data"
    }
   ],
   "source": [
    "words = ['dog', 'cat', 'car', 'road', 'traffic', 'ideas']\n",
    "\n",
    "# calculate similarities\n",
    "pca = PCA(n_components=2)\n",
    "pca.fit([nlp(word).vector for word in words])\n",
    "word_vecs_2d = pca.transform([nlp(word).vector for word in words])\n",
    "\n",
    "# create plot \n",
    "plt.figure(figsize=(10,5))\n",
    "plt.scatter(word_vecs_2d[:,0], word_vecs_2d[:,1])\n",
    "# for each word and coordinate pair: draw the text on the plot\n",
    "for word, coord in zip(words, word_vecs_2d):\n",
    "    x, y = coord\n",
    "    plt.text(x, y, word, size= 15)\n",
    "# show the plot\n",
    "plt.show()"
   ]
  },
  {
   "cell_type": "markdown",
   "metadata": {
    "hideCode": false,
    "hidePrompt": false
   },
   "source": [
    "## How Similar are Sentences?"
   ]
  },
  {
   "cell_type": "markdown",
   "metadata": {
    "hideCode": false,
    "hidePrompt": false
   },
   "source": [
    "We can also use these models to compare sentences. Consider the following (all using unique words). Just by averaging the word embeddings for each sentence, we can see, that the model corresponds broadly to our human judgement. <br>\n",
    "<br>\n",
    "Change the sentences and re-run the cell to see the result."
   ]
  },
  {
   "cell_type": "code",
   "execution_count": 3,
   "metadata": {
    "hideCode": false,
    "hidePrompt": false
   },
   "outputs": [
    {
     "data": {
      "image/png": "[encoded data removed]",
      "text/plain": [
       "<Figure size 720x360 with 1 Axes>"
      ]
     },
     "metadata": {
      "needs_background": "light"
     },
     "output_type": "display_data"
    }
   ],
   "source": [
    "words = ['the pilot flew the plane', \n",
    "         'trees do not grow on rocks',\n",
    "         'i broke my arm', \n",
    "         'he snapped his leg',\n",
    "         'a helicopter soared up',\n",
    "         'plants need lots of water']\n",
    "\n",
    "# calculate similarities\n",
    "pca = PCA(n_components=2)\n",
    "pca.fit([nlp(word).vector for word in words])\n",
    "word_vecs_2d = pca.transform([nlp(word).vector for word in words])\n",
    "\n",
    "# create plot \n",
    "plt.figure(figsize=(10,5))\n",
    "plt.scatter(word_vecs_2d[:,0], word_vecs_2d[:,1])\n",
    "# for each word and coordinate pair: draw the text on the plot\n",
    "for word, coord in zip(words, word_vecs_2d):\n",
    "    x, y = coord\n",
    "    plt.text(x, y, word, size= 15)\n",
    "# show the plot\n",
    "plt.show()"
   ]
  },
  {
   "cell_type": "markdown",
   "metadata": {
    "hideCode": false,
    "hidePrompt": false
   },
   "source": [
    "The above is a tiny visualisation. Google and other companies are applying similar methods to [map the meaning of all words](https://projector.tensorflow.org/) - created by analysing the sentence context in which words are used accross all books, webpages, news sources and other archives. Most of the mapping done so far is based on individual words and phrases, but, current research is focusing on sentences, paragraphs, and larger units. This will enable people to compare the similarity of large bodies of text."
   ]
  },
  {
   "cell_type": "markdown",
   "metadata": {
    "hideCode": false,
    "hidePrompt": false
   },
   "source": [
    "## Adding and Subtracting Meanings?\n",
    "If words are represented as numbers, then, can we do mathematics with the meanings?"
   ]
  },
  {
   "cell_type": "markdown",
   "metadata": {
    "hideCode": false,
    "hidePrompt": false
   },
   "source": [
    "What if we start with the meaning of 'king' subtract 'man' and add 'woman' - what would the outcome be?\n",
    "- Try: 'uk' minus 'london' add 'geneva'\n",
    "- Try: 'berlin' minus 'germany' add 'france'\n",
    "- Try: 'india' minus 'curry' add 'pizza'\n",
    "- Try: 'man' minus 'boy' add 'girl'\n"
   ]
  },
  {
   "cell_type": "code",
   "execution_count": 4,
   "metadata": {
    "hideCode": false,
    "hidePrompt": false
   },
   "outputs": [
    {
     "name": "stdout",
     "output_type": "stream",
     "text": [
      "'king' minus 'man' add 'woman' = queen\n"
     ]
    }
   ],
   "source": [
    "start = 'king'\n",
    "subtract = 'man'\n",
    "add = 'woman'\n",
    "\n",
    "x = nlp.vocab[start].vector - nlp.vocab[subtract].vector + nlp.vocab[add].vector\n",
    "\n",
    "similar_words = []\n",
    "for word in nlp.vocab:\n",
    "    if not (word.has_vector & word.is_lower):\n",
    "        continue\n",
    "    if not ((word.text!=start)&(word.text!=add)&(word.text!=subtract)):\n",
    "        continue\n",
    " \n",
    "    similarity = cosine_similarity(x, word.vector)\n",
    "    similar_words.append((word, similarity))\n",
    "    \n",
    "similar_words = sorted(similar_words, key=lambda item: -item[1])\n",
    "result = [w[0].text for w in similar_words[:1]][0]\n",
    "print(f\"'{start}' minus '{subtract}' add '{add}' = {result}\")"
   ]
  },
  {
   "cell_type": "markdown",
   "metadata": {},
   "source": [
    "## 'Thought Vectors'"
   ]
  },
  {
   "cell_type": "markdown",
   "metadata": {
    "hideCode": false,
    "hidePrompt": false
   },
   "source": [
    "Geoffrey Hinton, one of the developers of 'deep learning' techniques, talks about the above examples that focus on single words as only the first step: he (and Google) are working towards 'thought vectors'. While the above examples represent the meanings of words in a 300 dimensional mathematical space, they aim to map thoughts, ideas, sentences, and even whole articles and books into a multi-million dimensional space."
   ]
  },
  {
   "cell_type": "markdown",
   "metadata": {
    "hideCode": false,
    "hidePrompt": false
   },
   "source": [
    "If this works, it will not only make Google a lot of money, but, it will have a huge impact on research, including sociocultural research.\n",
    "- Transcripts, textual data, and even visual or auditory data can be searched for high level meanings, including emotion, abstraction, contradictions, and dialogical tensions\n",
    "- Longitudinal analyses of large datasets become possible\n",
    "- We can compare ideas between individuals and groups\n",
    "- Novelty emerging out of an interaction can be specified and searched\n",
    "- Emerging conflicts of perspective can be monitored in real-time\n",
    "- Trajectories of meaning, within individuals, or accross individuals, can be mapped out\n",
    "- Enables sociocultural psychology to evidence core ideas at a much bigger scale\n"
   ]
  },
  {
   "cell_type": "markdown",
   "metadata": {
    "hideCode": false,
    "hidePrompt": false
   },
   "source": [
    "# Hospital Staff Responding to Criticism \n",
    "Accidents in hospitals has become a leading cause of death. At a minimum, 10% of people going into hospital come out with a negative health impact that they did not have initially, due to delays, hospital infections, errors, wrong-site surgery, misdiagnosis, medication errors, not reading patient notes etc. While aviation, construction, and heavy industry have all become much safer over the last 50 years, healthcare has remained dangerous, and seems resistant to improvement.<br>\n",
    "<br>\n",
    " One idea is that medical staff could learn from patients: patients know their own bodies, are usually the only person who has been at all the meetings, and have increasing access to medical knowledge. <br>\n",
    " <br>\n",
    " Research: Online discussion between patients and staff in the UK (about 250k paired dialogs). Are patients reporting important issues? Are staff listening?"
   ]
  },
  {
   "cell_type": "code",
   "execution_count": 5,
   "metadata": {
    "hideCode": false,
    "hidePrompt": false
   },
   "outputs": [
    {
     "data": {
      "text/plain": [
       "story       610\n",
       "response    508\n",
       "Name: post_type, dtype: int64"
      ]
     },
     "execution_count": 5,
     "metadata": {},
     "output_type": "execute_result"
    }
   ],
   "source": [
    "df = pd.read_csv('co_crit3.csv')\n",
    "df['text_doc'] = df['post_body'].apply(nlp)\n",
    "df['id'] = df['id'].astype(str)\n",
    "df['post_type'].value_counts()"
   ]
  },
  {
   "cell_type": "markdown",
   "metadata": {
    "hideCode": false,
    "hidePrompt": false
   },
   "source": [
    "## Past Tense Verbs\n",
    "Looking at just the past tense verbs reveals a discrepancy:\n",
    "- Patients are writing about what they 'saw' what they were 'told' and how they 'suffered'\n",
    "- Staff are responding about vague issues being 'raised', 'posted', 'shared', 'highlighted', and 'experienced'\n",
    "<br>\n",
    "- 'died' is mentioned 281 times by patiens but only 4 times by staff\n",
    "<br>\n",
    "<br>\n",
    "<br>\n"
   ]
  },
  {
   "cell_type": "markdown",
   "metadata": {},
   "source": [
    "Two findings:\n",
    "1. psychologisation\n",
    "2. generic"
   ]
  },
  {
   "cell_type": "code",
   "execution_count": 6,
   "metadata": {
    "hideCode": false,
    "hidePrompt": false,
    "scrolled": false
   },
   "outputs": [
    {
     "data": {
      "text/html": [
       "\n",
       "        <iframe\n",
       "            width=\"1300\"\n",
       "            height=\"1000\"\n",
       "            src=\"co_critical_past.html\"\n",
       "            frameborder=\"0\"\n",
       "            allowfullscreen\n",
       "        ></iframe>\n",
       "        "
      ],
      "text/plain": [
       "<IPython.lib.display.IFrame at 0x165fcf09b38>"
      ]
     },
     "execution_count": 6,
     "metadata": {},
     "output_type": "execute_result"
    }
   ],
   "source": [
    "def getX(doc):\n",
    "    out = [x.text for x in doc if (x.tag_ in ['VBD'])]\n",
    "    return nlp(' '.join(out))\n",
    "df['text_x'] = df['text_doc'].apply(getX)\n",
    "\n",
    "corpus = st.CorpusFromParsedDocuments(df, \n",
    "                                      parsed_col='text_x',\n",
    "                            category_col='post_type'\n",
    "                                     ).build()\n",
    "html = st.produce_scattertext_explorer(corpus,\n",
    "         category='story',\n",
    "         category_name='Patient Stories',\n",
    "         not_category_name='Staff Responses',\n",
    "         #characteristic_scorer=None,\n",
    "         alternative_text_field='post_body',\n",
    "         show_characteristic=False,                              \n",
    "         width_in_pixels=800)\n",
    "file_name = 'co_critical_past.html'\n",
    "open(file_name, 'wb').write(html.encode('utf-8'))\n",
    "IFrame(src=file_name, width=1300, height=1000)"
   ]
  },
  {
   "cell_type": "markdown",
   "metadata": {
    "hideCode": false,
    "hidePrompt": false
   },
   "source": [
    "# Clinical observations or patient 'experiences'?"
   ]
  },
  {
   "cell_type": "markdown",
   "metadata": {
    "hideCode": false,
    "hidePrompt": false
   },
   "source": [
    "Although patient's report serious clinical issues (such as misdiagonises and other errors) and pain; these are rarely acknowledged by hospital staff. Instead, hospital staff prefer to talk about patient 'experiences' whilst also lauding the value of feedback."
   ]
  },
  {
   "cell_type": "code",
   "execution_count": 7,
   "metadata": {
    "hideCode": false,
    "hidePrompt": false
   },
   "outputs": [
    {
     "data": {
      "text/html": [
       "\n",
       "        <iframe\n",
       "            width=\"1000\"\n",
       "            height=\"700\"\n",
       "            src=\"co_critical_topics.html\"\n",
       "            frameborder=\"0\"\n",
       "            allowfullscreen\n",
       "        ></iframe>\n",
       "        "
      ],
      "text/plain": [
       "<IPython.lib.display.IFrame at 0x165d1786da0>"
      ]
     },
     "execution_count": 7,
     "metadata": {},
     "output_type": "execute_result"
    }
   ],
   "source": [
    "topics = {\n",
    "    'clinical': ['clinical', 'unsafe', 'doctor', 'nurse', 'operation', 'procedure', 'diagnosis', 'misdiagnosis'],\n",
    "    'pain': ['agony', 'suffering', 'pains', 'suffer', 'screaming'],\n",
    "    'feedback': ['value', 'feedback', 'learning', 'listen', 'listening'],\n",
    "    'experience': ['experience', 'concern', 'concerns', 'feelings']\n",
    "}\n",
    "\n",
    "topic_feature_builder = st.FeatsFromTopicModel(topics)\n",
    "\n",
    "#CREATE CORPUS\n",
    "corpus = st.CorpusFromParsedDocuments(df, \n",
    "                                      parsed_col='text_doc',\n",
    "                                      category_col='post_type',\n",
    "                                      feats_from_spacy_doc=topic_feature_builder\n",
    "                                      ).build()\n",
    "\n",
    "# CREATE PLOT\n",
    "html = st.produce_scattertext_explorer(corpus,\n",
    "                                      category='story',\n",
    "                                      category_name='Patient Criticism',\n",
    "                                      not_category_name = 'Hospital Response',\n",
    "                                      width_in_pixels=600,\n",
    "                                       height_in_pixels=400,\n",
    "                                      show_characteristic=False,\n",
    "                                       use_non_text_features=True,\n",
    "                                       show_top_terms=True,\n",
    "                                      minimum_term_frequency=5,\n",
    "                                      use_full_doc=True,\n",
    "                                      p_value_colors=True,\n",
    "                                      max_snippets = 11,\n",
    "                                       pmi_threshold_coefficient=0,\n",
    "                                    topic_model_term_lists=topic_feature_builder.get_top_model_term_lists()\n",
    "                                      )\n",
    "file_name = 'co_critical_topics.html'\n",
    "open(file_name, 'wb').write(html.encode('utf-8'))\n",
    "IFrame(src=file_name, width=1000, height=700)"
   ]
  },
  {
   "cell_type": "markdown",
   "metadata": {},
   "source": [
    "# Which responses have least perspective taking?"
   ]
  },
  {
   "cell_type": "markdown",
   "metadata": {},
   "source": [
    "Using the 'word embeddings' method the staff responses can be compared to the original patient stories. This can help identify staff responses that engage with the patient content (i.e., perspective take) and those which are generic, and ignore the content of the feedback."
   ]
  },
  {
   "cell_type": "code",
   "execution_count": 8,
   "metadata": {},
   "outputs": [
    {
     "name": "stdout",
     "output_type": "stream",
     "text": [
      "ORIGINAL POST\n",
      "I was admitted in November 09 for a total thyroidectomy after being diagnosed with cancer in October (had a hemithyroidectomy in September). The surgery went well, my consultant is a great guy. Ward 21: very busy. However, I hardly dared ask anything when after requesting some pain killers, I was told rather nastily: you're not the only one 'love'; you'll have to wait! And wait I did. For an hour! \n",
      "Discharged in the middle of November, whilst complaining of feeling nauseous and tingly but 'you'll be fine' I was told. Got home feeling worse; didn't sleep as I was tingling all over and rang the ward on the next day  at 7 am to ask for advice; I was told to come back straight away before I started 'cramping' and to bring my suitcase with me. My partner drove me back but I got into such a state - fingers paralysed, unable to talk that an ambulance picked me up and rushed me in. \n",
      "Hypocalcemia: no calcium left in my body. I was re-admitted for a couple of days and given loads of calcium. My consultant came to explain that the glands that produce the calcium were damaged during surgery and only one was left which was re attached to the muscle. I should have had a blood test before I was discharged, especially when I was complaining of tingling but I didn't have on. I believe this was because they needed the bed. This was a very scary experience. Following my second discharge, I got terrible headaches: I kept losing my balance, hitting furniture, tripping until I became totally confused: couldn't figure out how to get dressed, use the toilets, write etc. \n",
      "I went to the A & E at 1 pm at the beginning of December; my partner explained how confused I was and getting slowly worse; I was seen by a triage nurse at 16.30! Then a doctor said I needed a CT scan but needed to be admitted. Got a bed at 18.30 in the assessment ward and just waited there with this excruciating headache. Saw another doctor at 23.30 who again said I needed to have a CT scan but it was by then too late. He thought I might have had a slight stroke. I asked for something for the pain. Come the next morning I was still waiting for pain relief, saw another doctor who said yet again that I needed to have a CT scan! But I'd have to wait as they were very busy; still waiting for pain relief; then got told that I'd have to wait until Tuesday as they had emergencies to deal with first and I was not one of them. Then, I was told I'd have to wait until Wednesday.\n",
      "Anyway, another junior doctor got involved and managed to book me an MRI for the Tuesday. This took place and the doctor told me that I'd had a bleed in the brain but they were sending the scan to Royal Hallamshire for advice. I was still in the assessment unit by then and finally heard from Hallamshire two days later.\n",
      " Was then told by another doctor that it was not a bleed but a blot clot and I could go home; just like that? yes, it'll get better by itself. Can it happen again? oh yes, as it's happened once already! And it's safe for me to go home even with this terrible headache? Yes. This was 10 in the morning: I left at 4 pm as it took 6 hours of waiting to get the medicine from the pharmacist. By then, I was not 'confused' anymore but very unhappy as I was scared. \n",
      "I went to see my GP and they made enquiries which led to the following: none of the neurosurgeons and radiographers could agree on a diagnosis. So, nearly a month later, the headaches have more or less gone but my head feels 'tight' and 'fuzzy' at times, not to mention slight episodes of confusion and I am having another MRI in Sheffield this week. Well before starting my radioactive treatment.\n",
      "I know how busy nurses and doctors are but being courteous and showing a bit of understanding doesn't take any longer than being uncaring or rude. Don't these doctors and nurses realise how this series of events could be distressing to me, especially in my vulnerable position? I am angry that I have been treated like this, with no regards whatsoever for my feelings and after my experiences I do not want to be treated at Doncaster Royal Infirmary again.\n",
      "\n",
      "STAFF RESPONSE\n",
      "Thank you for your feedback.\n"
     ]
    }
   ],
   "source": [
    "df_index = 1\n",
    "df = df.sort_values(by='similarityToOrigin', ascending=True, axis='index').reset_index(drop=True)\n",
    "selected_row = df.iloc[df_index, :,]\n",
    "print(f\"ORIGINAL POST\\n{selected_row[['thread_originText']][0]}\")\n",
    "print(f\"STAFF RESPONSE\\n{selected_row[['post_body']][0]}\")"
   ]
  },
  {
   "cell_type": "markdown",
   "metadata": {},
   "source": [
    "# Which responses have most psychological distancing?"
   ]
  },
  {
   "cell_type": "code",
   "execution_count": 9,
   "metadata": {},
   "outputs": [],
   "source": [
    "#all_sentences = '. '.join(df.loc[df['post_type']=='response', 'post_body'])\n",
    "#doc = nlp(all_sentences)"
   ]
  },
  {
   "cell_type": "code",
   "execution_count": null,
   "metadata": {},
   "outputs": [],
   "source": []
  },
  {
   "cell_type": "code",
   "execution_count": 11,
   "metadata": {},
   "outputs": [
    {
     "name": "stdout",
     "output_type": "stream",
     "text": [
      "We understand that following the experience you have had you would feel that we have been uncaring and unresponsive to your concerns and we are sorry for giving you this impression.\n"
     ]
    }
   ],
   "source": [
    "sentence_contains = ['impression', 'subjective']\n",
    "sentence_subject = ['you']\n",
    "sentence_object = ['experience']\n",
    "\n",
    "for doc in df.loc[df['post_type']=='response', 'text_doc']:\n",
    "    for sent in doc.sents:\n",
    "        for tok in sent:\n",
    "            if tok.text.lower() in sentence_contains:\n",
    "                for tok in sent:\n",
    "                    if 'obj' in tok.dep_:\n",
    "                        if tok.text.lower() in sentence_object:\n",
    "                            for tok in sent:\n",
    "                                if 'subj' in tok.dep_:\n",
    "                                    if tok.text.lower() in sentence_subject:\n",
    "                                        print(tok.sent)\n",
    "                                        break"
   ]
  },
  {
   "cell_type": "markdown",
   "metadata": {},
   "source": [
    "In the above excerpt there are several layers of psychologising:\n",
    "- 'we understand' and 'we are sorry'\n",
    "- 'the experience'\n",
    "- 'you would feel'\n",
    "- 'your concerns'\n",
    "- 'this impression'"
   ]
  },
  {
   "cell_type": "code",
   "execution_count": null,
   "metadata": {},
   "outputs": [],
   "source": []
  },
  {
   "cell_type": "code",
   "execution_count": null,
   "metadata": {
    "hideCode": false,
    "hidePrompt": false
   },
   "outputs": [],
   "source": []
  }
 ],
 "metadata": {
  "hide_code_all_hidden": false,
  "kernelspec": {
   "display_name": "socioculturalpsych_101",
   "language": "python",
   "name": "socioculturalpsych_101"
  },
  "language_info": {
   "codemirror_mode": {
    "name": "ipython",
    "version": 3
   },
   "file_extension": ".py",
   "mimetype": "text/x-python",
   "name": "python",
   "nbconvert_exporter": "python",
   "pygments_lexer": "ipython3",
   "version": "3.7.0"
  },
  "toc": {
   "base_numbering": 1,
   "nav_menu": {
    "height": "345px",
    "width": "256px"
   },
   "number_sections": true,
   "sideBar": true,
   "skip_h1_title": false,
   "title_cell": "Table of Contents",
   "title_sidebar": "Contents",
   "toc_cell": true,
   "toc_position": {
    "height": "calc(100% - 180px)",
    "left": "10px",
    "top": "150px",
    "width": "165px"
   },
   "toc_section_display": true,
   "toc_window_display": false
  },
  "varInspector": {
   "cols": {
    "lenName": 16,
    "lenType": 16,
    "lenVar": 40
   },
   "kernels_config": {
    "python": {
     "delete_cmd_postfix": "",
     "delete_cmd_prefix": "del ",
     "library": "var_list.py",
     "varRefreshCmd": "print(var_dic_list())"
    },
    "r": {
     "delete_cmd_postfix": ") ",
     "delete_cmd_prefix": "rm(",
     "library": "var_list.r",
     "varRefreshCmd": "cat(var_dic_list()) "
    }
   },
   "types_to_exclude": [
    "module",
    "function",
    "builtin_function_or_method",
    "instance",
    "_Feature"
   ],
   "window_display": false
  }
 },
 "nbformat": 4,
 "nbformat_minor": 2
}
