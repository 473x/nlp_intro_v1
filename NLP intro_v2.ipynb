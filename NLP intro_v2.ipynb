{
 "cells": [
  {
   "cell_type": "code",
   "execution_count": 69,
   "metadata": {
    "ExecuteTime": {
     "end_time": "2020-04-18T16:11:02.798939Z",
     "start_time": "2020-04-18T16:11:02.026939Z"
    },
    "code_folding": [],
    "hideCode": false,
    "hidePrompt": false
   },
   "outputs": [
    {
     "data": {
      "text/html": [
       "<style>.container { width:80% !important; }</style>"
      ],
      "text/plain": [
       "<IPython.core.display.HTML object>"
      ]
     },
     "metadata": {},
     "output_type": "display_data"
    },
    {
     "ename": "OSError",
     "evalue": "[E050] Can't find model 'en_core_web_md'. It doesn't seem to be a shortcut link, a Python package or a valid path to a data directory.",
     "output_type": "error",
     "traceback": [
      "\u001b[1;31m---------------------------------------------------------------------------\u001b[0m",
      "\u001b[1;31mOSError\u001b[0m                                   Traceback (most recent call last)",
      "\u001b[1;32m<ipython-input-69-4d714cb152ee>\u001b[0m in \u001b[0;36m<module>\u001b[1;34m\u001b[0m\n\u001b[0;32m     14\u001b[0m \u001b[1;32mimport\u001b[0m \u001b[0mspacy\u001b[0m \u001b[1;31m# software for analysing text\u001b[0m\u001b[1;33m\u001b[0m\u001b[1;33m\u001b[0m\u001b[0m\n\u001b[0;32m     15\u001b[0m \u001b[1;32mfrom\u001b[0m \u001b[0mspacy\u001b[0m \u001b[1;32mimport\u001b[0m \u001b[0mdisplacy\u001b[0m\u001b[1;33m\u001b[0m\u001b[1;33m\u001b[0m\u001b[0m\n\u001b[1;32m---> 16\u001b[1;33m \u001b[0mnlp\u001b[0m \u001b[1;33m=\u001b[0m \u001b[0mspacy\u001b[0m\u001b[1;33m.\u001b[0m\u001b[0mload\u001b[0m\u001b[1;33m(\u001b[0m\u001b[1;34m'en_core_web_md'\u001b[0m\u001b[1;33m)\u001b[0m \u001b[1;31m# a medium english language model\u001b[0m\u001b[1;33m\u001b[0m\u001b[1;33m\u001b[0m\u001b[0m\n\u001b[0m\u001b[0;32m     17\u001b[0m \u001b[1;32mimport\u001b[0m \u001b[0mwarnings\u001b[0m\u001b[1;33m\u001b[0m\u001b[1;33m\u001b[0m\u001b[0m\n\u001b[0;32m     18\u001b[0m \u001b[0mwarnings\u001b[0m\u001b[1;33m.\u001b[0m\u001b[0mfilterwarnings\u001b[0m\u001b[1;33m(\u001b[0m\u001b[1;34m'ignore'\u001b[0m\u001b[1;33m)\u001b[0m\u001b[1;33m\u001b[0m\u001b[1;33m\u001b[0m\u001b[0m\n",
      "\u001b[1;32m~\\Anaconda3\\envs\\PyR_202003_pandas_0_25_3\\lib\\site-packages\\spacy\\__init__.py\u001b[0m in \u001b[0;36mload\u001b[1;34m(name, **overrides)\u001b[0m\n\u001b[0;32m     28\u001b[0m     \u001b[1;32mif\u001b[0m \u001b[0mdepr_path\u001b[0m \u001b[1;32mnot\u001b[0m \u001b[1;32min\u001b[0m \u001b[1;33m(\u001b[0m\u001b[1;32mTrue\u001b[0m\u001b[1;33m,\u001b[0m \u001b[1;32mFalse\u001b[0m\u001b[1;33m,\u001b[0m \u001b[1;32mNone\u001b[0m\u001b[1;33m)\u001b[0m\u001b[1;33m:\u001b[0m\u001b[1;33m\u001b[0m\u001b[1;33m\u001b[0m\u001b[0m\n\u001b[0;32m     29\u001b[0m         \u001b[0mdeprecation_warning\u001b[0m\u001b[1;33m(\u001b[0m\u001b[0mWarnings\u001b[0m\u001b[1;33m.\u001b[0m\u001b[0mW001\u001b[0m\u001b[1;33m.\u001b[0m\u001b[0mformat\u001b[0m\u001b[1;33m(\u001b[0m\u001b[0mpath\u001b[0m\u001b[1;33m=\u001b[0m\u001b[0mdepr_path\u001b[0m\u001b[1;33m)\u001b[0m\u001b[1;33m)\u001b[0m\u001b[1;33m\u001b[0m\u001b[1;33m\u001b[0m\u001b[0m\n\u001b[1;32m---> 30\u001b[1;33m     \u001b[1;32mreturn\u001b[0m \u001b[0mutil\u001b[0m\u001b[1;33m.\u001b[0m\u001b[0mload_model\u001b[0m\u001b[1;33m(\u001b[0m\u001b[0mname\u001b[0m\u001b[1;33m,\u001b[0m \u001b[1;33m**\u001b[0m\u001b[0moverrides\u001b[0m\u001b[1;33m)\u001b[0m\u001b[1;33m\u001b[0m\u001b[1;33m\u001b[0m\u001b[0m\n\u001b[0m\u001b[0;32m     31\u001b[0m \u001b[1;33m\u001b[0m\u001b[0m\n\u001b[0;32m     32\u001b[0m \u001b[1;33m\u001b[0m\u001b[0m\n",
      "\u001b[1;32m~\\Anaconda3\\envs\\PyR_202003_pandas_0_25_3\\lib\\site-packages\\spacy\\util.py\u001b[0m in \u001b[0;36mload_model\u001b[1;34m(name, **overrides)\u001b[0m\n\u001b[0;32m    167\u001b[0m     \u001b[1;32melif\u001b[0m \u001b[0mhasattr\u001b[0m\u001b[1;33m(\u001b[0m\u001b[0mname\u001b[0m\u001b[1;33m,\u001b[0m \u001b[1;34m\"exists\"\u001b[0m\u001b[1;33m)\u001b[0m\u001b[1;33m:\u001b[0m  \u001b[1;31m# Path or Path-like to model data\u001b[0m\u001b[1;33m\u001b[0m\u001b[1;33m\u001b[0m\u001b[0m\n\u001b[0;32m    168\u001b[0m         \u001b[1;32mreturn\u001b[0m \u001b[0mload_model_from_path\u001b[0m\u001b[1;33m(\u001b[0m\u001b[0mname\u001b[0m\u001b[1;33m,\u001b[0m \u001b[1;33m**\u001b[0m\u001b[0moverrides\u001b[0m\u001b[1;33m)\u001b[0m\u001b[1;33m\u001b[0m\u001b[1;33m\u001b[0m\u001b[0m\n\u001b[1;32m--> 169\u001b[1;33m     \u001b[1;32mraise\u001b[0m \u001b[0mIOError\u001b[0m\u001b[1;33m(\u001b[0m\u001b[0mErrors\u001b[0m\u001b[1;33m.\u001b[0m\u001b[0mE050\u001b[0m\u001b[1;33m.\u001b[0m\u001b[0mformat\u001b[0m\u001b[1;33m(\u001b[0m\u001b[0mname\u001b[0m\u001b[1;33m=\u001b[0m\u001b[0mname\u001b[0m\u001b[1;33m)\u001b[0m\u001b[1;33m)\u001b[0m\u001b[1;33m\u001b[0m\u001b[1;33m\u001b[0m\u001b[0m\n\u001b[0m\u001b[0;32m    170\u001b[0m \u001b[1;33m\u001b[0m\u001b[0m\n\u001b[0;32m    171\u001b[0m \u001b[1;33m\u001b[0m\u001b[0m\n",
      "\u001b[1;31mOSError\u001b[0m: [E050] Can't find model 'en_core_web_md'. It doesn't seem to be a shortcut link, a Python package or a valid path to a data directory."
     ]
    }
   ],
   "source": [
    "# LOAD MODULES\n",
    "from IPython.core.display import display, HTML # for max width\n",
    "display(HTML(\"<style>.container { width:80% !important; }</style>\"))\n",
    "import pandas as pd\n",
    "import numpy as np\n",
    "from IPython.core.interactiveshell import InteractiveShell\n",
    "from spacy.tokens import Doc, Span, Token\n",
    "import scattertext as st\n",
    "from IPython.display import IFrame\n",
    "import matplotlib.pyplot as plt\n",
    "from sklearn.decomposition import PCA\n",
    "from scipy import spatial\n",
    "cosine_similarity = lambda x, y: 1 - spatial.distance.cosine(x, y)\n",
    "import spacy # software for analysing text\n",
    "from spacy import displacy\n",
    "nlp = spacy.load('en_core_web_md') # a medium english language model\n",
    "import warnings\n",
    "warnings.filterwarnings('ignore')\n",
    "\n",
    "# LOAD FUNCTIONS\n",
    "def compareMeanings(words):\n",
    "    # calculate similarities\n",
    "    pca = PCA(n_components=2)\n",
    "    pca.fit([nlp(word).vector for word in words])\n",
    "    word_vecs_2d = pca.transform([nlp(word).vector for word in words])\n",
    "    \n",
    "    # create plot \n",
    "    plt.figure(figsize=(5,5))\n",
    "    plt.scatter(word_vecs_2d[:,0], word_vecs_2d[:,1])\n",
    "    # for each word and coordinate pair: draw the text on the plot\n",
    "    for word, coord in zip(words, word_vecs_2d):\n",
    "        x, y = coord\n",
    "        plt.text(x, y, word, size= 15)\n",
    "    plt.savefig('fig.jpg', dpi=1000)\n",
    "    # show the plot\n",
    "    plt.show()\n",
    "    \n",
    "    \n",
    "def mathsOnMeaning(start, subtract, add):\n",
    "    x = nlp.vocab[start].vector - nlp.vocab[subtract].vector + nlp.vocab[add].vector\n",
    "    \n",
    "    similar_words = []\n",
    "    for word in nlp.vocab:\n",
    "        if not (word.has_vector & word.is_lower):\n",
    "            continue\n",
    "        if not ((word.text!=start)&(word.text!=add)&(word.text!=subtract)):\n",
    "            continue\n",
    "     \n",
    "        similarity = cosine_similarity(x, word.vector)\n",
    "        similar_words.append((word, similarity))\n",
    "        \n",
    "    similar_words = sorted(similar_words, key=lambda item: -item[1])\n",
    "    result = [w[0].text for w in similar_words[:5]][0]\n",
    "    print(f\"'{start}' minus '{subtract}' add '{add}' = {result}\")\n",
    "    \n",
    "def scattertextTag(tag):\n",
    "    def getX(doc):\n",
    "        out = [x.text for x in doc if (x.tag_ in [tag])]\n",
    "        return nlp(' '.join(out))\n",
    "    df['text_x'] = df['text_doc'].apply(getX)\n",
    "    \n",
    "    corpus = st.CorpusFromParsedDocuments(df, \n",
    "                                          parsed_col='text_x',\n",
    "                                category_col='post_type'\n",
    "                                         ).build()\n",
    "    html = st.produce_scattertext_explorer(corpus,\n",
    "             category='story',\n",
    "             category_name='Patient Criticism',\n",
    "             not_category_name='Staff Responses',\n",
    "             #characteristic_scorer=None,\n",
    "             alternative_text_field='post_body',\n",
    "             show_characteristic=False,                              \n",
    "             width_in_pixels=800)\n",
    "    return html\n",
    "\n",
    "def scattertextThemes(topics):\n",
    "    topic_feature_builder = st.FeatsFromTopicModel(topics)\n",
    "    \n",
    "    #CREATE CORPUS\n",
    "    corpus = st.CorpusFromParsedDocuments(df, \n",
    "                                          parsed_col='text_doc',\n",
    "                                          category_col='post_type',\n",
    "                                          feats_from_spacy_doc=topic_feature_builder\n",
    "                                          ).build()\n",
    "    \n",
    "    # CREATE PLOT\n",
    "    html = st.produce_scattertext_explorer(corpus,\n",
    "                                          category='story',\n",
    "                                          category_name='Patient Criticism',\n",
    "                                          not_category_name = 'Hospital Response',\n",
    "                                          width_in_pixels=600,\n",
    "                                           height_in_pixels=400,\n",
    "                                          show_characteristic=False,\n",
    "                                           use_non_text_features=True,\n",
    "                                           show_top_terms=True,\n",
    "                                          minimum_term_frequency=5,\n",
    "                                          use_full_doc=True,\n",
    "                                          p_value_colors=True,\n",
    "                                          max_snippets = 11,\n",
    "                                           pmi_threshold_coefficient=0,\n",
    "                                        topic_model_term_lists=topic_feature_builder.get_top_model_term_lists()\n",
    "                                          )\n",
    "    return html\n",
    "\n",
    "def findSentence(sentence_subject, sentence_objecet, sentence_contains):\n",
    "    print('')\n",
    "    if len(sentence_contains)>0:\n",
    "        for doc in df.loc[df['post_type']=='response', 'text_doc']:\n",
    "            for sent in doc.sents:\n",
    "                for tok in sent:\n",
    "                    if tok.text.lower() in sentence_contains:\n",
    "                        for tok in sent:\n",
    "                            if 'obj' in tok.dep_:\n",
    "                                if tok.text.lower() in sentence_object:\n",
    "                                    for tok in sent:\n",
    "                                        if 'subj' in tok.dep_:\n",
    "                                            if tok.text.lower() in sentence_subject:\n",
    "                                                print(tok.sent)\n",
    "                                                #displacy.render(tok.sent, jupyter=True, style='dep')\n",
    "                                                break\n",
    "    else:\n",
    "        for doc in df.loc[df['post_type']=='response', 'text_doc']:\n",
    "            for sent in doc.sents:\n",
    "                for tok in sent:\n",
    "                    if 'obj' in tok.dep_:\n",
    "                        if tok.text.lower() in sentence_object:\n",
    "                            for tok in sent:\n",
    "                                if 'subj' in tok.dep_:\n",
    "                                    if tok.text.lower() in sentence_subject:\n",
    "                                        print(tok.sent)\n",
    "                                        #displacy.render(tok.sent, jupyter=True, style='dep')\n",
    "                                        break\n",
    "print('Notebook loaded successfully')"
   ]
  },
  {
   "cell_type": "markdown",
   "metadata": {
    "hideCode": false,
    "hidePrompt": false,
    "toc": true
   },
   "source": [
    "<h1>Table of Contents<span class=\"tocSkip\"></span></h1>\n",
    "<div class=\"toc\"><ul class=\"toc-item\"><li><span><a href=\"#Introduction\" data-toc-modified-id=\"Introduction-1\"><span class=\"toc-item-num\">1&nbsp;&nbsp;</span>Introduction</a></span></li><li><span><a href=\"#Jupyter-notebook\" data-toc-modified-id=\"Jupyter-notebook-2\"><span class=\"toc-item-num\">2&nbsp;&nbsp;</span>Jupyter notebook</a></span></li><li><span><a href=\"#Natural-Language-Processing-(NLP)\" data-toc-modified-id=\"Natural-Language-Processing-(NLP)-3\"><span class=\"toc-item-num\">3&nbsp;&nbsp;</span>Natural Language Processing (NLP)</a></span><ul class=\"toc-item\"><li><span><a href=\"#Pre-2013:-Word-Frequency\" data-toc-modified-id=\"Pre-2013:-Word-Frequency-3.1\"><span class=\"toc-item-num\">3.1&nbsp;&nbsp;</span>Pre-2013: Word Frequency</a></span></li><li><span><a href=\"#Post-2013\" data-toc-modified-id=\"Post-2013-3.2\"><span class=\"toc-item-num\">3.2&nbsp;&nbsp;</span>Post-2013</a></span></li></ul></li><li><span><a href=\"#Word-embeddings\" data-toc-modified-id=\"Word-embeddings-4\"><span class=\"toc-item-num\">4&nbsp;&nbsp;</span>Word embeddings</a></span><ul class=\"toc-item\"><li><span><a href=\"#Find-words-used-in-similar-contexts\" data-toc-modified-id=\"Find-words-used-in-similar-contexts-4.1\"><span class=\"toc-item-num\">4.1&nbsp;&nbsp;</span>Find words used in similar contexts</a></span></li><li><span><a href=\"#Comparing-word-meaning?\" data-toc-modified-id=\"Comparing-word-meaning?-4.2\"><span class=\"toc-item-num\">4.2&nbsp;&nbsp;</span>Comparing word meaning?</a></span></li><li><span><a href=\"#Comparing-sentence-meaning?\" data-toc-modified-id=\"Comparing-sentence-meaning?-4.3\"><span class=\"toc-item-num\">4.3&nbsp;&nbsp;</span>Comparing sentence meaning?</a></span></li><li><span><a href=\"#Scoring-sentences-against-target-meaning\" data-toc-modified-id=\"Scoring-sentences-against-target-meaning-4.4\"><span class=\"toc-item-num\">4.4&nbsp;&nbsp;</span>Scoring sentences against target meaning</a></span></li><li><span><a href=\"#Adding-and-subtracting-meanings?\" data-toc-modified-id=\"Adding-and-subtracting-meanings?-4.5\"><span class=\"toc-item-num\">4.5&nbsp;&nbsp;</span>Adding and subtracting meanings?</a></span></li><li><span><a href=\"#'Thought-vectors'\" data-toc-modified-id=\"'Thought-vectors'-4.6\"><span class=\"toc-item-num\">4.6&nbsp;&nbsp;</span>'Thought vectors'</a></span></li></ul></li><li><span><a href=\"#Hospital-Staff-Responding-to-Criticism\" data-toc-modified-id=\"Hospital-Staff-Responding-to-Criticism-5\"><span class=\"toc-item-num\">5&nbsp;&nbsp;</span>Hospital Staff Responding to Criticism</a></span><ul class=\"toc-item\"><li><span><a href=\"#Research-context\" data-toc-modified-id=\"Research-context-5.1\"><span class=\"toc-item-num\">5.1&nbsp;&nbsp;</span>Research context</a></span></li><li><span><a href=\"#Comparing-perspectives:-words\" data-toc-modified-id=\"Comparing-perspectives:-words-5.2\"><span class=\"toc-item-num\">5.2&nbsp;&nbsp;</span>Comparing perspectives: words</a></span></li><li><span><a href=\"#Comparing-perspectives:-themes\" data-toc-modified-id=\"Comparing-perspectives:-themes-5.3\"><span class=\"toc-item-num\">5.3&nbsp;&nbsp;</span>Comparing perspectives: themes</a></span></li><li><span><a href=\"#Which-responses-have-least-perspective-taking?\" data-toc-modified-id=\"Which-responses-have-least-perspective-taking?-5.4\"><span class=\"toc-item-num\">5.4&nbsp;&nbsp;</span>Which responses have least perspective taking?</a></span></li><li><span><a href=\"#Which-responses-have-most-psychological-distancing?\" data-toc-modified-id=\"Which-responses-have-most-psychological-distancing?-5.5\"><span class=\"toc-item-num\">5.5&nbsp;&nbsp;</span>Which responses have most psychological distancing?</a></span></li></ul></li><li><span><a href=\"#Conclusion\" data-toc-modified-id=\"Conclusion-6\"><span class=\"toc-item-num\">6&nbsp;&nbsp;</span>Conclusion</a></span></li></ul></div>"
   ]
  },
  {
   "cell_type": "markdown",
   "metadata": {
    "hideCode": true,
    "hidePrompt": true
   },
   "source": [
    "# Introduction"
   ]
  },
  {
   "cell_type": "markdown",
   "metadata": {},
   "source": [
    "# Jupyter notebook"
   ]
  },
  {
   "cell_type": "markdown",
   "metadata": {
    "ExecuteTime": {
     "end_time": "2020-04-18T13:53:13.634174Z",
     "start_time": "2020-04-18T13:53:13.629176Z"
    }
   },
   "source": [
    "[Jupyter notebooks](https://jupyter.org/) (and more recently Jupyter Lab) are language agnostic notebooks. They can run many languages, especially: **Ju**lia, **Pyt**hon, and **R**. "
   ]
  },
  {
   "cell_type": "markdown",
   "metadata": {
    "ExecuteTime": {
     "end_time": "2020-04-18T14:16:34.274913Z",
     "start_time": "2020-04-18T14:16:34.270911Z"
    }
   },
   "source": [
    "Initiated in 2014, Jupyter notebooks have rapidly become a [dominant platform for data analysis](https://www.nature.com/articles/d41586-018-07196-1). There is good reason to believe that they will eventually [replace the scientific article](https://www.theatlantic.com/science/archive/2018/04/the-scientific-paper-is-obsolete/556676/) as we know it."
   ]
  },
  {
   "cell_type": "markdown",
   "metadata": {},
   "source": [
    "Scientific articles are texts that talk about data and analysis - but they don't allow readers to interact with the data or the analysis. Notebooks, are a step-change in scientific communication because they combine text, data, and analysis in one easy to read and reproducible package that is easy to share and interact with ([gallery of interesting notebooks](https://github.com/jupyter/jupyter/wiki/A-gallery-of-interesting-Jupyter-Notebooks))."
   ]
  },
  {
   "cell_type": "markdown",
   "metadata": {
    "hideCode": false,
    "hidePrompt": false
   },
   "source": [
    "# Natural Language Processing (NLP)\n",
    "\n",
    "NLP refers to using computers to search, manipulate and respond to human language\n",
    "\n",
    "It is closely connected to AI, Machine Learning, Big Data\n",
    "\n",
    "The driving motive is that Google, Facebook, etc. are investing vast resources in making computers understand text, image and sound in a way that matters for humans."
   ]
  },
  {
   "cell_type": "markdown",
   "metadata": {
    "hideCode": false,
    "hidePrompt": false
   },
   "source": [
    "## Pre-2013: Word Frequency"
   ]
  },
  {
   "cell_type": "markdown",
   "metadata": {
    "hideCode": false,
    "hidePrompt": false
   },
   "source": [
    "To-date most psychological research using computers to analyse text has focused on word-frequency. Because the words we speak are closely connected to our thought patterns, this has produced several interesting results. For example:\n",
    "- Identifying [authorship in Shakespeare's plays](http://elizabethan-theatre.org/wps/wp-content/uploads/2015/07/Double-Falsehood-by-Ryan-Boyd-Psychological-Science-2015.pdf)\n",
    "- Longitudinal studies of Mayor [Giuliani's adaptation to the crisis of 9/11](https://www.sciencedirect.com/science/article/abs/pii/S0092656602923494)\n",
    "- Detecting people's [personality from their writing style](https://www.ncbi.nlm.nih.gov/pmc/articles/PMC2885844/?_escaped_fragment_=po=2.77778)\n",
    "- Monitoring [public anxiety](https://www.tandfonline.com/doi/abs/10.1080/10410236.2011.571759) and public mood (which is [associated with stock prices](https://arxiv.org/pdf/1010.3003&))\n",
    "\n",
    "But, all these studies use fairly basic word count techniques, or, slightly more advanced sentiment analysis."
   ]
  },
  {
   "cell_type": "markdown",
   "metadata": {
    "hideCode": false,
    "hidePrompt": false
   },
   "source": [
    "## Post-2013 "
   ]
  },
  {
   "cell_type": "markdown",
   "metadata": {
    "hideCode": true,
    "hidePrompt": true
   },
   "source": [
    "Word vectors, or 'word embeddings', developed in the late 1990s by Yoshua Bengio, Geoffrey Hinton, et al. But, their significance was only appreciated in about 2013.\n",
    "\n",
    "Before about 2013, most computational analysis of words focused on the textual appearance of a word; for example, 'dog' was similar to 'doggy' (same stem), similar to 'god' (same letters) and 'hog' (2 letters in the same order), but without any similarity to 'cat' (no similar letters). There seemed to be no way to make computers understand that 'dog' and 'cat' are both family pets and thus semantically related.\n",
    "\n",
    "The breakthrough came from Wittgenstein's (1953; also Frith, 1957) insight: the meaning of words comes from the context in which they are used. Consider the sentence 'the X sat on the mat' - most people would agree that 'dog' and 'cat' are plausible candidates for X. That is to say, 'dog' and 'cat' occupy similar roles within similar sentences. \n",
    "\n",
    "Word embeddings encode the meaning of words not in terms of the words themselves, but, in terms of the context in which the words appear. By analyzing billions of webpages and books, statistical models are built based on which words occur in the same context. These models _seem_ to encode meaning."
   ]
  },
  {
   "cell_type": "markdown",
   "metadata": {},
   "source": [
    "# Word embeddings"
   ]
  },
  {
   "cell_type": "markdown",
   "metadata": {},
   "source": [
    "Google and other companies are using word embeddings to [map the meaning of all words](https://projector.tensorflow.org/) - created by analysing the sentence context in which words are used accross _all_ books, webpages, news sources and other archives."
   ]
  },
  {
   "cell_type": "markdown",
   "metadata": {},
   "source": [
    "## Find words used in similar contexts"
   ]
  },
  {
   "cell_type": "code",
   "execution_count": 6,
   "metadata": {
    "ExecuteTime": {
     "end_time": "2020-04-18T10:05:21.447303Z",
     "start_time": "2020-04-18T10:05:21.291302Z"
    }
   },
   "outputs": [],
   "source": [
    "%run \"C:\\Dropbox\\2_Research\\_Python_functions\\functions_spacy_v11.ipynb\""
   ]
  },
  {
   "cell_type": "markdown",
   "metadata": {},
   "source": [
    "Try single words, such as: 'blue', 'summer', 'university' or 'psychology'. <br>\n",
    "Also, try combinations of words: 'sad happy' (yields 'hope'), "
   ]
  },
  {
   "cell_type": "code",
   "execution_count": 25,
   "metadata": {
    "ExecuteTime": {
     "end_time": "2020-04-18T10:19:23.719138Z",
     "start_time": "2020-04-18T10:19:21.553138Z"
    }
   },
   "outputs": [
    {
     "name": "stdout",
     "output_type": "stream",
     "text": [
      "found nlp model:  en_core_web_lg-2.2.5\n",
      "\n",
      "TOKENS NEAR VECTOR:    surprised unhappy afraid everyone worried mad too disappointed annoyed wanting imagine wonder everybody frustrated so glad confused pissed scared anxious sad crazy forget wanted shocked thought telling say even when obviously expecting always surprise worry know seriously though remember nothing hope seeing convinced wondering but enough still sure tell tired hoping lucky want reminded just sorry let saying because why again feel really bothered way get yet doubt guess curious yes concerned realize talking okay never \n",
      "\n"
     ]
    }
   ],
   "source": [
    "getTokensNearVector(nlp, 'happy angry')"
   ]
  },
  {
   "cell_type": "code",
   "execution_count": null,
   "metadata": {},
   "outputs": [],
   "source": []
  },
  {
   "cell_type": "markdown",
   "metadata": {
    "hideCode": false,
    "hidePrompt": false
   },
   "source": [
    "## Comparing word meaning?\n",
    "Most people would agree that 'dog' is more similar to 'cat' than 'road' - and the models agree:"
   ]
  },
  {
   "cell_type": "code",
   "execution_count": 2,
   "metadata": {
    "ExecuteTime": {
     "end_time": "2020-04-18T09:58:08.295063Z",
     "start_time": "2020-04-18T09:58:07.654063Z"
    },
    "hideCode": false,
    "hidePrompt": false
   },
   "outputs": [
    {
     "data": {
      "image/png": "[encoded data removed]",
      "text/plain": [
       "<Figure size 360x360 with 1 Axes>"
      ]
     },
     "metadata": {
      "needs_background": "light"
     },
     "output_type": "display_data"
    }
   ],
   "source": [
    "words = ['dog', 'cat', 'car', 'road', 'traffic', 'ideas']\n",
    "    \n",
    "compareMeanings(words)"
   ]
  },
  {
   "cell_type": "markdown",
   "metadata": {
    "hideCode": false,
    "hidePrompt": false
   },
   "source": [
    "## Comparing sentence meaning?"
   ]
  },
  {
   "cell_type": "markdown",
   "metadata": {
    "hideCode": false,
    "hidePrompt": false
   },
   "source": [
    "We can also use these models to compare sentences. Consider the following (all using unique words). Just by averaging the word embeddings for each sentence, we can see, that the model corresponds broadly to our human judgement. <br>\n",
    "<br>\n",
    "Change the sentences and re-run the cell to see the result."
   ]
  },
  {
   "cell_type": "code",
   "execution_count": 3,
   "metadata": {
    "ExecuteTime": {
     "end_time": "2020-04-18T09:58:08.966063Z",
     "start_time": "2020-04-18T09:58:08.296063Z"
    },
    "hideCode": false,
    "hidePrompt": false
   },
   "outputs": [
    {
     "data": {
      "image/png": "[encoded data removed]",
      "text/plain": [
       "<Figure size 360x360 with 1 Axes>"
      ]
     },
     "metadata": {
      "needs_background": "light"
     },
     "output_type": "display_data"
    }
   ],
   "source": [
    "sentences = ['the pilot flew the plane', \n",
    "             'trees do not grow on rocks',\n",
    "             'i broke my arm', \n",
    "             'he snapped his leg',\n",
    "             'a helicopter soared up',\n",
    "             'plants need lots of water']\n",
    "\n",
    "compareMeanings(sentences)"
   ]
  },
  {
   "cell_type": "markdown",
   "metadata": {
    "hideCode": false,
    "hidePrompt": false
   },
   "source": []
  },
  {
   "cell_type": "markdown",
   "metadata": {},
   "source": [
    "## Scoring sentences against target meaning\n",
    "The idea here comes from the [Garten et al. (2018)](https://link.springer.com/article/10.3758/s13428-017-0875-9) who argue that "
   ]
  },
  {
   "cell_type": "code",
   "execution_count": 30,
   "metadata": {
    "ExecuteTime": {
     "end_time": "2020-04-18T12:39:16.665220Z",
     "start_time": "2020-04-18T12:39:16.601221Z"
    }
   },
   "outputs": [
    {
     "name": "stdout",
     "output_type": "stream",
     "text": [
      "Similarity to 'died':  0.04  'Superb excellent ++'\n",
      "Similarity to 'died':  0.2   'accessible car park'\n",
      "Similarity to 'died':  0.4   'my arm broke'\n",
      "Similarity to 'died':  0.68  'she was dying'\n",
      "Similarity to 'died':  0.85  'he died later'\n",
      "Similarity to 'died':  1.0   'died died died'\n"
     ]
    }
   ],
   "source": [
    "seed_terms = 'died'\n",
    "\n",
    "sentences = [\"Superb excellent ++\",\n",
    "             'accessible car park',\n",
    "             'my arm broke', \n",
    "             'she was dying', \n",
    "             'he died later',\n",
    "             'died died died']\n",
    "\n",
    "for sent in sentences:\n",
    "    score = round(nlp(sent).similarity(nlp(seed_terms)), 2)\n",
    "    print(\"Similarity to 'died':  {:<4}  '{:}'\".format(score, sent))"
   ]
  },
  {
   "cell_type": "markdown",
   "metadata": {
    "hideCode": false,
    "hidePrompt": false
   },
   "source": [
    "## Adding and subtracting meanings?\n",
    "If words are represented as numbers, then, can we do mathematics with the meanings?\n",
    "\n",
    "What if we start with the meaning of 'king' subtract 'man' and add 'woman' - what would the outcome be?"
   ]
  },
  {
   "cell_type": "code",
   "execution_count": 48,
   "metadata": {
    "ExecuteTime": {
     "end_time": "2020-04-18T14:38:36.064536Z",
     "start_time": "2020-04-18T14:38:36.058536Z"
    }
   },
   "outputs": [],
   "source": [
    "def mathsOnMeaning(start, subtract, add):\n",
    "    x = nlp.vocab[start].vector - nlp.vocab[subtract].vector + nlp.vocab[add].vector\n",
    "    \n",
    "    similar_words = []\n",
    "    for word in nlp.vocab:\n",
    "        if not (word.has_vector & word.is_lower):\n",
    "            continue\n",
    "        if not ((word.text!=start)&(word.text!=add)&(word.text!=subtract)):\n",
    "            continue\n",
    "     \n",
    "        similarity = cosine_similarity(x, word.vector)\n",
    "        #similarity = word.similarity(x)\n",
    "        similar_words.append((word, similarity))\n",
    "        \n",
    "    similar_words = sorted(similar_words, key=lambda item: -item[1])\n",
    "    result = [w[0].text for w in similar_words[:5]][0]\n",
    "    print(f\"'{start}' minus '{subtract}' add '{add}' = {result}\")"
   ]
  },
  {
   "cell_type": "code",
   "execution_count": 60,
   "metadata": {
    "ExecuteTime": {
     "end_time": "2020-04-18T14:47:19.638227Z",
     "start_time": "2020-04-18T14:47:19.497230Z"
    }
   },
   "outputs": [],
   "source": [
    "%run \"C:\\Dropbox\\2_Research\\_Python_functions\\functions_spacy_v11.ipynb\""
   ]
  },
  {
   "cell_type": "markdown",
   "metadata": {},
   "source": [
    "Here are the words near 'died dead and dying'. "
   ]
  },
  {
   "cell_type": "code",
   "execution_count": 56,
   "metadata": {
    "ExecuteTime": {
     "end_time": "2020-04-18T14:44:16.169509Z",
     "start_time": "2020-04-18T14:44:14.134512Z"
    }
   },
   "outputs": [
    {
     "name": "stdout",
     "output_type": "stream",
     "text": [
      "found nlp model:  en_core_web_lg-2.2.5\n",
      "\n",
      "TOKENS NEAR VECTOR:    died death born lived killed survived dying dead dies father buried resided was alive remembered later came perished after succumbed murdered tragically deceased became had mother drowned suffered grandfather shortly widow daughter brother disappeared since knew took happened apparently broke lives husband believed wife moved deaths passed he remembers grandson arrived who went late when years gone turned brought ended married lost once brother-in-law escaped whom d. sadly eldest uncle remarried stayed did eventually before last grandmother until succeeded ill sometime wounded cousin never departed fell hospitalized still suddenly there \n",
      "\n"
     ]
    }
   ],
   "source": [
    "v = nlp('died').vector\n",
    "getTokensNearVector(nlp, v)"
   ]
  },
  {
   "cell_type": "markdown",
   "metadata": {},
   "source": [
    "But, people tend to die in two ways: unintentional and intentional (murder). <br>\n",
    "To find words associated with intentionall death, we subtract the concept of 'accident' and add the concept 'murder'."
   ]
  },
  {
   "cell_type": "code",
   "execution_count": 57,
   "metadata": {
    "ExecuteTime": {
     "end_time": "2020-04-18T14:45:45.605310Z",
     "start_time": "2020-04-18T14:45:43.568309Z"
    }
   },
   "outputs": [
    {
     "name": "stdout",
     "output_type": "stream",
     "text": [
      "found nlp model:  en_core_web_lg-2.2.5\n",
      "\n",
      "TOKENS NEAR VECTOR:    murder murdered died death murdering murders murderer killed killing hanged imprisoned born slaying lived convicted dead sentenced assassinated slain father alive dying killings widow acquitted survived prison brother mother buried murderers jailed assassination confessed daughter massacre raped guilty gunned arrested stabbed kill wife sons prisoner married kidnapping resided accused dies stepfather suicide jail indicted grandfather suspects massacred beheaded brother-in-law tortured killer daughters kidnapped raping whom brothers killers uncle treason husband martyred escaped fled pleaded condemned eldest believed slayings grandson martyr freed succeeded slaughtered murderous who rapist deceased was nephew lives cousin remembered crimes convict son \n",
      "\n"
     ]
    }
   ],
   "source": [
    "v = nlp('died').vector - nlp('accident').vector + nlp('murder').vector\n",
    "getTokensNearVector(nlp, v)"
   ]
  },
  {
   "cell_type": "markdown",
   "metadata": {},
   "source": [
    "Or, we can look at the words associated with 'died' excluding the 'murder' and focusing on 'accidents'."
   ]
  },
  {
   "cell_type": "code",
   "execution_count": 58,
   "metadata": {
    "ExecuteTime": {
     "end_time": "2020-04-18T14:46:39.611327Z",
     "start_time": "2020-04-18T14:46:37.587331Z"
    }
   },
   "outputs": [
    {
     "name": "stdout",
     "output_type": "stream",
     "text": [
      "found nlp model:  en_core_web_lg-2.2.5\n",
      "\n",
      "TOKENS NEAR VECTOR:    died accident crash crashed suffered accidents injured injuries wreck survived mishap hospitalized born collision was collided shortly tragically fatal perished after lived dying dies ambulance lost arrived later succumbed happened crashes passed occurred death resided wrecked remembered since traveled came hospital due casualty fatality luckily caused sometime had departed injury took motorcyclist collapsed fortunately recovering broke moved fell went when until buried unexpectedly stopped suddenly drowned travelled affected automobile before became killed last exited illness leaving stuck late disappeared realized catastrophic deceased badly once landed recuperating afterward hospitalised apparently sudden ended dead sadly fatalities rescued discovered damaged \n",
      "\n"
     ]
    }
   ],
   "source": [
    "v = nlp('died').vector + nlp('accident').vector - nlp('murder').vector\n",
    "getTokensNearVector(nlp, v)"
   ]
  },
  {
   "cell_type": "code",
   "execution_count": 59,
   "metadata": {
    "ExecuteTime": {
     "end_time": "2020-04-18T14:47:14.373185Z",
     "start_time": "2020-04-18T14:47:12.355186Z"
    }
   },
   "outputs": [
    {
     "name": "stdout",
     "output_type": "stream",
     "text": [
      "found nlp model:  en_core_web_lg-2.2.5\n",
      "\n",
      "TOKENS NEAR VECTOR:    rome england italy uk europe london ireland britain france australia greece germany spain manchester usa zealand scotland canada dublin glasgow european birmingham sydney paris york edinburgh prague poland british chicago africa toronto leeds venice melbourne america liverpool wales netherlands atlanta florence amsterdam switzerland austria egypt athens ohio malta belgium columbus perth brisbane american orlando denmark cyprus holland boston roman sweden bristol italia nz florida hungary italian dallas newcastle india roma vancouver cambridge brighton indiana seattle washington milan georgia russia singapore berlin denver united virginia maryland mexico nyc asia richmond sheffield baltimore romania montreal barcelona australian ontario \n",
      "\n"
     ]
    }
   ],
   "source": [
    "v = nlp('rome').vector + nlp('uk england').vector \n",
    "getTokensNearVector(nlp, v)"
   ]
  },
  {
   "cell_type": "code",
   "execution_count": 61,
   "metadata": {
    "ExecuteTime": {
     "end_time": "2020-04-18T14:47:32.519825Z",
     "start_time": "2020-04-18T14:47:30.501828Z"
    }
   },
   "outputs": [
    {
     "name": "stdout",
     "output_type": "stream",
     "text": [
      "\n",
      "TOKENS NEAR VECTOR:    austria belgium switzerland netherlands finland germany hungary sweden denmark poland europe norway slovenia luxembourg vienna italy slovakia prague romania spain bulgaria moscow budapest austrian croatia salzburg holland cyprus malta russia france schweiz berlin argentina warsaw european graz iceland britain hamburg innsbruck czech deutschland amsterdam greece munich serbia zurich helsinki montreal andorra winnipeg u.k. wien estonia stockholm nederland england belfast zealand portugal monaco usa espana ukraine u.s. ireland arabia eire glasgow helena geneva europa leeds vermont albany albuquerque sheffield bavaria calgary ottawa lithuania edmonton cardiff dublin birmingham copenhagen boise u.s.a. bonn beijing uruguay edinburgh benelux frankfurt regina bremen columbus peru colombia \n",
      "\n"
     ]
    }
   ],
   "source": [
    "v = nlp('austria').vector\n",
    "getTokensNearVector(nlp, v)"
   ]
  },
  {
   "cell_type": "code",
   "execution_count": null,
   "metadata": {},
   "outputs": [],
   "source": []
  },
  {
   "cell_type": "code",
   "execution_count": null,
   "metadata": {},
   "outputs": [],
   "source": []
  },
  {
   "cell_type": "code",
   "execution_count": 62,
   "metadata": {
    "ExecuteTime": {
     "end_time": "2020-04-18T14:48:07.536637Z",
     "start_time": "2020-04-18T14:48:05.880312Z"
    }
   },
   "outputs": [
    {
     "data": {
      "text/plain": [
       "['doctor',\n",
       " 'nurse',\n",
       " 'doctors',\n",
       " 'pregnant',\n",
       " 'physician',\n",
       " 'woman',\n",
       " 'gynecologist',\n",
       " 'pharmacist',\n",
       " 'midwife',\n",
       " 'medical',\n",
       " 'patient',\n",
       " 'pediatrician',\n",
       " 'pregnancy',\n",
       " 'clinic',\n",
       " 'surgeon',\n",
       " 'obstetrician']"
      ]
     },
     "execution_count": 62,
     "metadata": {},
     "output_type": "execute_result"
    }
   ],
   "source": [
    "start = 'he'\n",
    "subtract = 'doctor'\n",
    "add = 'woman'\n",
    "\n",
    "start = 'doctor'\n",
    "subtract = 'man'\n",
    "add = 'woman'\n",
    "\n",
    "\n",
    "v = nlp.vocab[start].vector - nlp.vocab[subtract].vector + nlp.vocab[add].vector\n",
    "#print(v)\n",
    "\n",
    "from scipy.spatial import distance\n",
    "import numpy as np\n",
    "\n",
    "# Format the vocabulary for use in the distance function\n",
    "ids = [x for x in nlp.vocab.vectors.keys()]\n",
    "vectors1 = [nlp.vocab.vectors[x] for x in ids]\n",
    "vectors2 = np.array(vectors1)\n",
    "#print(vectors2)\n",
    "        \n",
    "# measure distances\n",
    "dist = distance.cdist([np.array(v)],vectors2)[0]\n",
    "    \n",
    "# create df of results\n",
    "df = pd.DataFrame({'distance':[x for x in dist]})\n",
    "df.sort_values('distance', inplace=True)\n",
    "\n",
    "# print output\n",
    "words = []\n",
    "for i in df.index[:50]:\n",
    "    word_id = ids[i]\n",
    "    output_word = nlp.vocab[word_id].text\n",
    "    output_word = output_word.lower()\n",
    "    if output_word not in words:\n",
    "        words.append(output_word.lower())\n",
    "        \n",
    "words         \n",
    "#remove input tokens"
   ]
  },
  {
   "cell_type": "code",
   "execution_count": null,
   "metadata": {
    "ExecuteTime": {
     "end_time": "2020-04-18T09:58:09.137065Z",
     "start_time": "2020-04-18T09:57:58.319Z"
    }
   },
   "outputs": [],
   "source": [
    "getTokensNearVector(nlp, 'rome pizza')"
   ]
  },
  {
   "cell_type": "code",
   "execution_count": null,
   "metadata": {
    "ExecuteTime": {
     "end_time": "2020-04-18T09:58:09.137065Z",
     "start_time": "2020-04-18T09:57:58.321Z"
    }
   },
   "outputs": [],
   "source": [
    "from scipy import spatial\n",
    "cosine_similarity = lambda x, y: 1-spatial.distance.cosine(x, y)\n",
    "print(\"apple vs banana: \", cosine_similarity(nlp.vocab['apple'].vector, nlp.vocab['banana'].vector))"
   ]
  },
  {
   "cell_type": "code",
   "execution_count": null,
   "metadata": {},
   "outputs": [],
   "source": []
  },
  {
   "cell_type": "code",
   "execution_count": 63,
   "metadata": {
    "ExecuteTime": {
     "end_time": "2020-04-18T14:48:37.759111Z",
     "start_time": "2020-04-18T14:48:37.717113Z"
    },
    "hideCode": false,
    "hidePrompt": false
   },
   "outputs": [
    {
     "ename": "ValueError",
     "evalue": "Expected 2D array, got 1D array instead:\narray=[ 5.14087021e-01 -2.78459996e-01  2.42767006e-01  4.54899669e-02\n -2.59425014e-01 -3.19999963e-01  3.23920012e-01 -6.71030045e-01\n -9.98499990e-02  1.91499996e+00 -5.68080008e-01 -2.74451017e-01\n -1.49906695e-01  8.01083148e-02 -2.34764010e-01 -1.10950008e-01\n -1.02593988e-01  8.53819966e-01 -2.68564999e-01  3.85140002e-01\n -1.36149988e-01  6.35029972e-01 -7.62044966e-01 -2.52770007e-01\n -6.75969958e-01  3.89851004e-01 -2.89680034e-01  1.75860003e-01\n -5.16229987e-01  5.21373034e-01 -1.89909995e-01  6.73759937e-01\n  1.17550008e-01 -4.69896019e-01  5.88999987e-01  1.29447982e-01\n -5.71900010e-01 -5.47450066e-01 -4.84210014e-01  5.85503951e-02\n  4.82379973e-01 -2.86769986e-01 -2.01718003e-01 -4.74729985e-01\n  3.43068987e-01 -2.28827983e-01 -1.76439017e-01  6.05450034e-01\n  2.07139999e-01 -2.89762974e-01 -7.63288975e-01  4.37090009e-01\n -2.06220001e-01 -4.20252979e-01  1.98040009e-01  3.18709970e-01\n -9.51815993e-02 -3.23054016e-01 -6.02343976e-01  2.33427018e-01\n -2.15409994e-02 -6.29774988e-01  3.72432500e-01  3.41740012e-01\n  5.81782043e-01  7.02129960e-01  7.19299972e-01  3.28493983e-01\n  3.36353004e-01  1.06999278e-03 -5.53239942e-01 -2.46219993e-01\n -6.37116969e-01 -1.72280014e-01  8.97620022e-01 -1.38548493e-01\n -5.71600199e-02  6.41870022e-01  3.89845997e-01 -3.98499995e-01\n -7.28532076e-01  9.17530134e-02 -3.40600014e-01  3.46671015e-01\n -2.63424516e-01  3.68355006e-01  8.78340006e-01 -1.57473043e-01\n -4.29450005e-01 -4.91259992e-01 -1.23234093e-02  3.27509999e-01\n  1.44889995e-01 -3.27081025e-01  9.45929945e-01 -8.07909966e-01\n -2.07101002e-01 -8.87000561e-03 -5.59080057e-02  7.93069959e-01\n  3.58245999e-01  6.05069995e-01  1.01848006e-01 -1.89061001e-01\n  1.09030008e-02 -7.64109969e-01 -5.05369961e-01 -1.11367017e-01\n  6.56607985e-01 -1.48448005e-01  1.30866021e-01  6.62039995e-01\n -1.54300034e-02 -4.17466015e-01 -4.54553008e-01 -5.05975008e-01\n  4.15473014e-01  4.00425017e-01  7.88707018e-01 -5.19399941e-02\n -3.91889989e-01  8.31609964e-02  4.58730012e-01  1.23339996e-01\n  2.39246994e-01  3.81098986e-01  1.86000004e-01  2.69684941e-02\n -5.55605292e-01  2.53284007e-01 -6.67639971e-01 -5.55985987e-01\n -3.71130019e-01 -6.53919995e-01 -1.09452009e-01 -6.04629993e-01\n -4.62760001e-01  3.97581995e-01 -3.26649994e-01  2.60998994e-01\n -2.09120011e+00 -2.76019007e-01  2.68036008e-01 -3.35714996e-01\n -4.75513011e-01 -2.83890069e-02  4.40270007e-01  2.24150002e-01\n -4.50639009e-01 -6.16590083e-01  1.10599995e-01 -3.00589710e-01\n  1.24530017e-01  2.99279988e-01  3.03467005e-01 -3.42969984e-01\n  3.93694013e-01 -5.84149957e-01 -1.88180000e-01  2.98162013e-01\n -1.80879980e-01 -3.70599926e-02  4.09860015e-02 -8.07899833e-02\n  3.92280012e-01 -4.94572997e-01  4.01719987e-01  8.48469973e-01\n -1.94183022e-01  4.29439992e-01 -6.07819974e-01 -9.71959978e-02\n  3.55786979e-01 -1.79980025e-02 -5.83269954e-01 -2.50129998e-01\n  2.80330002e-01 -3.72725993e-01 -7.41009951e-01  1.03881419e-01\n  8.04000199e-02 -1.64650023e-01  1.09247290e-01 -5.68639994e-01\n  4.11399961e-01  5.69249988e-01 -2.14549989e-01 -1.56975001e-01\n  9.64879990e-02  2.01149940e-01 -9.81989980e-01 -9.00639057e-01\n  1.57496989e-01 -1.24968991e-01  9.11729932e-02 -5.17108977e-01\n  6.34269863e-02  1.72169998e-01 -2.36945987e-01 -7.58899987e-01\n  5.74868977e-01  6.10739946e-01  8.88329893e-02 -2.59585023e-01\n -9.03399587e-02 -8.53200257e-02  1.69609979e-01 -7.29799643e-03\n -2.05680996e-01 -1.93440005e-01 -4.92264986e-01  3.19920003e-01\n -3.66147995e-01  5.69279015e-01  6.27799928e-02  7.91899860e-02\n -3.93792808e-01  4.87831026e-01 -3.85988951e-02  7.52799988e-01\n  1.74212992e-01 -6.07100964e-01  4.81240004e-01  1.49755001e-01\n  4.32273030e-01  2.77104974e-01  4.56589013e-01 -3.32702011e-01\n -2.80999988e-01  6.35839045e-01  1.15425006e-01  7.80760050e-02\n  3.17489982e-01 -4.80073988e-01  4.07790095e-02 -8.21070611e-01\n -1.63500011e-03 -3.97460014e-01 -9.85880196e-02 -5.31642020e-01\n -4.52499986e-02 -4.23010021e-01  1.44284993e-01 -7.62080014e-01\n  2.15179995e-01 -7.05516994e-01  6.44015014e-01 -9.44310054e-02\n -5.36169946e-01 -1.31442308e+00  4.51058030e-01  1.44240022e-01\n  3.84460092e-02 -1.80320218e-02 -2.95219988e-01  4.90060002e-01\n  3.83020639e-02 -1.70519948e-02 -7.32708037e-01  5.04490495e-01\n  1.77098006e-01  5.36670089e-02 -2.40814000e-01 -8.20799917e-02\n  2.19249994e-01 -4.58490014e-01  3.68449986e-01  3.09300005e-01\n -1.21967995e+00 -2.55998999e-01 -8.38758051e-01 -1.99926004e-01\n -3.38140011e-01 -8.05199146e-03  1.42598450e-02 -3.56069952e-01\n  8.31499994e-02  2.89311975e-01  5.29001653e-03 -1.11837029e-01\n  1.28127396e+00  8.09929967e-01  5.58990002e-01 -2.18623012e-01\n -1.70580015e-01  7.43115008e-01 -1.40369982e-01  2.97093987e-01\n -3.28552961e-01 -3.10106993e-01  1.80748999e-01  3.05629998e-01\n  2.17199922e-02 -4.68929976e-01 -1.95840016e-01  6.82327509e-01\n -2.89168000e-01 -7.09619969e-02  8.64340067e-01 -3.79067004e-01].\nReshape your data either using array.reshape(-1, 1) if your data has a single feature or array.reshape(1, -1) if it contains a single sample.",
     "output_type": "error",
     "traceback": [
      "\u001b[1;31m---------------------------------------------------------------------------\u001b[0m",
      "\u001b[1;31mValueError\u001b[0m                                Traceback (most recent call last)",
      "\u001b[1;32m<ipython-input-63-6f264c945f5b>\u001b[0m in \u001b[0;36m<module>\u001b[1;34m\u001b[0m\n\u001b[0;32m      3\u001b[0m \u001b[0madd\u001b[0m \u001b[1;33m=\u001b[0m \u001b[1;34m'woman'\u001b[0m\u001b[1;33m\u001b[0m\u001b[1;33m\u001b[0m\u001b[0m\n\u001b[0;32m      4\u001b[0m \u001b[1;33m\u001b[0m\u001b[0m\n\u001b[1;32m----> 5\u001b[1;33m \u001b[0mmathsOnMeaning\u001b[0m\u001b[1;33m(\u001b[0m\u001b[0mstart\u001b[0m\u001b[1;33m,\u001b[0m \u001b[0msubtract\u001b[0m\u001b[1;33m,\u001b[0m \u001b[0madd\u001b[0m\u001b[1;33m)\u001b[0m\u001b[1;33m\u001b[0m\u001b[1;33m\u001b[0m\u001b[0m\n\u001b[0m",
      "\u001b[1;32m<ipython-input-52-8f5245364eeb>\u001b[0m in \u001b[0;36mmathsOnMeaning\u001b[1;34m(start, subtract, add)\u001b[0m\n\u001b[0;32m     47\u001b[0m             \u001b[1;32mcontinue\u001b[0m\u001b[1;33m\u001b[0m\u001b[1;33m\u001b[0m\u001b[0m\n\u001b[0;32m     48\u001b[0m \u001b[1;33m\u001b[0m\u001b[0m\n\u001b[1;32m---> 49\u001b[1;33m         \u001b[0msimilarity\u001b[0m \u001b[1;33m=\u001b[0m \u001b[0mcosine_similarity\u001b[0m\u001b[1;33m(\u001b[0m\u001b[0mx\u001b[0m\u001b[1;33m,\u001b[0m \u001b[0mword\u001b[0m\u001b[1;33m.\u001b[0m\u001b[0mvector\u001b[0m\u001b[1;33m)\u001b[0m\u001b[1;33m\u001b[0m\u001b[1;33m\u001b[0m\u001b[0m\n\u001b[0m\u001b[0;32m     50\u001b[0m         \u001b[0msimilar_words\u001b[0m\u001b[1;33m.\u001b[0m\u001b[0mappend\u001b[0m\u001b[1;33m(\u001b[0m\u001b[1;33m(\u001b[0m\u001b[0mword\u001b[0m\u001b[1;33m,\u001b[0m \u001b[0msimilarity\u001b[0m\u001b[1;33m)\u001b[0m\u001b[1;33m)\u001b[0m\u001b[1;33m\u001b[0m\u001b[1;33m\u001b[0m\u001b[0m\n\u001b[0;32m     51\u001b[0m \u001b[1;33m\u001b[0m\u001b[0m\n",
      "\u001b[1;32m~\\Anaconda3\\envs\\PyR_202003_pandas_0_25_3\\lib\\site-packages\\sklearn\\metrics\\pairwise.py\u001b[0m in \u001b[0;36mcosine_similarity\u001b[1;34m(X, Y, dense_output)\u001b[0m\n\u001b[0;32m    894\u001b[0m     \u001b[1;31m# to avoid recursive import\u001b[0m\u001b[1;33m\u001b[0m\u001b[1;33m\u001b[0m\u001b[1;33m\u001b[0m\u001b[0m\n\u001b[0;32m    895\u001b[0m \u001b[1;33m\u001b[0m\u001b[0m\n\u001b[1;32m--> 896\u001b[1;33m     \u001b[0mX\u001b[0m\u001b[1;33m,\u001b[0m \u001b[0mY\u001b[0m \u001b[1;33m=\u001b[0m \u001b[0mcheck_pairwise_arrays\u001b[0m\u001b[1;33m(\u001b[0m\u001b[0mX\u001b[0m\u001b[1;33m,\u001b[0m \u001b[0mY\u001b[0m\u001b[1;33m)\u001b[0m\u001b[1;33m\u001b[0m\u001b[1;33m\u001b[0m\u001b[0m\n\u001b[0m\u001b[0;32m    897\u001b[0m \u001b[1;33m\u001b[0m\u001b[0m\n\u001b[0;32m    898\u001b[0m     \u001b[0mX_normalized\u001b[0m \u001b[1;33m=\u001b[0m \u001b[0mnormalize\u001b[0m\u001b[1;33m(\u001b[0m\u001b[0mX\u001b[0m\u001b[1;33m,\u001b[0m \u001b[0mcopy\u001b[0m\u001b[1;33m=\u001b[0m\u001b[1;32mTrue\u001b[0m\u001b[1;33m)\u001b[0m\u001b[1;33m\u001b[0m\u001b[1;33m\u001b[0m\u001b[0m\n",
      "\u001b[1;32m~\\Anaconda3\\envs\\PyR_202003_pandas_0_25_3\\lib\\site-packages\\sklearn\\metrics\\pairwise.py\u001b[0m in \u001b[0;36mcheck_pairwise_arrays\u001b[1;34m(X, Y, precomputed, dtype)\u001b[0m\n\u001b[0;32m    109\u001b[0m     \u001b[1;32melse\u001b[0m\u001b[1;33m:\u001b[0m\u001b[1;33m\u001b[0m\u001b[1;33m\u001b[0m\u001b[0m\n\u001b[0;32m    110\u001b[0m         X = check_array(X, accept_sparse='csr', dtype=dtype,\n\u001b[1;32m--> 111\u001b[1;33m                         warn_on_dtype=warn_on_dtype, estimator=estimator)\n\u001b[0m\u001b[0;32m    112\u001b[0m         Y = check_array(Y, accept_sparse='csr', dtype=dtype,\n\u001b[0;32m    113\u001b[0m                         warn_on_dtype=warn_on_dtype, estimator=estimator)\n",
      "\u001b[1;32m~\\Anaconda3\\envs\\PyR_202003_pandas_0_25_3\\lib\\site-packages\\sklearn\\utils\\validation.py\u001b[0m in \u001b[0;36mcheck_array\u001b[1;34m(array, accept_sparse, accept_large_sparse, dtype, order, copy, force_all_finite, ensure_2d, allow_nd, ensure_min_samples, ensure_min_features, warn_on_dtype, estimator)\u001b[0m\n\u001b[0;32m    550\u001b[0m                     \u001b[1;34m\"Reshape your data either using array.reshape(-1, 1) if \"\u001b[0m\u001b[1;33m\u001b[0m\u001b[1;33m\u001b[0m\u001b[0m\n\u001b[0;32m    551\u001b[0m                     \u001b[1;34m\"your data has a single feature or array.reshape(1, -1) \"\u001b[0m\u001b[1;33m\u001b[0m\u001b[1;33m\u001b[0m\u001b[0m\n\u001b[1;32m--> 552\u001b[1;33m                     \"if it contains a single sample.\".format(array))\n\u001b[0m\u001b[0;32m    553\u001b[0m \u001b[1;33m\u001b[0m\u001b[0m\n\u001b[0;32m    554\u001b[0m         \u001b[1;31m# in the future np.flexible dtypes will be handled like object dtypes\u001b[0m\u001b[1;33m\u001b[0m\u001b[1;33m\u001b[0m\u001b[1;33m\u001b[0m\u001b[0m\n",
      "\u001b[1;31mValueError\u001b[0m: Expected 2D array, got 1D array instead:\narray=[ 5.14087021e-01 -2.78459996e-01  2.42767006e-01  4.54899669e-02\n -2.59425014e-01 -3.19999963e-01  3.23920012e-01 -6.71030045e-01\n -9.98499990e-02  1.91499996e+00 -5.68080008e-01 -2.74451017e-01\n -1.49906695e-01  8.01083148e-02 -2.34764010e-01 -1.10950008e-01\n -1.02593988e-01  8.53819966e-01 -2.68564999e-01  3.85140002e-01\n -1.36149988e-01  6.35029972e-01 -7.62044966e-01 -2.52770007e-01\n -6.75969958e-01  3.89851004e-01 -2.89680034e-01  1.75860003e-01\n -5.16229987e-01  5.21373034e-01 -1.89909995e-01  6.73759937e-01\n  1.17550008e-01 -4.69896019e-01  5.88999987e-01  1.29447982e-01\n -5.71900010e-01 -5.47450066e-01 -4.84210014e-01  5.85503951e-02\n  4.82379973e-01 -2.86769986e-01 -2.01718003e-01 -4.74729985e-01\n  3.43068987e-01 -2.28827983e-01 -1.76439017e-01  6.05450034e-01\n  2.07139999e-01 -2.89762974e-01 -7.63288975e-01  4.37090009e-01\n -2.06220001e-01 -4.20252979e-01  1.98040009e-01  3.18709970e-01\n -9.51815993e-02 -3.23054016e-01 -6.02343976e-01  2.33427018e-01\n -2.15409994e-02 -6.29774988e-01  3.72432500e-01  3.41740012e-01\n  5.81782043e-01  7.02129960e-01  7.19299972e-01  3.28493983e-01\n  3.36353004e-01  1.06999278e-03 -5.53239942e-01 -2.46219993e-01\n -6.37116969e-01 -1.72280014e-01  8.97620022e-01 -1.38548493e-01\n -5.71600199e-02  6.41870022e-01  3.89845997e-01 -3.98499995e-01\n -7.28532076e-01  9.17530134e-02 -3.40600014e-01  3.46671015e-01\n -2.63424516e-01  3.68355006e-01  8.78340006e-01 -1.57473043e-01\n -4.29450005e-01 -4.91259992e-01 -1.23234093e-02  3.27509999e-01\n  1.44889995e-01 -3.27081025e-01  9.45929945e-01 -8.07909966e-01\n -2.07101002e-01 -8.87000561e-03 -5.59080057e-02  7.93069959e-01\n  3.58245999e-01  6.05069995e-01  1.01848006e-01 -1.89061001e-01\n  1.09030008e-02 -7.64109969e-01 -5.05369961e-01 -1.11367017e-01\n  6.56607985e-01 -1.48448005e-01  1.30866021e-01  6.62039995e-01\n -1.54300034e-02 -4.17466015e-01 -4.54553008e-01 -5.05975008e-01\n  4.15473014e-01  4.00425017e-01  7.88707018e-01 -5.19399941e-02\n -3.91889989e-01  8.31609964e-02  4.58730012e-01  1.23339996e-01\n  2.39246994e-01  3.81098986e-01  1.86000004e-01  2.69684941e-02\n -5.55605292e-01  2.53284007e-01 -6.67639971e-01 -5.55985987e-01\n -3.71130019e-01 -6.53919995e-01 -1.09452009e-01 -6.04629993e-01\n -4.62760001e-01  3.97581995e-01 -3.26649994e-01  2.60998994e-01\n -2.09120011e+00 -2.76019007e-01  2.68036008e-01 -3.35714996e-01\n -4.75513011e-01 -2.83890069e-02  4.40270007e-01  2.24150002e-01\n -4.50639009e-01 -6.16590083e-01  1.10599995e-01 -3.00589710e-01\n  1.24530017e-01  2.99279988e-01  3.03467005e-01 -3.42969984e-01\n  3.93694013e-01 -5.84149957e-01 -1.88180000e-01  2.98162013e-01\n -1.80879980e-01 -3.70599926e-02  4.09860015e-02 -8.07899833e-02\n  3.92280012e-01 -4.94572997e-01  4.01719987e-01  8.48469973e-01\n -1.94183022e-01  4.29439992e-01 -6.07819974e-01 -9.71959978e-02\n  3.55786979e-01 -1.79980025e-02 -5.83269954e-01 -2.50129998e-01\n  2.80330002e-01 -3.72725993e-01 -7.41009951e-01  1.03881419e-01\n  8.04000199e-02 -1.64650023e-01  1.09247290e-01 -5.68639994e-01\n  4.11399961e-01  5.69249988e-01 -2.14549989e-01 -1.56975001e-01\n  9.64879990e-02  2.01149940e-01 -9.81989980e-01 -9.00639057e-01\n  1.57496989e-01 -1.24968991e-01  9.11729932e-02 -5.17108977e-01\n  6.34269863e-02  1.72169998e-01 -2.36945987e-01 -7.58899987e-01\n  5.74868977e-01  6.10739946e-01  8.88329893e-02 -2.59585023e-01\n -9.03399587e-02 -8.53200257e-02  1.69609979e-01 -7.29799643e-03\n -2.05680996e-01 -1.93440005e-01 -4.92264986e-01  3.19920003e-01\n -3.66147995e-01  5.69279015e-01  6.27799928e-02  7.91899860e-02\n -3.93792808e-01  4.87831026e-01 -3.85988951e-02  7.52799988e-01\n  1.74212992e-01 -6.07100964e-01  4.81240004e-01  1.49755001e-01\n  4.32273030e-01  2.77104974e-01  4.56589013e-01 -3.32702011e-01\n -2.80999988e-01  6.35839045e-01  1.15425006e-01  7.80760050e-02\n  3.17489982e-01 -4.80073988e-01  4.07790095e-02 -8.21070611e-01\n -1.63500011e-03 -3.97460014e-01 -9.85880196e-02 -5.31642020e-01\n -4.52499986e-02 -4.23010021e-01  1.44284993e-01 -7.62080014e-01\n  2.15179995e-01 -7.05516994e-01  6.44015014e-01 -9.44310054e-02\n -5.36169946e-01 -1.31442308e+00  4.51058030e-01  1.44240022e-01\n  3.84460092e-02 -1.80320218e-02 -2.95219988e-01  4.90060002e-01\n  3.83020639e-02 -1.70519948e-02 -7.32708037e-01  5.04490495e-01\n  1.77098006e-01  5.36670089e-02 -2.40814000e-01 -8.20799917e-02\n  2.19249994e-01 -4.58490014e-01  3.68449986e-01  3.09300005e-01\n -1.21967995e+00 -2.55998999e-01 -8.38758051e-01 -1.99926004e-01\n -3.38140011e-01 -8.05199146e-03  1.42598450e-02 -3.56069952e-01\n  8.31499994e-02  2.89311975e-01  5.29001653e-03 -1.11837029e-01\n  1.28127396e+00  8.09929967e-01  5.58990002e-01 -2.18623012e-01\n -1.70580015e-01  7.43115008e-01 -1.40369982e-01  2.97093987e-01\n -3.28552961e-01 -3.10106993e-01  1.80748999e-01  3.05629998e-01\n  2.17199922e-02 -4.68929976e-01 -1.95840016e-01  6.82327509e-01\n -2.89168000e-01 -7.09619969e-02  8.64340067e-01 -3.79067004e-01].\nReshape your data either using array.reshape(-1, 1) if your data has a single feature or array.reshape(1, -1) if it contains a single sample."
     ]
    }
   ],
   "source": [
    "start = 'king'\n",
    "subtract = 'man'\n",
    "add = 'woman'\n",
    "\n",
    "mathsOnMeaning(start, subtract, add)"
   ]
  },
  {
   "cell_type": "markdown",
   "metadata": {},
   "source": [
    "- Try: 'uk' minus 'london' add 'geneva'\n",
    "- Try: 'berlin' minus 'germany' add 'france'\n",
    "- Try: 'india' minus 'curry' add 'pizza'\n",
    "- Try: 'man' minus 'boy' add 'girl'\n",
    "- Try: 'paris' minus 'france' add 'uk'"
   ]
  },
  {
   "cell_type": "markdown",
   "metadata": {
    "hideCode": false,
    "hidePrompt": false
   },
   "source": [
    "## 'Thought vectors'"
   ]
  },
  {
   "cell_type": "markdown",
   "metadata": {
    "hideCode": false,
    "hidePrompt": false
   },
   "source": [
    "Geoffrey Hinton, one of the developers of 'deep learning' techniques, talks about the above examples that focus on single words as only the first step: he (and Google) are working towards 'thought vectors'. \n",
    "\n",
    "While the above examples represent the meanings of words in a 300 dimensional mathematical space, they aim to map thoughts, ideas, sentences, and even whole articles and books into a multi-million dimensional space.\n",
    "\n",
    "Transcritpts, texts, and even audio-visual data will become open ho high-level semantic analysis (meaning clusters, emotion, contradictions, meta-perspectives and dialogical tensions).\n",
    "\n",
    "- Longitudinal analyses of an individual life-course\n",
    "- Comparison of perspectives of groups in conflict\n",
    "- Identifying the emergence of novelty and new ideas\n",
    "\n",
    "And, all done, on any size of dataset, in real-time, and for almost zero cost."
   ]
  },
  {
   "cell_type": "markdown",
   "metadata": {
    "hideCode": false,
    "hidePrompt": false
   },
   "source": [
    "# Hospital Staff Responding to Criticism \n",
    "Accidents in hospitals are a leading cause of death. At least 10% of people going into hospital come out with a new health problem. Causes include: delays, hospital infections, errors, wrong-site surgery, misdiagnosis, medication errors, not reading patient notes etc. \n",
    "\n",
    "While aviation, construction, and heavy industry have all become much safer over the last 50 years, healthcare has remained dangerous, and seems resistant to improvement. Some hospitals have a 'blame culture' with high defensiveness.\n",
    "\n",
    "One idea is that medical staff could learn from patients: patients know their own bodies, are usually the only person who has been at all the meetings, and have increasing access to medical knowledge."
   ]
  },
  {
   "cell_type": "markdown",
   "metadata": {
    "hideCode": false,
    "hidePrompt": false
   },
   "source": [
    "## Research context\n",
    "Question: How do healthcare staff respond to critical feedback?\n",
    "    \n",
    "Data: Online discussions between patients and staff in the UK (about 250k paired dialogs)\n",
    "    \n",
    "- What is the divergence of perspective between patients and staff?\n",
    "\n",
    "- How are staff listening to and/or ignoring the patient point of view?"
   ]
  },
  {
   "cell_type": "code",
   "execution_count": 64,
   "metadata": {
    "ExecuteTime": {
     "end_time": "2020-04-18T15:32:11.778552Z",
     "start_time": "2020-04-18T15:31:45.979553Z"
    },
    "hideCode": false,
    "hidePrompt": false
   },
   "outputs": [
    {
     "data": {
      "text/plain": [
       "story       326\n",
       "response    326\n",
       "Name: post_type, dtype: int64"
      ]
     },
     "execution_count": 64,
     "metadata": {},
     "output_type": "execute_result"
    }
   ],
   "source": [
    "# loading the data\n",
    "df = pd.read_csv('co_crit3.csv')\n",
    "df['text_doc'] = df['post_body'].apply(nlp)\n",
    "df['post_type'].value_counts()"
   ]
  },
  {
   "cell_type": "markdown",
   "metadata": {
    "hideCode": false,
    "hidePrompt": false
   },
   "source": [
    "## Comparing perspectives: words\n",
    "The plot below compares the text of 'patient stories' with 'staff responses' in terms of past-tense verbs.\n",
    "- The vertical axis is for patients; horizontal axis is for staff\n",
    "- Words in the top-right are common to both patients and staff (i.e., was, were, did, had)\n",
    "- Words in the top-left are peculiar to patients (i.e., took, died, called, started, tried, refused)\n",
    "- Words in the bottom-right are peculiar to staff (i.e., raised, expectations, experiences, mentioned, expressed)\n",
    "- Clicking on a word 'died' shows the original text (85 patient posts, 1 staff post)\n"
   ]
  },
  {
   "cell_type": "code",
   "execution_count": 65,
   "metadata": {
    "ExecuteTime": {
     "end_time": "2020-04-18T15:32:19.700554Z",
     "start_time": "2020-04-18T15:32:19.696555Z"
    },
    "hideCode": false,
    "hidePrompt": false
   },
   "outputs": [
    {
     "data": {
      "text/html": [
       "\n",
       "        <iframe\n",
       "            width=\"1300\"\n",
       "            height=\"1000\"\n",
       "            src=\"co_crit3_past.html\"\n",
       "            frameborder=\"0\"\n",
       "            allowfullscreen\n",
       "        ></iframe>\n",
       "        "
      ],
      "text/plain": [
       "<IPython.lib.display.IFrame at 0x26846e1aa48>"
      ]
     },
     "execution_count": 65,
     "metadata": {},
     "output_type": "execute_result"
    }
   ],
   "source": [
    "#html = scattertextTag('VBD')\n",
    "file_name = 'co_crit3_past.html'\n",
    "#open(file_name, 'wb').write(html.encode('utf-8'))\n",
    "IFrame(src=file_name, width=1300, height=1000)"
   ]
  },
  {
   "cell_type": "markdown",
   "metadata": {
    "hideCode": false,
    "hidePrompt": false
   },
   "source": [
    "## Comparing perspectives: themes\n",
    "Based on an examination of the patient and staff text, we can formulate two ideas.\n",
    "\n",
    "1. Patients seem to be talking about 'real' clinical issues.\n",
    "\n",
    "2. Staff seem reluctant to address these clinical issues, and prefer to talk about 'valuing feedback' and 'patient experience'\n",
    "\n",
    "To test these ideas, we can make some 'topic themes' that we then map into the semantic space."
   ]
  },
  {
   "cell_type": "code",
   "execution_count": 66,
   "metadata": {
    "ExecuteTime": {
     "end_time": "2020-04-18T15:35:36.695937Z",
     "start_time": "2020-04-18T15:35:31.037937Z"
    },
    "hideCode": false,
    "hidePrompt": false
   },
   "outputs": [
    {
     "data": {
      "text/html": [
       "\n",
       "        <iframe\n",
       "            width=\"1000\"\n",
       "            height=\"700\"\n",
       "            src=\"co_crit3_themes.html\"\n",
       "            frameborder=\"0\"\n",
       "            allowfullscreen\n",
       "        ></iframe>\n",
       "        "
      ],
      "text/plain": [
       "<IPython.lib.display.IFrame at 0x2682af460c8>"
      ]
     },
     "execution_count": 66,
     "metadata": {},
     "output_type": "execute_result"
    }
   ],
   "source": [
    "themes = {\n",
    "    'clinical': ['clinical', 'unsafe', 'doctor', 'nurse', 'operation', 'diagnosis', 'misdiagnosis'],\n",
    "    'pain': ['agony', 'suffering', 'pains', 'suffer', 'screaming'],\n",
    "    'feedback': ['value', 'feedback', 'learning', 'listen', 'listening'],\n",
    "    'experience': ['experience', 'concern', 'concerns', 'feelings']\n",
    "}\n",
    "\n",
    "html = scattertextThemes(themes)\n",
    "file_name = 'co_crit3_themes.html'\n",
    "open(file_name, 'wb').write(html.encode('utf-8'))\n",
    "IFrame(src=file_name, width=1000, height=700)"
   ]
  },
  {
   "cell_type": "markdown",
   "metadata": {
    "hideCode": false,
    "hidePrompt": false
   },
   "source": [
    "## Which responses have least perspective taking?"
   ]
  },
  {
   "cell_type": "markdown",
   "metadata": {
    "hideCode": false,
    "hidePrompt": false
   },
   "source": [
    "Using the 'word embeddings' method, can we identify the staff response with the least perspective taking?\n",
    "\n",
    "Method: compare the word vectors for the staff responses with the original patient story and find the biggest difference.\n"
   ]
  },
  {
   "cell_type": "code",
   "execution_count": 67,
   "metadata": {
    "ExecuteTime": {
     "end_time": "2020-04-18T15:36:04.620050Z",
     "start_time": "2020-04-18T15:36:04.611051Z"
    },
    "hideCode": false,
    "hidePrompt": false
   },
   "outputs": [
    {
     "name": "stdout",
     "output_type": "stream",
     "text": [
      "ORIGINAL POST\n",
      "I was admitted in November 09 for a total thyroidectomy after being diagnosed with cancer in October (had a hemithyroidectomy in September). The surgery went well, my consultant is a great guy. Ward 21: very busy. However, I hardly dared ask anything when after requesting some pain killers, I was told rather nastily: you're not the only one 'love'; you'll have to wait! And wait I did. For an hour! \r\n",
      "Discharged in the middle of November, whilst complaining of feeling nauseous and tingly but 'you'll be fine' I was told. Got home feeling worse; didn't sleep as I was tingling all over and rang the ward on the next day  at 7 am to ask for advice; I was told to come back straight away before I started 'cramping' and to bring my suitcase with me. My partner drove me back but I got into such a state - fingers paralysed, unable to talk that an ambulance picked me up and rushed me in. \r\n",
      "Hypocalcemia: no calcium left in my body. I was re-admitted for a couple of days and given loads of calcium. My consultant came to explain that the glands that produce the calcium were damaged during surgery and only one was left which was re attached to the muscle. I should have had a blood test before I was discharged, especially when I was complaining of tingling but I didn't have on. I believe this was because they needed the bed. This was a very scary experience. Following my second discharge, I got terrible headaches: I kept losing my balance, hitting furniture, tripping until I became totally confused: couldn't figure out how to get dressed, use the toilets, write etc. \r\n",
      "I went to the A & E at 1 pm at the beginning of December; my partner explained how confused I was and getting slowly worse; I was seen by a triage nurse at 16.30! Then a doctor said I needed a CT scan but needed to be admitted. Got a bed at 18.30 in the assessment ward and just waited there with this excruciating headache. Saw another doctor at 23.30 who again said I needed to have a CT scan but it was by then too late. He thought I might have had a slight stroke. I asked for something for the pain. Come the next morning I was still waiting for pain relief, saw another doctor who said yet again that I needed to have a CT scan! But I'd have to wait as they were very busy; still waiting for pain relief; then got told that I'd have to wait until Tuesday as they had emergencies to deal with first and I was not one of them. Then, I was told I'd have to wait until Wednesday.\r\n",
      "Anyway, another junior doctor got involved and managed to book me an MRI for the Tuesday. This took place and the doctor told me that I'd had a bleed in the brain but they were sending the scan to Royal Hallamshire for advice. I was still in the assessment unit by then and finally heard from Hallamshire two days later.\r\n",
      " Was then told by another doctor that it was not a bleed but a blot clot and I could go home; just like that? yes, it'll get better by itself. Can it happen again? oh yes, as it's happened once already! And it's safe for me to go home even with this terrible headache? Yes. This was 10 in the morning: I left at 4 pm as it took 6 hours of waiting to get the medicine from the pharmacist. By then, I was not 'confused' anymore but very unhappy as I was scared. \r\n",
      "I went to see my GP and they made enquiries which led to the following: none of the neurosurgeons and radiographers could agree on a diagnosis. So, nearly a month later, the headaches have more or less gone but my head feels 'tight' and 'fuzzy' at times, not to mention slight episodes of confusion and I am having another MRI in Sheffield this week. Well before starting my radioactive treatment.\r\n",
      "I know how busy nurses and doctors are but being courteous and showing a bit of understanding doesn't take any longer than being uncaring or rude. Don't these doctors and nurses realise how this series of events could be distressing to me, especially in my vulnerable position? I am angry that I have been treated like this, with no regards whatsoever for my feelings and after my experiences I do not want to be treated at Doncaster Royal Infirmary again.\r\n",
      "\n",
      "STAFF RESPONSE\n",
      "Thank you for your feedback.\n"
     ]
    }
   ],
   "source": [
    "df_index = 1\n",
    "df = df.sort_values(by='similarityToOrigin', ascending=True, axis='index').reset_index(drop=True)\n",
    "selected_row = df.iloc[df_index, :,]\n",
    "print(f\"ORIGINAL POST\\n{selected_row[['thread_originText']][0]}\")\n",
    "print(f\"STAFF RESPONSE\\n{selected_row[['post_body']][0]}\")"
   ]
  },
  {
   "cell_type": "markdown",
   "metadata": {
    "hideCode": false,
    "hidePrompt": false
   },
   "source": [
    "The distressed cancer patient had her glads that produce calcilum damaged during surgery resulting in paralysis and provided conflicting information about a blood clot in her brain. \n",
    "\n",
    "Despite the clinical error, her main concern is the rudeness of staff who have ignored her feelings.\n",
    "\n",
    "The staff response is generic: 'Thank you for your feedback'"
   ]
  },
  {
   "cell_type": "markdown",
   "metadata": {
    "hideCode": false,
    "hidePrompt": false
   },
   "source": [
    "## Which responses have most psychological distancing?\n",
    "Psychological distancing (not distanciation) refers to defensive routines that hold problematic perspectives at a semantic distance, so as to neutralise their transformative potential. \n",
    "\n",
    "One type of psychological distancing is to refer to problematic perspectives as 'beliefs' or 'experiences'."
   ]
  },
  {
   "cell_type": "code",
   "execution_count": 68,
   "metadata": {
    "ExecuteTime": {
     "end_time": "2020-04-18T15:36:25.155103Z",
     "start_time": "2020-04-18T15:36:25.098101Z"
    },
    "hideCode": false,
    "hidePrompt": false
   },
   "outputs": [
    {
     "name": "stdout",
     "output_type": "stream",
     "text": [
      "\n",
      "We understand that following the experience you have had you would feel that we have been uncaring and unresponsive to your concerns and we are sorry for giving you this impression.\n"
     ]
    }
   ],
   "source": [
    "sentence_subject = ['you']\n",
    "sentence_object = ['experience']\n",
    "sentence_contains = ['impression', 'subjective']\n",
    "\n",
    "findSentence(sentence_subject, sentence_object, sentence_contains)"
   ]
  },
  {
   "cell_type": "markdown",
   "metadata": {
    "hideCode": false,
    "hidePrompt": false
   },
   "source": [
    "In the above excerpt has two types of psychological distancing:\n",
    "\n",
    "First: The distressed patient is writing about a formal complaint they have submitted to the hospital, which has been ignored, and which they cannot get any feedback on (they have tried ringing and calling). Accordingly, the patient has resorted to a public post. Despite multiple failings by the hospital (known to the hospital) the problem is described in a psychologising manner:\n",
    "- 'the experience'\n",
    "- 'you would feel'\n",
    "- 'your concerns'\n",
    "- 'this impression'\n",
    "\n",
    "Second: The staff (as a 'we') psychologises themselves, thus distancing from implications for action\n",
    "- 'we understand'\n",
    "- 'we are sorry'\n"
   ]
  },
  {
   "cell_type": "markdown",
   "metadata": {
    "hideCode": false,
    "hidePrompt": false
   },
   "source": [
    "# Conclusion\n",
    "\n",
    "My substantive interest is to understand the ways that people don't listen. \n",
    "- distancing (psychologising problems)\n",
    "- denial (ignoring topics)\n",
    "- denigration (undermining the motive, stigma, expertise)\n",
    "- rationalisation (individualising problems as one-off problem)\n",
    "\n",
    "These strategies of not-listening guard the threshold between self and other; creating psychological comfort at the cost of transformative dialogue. \n",
    "\n",
    "If we want to understand how 'the social' leads to change, we need to understand 'semantic contact' - how alternative perspectives are accepted, rejected or modified.\n",
    "\n",
    "But, for the purposes of our discussion, I also want to raise methodological questions:\n",
    "- Is there a meeting between sociocultural psychology and NLP?\n",
    "- What can NLP do for sociocultural psychology? - extra evidence, news tools, scale-up analyses?\n",
    "- What can sociocultural psychology do for NLP? - conceptualizing the psychology of 'thought vectors', understanding the inherent dialogicality of language?\n"
   ]
  }
 ],
 "metadata": {
  "hide_code_all_hidden": true,
  "kernelspec": {
   "display_name": "Python 3",
   "language": "python",
   "name": "python3"
  },
  "language_info": {
   "codemirror_mode": {
    "name": "ipython",
    "version": 3
   },
   "file_extension": ".py",
   "mimetype": "text/x-python",
   "name": "python",
   "nbconvert_exporter": "python",
   "pygments_lexer": "ipython3",
   "version": "3.7.6"
  },
  "toc": {
   "base_numbering": 1,
   "nav_menu": {
    "height": "345px",
    "width": "256px"
   },
   "number_sections": true,
   "sideBar": true,
   "skip_h1_title": false,
   "title_cell": "Table of Contents",
   "title_sidebar": "Contents",
   "toc_cell": true,
   "toc_position": {
    "height": "calc(100% - 180px)",
    "left": "10px",
    "top": "150px",
    "width": "165px"
   },
   "toc_section_display": true,
   "toc_window_display": true
  },
  "varInspector": {
   "cols": {
    "lenName": 16,
    "lenType": 16,
    "lenVar": 40
   },
   "kernels_config": {
    "python": {
     "delete_cmd_postfix": "",
     "delete_cmd_prefix": "del ",
     "library": "var_list.py",
     "varRefreshCmd": "print(var_dic_list())"
    },
    "r": {
     "delete_cmd_postfix": ") ",
     "delete_cmd_prefix": "rm(",
     "library": "var_list.r",
     "varRefreshCmd": "cat(var_dic_list()) "
    }
   },
   "types_to_exclude": [
    "module",
    "function",
    "builtin_function_or_method",
    "instance",
    "_Feature"
   ],
   "window_display": false
  }
 },
 "nbformat": 4,
 "nbformat_minor": 2
}
