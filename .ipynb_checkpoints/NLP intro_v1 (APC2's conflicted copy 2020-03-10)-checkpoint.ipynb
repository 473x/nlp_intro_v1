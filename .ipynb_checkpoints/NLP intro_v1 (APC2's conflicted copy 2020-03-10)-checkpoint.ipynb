{
 "cells": [
  {
   "cell_type": "code",
   "execution_count": 1,
   "metadata": {
    "ExecuteTime": {
     "end_time": "2020-03-12T08:20:07.078775Z",
     "start_time": "2020-03-12T08:19:58.685908Z"
    },
    "code_folding": [],
    "hideCode": false,
    "hidePrompt": false
   },
   "outputs": [
    {
     "name": "stdout",
     "output_type": "stream",
     "text": [
      "Notebook loaded successfully\n"
     ]
    }
   ],
   "source": [
    "# LOAD MODULES\n",
    "from IPython.core.display import display, HTML # for max width\n",
    "display(HTML(\"<style>.container { width:100% !important; }</style>\"))\n",
    "import pandas as pd\n",
    "from IPython.core.interactiveshell import InteractiveShell\n",
    "from spacy.tokens import Doc, Span, Token\n",
    "import scattertext as st\n",
    "from IPython.display import IFrame\n",
    "import matplotlib.pyplot as plt\n",
    "from sklearn.decomposition import PCA\n",
    "from scipy import spatial\n",
    "cosine_similarity = lambda x, y: 1 - spatial.distance.cosine(x, y)\n",
    "import spacy # software for analysing text\n",
    "from spacy import displacy\n",
    "nlp = spacy.load('en_core_web_lg') # a medium english language model\n",
    "import warnings\n",
    "warnings.filterwarnings('ignore')\n",
    "\n",
    "# LOAD FUNCTIONS\n",
    "def compareMeanings(words):\n",
    "    # calculate similarities\n",
    "    pca = PCA(n_components=2)\n",
    "    pca.fit([nlp(word).vector for word in words])\n",
    "    word_vecs_2d = pca.transform([nlp(word).vector for word in words])\n",
    "    \n",
    "    # create plot \n",
    "    plt.figure(figsize=(5,5))\n",
    "    plt.scatter(word_vecs_2d[:,0], word_vecs_2d[:,1])\n",
    "    # for each word and coordinate pair: draw the text on the plot\n",
    "    for word, coord in zip(words, word_vecs_2d):\n",
    "        x, y = coord\n",
    "        plt.text(x+.1, y+.1, word, size= 12)\n",
    "    # show the plot\n",
    "    plt.show()\n",
    "    \n",
    "def mathsOnMeaning(start, subtract, add):\n",
    "    x = nlp.vocab[start].vector - nlp.vocab[subtract].vector + nlp.vocab[add].vector\n",
    "    \n",
    "    similar_words = []\n",
    "    for word in nlp.vocab:\n",
    "        if not (word.has_vector & word.is_lower):\n",
    "            continue\n",
    "        if not ((word.text!=start)&(word.text!=add)&(word.text!=subtract)):\n",
    "            continue\n",
    "     \n",
    "        similarity = cosine_similarity(x, word.vector)\n",
    "        similar_words.append((word, similarity))\n",
    "        \n",
    "    similar_words = sorted(similar_words, key=lambda item: -item[1])\n",
    "    result = [w[0].text for w in similar_words[:5]][0]\n",
    "    print(f\"'{start}' minus '{subtract}' add '{add}' = {result}\")\n",
    "    \n",
    "def scattertextTag(tag):\n",
    "    def getX(doc):\n",
    "        out = [x.text for x in doc if (x.tag_ in [tag])]\n",
    "        return nlp(' '.join(out))\n",
    "    df['text_x'] = df['text_doc'].apply(getX)\n",
    "    \n",
    "    corpus = st.CorpusFromParsedDocuments(df, \n",
    "                                          parsed_col='text_x',\n",
    "                                category_col='post_type'\n",
    "                                         ).build()\n",
    "    html = st.produce_scattertext_explorer(corpus,\n",
    "             category='story',\n",
    "             category_name='Patient Criticism',\n",
    "             not_category_name='Staff Responses',\n",
    "             #characteristic_scorer=None,\n",
    "             alternative_text_field='post_body',\n",
    "             show_characteristic=False,                              \n",
    "             width_in_pixels=800)\n",
    "    return html\n",
    "\n",
    "def scattertextThemes(topics):\n",
    "    topic_feature_builder = st.FeatsFromTopicModel(topics)\n",
    "    \n",
    "    #CREATE CORPUS\n",
    "    corpus = st.CorpusFromParsedDocuments(df, \n",
    "                                          parsed_col='text_doc',\n",
    "                                          category_col='post_type',\n",
    "                                          feats_from_spacy_doc=topic_feature_builder\n",
    "                                          ).build()\n",
    "    \n",
    "    # CREATE PLOT\n",
    "    html = st.produce_scattertext_explorer(corpus,\n",
    "                                          category='story',\n",
    "                                          category_name='Patient Criticism',\n",
    "                                          not_category_name = 'Hospital Response',\n",
    "                                          width_in_pixels=600,\n",
    "                                           height_in_pixels=400,\n",
    "                                          show_characteristic=False,\n",
    "                                           use_non_text_features=True,\n",
    "                                           show_top_terms=True,\n",
    "                                          minimum_term_frequency=5,\n",
    "                                          use_full_doc=True,\n",
    "                                          p_value_colors=True,\n",
    "                                          max_snippets = 11,\n",
    "                                           pmi_threshold_coefficient=0,\n",
    "                                        topic_model_term_lists=topic_feature_builder.get_top_model_term_lists()\n",
    "                                          )\n",
    "    return html\n",
    "\n",
    "def findSentence(sentence_subject, sentence_objecet, sentence_contains):\n",
    "    print('')\n",
    "    if len(sentence_contains)>0:\n",
    "        for doc in df.loc[df['post_type']=='response', 'text_doc']:\n",
    "            for sent in doc.sents:\n",
    "                for tok in sent:\n",
    "                    if tok.text.lower() in sentence_contains:\n",
    "                        for tok in sent:\n",
    "                            if 'obj' in tok.dep_:\n",
    "                                if tok.text.lower() in sentence_object:\n",
    "                                    for tok in sent:\n",
    "                                        if 'subj' in tok.dep_:\n",
    "                                            if tok.text.lower() in sentence_subject:\n",
    "                                                print(tok.sent)\n",
    "                                                #displacy.render(tok.sent, jupyter=True, style='dep')\n",
    "                                                break\n",
    "    else:\n",
    "        for doc in df.loc[df['post_type']=='response', 'text_doc']:\n",
    "            for sent in doc.sents:\n",
    "                for tok in sent:\n",
    "                    if 'obj' in tok.dep_:\n",
    "                        if tok.text.lower() in sentence_object:\n",
    "                            for tok in sent:\n",
    "                                if 'subj' in tok.dep_:\n",
    "                                    if tok.text.lower() in sentence_subject:\n",
    "                                        print(tok.sent)\n",
    "                                        #displacy.render(tok.sent, jupyter=True, style='dep')\n",
    "                                        break\n",
    "print('Notebook loaded successfully')"
   ]
  },
  {
   "cell_type": "markdown",
   "metadata": {
    "hideCode": false,
    "hidePrompt": false,
    "toc": true
   },
   "source": [
    "<h1>Table of Contents<span class=\"tocSkip\"></span></h1>\n",
    "<div class=\"toc\"><ul class=\"toc-item\"><li><span><a href=\"#Introduction\" data-toc-modified-id=\"Introduction-1\"><span class=\"toc-item-num\">1&nbsp;&nbsp;</span>Introduction</a></span><ul class=\"toc-item\"><li><span><a href=\"#Questions\" data-toc-modified-id=\"Questions-1.1\"><span class=\"toc-item-num\">1.1&nbsp;&nbsp;</span>Questions</a></span></li><li><span><a href=\"#Inspirations\" data-toc-modified-id=\"Inspirations-1.2\"><span class=\"toc-item-num\">1.2&nbsp;&nbsp;</span>Inspirations</a></span></li></ul></li><li><span><a href=\"#Natural-Language-Processing-(NLP)\" data-toc-modified-id=\"Natural-Language-Processing-(NLP)-2\"><span class=\"toc-item-num\">2&nbsp;&nbsp;</span>Natural Language Processing (NLP)</a></span><ul class=\"toc-item\"><li><span><a href=\"#Recent-Past:-Word-Frequency\" data-toc-modified-id=\"Recent-Past:-Word-Frequency-2.1\"><span class=\"toc-item-num\">2.1&nbsp;&nbsp;</span>Recent Past: Word Frequency</a></span></li><li><span><a href=\"#Near-future:-analysing-meaning?\" data-toc-modified-id=\"Near-future:-analysing-meaning?-2.2\"><span class=\"toc-item-num\">2.2&nbsp;&nbsp;</span>Near future: analysing meaning?</a></span></li><li><span><a href=\"#Comparing-sentence-meaning?\" data-toc-modified-id=\"Comparing-sentence-meaning?-2.3\"><span class=\"toc-item-num\">2.3&nbsp;&nbsp;</span>Comparing sentence meaning?</a></span></li><li><span><a href=\"#Comparing-sentence-meaning?\" data-toc-modified-id=\"Comparing-sentence-meaning?-2.4\"><span class=\"toc-item-num\">2.4&nbsp;&nbsp;</span>Comparing sentence meaning?</a></span></li><li><span><a href=\"#Scoring-sentences-against-target-meaning\" data-toc-modified-id=\"Scoring-sentences-against-target-meaning-2.5\"><span class=\"toc-item-num\">2.5&nbsp;&nbsp;</span>Scoring sentences against target meaning</a></span></li><li><span><a href=\"#Adding-and-subtracting-meanings?\" data-toc-modified-id=\"Adding-and-subtracting-meanings?-2.6\"><span class=\"toc-item-num\">2.6&nbsp;&nbsp;</span>Adding and subtracting meanings?</a></span></li><li><span><a href=\"#'Thought-vectors'\" data-toc-modified-id=\"'Thought-vectors'-2.7\"><span class=\"toc-item-num\">2.7&nbsp;&nbsp;</span>'Thought vectors'</a></span></li></ul></li><li><span><a href=\"#Hospital-Staff-Responding-to-Criticism\" data-toc-modified-id=\"Hospital-Staff-Responding-to-Criticism-3\"><span class=\"toc-item-num\">3&nbsp;&nbsp;</span>Hospital Staff Responding to Criticism</a></span><ul class=\"toc-item\"><li><span><a href=\"#Research-context\" data-toc-modified-id=\"Research-context-3.1\"><span class=\"toc-item-num\">3.1&nbsp;&nbsp;</span>Research context</a></span></li><li><span><a href=\"#Comparing-perspectives:-words\" data-toc-modified-id=\"Comparing-perspectives:-words-3.2\"><span class=\"toc-item-num\">3.2&nbsp;&nbsp;</span>Comparing perspectives: words</a></span></li><li><span><a href=\"#Comparing-perspectives:-themes\" data-toc-modified-id=\"Comparing-perspectives:-themes-3.3\"><span class=\"toc-item-num\">3.3&nbsp;&nbsp;</span>Comparing perspectives: themes</a></span></li><li><span><a href=\"#Which-responses-have-least-perspective-taking?\" data-toc-modified-id=\"Which-responses-have-least-perspective-taking?-3.4\"><span class=\"toc-item-num\">3.4&nbsp;&nbsp;</span>Which responses have least perspective taking?</a></span></li><li><span><a href=\"#Which-responses-have-most-psychological-distancing?\" data-toc-modified-id=\"Which-responses-have-most-psychological-distancing?-3.5\"><span class=\"toc-item-num\">3.5&nbsp;&nbsp;</span>Which responses have most psychological distancing?</a></span></li></ul></li><li><span><a href=\"#Conclusion\" data-toc-modified-id=\"Conclusion-4\"><span class=\"toc-item-num\">4&nbsp;&nbsp;</span>Conclusion</a></span></li></ul></div>"
   ]
  },
  {
   "cell_type": "markdown",
   "metadata": {
    "hideCode": true,
    "hidePrompt": true
   },
   "source": [
    "# Introduction"
   ]
  },
  {
   "cell_type": "markdown",
   "metadata": {
    "hideCode": true,
    "hidePrompt": true
   },
   "source": [
    "## Questions\n",
    "\n",
    "My focus is the constitutive and creative potential of social interaction; which I take to be the basis of all human meaning-making.\n",
    "\n",
    "But, dialogue, social interaction, and perspective-taking often don't lead to any meaning-making or transformation.\n",
    "\n",
    "Thus, I'm increasingly interested in how transformative dialogue is prevented, how people ignore and dismiss one another, and how we fail to take the perspective of the other. \n",
    "\n",
    "I study the meeting/clash/dismissing of perspectives at two levels:\n",
    "1. What are the differences of perspective in the social world?\n",
    "2. How do these perspectives collide/co-exist within individuals?"
   ]
  },
  {
   "cell_type": "markdown",
   "metadata": {
    "hideCode": false,
    "hidePrompt": false
   },
   "source": [
    "## Inspirations\n",
    "\n",
    "Classic sociocultural lineage: Peirce, Dewey, James, Mead, Bakhtin, Vygotksy, Wittgenstein, Markova, Linell <br>\n",
    "<br>\n",
    "But also (my focus today): Recent developments in 'natural language processing'\n"
   ]
  },
  {
   "cell_type": "markdown",
   "metadata": {
    "hideCode": false,
    "hidePrompt": false
   },
   "source": [
    "# Natural Language Processing (NLP)\n",
    "\n",
    "NLP refers to using computers to search, manipulate and respond to human language\n",
    "\n",
    "It is closely connected to AI, Machine Learning, Big Data\n",
    "\n",
    "Is it relevant for sociocultural psychology?\n",
    "\n",
    "Much current 'machine learning' research focuses on extracting meanings from text and image - and this is the bread and butter of sociocultural psychology. Indeed, analysis of the big data from the Hadron Colider is actually relatively straightforward compared to analysing all the text and images on the internet. Google, Facebook, etc. are investing vast resources in making computers understand text, image and sound in a way that matters for humans."
   ]
  },
  {
   "cell_type": "markdown",
   "metadata": {
    "hideCode": false,
    "hidePrompt": false
   },
   "source": [
    "## Recent Past: Word Frequency"
   ]
  },
  {
   "cell_type": "markdown",
   "metadata": {
    "hideCode": false,
    "hidePrompt": false
   },
   "source": [
    "To-date most psychological research using computers to analyse text has focused on word-frequency. Because the words we speak are closely connected to our thought patterns, this has produced several interesting results. For example:\n",
    "- Identifying [authorship in Shakespeare's plays](http://elizabethan-theatre.org/wps/wp-content/uploads/2015/07/Double-Falsehood-by-Ryan-Boyd-Psychological-Science-2015.pdf)\n",
    "- Longitudinal studies of Mayor [Giuliani's adaptation to the crisis of 9/11](https://www.sciencedirect.com/science/article/abs/pii/S0092656602923494)\n",
    "- Detecting people's [personality from their writing style](https://www.ncbi.nlm.nih.gov/pmc/articles/PMC2885844/?_escaped_fragment_=po=2.77778)\n",
    "- Monitoring [public anxiety](https://www.tandfonline.com/doi/abs/10.1080/10410236.2011.571759) and public mood (which is [associated with stock prices](https://arxiv.org/pdf/1010.3003&))\n",
    "\n",
    "But, all these studies use fairly basic word count techniques, or, slightly more advanced sentiment analysis."
   ]
  },
  {
   "cell_type": "markdown",
   "metadata": {
    "hideCode": false,
    "hidePrompt": false
   },
   "source": [
    "## Near future: analysing meaning?"
   ]
  },
  {
   "cell_type": "markdown",
   "metadata": {
    "hideCode": true,
    "hidePrompt": true
   },
   "source": [
    "Word vectors, or 'word embeddings', developed in the late 1990s by Yoshua Bengio, Geoffrey Hinton, et al. But, their significance was only appreciated in about 2013.\n",
    "\n",
    "Before about 2013, most computational analysis of words focused on the textual appearance of a word; for example, 'dog' was similar to 'doggy' (same stem), similar to 'god' (same letters) and 'hog' (2 letters in the same order), but without any similarity to 'cat' (no similar letters). There seemed to be no way to make computers understand that 'dog' and 'cat' are both family pets and thus semantically related.\n",
    "\n",
    "The breakthrough came from Wittgenstein's (1953; also Frith, 1957) insight: the meaning of words comes from the context in which they are used. Consider the sentence 'the X sat on the mat' - most people would agree that 'dog' and 'cat' are plausible candidates for X. That is to say, 'dog' and 'cat' occupy similar roles within similar sentences. \n",
    "\n",
    "Word embeddings encode the meaning of words not in terms of the words themselves, but, in terms of the context in which the words appear. By analyzing billions of webpages and books, statistical models are built based on which words occur in the same context. These models _seem_ to encode meaning."
   ]
  },
  {
   "cell_type": "markdown",
   "metadata": {
    "hideCode": false,
    "hidePrompt": false
   },
   "source": [
    "## Comparing sentence meaning?\n",
    "Most people would agree that 'dog' is more similar to 'cat' than 'road' - and the models agree:"
   ]
  },
  {
   "cell_type": "code",
   "execution_count": 2,
   "metadata": {
    "ExecuteTime": {
     "end_time": "2020-03-12T08:20:07.297526Z",
     "start_time": "2020-03-12T08:20:07.078775Z"
    },
    "hideCode": false,
    "hidePrompt": false,
    "scrolled": true
   },
   "outputs": [
    {
     "data": {
      "image/png": "[encoded data removed]",
      "text/plain": [
       "<Figure size 360x360 with 1 Axes>"
      ]
     },
     "metadata": {
      "needs_background": "light"
     },
     "output_type": "display_data"
    }
   ],
   "source": [
    "words = ['dog', 'cat', 'car', 'road', 'traffic', 'ideas']\n",
    "words = [ 'targets', 'bonus', 'pressure', 'governance', 'ethics', 'customers', 'employees', 'pluto', 'lunch']\n",
    "compareMeanings(words)"
   ]
  },
  {
   "cell_type": "code",
   "execution_count": 3,
   "metadata": {
    "ExecuteTime": {
     "end_time": "2020-03-12T08:20:07.406902Z",
     "start_time": "2020-03-12T08:20:07.297526Z"
    }
   },
   "outputs": [
    {
     "ename": "NameError",
     "evalue": "name 'x' is not defined",
     "output_type": "error",
     "traceback": [
      "\u001b[1;31m---------------------------------------------------------------------------\u001b[0m",
      "\u001b[1;31mNameError\u001b[0m                                 Traceback (most recent call last)",
      "\u001b[1;32m<ipython-input-3-6fcf9dfbd479>\u001b[0m in \u001b[0;36m<module>\u001b[1;34m\u001b[0m\n\u001b[1;32m----> 1\u001b[1;33m \u001b[0mx\u001b[0m\u001b[1;33m\u001b[0m\u001b[1;33m\u001b[0m\u001b[0m\n\u001b[0m",
      "\u001b[1;31mNameError\u001b[0m: name 'x' is not defined"
     ]
    }
   ],
   "source": [
    "x"
   ]
  },
  {
   "cell_type": "markdown",
   "metadata": {
    "hideCode": false,
    "hidePrompt": false
   },
   "source": [
    "## Comparing sentence meaning?"
   ]
  },
  {
   "cell_type": "markdown",
   "metadata": {
    "hideCode": false,
    "hidePrompt": false
   },
   "source": [
    "We can also use these models to compare sentences. Consider the following (all using unique words). Just by averaging the word embeddings for each sentence, we can see, that the model corresponds broadly to our human judgement. <br>\n",
    "<br>\n",
    "Change the sentences and re-run the cell to see the result."
   ]
  },
  {
   "cell_type": "code",
   "execution_count": 4,
   "metadata": {
    "ExecuteTime": {
     "end_time": "2020-03-12T08:20:18.798975Z",
     "start_time": "2020-03-12T08:20:18.627103Z"
    },
    "hideCode": false,
    "hidePrompt": false
   },
   "outputs": [
    {
     "data": {
      "image/png": "[encoded data removed]",
      "text/plain": [
       "<Figure size 360x360 with 1 Axes>"
      ]
     },
     "metadata": {
      "needs_background": "light"
     },
     "output_type": "display_data"
    }
   ],
   "source": [
    "sentences = ['the pilot flew the plane', \n",
    "             'trees do not grow on rocks',\n",
    "             'i broke my arm', \n",
    "             'he snapped his leg',\n",
    "             'a helicopter soared up',\n",
    "             'plants need lots of water']\n",
    "\n",
    "compareMeanings(sentences)"
   ]
  },
  {
   "cell_type": "markdown",
   "metadata": {
    "hideCode": false,
    "hidePrompt": false
   },
   "source": [
    "Above is tiny visualisation. Google and other companies are applying similar methods to [map the meaning of all words](https://projector.tensorflow.org/) - created by analysing the sentence context in which words are used accross _all_ books, webpages, news sources and other archives."
   ]
  },
  {
   "cell_type": "markdown",
   "metadata": {},
   "source": [
    "## Scoring sentences against target meaning"
   ]
  },
  {
   "cell_type": "code",
   "execution_count": 5,
   "metadata": {
    "ExecuteTime": {
     "end_time": "2020-03-12T08:20:21.392728Z",
     "start_time": "2020-03-12T08:20:21.189601Z"
    }
   },
   "outputs": [],
   "source": [
    "%run \"C:\\Dropbox\\2_Research\\_Python_functions\\functions_spacy_v11.ipynb\""
   ]
  },
  {
   "cell_type": "code",
   "execution_count": 6,
   "metadata": {
    "ExecuteTime": {
     "end_time": "2020-03-12T08:20:23.705225Z",
     "start_time": "2020-03-12T08:20:23.689601Z"
    }
   },
   "outputs": [],
   "source": [
    "sentences = ['Hello care team on Daisy ward', \n",
    "             'Thank you and all the team for the excellent care.', \n",
    "             'We were all saddened by the death of my grandmother.', \n",
    "             'There was nothing more you could have done',\n",
    "             'sincerely, John',\n",
    "             'our galaxy has uninhabited planets']\n",
    "\n",
    "target_meaning = 'passed away died gone'"
   ]
  },
  {
   "cell_type": "code",
   "execution_count": 7,
   "metadata": {
    "ExecuteTime": {
     "end_time": "2020-03-12T08:20:24.611477Z",
     "start_time": "2020-03-12T08:20:24.517727Z"
    }
   },
   "outputs": [
    {
     "name": "stdout",
     "output_type": "stream",
     "text": [
      "6 ROWS OF TEXT SORTED BY SIMILARITY TO SEED TERMS\n"
     ]
    },
    {
     "data": {
      "text/html": [
       "<style  type=\"text/css\" >\n",
       "    #T_52a9bf76_643a_11ea_9086_2cfda1bf595frow0_col0 {\n",
       "            text-align:  left;\n",
       "        }    #T_52a9bf76_643a_11ea_9086_2cfda1bf595frow0_col1 {\n",
       "            text-align:  left;\n",
       "        }    #T_52a9bf76_643a_11ea_9086_2cfda1bf595frow1_col0 {\n",
       "            text-align:  left;\n",
       "        }    #T_52a9bf76_643a_11ea_9086_2cfda1bf595frow1_col1 {\n",
       "            text-align:  left;\n",
       "        }    #T_52a9bf76_643a_11ea_9086_2cfda1bf595frow2_col0 {\n",
       "            text-align:  left;\n",
       "        }    #T_52a9bf76_643a_11ea_9086_2cfda1bf595frow2_col1 {\n",
       "            text-align:  left;\n",
       "        }    #T_52a9bf76_643a_11ea_9086_2cfda1bf595frow3_col0 {\n",
       "            text-align:  left;\n",
       "        }    #T_52a9bf76_643a_11ea_9086_2cfda1bf595frow3_col1 {\n",
       "            text-align:  left;\n",
       "        }    #T_52a9bf76_643a_11ea_9086_2cfda1bf595frow4_col0 {\n",
       "            text-align:  left;\n",
       "        }    #T_52a9bf76_643a_11ea_9086_2cfda1bf595frow4_col1 {\n",
       "            text-align:  left;\n",
       "        }    #T_52a9bf76_643a_11ea_9086_2cfda1bf595frow5_col0 {\n",
       "            text-align:  left;\n",
       "        }    #T_52a9bf76_643a_11ea_9086_2cfda1bf595frow5_col1 {\n",
       "            text-align:  left;\n",
       "        }</style><table id=\"T_52a9bf76_643a_11ea_9086_2cfda1bf595f\" ><thead>    <tr>        <th class=\"blank level0\" ></th>        <th class=\"col_heading level0 col0\" >similarity</th>        <th class=\"col_heading level0 col1\" >sentence</th>    </tr></thead><tbody>\n",
       "                <tr>\n",
       "                        <th id=\"T_52a9bf76_643a_11ea_9086_2cfda1bf595flevel0_row0\" class=\"row_heading level0 row0\" >0</th>\n",
       "                        <td id=\"T_52a9bf76_643a_11ea_9086_2cfda1bf595frow0_col0\" class=\"data row0 col0\" >0.764</td>\n",
       "                        <td id=\"T_52a9bf76_643a_11ea_9086_2cfda1bf595frow0_col1\" class=\"data row0 col1\" >We were all saddened by the death of my grandmother.</td>\n",
       "            </tr>\n",
       "            <tr>\n",
       "                        <th id=\"T_52a9bf76_643a_11ea_9086_2cfda1bf595flevel0_row1\" class=\"row_heading level0 row1\" >1</th>\n",
       "                        <td id=\"T_52a9bf76_643a_11ea_9086_2cfda1bf595frow1_col0\" class=\"data row1 col0\" >0.697</td>\n",
       "                        <td id=\"T_52a9bf76_643a_11ea_9086_2cfda1bf595frow1_col1\" class=\"data row1 col1\" >There was nothing more you could have done</td>\n",
       "            </tr>\n",
       "            <tr>\n",
       "                        <th id=\"T_52a9bf76_643a_11ea_9086_2cfda1bf595flevel0_row2\" class=\"row_heading level0 row2\" >2</th>\n",
       "                        <td id=\"T_52a9bf76_643a_11ea_9086_2cfda1bf595frow2_col0\" class=\"data row2 col0\" >0.579</td>\n",
       "                        <td id=\"T_52a9bf76_643a_11ea_9086_2cfda1bf595frow2_col1\" class=\"data row2 col1\" >Thank you and all the team for the excellent care.</td>\n",
       "            </tr>\n",
       "            <tr>\n",
       "                        <th id=\"T_52a9bf76_643a_11ea_9086_2cfda1bf595flevel0_row3\" class=\"row_heading level0 row3\" >3</th>\n",
       "                        <td id=\"T_52a9bf76_643a_11ea_9086_2cfda1bf595frow3_col0\" class=\"data row3 col0\" >0.525</td>\n",
       "                        <td id=\"T_52a9bf76_643a_11ea_9086_2cfda1bf595frow3_col1\" class=\"data row3 col1\" >Hello care team on Daisy ward</td>\n",
       "            </tr>\n",
       "            <tr>\n",
       "                        <th id=\"T_52a9bf76_643a_11ea_9086_2cfda1bf595flevel0_row4\" class=\"row_heading level0 row4\" >4</th>\n",
       "                        <td id=\"T_52a9bf76_643a_11ea_9086_2cfda1bf595frow4_col0\" class=\"data row4 col0\" >0.429</td>\n",
       "                        <td id=\"T_52a9bf76_643a_11ea_9086_2cfda1bf595frow4_col1\" class=\"data row4 col1\" >our galaxy has uninhabited planets</td>\n",
       "            </tr>\n",
       "            <tr>\n",
       "                        <th id=\"T_52a9bf76_643a_11ea_9086_2cfda1bf595flevel0_row5\" class=\"row_heading level0 row5\" >5</th>\n",
       "                        <td id=\"T_52a9bf76_643a_11ea_9086_2cfda1bf595frow5_col0\" class=\"data row5 col0\" >0.404</td>\n",
       "                        <td id=\"T_52a9bf76_643a_11ea_9086_2cfda1bf595frow5_col1\" class=\"data row5 col1\" >sincerely, John</td>\n",
       "            </tr>\n",
       "    </tbody></table>"
      ],
      "text/plain": [
       "<pandas.io.formats.style.Styler at 0x1f6ab71d708>"
      ]
     },
     "metadata": {},
     "output_type": "display_data"
    },
    {
     "data": {
      "text/html": [
       "<style  type=\"text/css\" >\n",
       "</style><table id=\"T_52a9bf77_643a_11ea_8fc1_2cfda1bf595f\" ><thead>    <tr>        <th class=\"blank level0\" ></th>        <th class=\"col_heading level0 col0\" >similarity</th>        <th class=\"col_heading level0 col1\" >sentence</th>    </tr></thead><tbody>\n",
       "        </tbody></table>"
      ],
      "text/plain": [
       "<pandas.io.formats.style.Styler at 0x1f6a7434f48>"
      ]
     },
     "metadata": {},
     "output_type": "display_data"
    },
    {
     "data": {
      "text/html": [
       "<style  type=\"text/css\" >\n",
       "</style><table id=\"T_52a9bf78_643a_11ea_8321_2cfda1bf595f\" ><thead>    <tr>        <th class=\"blank level0\" ></th>        <th class=\"col_heading level0 col0\" >similarity</th>        <th class=\"col_heading level0 col1\" >sentence</th>    </tr></thead><tbody>\n",
       "        </tbody></table>"
      ],
      "text/plain": [
       "<pandas.io.formats.style.Styler at 0x1f6fda50288>"
      ]
     },
     "metadata": {},
     "output_type": "display_data"
    }
   ],
   "source": [
    "sentences = [nlp(x) for x in sentences]\n",
    "getSimilarText(nlp, sentences, target_meaning, min_sentence_length=2, n=(10, 0, 0), plot=False)"
   ]
  },
  {
   "cell_type": "code",
   "execution_count": null,
   "metadata": {},
   "outputs": [],
   "source": []
  },
  {
   "cell_type": "markdown",
   "metadata": {
    "hideCode": false,
    "hidePrompt": false
   },
   "source": [
    "## Adding and subtracting meanings?\n",
    "If words are represented as numbers, then, can we do mathematics with the meanings?\n",
    "\n",
    "What if we start with the meaning of 'king' subtract 'man' and add 'woman' - what would the outcome be?"
   ]
  },
  {
   "cell_type": "code",
   "execution_count": 8,
   "metadata": {
    "ExecuteTime": {
     "end_time": "2020-03-12T08:20:27.050214Z",
     "start_time": "2020-03-12T08:20:27.003336Z"
    },
    "hideCode": false,
    "hidePrompt": false
   },
   "outputs": [
    {
     "ename": "ValueError",
     "evalue": "Expected 2D array, got 1D array instead:\narray=[ 5.14087021e-01 -2.78459996e-01  2.42767006e-01  4.54899669e-02\n -2.59425014e-01 -3.19999963e-01  3.23920012e-01 -6.71030045e-01\n -9.98499990e-02  1.91499996e+00 -5.68080008e-01 -2.74451017e-01\n -1.49906695e-01  8.01083148e-02 -2.34764010e-01 -1.10950008e-01\n -1.02593988e-01  8.53819966e-01 -2.68564999e-01  3.85140002e-01\n -1.36149988e-01  6.35029972e-01 -7.62044966e-01 -2.52770007e-01\n -6.75969958e-01  3.89851004e-01 -2.89680034e-01  1.75860003e-01\n -5.16229987e-01  5.21373034e-01 -1.89909995e-01  6.73759937e-01\n  1.17550008e-01 -4.69896019e-01  5.88999987e-01  1.29447982e-01\n -5.71900010e-01 -5.47450066e-01 -4.84210014e-01  5.85503951e-02\n  4.82379973e-01 -2.86769986e-01 -2.01718003e-01 -4.74729985e-01\n  3.43068987e-01 -2.28827983e-01 -1.76439017e-01  6.05450034e-01\n  2.07139999e-01 -2.89762974e-01 -7.63288975e-01  4.37090009e-01\n -2.06220001e-01 -4.20252979e-01  1.98040009e-01  3.18709970e-01\n -9.51815993e-02 -3.23054016e-01 -6.02343976e-01  2.33427018e-01\n -2.15409994e-02 -6.29774988e-01  3.72432500e-01  3.41740012e-01\n  5.81782043e-01  7.02129960e-01  7.19299972e-01  3.28493983e-01\n  3.36353004e-01  1.06999278e-03 -5.53239942e-01 -2.46219993e-01\n -6.37116969e-01 -1.72280014e-01  8.97620022e-01 -1.38548493e-01\n -5.71600199e-02  6.41870022e-01  3.89845997e-01 -3.98499995e-01\n -7.28532076e-01  9.17530134e-02 -3.40600014e-01  3.46671015e-01\n -2.63424516e-01  3.68355006e-01  8.78340006e-01 -1.57473043e-01\n -4.29450005e-01 -4.91259992e-01 -1.23234093e-02  3.27509999e-01\n  1.44889995e-01 -3.27081025e-01  9.45929945e-01 -8.07909966e-01\n -2.07101002e-01 -8.87000561e-03 -5.59080057e-02  7.93069959e-01\n  3.58245999e-01  6.05069995e-01  1.01848006e-01 -1.89061001e-01\n  1.09030008e-02 -7.64109969e-01 -5.05369961e-01 -1.11367017e-01\n  6.56607985e-01 -1.48448005e-01  1.30866021e-01  6.62039995e-01\n -1.54300034e-02 -4.17466015e-01 -4.54553008e-01 -5.05975008e-01\n  4.15473014e-01  4.00425017e-01  7.88707018e-01 -5.19399941e-02\n -3.91889989e-01  8.31609964e-02  4.58730012e-01  1.23339996e-01\n  2.39246994e-01  3.81098986e-01  1.86000004e-01  2.69684941e-02\n -5.55605292e-01  2.53284007e-01 -6.67639971e-01 -5.55985987e-01\n -3.71130019e-01 -6.53919995e-01 -1.09452009e-01 -6.04629993e-01\n -4.62760001e-01  3.97581995e-01 -3.26649994e-01  2.60998994e-01\n -2.09120011e+00 -2.76019007e-01  2.68036008e-01 -3.35714996e-01\n -4.75513011e-01 -2.83890069e-02  4.40270007e-01  2.24150002e-01\n -4.50639009e-01 -6.16590083e-01  1.10599995e-01 -3.00589710e-01\n  1.24530017e-01  2.99279988e-01  3.03467005e-01 -3.42969984e-01\n  3.93694013e-01 -5.84149957e-01 -1.88180000e-01  2.98162013e-01\n -1.80879980e-01 -3.70599926e-02  4.09860015e-02 -8.07899833e-02\n  3.92280012e-01 -4.94572997e-01  4.01719987e-01  8.48469973e-01\n -1.94183022e-01  4.29439992e-01 -6.07819974e-01 -9.71959978e-02\n  3.55786979e-01 -1.79980025e-02 -5.83269954e-01 -2.50129998e-01\n  2.80330002e-01 -3.72725993e-01 -7.41009951e-01  1.03881419e-01\n  8.04000199e-02 -1.64650023e-01  1.09247290e-01 -5.68639994e-01\n  4.11399961e-01  5.69249988e-01 -2.14549989e-01 -1.56975001e-01\n  9.64879990e-02  2.01149940e-01 -9.81989980e-01 -9.00639057e-01\n  1.57496989e-01 -1.24968991e-01  9.11729932e-02 -5.17108977e-01\n  6.34269863e-02  1.72169998e-01 -2.36945987e-01 -7.58899987e-01\n  5.74868977e-01  6.10739946e-01  8.88329893e-02 -2.59585023e-01\n -9.03399587e-02 -8.53200257e-02  1.69609979e-01 -7.29799643e-03\n -2.05680996e-01 -1.93440005e-01 -4.92264986e-01  3.19920003e-01\n -3.66147995e-01  5.69279015e-01  6.27799928e-02  7.91899860e-02\n -3.93792808e-01  4.87831026e-01 -3.85988951e-02  7.52799988e-01\n  1.74212992e-01 -6.07100964e-01  4.81240004e-01  1.49755001e-01\n  4.32273030e-01  2.77104974e-01  4.56589013e-01 -3.32702011e-01\n -2.80999988e-01  6.35839045e-01  1.15425006e-01  7.80760050e-02\n  3.17489982e-01 -4.80073988e-01  4.07790095e-02 -8.21070611e-01\n -1.63500011e-03 -3.97460014e-01 -9.85880196e-02 -5.31642020e-01\n -4.52499986e-02 -4.23010021e-01  1.44284993e-01 -7.62080014e-01\n  2.15179995e-01 -7.05516994e-01  6.44015014e-01 -9.44310054e-02\n -5.36169946e-01 -1.31442308e+00  4.51058030e-01  1.44240022e-01\n  3.84460092e-02 -1.80320218e-02 -2.95219988e-01  4.90060002e-01\n  3.83020639e-02 -1.70519948e-02 -7.32708037e-01  5.04490495e-01\n  1.77098006e-01  5.36670089e-02 -2.40814000e-01 -8.20799917e-02\n  2.19249994e-01 -4.58490014e-01  3.68449986e-01  3.09300005e-01\n -1.21967995e+00 -2.55998999e-01 -8.38758051e-01 -1.99926004e-01\n -3.38140011e-01 -8.05199146e-03  1.42598450e-02 -3.56069952e-01\n  8.31499994e-02  2.89311975e-01  5.29001653e-03 -1.11837029e-01\n  1.28127396e+00  8.09929967e-01  5.58990002e-01 -2.18623012e-01\n -1.70580015e-01  7.43115008e-01 -1.40369982e-01  2.97093987e-01\n -3.28552961e-01 -3.10106993e-01  1.80748999e-01  3.05629998e-01\n  2.17199922e-02 -4.68929976e-01 -1.95840016e-01  6.82327509e-01\n -2.89168000e-01 -7.09619969e-02  8.64340067e-01 -3.79067004e-01].\nReshape your data either using array.reshape(-1, 1) if your data has a single feature or array.reshape(1, -1) if it contains a single sample.",
     "output_type": "error",
     "traceback": [
      "\u001b[1;31m---------------------------------------------------------------------------\u001b[0m",
      "\u001b[1;31mValueError\u001b[0m                                Traceback (most recent call last)",
      "\u001b[1;32m<ipython-input-8-6f264c945f5b>\u001b[0m in \u001b[0;36m<module>\u001b[1;34m\u001b[0m\n\u001b[0;32m      3\u001b[0m \u001b[0madd\u001b[0m \u001b[1;33m=\u001b[0m \u001b[1;34m'woman'\u001b[0m\u001b[1;33m\u001b[0m\u001b[1;33m\u001b[0m\u001b[0m\n\u001b[0;32m      4\u001b[0m \u001b[1;33m\u001b[0m\u001b[0m\n\u001b[1;32m----> 5\u001b[1;33m \u001b[0mmathsOnMeaning\u001b[0m\u001b[1;33m(\u001b[0m\u001b[0mstart\u001b[0m\u001b[1;33m,\u001b[0m \u001b[0msubtract\u001b[0m\u001b[1;33m,\u001b[0m \u001b[0madd\u001b[0m\u001b[1;33m)\u001b[0m\u001b[1;33m\u001b[0m\u001b[1;33m\u001b[0m\u001b[0m\n\u001b[0m",
      "\u001b[1;32m<ipython-input-1-3cd5cc24f065>\u001b[0m in \u001b[0;36mmathsOnMeaning\u001b[1;34m(start, subtract, add)\u001b[0m\n\u001b[0;32m     44\u001b[0m             \u001b[1;32mcontinue\u001b[0m\u001b[1;33m\u001b[0m\u001b[1;33m\u001b[0m\u001b[0m\n\u001b[0;32m     45\u001b[0m \u001b[1;33m\u001b[0m\u001b[0m\n\u001b[1;32m---> 46\u001b[1;33m         \u001b[0msimilarity\u001b[0m \u001b[1;33m=\u001b[0m \u001b[0mcosine_similarity\u001b[0m\u001b[1;33m(\u001b[0m\u001b[0mx\u001b[0m\u001b[1;33m,\u001b[0m \u001b[0mword\u001b[0m\u001b[1;33m.\u001b[0m\u001b[0mvector\u001b[0m\u001b[1;33m)\u001b[0m\u001b[1;33m\u001b[0m\u001b[1;33m\u001b[0m\u001b[0m\n\u001b[0m\u001b[0;32m     47\u001b[0m         \u001b[0msimilar_words\u001b[0m\u001b[1;33m.\u001b[0m\u001b[0mappend\u001b[0m\u001b[1;33m(\u001b[0m\u001b[1;33m(\u001b[0m\u001b[0mword\u001b[0m\u001b[1;33m,\u001b[0m \u001b[0msimilarity\u001b[0m\u001b[1;33m)\u001b[0m\u001b[1;33m)\u001b[0m\u001b[1;33m\u001b[0m\u001b[1;33m\u001b[0m\u001b[0m\n\u001b[0;32m     48\u001b[0m \u001b[1;33m\u001b[0m\u001b[0m\n",
      "\u001b[1;32m~\\Anaconda3\\envs\\PyR_202003_pandas_0_25_3\\lib\\site-packages\\sklearn\\metrics\\pairwise.py\u001b[0m in \u001b[0;36mcosine_similarity\u001b[1;34m(X, Y, dense_output)\u001b[0m\n\u001b[0;32m    894\u001b[0m     \u001b[1;31m# to avoid recursive import\u001b[0m\u001b[1;33m\u001b[0m\u001b[1;33m\u001b[0m\u001b[1;33m\u001b[0m\u001b[0m\n\u001b[0;32m    895\u001b[0m \u001b[1;33m\u001b[0m\u001b[0m\n\u001b[1;32m--> 896\u001b[1;33m     \u001b[0mX\u001b[0m\u001b[1;33m,\u001b[0m \u001b[0mY\u001b[0m \u001b[1;33m=\u001b[0m \u001b[0mcheck_pairwise_arrays\u001b[0m\u001b[1;33m(\u001b[0m\u001b[0mX\u001b[0m\u001b[1;33m,\u001b[0m \u001b[0mY\u001b[0m\u001b[1;33m)\u001b[0m\u001b[1;33m\u001b[0m\u001b[1;33m\u001b[0m\u001b[0m\n\u001b[0m\u001b[0;32m    897\u001b[0m \u001b[1;33m\u001b[0m\u001b[0m\n\u001b[0;32m    898\u001b[0m     \u001b[0mX_normalized\u001b[0m \u001b[1;33m=\u001b[0m \u001b[0mnormalize\u001b[0m\u001b[1;33m(\u001b[0m\u001b[0mX\u001b[0m\u001b[1;33m,\u001b[0m \u001b[0mcopy\u001b[0m\u001b[1;33m=\u001b[0m\u001b[1;32mTrue\u001b[0m\u001b[1;33m)\u001b[0m\u001b[1;33m\u001b[0m\u001b[1;33m\u001b[0m\u001b[0m\n",
      "\u001b[1;32m~\\Anaconda3\\envs\\PyR_202003_pandas_0_25_3\\lib\\site-packages\\sklearn\\metrics\\pairwise.py\u001b[0m in \u001b[0;36mcheck_pairwise_arrays\u001b[1;34m(X, Y, precomputed, dtype)\u001b[0m\n\u001b[0;32m    109\u001b[0m     \u001b[1;32melse\u001b[0m\u001b[1;33m:\u001b[0m\u001b[1;33m\u001b[0m\u001b[1;33m\u001b[0m\u001b[0m\n\u001b[0;32m    110\u001b[0m         X = check_array(X, accept_sparse='csr', dtype=dtype,\n\u001b[1;32m--> 111\u001b[1;33m                         warn_on_dtype=warn_on_dtype, estimator=estimator)\n\u001b[0m\u001b[0;32m    112\u001b[0m         Y = check_array(Y, accept_sparse='csr', dtype=dtype,\n\u001b[0;32m    113\u001b[0m                         warn_on_dtype=warn_on_dtype, estimator=estimator)\n",
      "\u001b[1;32m~\\Anaconda3\\envs\\PyR_202003_pandas_0_25_3\\lib\\site-packages\\sklearn\\utils\\validation.py\u001b[0m in \u001b[0;36mcheck_array\u001b[1;34m(array, accept_sparse, accept_large_sparse, dtype, order, copy, force_all_finite, ensure_2d, allow_nd, ensure_min_samples, ensure_min_features, warn_on_dtype, estimator)\u001b[0m\n\u001b[0;32m    550\u001b[0m                     \u001b[1;34m\"Reshape your data either using array.reshape(-1, 1) if \"\u001b[0m\u001b[1;33m\u001b[0m\u001b[1;33m\u001b[0m\u001b[0m\n\u001b[0;32m    551\u001b[0m                     \u001b[1;34m\"your data has a single feature or array.reshape(1, -1) \"\u001b[0m\u001b[1;33m\u001b[0m\u001b[1;33m\u001b[0m\u001b[0m\n\u001b[1;32m--> 552\u001b[1;33m                     \"if it contains a single sample.\".format(array))\n\u001b[0m\u001b[0;32m    553\u001b[0m \u001b[1;33m\u001b[0m\u001b[0m\n\u001b[0;32m    554\u001b[0m         \u001b[1;31m# in the future np.flexible dtypes will be handled like object dtypes\u001b[0m\u001b[1;33m\u001b[0m\u001b[1;33m\u001b[0m\u001b[1;33m\u001b[0m\u001b[0m\n",
      "\u001b[1;31mValueError\u001b[0m: Expected 2D array, got 1D array instead:\narray=[ 5.14087021e-01 -2.78459996e-01  2.42767006e-01  4.54899669e-02\n -2.59425014e-01 -3.19999963e-01  3.23920012e-01 -6.71030045e-01\n -9.98499990e-02  1.91499996e+00 -5.68080008e-01 -2.74451017e-01\n -1.49906695e-01  8.01083148e-02 -2.34764010e-01 -1.10950008e-01\n -1.02593988e-01  8.53819966e-01 -2.68564999e-01  3.85140002e-01\n -1.36149988e-01  6.35029972e-01 -7.62044966e-01 -2.52770007e-01\n -6.75969958e-01  3.89851004e-01 -2.89680034e-01  1.75860003e-01\n -5.16229987e-01  5.21373034e-01 -1.89909995e-01  6.73759937e-01\n  1.17550008e-01 -4.69896019e-01  5.88999987e-01  1.29447982e-01\n -5.71900010e-01 -5.47450066e-01 -4.84210014e-01  5.85503951e-02\n  4.82379973e-01 -2.86769986e-01 -2.01718003e-01 -4.74729985e-01\n  3.43068987e-01 -2.28827983e-01 -1.76439017e-01  6.05450034e-01\n  2.07139999e-01 -2.89762974e-01 -7.63288975e-01  4.37090009e-01\n -2.06220001e-01 -4.20252979e-01  1.98040009e-01  3.18709970e-01\n -9.51815993e-02 -3.23054016e-01 -6.02343976e-01  2.33427018e-01\n -2.15409994e-02 -6.29774988e-01  3.72432500e-01  3.41740012e-01\n  5.81782043e-01  7.02129960e-01  7.19299972e-01  3.28493983e-01\n  3.36353004e-01  1.06999278e-03 -5.53239942e-01 -2.46219993e-01\n -6.37116969e-01 -1.72280014e-01  8.97620022e-01 -1.38548493e-01\n -5.71600199e-02  6.41870022e-01  3.89845997e-01 -3.98499995e-01\n -7.28532076e-01  9.17530134e-02 -3.40600014e-01  3.46671015e-01\n -2.63424516e-01  3.68355006e-01  8.78340006e-01 -1.57473043e-01\n -4.29450005e-01 -4.91259992e-01 -1.23234093e-02  3.27509999e-01\n  1.44889995e-01 -3.27081025e-01  9.45929945e-01 -8.07909966e-01\n -2.07101002e-01 -8.87000561e-03 -5.59080057e-02  7.93069959e-01\n  3.58245999e-01  6.05069995e-01  1.01848006e-01 -1.89061001e-01\n  1.09030008e-02 -7.64109969e-01 -5.05369961e-01 -1.11367017e-01\n  6.56607985e-01 -1.48448005e-01  1.30866021e-01  6.62039995e-01\n -1.54300034e-02 -4.17466015e-01 -4.54553008e-01 -5.05975008e-01\n  4.15473014e-01  4.00425017e-01  7.88707018e-01 -5.19399941e-02\n -3.91889989e-01  8.31609964e-02  4.58730012e-01  1.23339996e-01\n  2.39246994e-01  3.81098986e-01  1.86000004e-01  2.69684941e-02\n -5.55605292e-01  2.53284007e-01 -6.67639971e-01 -5.55985987e-01\n -3.71130019e-01 -6.53919995e-01 -1.09452009e-01 -6.04629993e-01\n -4.62760001e-01  3.97581995e-01 -3.26649994e-01  2.60998994e-01\n -2.09120011e+00 -2.76019007e-01  2.68036008e-01 -3.35714996e-01\n -4.75513011e-01 -2.83890069e-02  4.40270007e-01  2.24150002e-01\n -4.50639009e-01 -6.16590083e-01  1.10599995e-01 -3.00589710e-01\n  1.24530017e-01  2.99279988e-01  3.03467005e-01 -3.42969984e-01\n  3.93694013e-01 -5.84149957e-01 -1.88180000e-01  2.98162013e-01\n -1.80879980e-01 -3.70599926e-02  4.09860015e-02 -8.07899833e-02\n  3.92280012e-01 -4.94572997e-01  4.01719987e-01  8.48469973e-01\n -1.94183022e-01  4.29439992e-01 -6.07819974e-01 -9.71959978e-02\n  3.55786979e-01 -1.79980025e-02 -5.83269954e-01 -2.50129998e-01\n  2.80330002e-01 -3.72725993e-01 -7.41009951e-01  1.03881419e-01\n  8.04000199e-02 -1.64650023e-01  1.09247290e-01 -5.68639994e-01\n  4.11399961e-01  5.69249988e-01 -2.14549989e-01 -1.56975001e-01\n  9.64879990e-02  2.01149940e-01 -9.81989980e-01 -9.00639057e-01\n  1.57496989e-01 -1.24968991e-01  9.11729932e-02 -5.17108977e-01\n  6.34269863e-02  1.72169998e-01 -2.36945987e-01 -7.58899987e-01\n  5.74868977e-01  6.10739946e-01  8.88329893e-02 -2.59585023e-01\n -9.03399587e-02 -8.53200257e-02  1.69609979e-01 -7.29799643e-03\n -2.05680996e-01 -1.93440005e-01 -4.92264986e-01  3.19920003e-01\n -3.66147995e-01  5.69279015e-01  6.27799928e-02  7.91899860e-02\n -3.93792808e-01  4.87831026e-01 -3.85988951e-02  7.52799988e-01\n  1.74212992e-01 -6.07100964e-01  4.81240004e-01  1.49755001e-01\n  4.32273030e-01  2.77104974e-01  4.56589013e-01 -3.32702011e-01\n -2.80999988e-01  6.35839045e-01  1.15425006e-01  7.80760050e-02\n  3.17489982e-01 -4.80073988e-01  4.07790095e-02 -8.21070611e-01\n -1.63500011e-03 -3.97460014e-01 -9.85880196e-02 -5.31642020e-01\n -4.52499986e-02 -4.23010021e-01  1.44284993e-01 -7.62080014e-01\n  2.15179995e-01 -7.05516994e-01  6.44015014e-01 -9.44310054e-02\n -5.36169946e-01 -1.31442308e+00  4.51058030e-01  1.44240022e-01\n  3.84460092e-02 -1.80320218e-02 -2.95219988e-01  4.90060002e-01\n  3.83020639e-02 -1.70519948e-02 -7.32708037e-01  5.04490495e-01\n  1.77098006e-01  5.36670089e-02 -2.40814000e-01 -8.20799917e-02\n  2.19249994e-01 -4.58490014e-01  3.68449986e-01  3.09300005e-01\n -1.21967995e+00 -2.55998999e-01 -8.38758051e-01 -1.99926004e-01\n -3.38140011e-01 -8.05199146e-03  1.42598450e-02 -3.56069952e-01\n  8.31499994e-02  2.89311975e-01  5.29001653e-03 -1.11837029e-01\n  1.28127396e+00  8.09929967e-01  5.58990002e-01 -2.18623012e-01\n -1.70580015e-01  7.43115008e-01 -1.40369982e-01  2.97093987e-01\n -3.28552961e-01 -3.10106993e-01  1.80748999e-01  3.05629998e-01\n  2.17199922e-02 -4.68929976e-01 -1.95840016e-01  6.82327509e-01\n -2.89168000e-01 -7.09619969e-02  8.64340067e-01 -3.79067004e-01].\nReshape your data either using array.reshape(-1, 1) if your data has a single feature or array.reshape(1, -1) if it contains a single sample."
     ]
    }
   ],
   "source": [
    "start = 'king'\n",
    "subtract = 'man'\n",
    "add = 'woman'\n",
    "\n",
    "mathsOnMeaning(start, subtract, add)"
   ]
  },
  {
   "cell_type": "markdown",
   "metadata": {},
   "source": [
    "- Try: 'uk' minus 'london' add 'geneva'\n",
    "- Try: 'berlin' minus 'germany' add 'france'\n",
    "- Try: 'india' minus 'curry' add 'pizza'\n",
    "- Try: 'man' minus 'boy' add 'girl'\n",
    "- Try: 'paris' minus 'france' add 'uk'"
   ]
  },
  {
   "cell_type": "markdown",
   "metadata": {
    "hideCode": false,
    "hidePrompt": false
   },
   "source": [
    "## 'Thought vectors'"
   ]
  },
  {
   "cell_type": "markdown",
   "metadata": {
    "hideCode": false,
    "hidePrompt": false
   },
   "source": [
    "Geoffrey Hinton, one of the developers of 'deep learning' techniques, talks about the above examples that focus on single words as only the first step: he (and Google) are working towards 'thought vectors'. \n",
    "\n",
    "While the above examples represent the meanings of words in a 300 dimensional mathematical space, they aim to map thoughts, ideas, sentences, and even whole articles and books into a multi-million dimensional space.\n",
    "\n",
    "Transcritpts, texts, and even audio-visual data will become open ho high-level semantic analysis (meaning clusters, emotion, contradictions, meta-perspectives and dialogical tensions).\n",
    "\n",
    "- Longitudinal analyses of an individual life-course\n",
    "- Comparison of perspectives of groups in conflict\n",
    "- Identifying the emergence of novelty and new ideas\n",
    "\n",
    "And, all done, on any size of dataset, in real-time, and for almost zero cost."
   ]
  },
  {
   "cell_type": "markdown",
   "metadata": {
    "hideCode": false,
    "hidePrompt": false
   },
   "source": [
    "# Hospital Staff Responding to Criticism \n",
    "Accidents in hospitals are a leading cause of death. At least 10% of people going into hospital come out with a new health problem. Causes include: delays, hospital infections, errors, wrong-site surgery, misdiagnosis, medication errors, not reading patient notes etc. \n",
    "\n",
    "While aviation, construction, and heavy industry have all become much safer over the last 50 years, healthcare has remained dangerous, and seems resistant to improvement. Some hospitals have a 'blame culture' with high defensiveness.\n",
    "\n",
    "One idea is that medical staff could learn from patients: patients know their own bodies, are usually the only person who has been at all the meetings, and have increasing access to medical knowledge."
   ]
  },
  {
   "cell_type": "markdown",
   "metadata": {
    "hideCode": false,
    "hidePrompt": false
   },
   "source": [
    "## Research context\n",
    "Question: How do healthcare staff respond to critical feedback?\n",
    "    \n",
    "Data: Online discussions between patients and staff in the UK (about 250k paired dialogs)\n",
    "    \n",
    "- What is the divergence of perspective between patients and staff?\n",
    "\n",
    "- How are staff listening to and/or ignoring the patient point of view?"
   ]
  },
  {
   "cell_type": "code",
   "execution_count": null,
   "metadata": {
    "ExecuteTime": {
     "end_time": "2020-03-12T08:20:07.406902Z",
     "start_time": "2020-03-12T08:19:58.716Z"
    },
    "hideCode": false,
    "hidePrompt": false
   },
   "outputs": [],
   "source": [
    "# loading the data\n",
    "df = pd.read_csv('co_crit3.csv')\n",
    "df['text_doc'] = df['post_body'].apply(nlp)\n",
    "df['post_type'].value_counts()"
   ]
  },
  {
   "cell_type": "markdown",
   "metadata": {
    "hideCode": false,
    "hidePrompt": false
   },
   "source": [
    "## Comparing perspectives: words\n",
    "The plot below compares the text of 'patient stories' with 'staff responses' in terms of past-tense verbs.\n",
    "- The vertical axis is for patients; horizontal axis is for staff\n",
    "- Words in the top-right are common to both patients and staff (i.e., was, were, did, had)\n",
    "- Words in the top-left are peculiar to patients (i.e., took, died, called, started, tried, refused)\n",
    "- Words in the bottom-right are peculiar to staff (i.e., raised, expectations, experiences, mentioned, expressed)\n",
    "- Clicking on a word 'died' shows the original text (85 patient posts, 1 staff post)\n"
   ]
  },
  {
   "cell_type": "code",
   "execution_count": null,
   "metadata": {
    "ExecuteTime": {
     "end_time": "2020-03-12T08:20:07.406902Z",
     "start_time": "2020-03-12T08:19:58.720Z"
    },
    "hideCode": false,
    "hidePrompt": false
   },
   "outputs": [],
   "source": [
    "#html = scattertextTag('VBD')\n",
    "file_name = 'co_crit3_past.html'\n",
    "#open(file_name, 'wb').write(html.encode('utf-8'))\n",
    "IFrame(src=file_name, width=1300, height=1000)"
   ]
  },
  {
   "cell_type": "markdown",
   "metadata": {
    "hideCode": false,
    "hidePrompt": false
   },
   "source": [
    "## Comparing perspectives: themes\n",
    "Based on an examination of the patient and staff text, we can formulate two ideas.\n",
    "\n",
    "1. Patients seem to be talking about 'real' clinical issues.\n",
    "\n",
    "2. Staff seem reluctant to address these clinical issues, and prefer to talk about 'valuing feedback' and 'patient experience'\n",
    "\n",
    "To test these ideas, we can make some 'topic themes' that we then map into the semantic space."
   ]
  },
  {
   "cell_type": "code",
   "execution_count": null,
   "metadata": {
    "ExecuteTime": {
     "end_time": "2020-03-12T08:20:07.406902Z",
     "start_time": "2020-03-12T08:19:58.722Z"
    },
    "hideCode": false,
    "hidePrompt": false
   },
   "outputs": [],
   "source": [
    "themes = {\n",
    "    'clinical': ['clinical', 'unsafe', 'doctor', 'nurse', 'operation', 'diagnosis', 'misdiagnosis'],\n",
    "    'pain': ['agony', 'suffering', 'pains', 'suffer', 'screaming'],\n",
    "    'feedback': ['value', 'feedback', 'learning', 'listen', 'listening'],\n",
    "    'experience': ['experience', 'concern', 'concerns', 'feelings']\n",
    "}\n",
    "\n",
    "html = scattertextThemes(themes)\n",
    "file_name = 'co_crit3_themes.html'\n",
    "open(file_name, 'wb').write(html.encode('utf-8'))\n",
    "IFrame(src=file_name, width=1000, height=700)"
   ]
  },
  {
   "cell_type": "markdown",
   "metadata": {
    "hideCode": false,
    "hidePrompt": false
   },
   "source": [
    "## Which responses have least perspective taking?"
   ]
  },
  {
   "cell_type": "markdown",
   "metadata": {
    "hideCode": false,
    "hidePrompt": false
   },
   "source": [
    "Using the 'word embeddings' method, can we identify the staff response with the least perspective taking?\n",
    "\n",
    "Method: compare the word vectors for the staff responses with the original patient story and find the biggest difference.\n"
   ]
  },
  {
   "cell_type": "code",
   "execution_count": null,
   "metadata": {
    "ExecuteTime": {
     "end_time": "2020-03-12T08:20:07.406902Z",
     "start_time": "2020-03-12T08:19:58.725Z"
    },
    "hideCode": false,
    "hidePrompt": false
   },
   "outputs": [],
   "source": [
    "df_index = 1\n",
    "df = df.sort_values(by='similarityToOrigin', ascending=True, axis='index').reset_index(drop=True)\n",
    "selected_row = df.iloc[df_index, :,]\n",
    "print(f\"ORIGINAL POST\\n{selected_row[['thread_originText']][0]}\")\n",
    "print(f\"STAFF RESPONSE\\n{selected_row[['post_body']][0]}\")"
   ]
  },
  {
   "cell_type": "markdown",
   "metadata": {
    "hideCode": false,
    "hidePrompt": false
   },
   "source": [
    "The distressed cancer patient had her glads that produce calcilum damaged during surgery resulting in paralysis and provided conflicting information about a blood clot in her brain. \n",
    "\n",
    "Despite the clinical error, her main concern is the rudeness of staff who have ignored her feelings.\n",
    "\n",
    "The staff response is generic: 'Thank you for your feedback'"
   ]
  },
  {
   "cell_type": "markdown",
   "metadata": {
    "hideCode": false,
    "hidePrompt": false
   },
   "source": [
    "## Which responses have most psychological distancing?\n",
    "Psychological distancing (not distanciation) refers to defensive routines that hold problematic perspectives at a semantic distance, so as to neutralise their transformative potential. \n",
    "\n",
    "One type of psychological distancing is to refer to problematic perspectives as 'beliefs' or 'experiences'."
   ]
  },
  {
   "cell_type": "code",
   "execution_count": null,
   "metadata": {
    "ExecuteTime": {
     "end_time": "2020-03-12T08:20:07.406902Z",
     "start_time": "2020-03-12T08:19:58.727Z"
    },
    "hideCode": false,
    "hidePrompt": false
   },
   "outputs": [],
   "source": [
    "sentence_subject = ['you']\n",
    "sentence_object = ['experience']\n",
    "sentence_contains = ['impression', 'subjective']\n",
    "\n",
    "findSentence(sentence_subject, sentence_object, sentence_contains)"
   ]
  },
  {
   "cell_type": "markdown",
   "metadata": {
    "hideCode": false,
    "hidePrompt": false
   },
   "source": [
    "In the above excerpt has two types of psychological distancing:\n",
    "\n",
    "First: The distressed patient is writing about a formal complaint they have submitted to the hospital, which has been ignored, and which they cannot get any feedback on (they have tried ringing and calling). Accordingly, the patient has resorted to a public post. Despite multiple failings by the hospital (known to the hospital) the problem is described in a psychologising manner:\n",
    "- 'the experience'\n",
    "- 'you would feel'\n",
    "- 'your concerns'\n",
    "- 'this impression'\n",
    "\n",
    "Second: The staff (as a 'we') psychologises themselves, thus distancing from implications for action\n",
    "- 'we understand'\n",
    "- 'we are sorry'\n"
   ]
  },
  {
   "cell_type": "markdown",
   "metadata": {
    "hideCode": false,
    "hidePrompt": false
   },
   "source": [
    "# Conclusion\n",
    "\n",
    "My substantive interest is to understand the ways that people don't listen. \n",
    "- distancing (psychologising problems)\n",
    "- denial (ignoring topics)\n",
    "- denigration (undermining the motive, stigma, expertise)\n",
    "- rationalisation (individualising problems as one-off problem)\n",
    "\n",
    "These strategies of not-listening guard the threshold between self and other; creating psychological comfort at the cost of transformative dialogue. \n",
    "\n",
    "If we want to understand how 'the social' leads to change, we need to understand 'semantic contact' - how alternative perspectives are accepted, rejected or modified.\n",
    "\n",
    "But, for the purposes of our discussion, I also want to raise methodological questions:\n",
    "- Is there a meeting between sociocultural psychology and NLP?\n",
    "- What can NLP do for sociocultural psychology? - extra evidence, news tools, scale-up analyses?\n",
    "- What can sociocultural psychology do for NLP? - conceptualizing the psychology of 'thought vectors', understanding the inherent dialogicality of language?\n"
   ]
  }
 ],
 "metadata": {
  "hide_code_all_hidden": true,
  "kernelspec": {
   "display_name": "Python 3",
   "language": "python",
   "name": "python3"
  },
  "language_info": {
   "codemirror_mode": {
    "name": "ipython",
    "version": 3
   },
   "file_extension": ".py",
   "mimetype": "text/x-python",
   "name": "python",
   "nbconvert_exporter": "python",
   "pygments_lexer": "ipython3",
   "version": "3.7.6"
  },
  "toc": {
   "base_numbering": 1,
   "nav_menu": {
    "height": "345px",
    "width": "256px"
   },
   "number_sections": true,
   "sideBar": true,
   "skip_h1_title": false,
   "title_cell": "Table of Contents",
   "title_sidebar": "Contents",
   "toc_cell": true,
   "toc_position": {
    "height": "calc(100% - 180px)",
    "left": "10px",
    "top": "150px",
    "width": "165px"
   },
   "toc_section_display": true,
   "toc_window_display": false
  },
  "varInspector": {
   "cols": {
    "lenName": 16,
    "lenType": 16,
    "lenVar": 40
   },
   "kernels_config": {
    "python": {
     "delete_cmd_postfix": "",
     "delete_cmd_prefix": "del ",
     "library": "var_list.py",
     "varRefreshCmd": "print(var_dic_list())"
    },
    "r": {
     "delete_cmd_postfix": ") ",
     "delete_cmd_prefix": "rm(",
     "library": "var_list.r",
     "varRefreshCmd": "cat(var_dic_list()) "
    }
   },
   "types_to_exclude": [
    "module",
    "function",
    "builtin_function_or_method",
    "instance",
    "_Feature"
   ],
   "window_display": false
  }
 },
 "nbformat": 4,
 "nbformat_minor": 2
}
