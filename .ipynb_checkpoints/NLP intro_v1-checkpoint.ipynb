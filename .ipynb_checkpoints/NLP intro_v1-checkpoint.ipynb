{
 "cells": [
  {
   "cell_type": "code",
   "execution_count": 1,
   "metadata": {
    "ExecuteTime": {
     "end_time": "2020-03-08T08:22:38.531622Z",
     "start_time": "2020-03-08T08:22:30.138780Z"
    },
    "code_folding": [],
    "hideCode": false,
    "hidePrompt": false
   },
   "outputs": [
    {
     "data": {
      "text/html": [
       "<style>.container { width:100% !important; }</style>"
      ],
      "text/plain": [
       "<IPython.core.display.HTML object>"
      ]
     },
     "metadata": {},
     "output_type": "display_data"
    },
    {
     "name": "stdout",
     "output_type": "stream",
     "text": [
      "Notebook loaded successfully\n"
     ]
    }
   ],
   "source": [
    "# LOAD MODULES\n",
    "from IPython.core.display import display, HTML # for max width\n",
    "display(HTML(\"<style>.container { width:100% !important; }</style>\"))\n",
    "import pandas as pd\n",
    "from IPython.core.interactiveshell import InteractiveShell\n",
    "from spacy.tokens import Doc, Span, Token\n",
    "import scattertext as st\n",
    "from IPython.display import IFrame\n",
    "import matplotlib.pyplot as plt\n",
    "from sklearn.decomposition import PCA\n",
    "from scipy import spatial\n",
    "cosine_similarity = lambda x, y: 1 - spatial.distance.cosine(x, y)\n",
    "import spacy # software for analysing text\n",
    "from spacy import displacy\n",
    "nlp = spacy.load('en_core_web_lg') # a medium english language model\n",
    "import warnings\n",
    "warnings.filterwarnings('ignore')\n",
    "\n",
    "# LOAD FUNCTIONS\n",
    "def compareMeanings(words):\n",
    "    # calculate similarities\n",
    "    pca = PCA(n_components=2)\n",
    "    pca.fit([nlp(word).vector for word in words])\n",
    "    word_vecs_2d = pca.transform([nlp(word).vector for word in words])\n",
    "    \n",
    "    # create plot \n",
    "    plt.figure(figsize=(10,5))\n",
    "    plt.scatter(word_vecs_2d[:,0], word_vecs_2d[:,1])\n",
    "    # for each word and coordinate pair: draw the text on the plot\n",
    "    for word, coord in zip(words, word_vecs_2d):\n",
    "        x, y = coord\n",
    "        plt.text(x, y, word, size= 15)\n",
    "    # show the plot\n",
    "    plt.show()\n",
    "    \n",
    "def mathsOnMeaning(start, subtract, add):\n",
    "    x = nlp.vocab[start].vector - nlp.vocab[subtract].vector + nlp.vocab[add].vector\n",
    "    \n",
    "    similar_words = []\n",
    "    for word in nlp.vocab:\n",
    "        if not (word.has_vector & word.is_lower):\n",
    "            continue\n",
    "        if not ((word.text!=start)&(word.text!=add)&(word.text!=subtract)):\n",
    "            continue\n",
    "     \n",
    "        similarity = cosine_similarity(x, word.vector)\n",
    "        similar_words.append((word, similarity))\n",
    "        \n",
    "    similar_words = sorted(similar_words, key=lambda item: -item[1])\n",
    "    result = [w[0].text for w in similar_words[:5]][0]\n",
    "    print(f\"'{start}' minus '{subtract}' add '{add}' = {result}\")\n",
    "    \n",
    "def scattertextTag(tag):\n",
    "    def getX(doc):\n",
    "        out = [x.text for x in doc if (x.tag_ in [tag])]\n",
    "        return nlp(' '.join(out))\n",
    "    df['text_x'] = df['text_doc'].apply(getX)\n",
    "    \n",
    "    corpus = st.CorpusFromParsedDocuments(df, \n",
    "                                          parsed_col='text_x',\n",
    "                                category_col='post_type'\n",
    "                                         ).build()\n",
    "    html = st.produce_scattertext_explorer(corpus,\n",
    "             category='story',\n",
    "             category_name='Patient Criticism',\n",
    "             not_category_name='Staff Responses',\n",
    "             #characteristic_scorer=None,\n",
    "             alternative_text_field='post_body',\n",
    "             show_characteristic=False,                              \n",
    "             width_in_pixels=800)\n",
    "    return html\n",
    "\n",
    "def scattertextThemes(topics):\n",
    "    topic_feature_builder = st.FeatsFromTopicModel(topics)\n",
    "    \n",
    "    #CREATE CORPUS\n",
    "    corpus = st.CorpusFromParsedDocuments(df, \n",
    "                                          parsed_col='text_doc',\n",
    "                                          category_col='post_type',\n",
    "                                          feats_from_spacy_doc=topic_feature_builder\n",
    "                                          ).build()\n",
    "    \n",
    "    # CREATE PLOT\n",
    "    html = st.produce_scattertext_explorer(corpus,\n",
    "                                          category='story',\n",
    "                                          category_name='Patient Criticism',\n",
    "                                          not_category_name = 'Hospital Response',\n",
    "                                          width_in_pixels=600,\n",
    "                                           height_in_pixels=400,\n",
    "                                          show_characteristic=False,\n",
    "                                           use_non_text_features=True,\n",
    "                                           show_top_terms=True,\n",
    "                                          minimum_term_frequency=5,\n",
    "                                          use_full_doc=True,\n",
    "                                          p_value_colors=True,\n",
    "                                          max_snippets = 11,\n",
    "                                           pmi_threshold_coefficient=0,\n",
    "                                        topic_model_term_lists=topic_feature_builder.get_top_model_term_lists()\n",
    "                                          )\n",
    "    return html\n",
    "\n",
    "def findSentence(sentence_subject, sentence_objecet, sentence_contains):\n",
    "    print('')\n",
    "    if len(sentence_contains)>0:\n",
    "        for doc in df.loc[df['post_type']=='response', 'text_doc']:\n",
    "            for sent in doc.sents:\n",
    "                for tok in sent:\n",
    "                    if tok.text.lower() in sentence_contains:\n",
    "                        for tok in sent:\n",
    "                            if 'obj' in tok.dep_:\n",
    "                                if tok.text.lower() in sentence_object:\n",
    "                                    for tok in sent:\n",
    "                                        if 'subj' in tok.dep_:\n",
    "                                            if tok.text.lower() in sentence_subject:\n",
    "                                                print(tok.sent)\n",
    "                                                #displacy.render(tok.sent, jupyter=True, style='dep')\n",
    "                                                break\n",
    "    else:\n",
    "        for doc in df.loc[df['post_type']=='response', 'text_doc']:\n",
    "            for sent in doc.sents:\n",
    "                for tok in sent:\n",
    "                    if 'obj' in tok.dep_:\n",
    "                        if tok.text.lower() in sentence_object:\n",
    "                            for tok in sent:\n",
    "                                if 'subj' in tok.dep_:\n",
    "                                    if tok.text.lower() in sentence_subject:\n",
    "                                        print(tok.sent)\n",
    "                                        #displacy.render(tok.sent, jupyter=True, style='dep')\n",
    "                                        break\n",
    "print('Notebook loaded successfully')"
   ]
  },
  {
   "cell_type": "markdown",
   "metadata": {
    "hideCode": false,
    "hidePrompt": false,
    "toc": true
   },
   "source": [
    "<h1>Table of Contents<span class=\"tocSkip\"></span></h1>\n",
    "<div class=\"toc\"><ul class=\"toc-item\"><li><span><a href=\"#Introduction\" data-toc-modified-id=\"Introduction-1\"><span class=\"toc-item-num\">1&nbsp;&nbsp;</span>Introduction</a></span><ul class=\"toc-item\"><li><span><a href=\"#Questions\" data-toc-modified-id=\"Questions-1.1\"><span class=\"toc-item-num\">1.1&nbsp;&nbsp;</span>Questions</a></span></li><li><span><a href=\"#Inspirations\" data-toc-modified-id=\"Inspirations-1.2\"><span class=\"toc-item-num\">1.2&nbsp;&nbsp;</span>Inspirations</a></span></li></ul></li><li><span><a href=\"#Natural-Language-Processing-(NLP)\" data-toc-modified-id=\"Natural-Language-Processing-(NLP)-2\"><span class=\"toc-item-num\">2&nbsp;&nbsp;</span>Natural Language Processing (NLP)</a></span><ul class=\"toc-item\"><li><span><a href=\"#Recent-Past:-Word-Frequency\" data-toc-modified-id=\"Recent-Past:-Word-Frequency-2.1\"><span class=\"toc-item-num\">2.1&nbsp;&nbsp;</span>Recent Past: Word Frequency</a></span></li><li><span><a href=\"#Near-future:-analysing-meaning?\" data-toc-modified-id=\"Near-future:-analysing-meaning?-2.2\"><span class=\"toc-item-num\">2.2&nbsp;&nbsp;</span>Near future: analysing meaning?</a></span></li><li><span><a href=\"#Comparing-sentence-meaning?\" data-toc-modified-id=\"Comparing-sentence-meaning?-2.3\"><span class=\"toc-item-num\">2.3&nbsp;&nbsp;</span>Comparing sentence meaning?</a></span></li><li><span><a href=\"#Comparing-sentence-meaning?\" data-toc-modified-id=\"Comparing-sentence-meaning?-2.4\"><span class=\"toc-item-num\">2.4&nbsp;&nbsp;</span>Comparing sentence meaning?</a></span></li><li><span><a href=\"#Scoring-sentences-against-target-meaning\" data-toc-modified-id=\"Scoring-sentences-against-target-meaning-2.5\"><span class=\"toc-item-num\">2.5&nbsp;&nbsp;</span>Scoring sentences against target meaning</a></span></li><li><span><a href=\"#Adding-and-subtracting-meanings?\" data-toc-modified-id=\"Adding-and-subtracting-meanings?-2.6\"><span class=\"toc-item-num\">2.6&nbsp;&nbsp;</span>Adding and subtracting meanings?</a></span></li><li><span><a href=\"#'Thought-vectors'\" data-toc-modified-id=\"'Thought-vectors'-2.7\"><span class=\"toc-item-num\">2.7&nbsp;&nbsp;</span>'Thought vectors'</a></span></li></ul></li><li><span><a href=\"#Hospital-Staff-Responding-to-Criticism\" data-toc-modified-id=\"Hospital-Staff-Responding-to-Criticism-3\"><span class=\"toc-item-num\">3&nbsp;&nbsp;</span>Hospital Staff Responding to Criticism</a></span><ul class=\"toc-item\"><li><span><a href=\"#Research-context\" data-toc-modified-id=\"Research-context-3.1\"><span class=\"toc-item-num\">3.1&nbsp;&nbsp;</span>Research context</a></span></li><li><span><a href=\"#Comparing-perspectives:-words\" data-toc-modified-id=\"Comparing-perspectives:-words-3.2\"><span class=\"toc-item-num\">3.2&nbsp;&nbsp;</span>Comparing perspectives: words</a></span></li><li><span><a href=\"#Comparing-perspectives:-themes\" data-toc-modified-id=\"Comparing-perspectives:-themes-3.3\"><span class=\"toc-item-num\">3.3&nbsp;&nbsp;</span>Comparing perspectives: themes</a></span></li><li><span><a href=\"#Which-responses-have-least-perspective-taking?\" data-toc-modified-id=\"Which-responses-have-least-perspective-taking?-3.4\"><span class=\"toc-item-num\">3.4&nbsp;&nbsp;</span>Which responses have least perspective taking?</a></span></li><li><span><a href=\"#Which-responses-have-most-psychological-distancing?\" data-toc-modified-id=\"Which-responses-have-most-psychological-distancing?-3.5\"><span class=\"toc-item-num\">3.5&nbsp;&nbsp;</span>Which responses have most psychological distancing?</a></span></li></ul></li><li><span><a href=\"#Conclusion\" data-toc-modified-id=\"Conclusion-4\"><span class=\"toc-item-num\">4&nbsp;&nbsp;</span>Conclusion</a></span></li></ul></div>"
   ]
  },
  {
   "cell_type": "markdown",
   "metadata": {
    "hideCode": true,
    "hidePrompt": true
   },
   "source": [
    "# Introduction"
   ]
  },
  {
   "cell_type": "markdown",
   "metadata": {
    "hideCode": true,
    "hidePrompt": true
   },
   "source": [
    "## Questions\n",
    "\n",
    "My focus is the constitutive and creative potential of social interaction; which I take to be the basis of all human meaning-making.\n",
    "\n",
    "But, dialogue, social interaction, and perspective-taking often don't lead to any meaning-making or transformation.\n",
    "\n",
    "Thus, I'm increasingly interested in how transformative dialogue is prevented, how people ignore and dismiss one another, and how we fail to take the perspective of the other. \n",
    "\n",
    "I study the meeting/clash/dismissing of perspectives at two levels:\n",
    "1. What are the differences of perspective in the social world?\n",
    "2. How do these perspectives collide/co-exist within individuals?"
   ]
  },
  {
   "cell_type": "markdown",
   "metadata": {
    "hideCode": false,
    "hidePrompt": false
   },
   "source": [
    "## Inspirations\n",
    "\n",
    "Classic sociocultural lineage: Peirce, Dewey, James, Mead, Bakhtin, Vygotksy, Wittgenstein, Markova, Linell <br>\n",
    "<br>\n",
    "But also (my focus today): Recent developments in 'natural language processing'\n"
   ]
  },
  {
   "cell_type": "markdown",
   "metadata": {
    "hideCode": false,
    "hidePrompt": false
   },
   "source": [
    "# Natural Language Processing (NLP)\n",
    "\n",
    "NLP refers to using computers to search, manipulate and respond to human language\n",
    "\n",
    "It is closely connected to AI, Machine Learning, Big Data\n",
    "\n",
    "Is it relevant for sociocultural psychology?\n",
    "\n",
    "Much current 'machine learning' research focuses on extracting meanings from text and image - and this is the bread and butter of sociocultural psychology. Indeed, analysis of the big data from the Hadron Colider is actually relatively straightforward compared to analysing all the text and images on the internet. Google, Facebook, etc. are investing vast resources in making computers understand text, image and sound in a way that matters for humans."
   ]
  },
  {
   "cell_type": "markdown",
   "metadata": {
    "hideCode": false,
    "hidePrompt": false
   },
   "source": [
    "## Recent Past: Word Frequency"
   ]
  },
  {
   "cell_type": "markdown",
   "metadata": {
    "hideCode": false,
    "hidePrompt": false
   },
   "source": [
    "To-date most psychological research using computers to analyse text has focused on word-frequency. Because the words we speak are closely connected to our thought patterns, this has produced several interesting results. For example:\n",
    "- Identifying [authorship in Shakespeare's plays](http://elizabethan-theatre.org/wps/wp-content/uploads/2015/07/Double-Falsehood-by-Ryan-Boyd-Psychological-Science-2015.pdf)\n",
    "- Longitudinal studies of Mayor [Giuliani's adaptation to the crisis of 9/11](https://www.sciencedirect.com/science/article/abs/pii/S0092656602923494)\n",
    "- Detecting people's [personality from their writing style](https://www.ncbi.nlm.nih.gov/pmc/articles/PMC2885844/?_escaped_fragment_=po=2.77778)\n",
    "- Monitoring [public anxiety](https://www.tandfonline.com/doi/abs/10.1080/10410236.2011.571759) and public mood (which is [associated with stock prices](https://arxiv.org/pdf/1010.3003&))\n",
    "\n",
    "But, all these studies use fairly basic word count techniques, or, slightly more advanced sentiment analysis."
   ]
  },
  {
   "cell_type": "markdown",
   "metadata": {
    "hideCode": false,
    "hidePrompt": false
   },
   "source": [
    "## Near future: analysing meaning?"
   ]
  },
  {
   "cell_type": "markdown",
   "metadata": {
    "hideCode": true,
    "hidePrompt": true
   },
   "source": [
    "Word vectors, or 'word embeddings', developed in the late 1990s by Yoshua Bengio, Geoffrey Hinton, et al. But, their significance was only appreciated in about 2013.\n",
    "\n",
    "Before about 2013, most computational analysis of words focused on the textual appearance of a word; for example, 'dog' was similar to 'doggy' (same stem), similar to 'god' (same letters) and 'hog' (2 letters in the same order), but without any similarity to 'cat' (no similar letters). There seemed to be no way to make computers understand that 'dog' and 'cat' are both family pets and thus semantically related.\n",
    "\n",
    "The breakthrough came from Wittgenstein's (1953; also Frith, 1957) insight: the meaning of words comes from the context in which they are used. Consider the sentence 'the X sat on the mat' - most people would agree that 'dog' and 'cat' are plausible candidates for X. That is to say, 'dog' and 'cat' occupy similar roles within similar sentences. \n",
    "\n",
    "Word embeddings encode the meaning of words not in terms of the words themselves, but, in terms of the context in which the words appear. By analyzing billions of webpages and books, statistical models are built based on which words occur in the same context. These models _seem_ to encode meaning."
   ]
  },
  {
   "cell_type": "markdown",
   "metadata": {
    "hideCode": false,
    "hidePrompt": false
   },
   "source": [
    "## Comparing sentence meaning?\n",
    "Most people would agree that 'dog' is more similar to 'cat' than 'road' - and the models agree:"
   ]
  },
  {
   "cell_type": "code",
   "execution_count": 2,
   "metadata": {
    "ExecuteTime": {
     "end_time": "2020-03-08T08:22:38.719120Z",
     "start_time": "2020-03-08T08:22:38.531622Z"
    },
    "hideCode": false,
    "hidePrompt": false
   },
   "outputs": [
    {
     "data": {
      "image/png": "[encoded data removed]",
      "text/plain": [
       "<Figure size 720x360 with 1 Axes>"
      ]
     },
     "metadata": {
      "needs_background": "light"
     },
     "output_type": "display_data"
    }
   ],
   "source": [
    "words = ['dog', 'cat', 'car', 'road', 'traffic', 'ideas']\n",
    "    \n",
    "compareMeanings(words)"
   ]
  },
  {
   "cell_type": "markdown",
   "metadata": {
    "hideCode": false,
    "hidePrompt": false
   },
   "source": [
    "## Comparing sentence meaning?"
   ]
  },
  {
   "cell_type": "markdown",
   "metadata": {
    "hideCode": false,
    "hidePrompt": false
   },
   "source": [
    "We can also use these models to compare sentences. Consider the following (all using unique words). Just by averaging the word embeddings for each sentence, we can see, that the model corresponds broadly to our human judgement. <br>\n",
    "<br>\n",
    "Change the sentences and re-run the cell to see the result."
   ]
  },
  {
   "cell_type": "code",
   "execution_count": 3,
   "metadata": {
    "ExecuteTime": {
     "end_time": "2020-03-08T08:22:38.906620Z",
     "start_time": "2020-03-08T08:22:38.719120Z"
    },
    "hideCode": false,
    "hidePrompt": false
   },
   "outputs": [
    {
     "data": {
      "image/png": "[encoded data removed]",
      "text/plain": [
       "<Figure size 720x360 with 1 Axes>"
      ]
     },
     "metadata": {
      "needs_background": "light"
     },
     "output_type": "display_data"
    }
   ],
   "source": [
    "sentences = ['the pilot flew the plane', \n",
    "             'trees do not grow on rocks',\n",
    "             'i broke my arm', \n",
    "             'he snapped his leg',\n",
    "             'a helicopter soared up',\n",
    "             'plants need lots of water']\n",
    "\n",
    "compareMeanings(sentences)"
   ]
  },
  {
   "cell_type": "markdown",
   "metadata": {
    "hideCode": false,
    "hidePrompt": false
   },
   "source": [
    "Above is tiny visualisation. Google and other companies are applying similar methods to [map the meaning of all words](https://projector.tensorflow.org/) - created by analysing the sentence context in which words are used accross _all_ books, webpages, news sources and other archives."
   ]
  },
  {
   "cell_type": "markdown",
   "metadata": {},
   "source": [
    "## Scoring sentences against target meaning"
   ]
  },
  {
   "cell_type": "code",
   "execution_count": 13,
   "metadata": {
    "ExecuteTime": {
     "end_time": "2020-03-08T08:33:07.233565Z",
     "start_time": "2020-03-08T08:33:07.059475Z"
    }
   },
   "outputs": [],
   "source": [
    "%run \"C:\\Dropbox\\2_Research\\_Python_functions\\functions_spacy_v11.ipynb\""
   ]
  },
  {
   "cell_type": "code",
   "execution_count": 66,
   "metadata": {
    "ExecuteTime": {
     "end_time": "2020-03-08T08:48:28.125071Z",
     "start_time": "2020-03-08T08:48:28.109449Z"
    }
   },
   "outputs": [],
   "source": [
    "sentences = ['Hello care team on Daisy ward', \n",
    "             'Thank you and all the team for the excellent care.', \n",
    "             'We were all saddened by the death of my grandmother.', \n",
    "             'There was nothing more you could have done',\n",
    "             'sincerely, John',\n",
    "             'our galaxy has uninhabited planets']\n",
    "\n",
    "target_meaning = 'passed away died gone'"
   ]
  },
  {
   "cell_type": "code",
   "execution_count": 67,
   "metadata": {
    "ExecuteTime": {
     "end_time": "2020-03-08T08:48:28.563842Z",
     "start_time": "2020-03-08T08:48:28.501342Z"
    }
   },
   "outputs": [
    {
     "name": "stdout",
     "output_type": "stream",
     "text": [
      "6 ROWS OF TEXT SORTED BY SIMILARITY TO SEED TERMS\n"
     ]
    },
    {
     "data": {
      "text/html": [
       "<style  type=\"text/css\" >\n",
       "    #T_94b97cb4_6119_11ea_afab_2cfda1bf595frow0_col0 {\n",
       "            text-align:  left;\n",
       "        }    #T_94b97cb4_6119_11ea_afab_2cfda1bf595frow0_col1 {\n",
       "            text-align:  left;\n",
       "        }    #T_94b97cb4_6119_11ea_afab_2cfda1bf595frow1_col0 {\n",
       "            text-align:  left;\n",
       "        }    #T_94b97cb4_6119_11ea_afab_2cfda1bf595frow1_col1 {\n",
       "            text-align:  left;\n",
       "        }    #T_94b97cb4_6119_11ea_afab_2cfda1bf595frow2_col0 {\n",
       "            text-align:  left;\n",
       "        }    #T_94b97cb4_6119_11ea_afab_2cfda1bf595frow2_col1 {\n",
       "            text-align:  left;\n",
       "        }    #T_94b97cb4_6119_11ea_afab_2cfda1bf595frow3_col0 {\n",
       "            text-align:  left;\n",
       "        }    #T_94b97cb4_6119_11ea_afab_2cfda1bf595frow3_col1 {\n",
       "            text-align:  left;\n",
       "        }    #T_94b97cb4_6119_11ea_afab_2cfda1bf595frow4_col0 {\n",
       "            text-align:  left;\n",
       "        }    #T_94b97cb4_6119_11ea_afab_2cfda1bf595frow4_col1 {\n",
       "            text-align:  left;\n",
       "        }    #T_94b97cb4_6119_11ea_afab_2cfda1bf595frow5_col0 {\n",
       "            text-align:  left;\n",
       "        }    #T_94b97cb4_6119_11ea_afab_2cfda1bf595frow5_col1 {\n",
       "            text-align:  left;\n",
       "        }</style><table id=\"T_94b97cb4_6119_11ea_afab_2cfda1bf595f\" ><thead>    <tr>        <th class=\"blank level0\" ></th>        <th class=\"col_heading level0 col0\" >similarity</th>        <th class=\"col_heading level0 col1\" >sentence</th>    </tr></thead><tbody>\n",
       "                <tr>\n",
       "                        <th id=\"T_94b97cb4_6119_11ea_afab_2cfda1bf595flevel0_row0\" class=\"row_heading level0 row0\" >0</th>\n",
       "                        <td id=\"T_94b97cb4_6119_11ea_afab_2cfda1bf595frow0_col0\" class=\"data row0 col0\" >0.764</td>\n",
       "                        <td id=\"T_94b97cb4_6119_11ea_afab_2cfda1bf595frow0_col1\" class=\"data row0 col1\" >We were all saddened by the death of my grandmother.</td>\n",
       "            </tr>\n",
       "            <tr>\n",
       "                        <th id=\"T_94b97cb4_6119_11ea_afab_2cfda1bf595flevel0_row1\" class=\"row_heading level0 row1\" >1</th>\n",
       "                        <td id=\"T_94b97cb4_6119_11ea_afab_2cfda1bf595frow1_col0\" class=\"data row1 col0\" >0.697</td>\n",
       "                        <td id=\"T_94b97cb4_6119_11ea_afab_2cfda1bf595frow1_col1\" class=\"data row1 col1\" >There was nothing more you could have done</td>\n",
       "            </tr>\n",
       "            <tr>\n",
       "                        <th id=\"T_94b97cb4_6119_11ea_afab_2cfda1bf595flevel0_row2\" class=\"row_heading level0 row2\" >2</th>\n",
       "                        <td id=\"T_94b97cb4_6119_11ea_afab_2cfda1bf595frow2_col0\" class=\"data row2 col0\" >0.579</td>\n",
       "                        <td id=\"T_94b97cb4_6119_11ea_afab_2cfda1bf595frow2_col1\" class=\"data row2 col1\" >Thank you and all the team for the excellent care.</td>\n",
       "            </tr>\n",
       "            <tr>\n",
       "                        <th id=\"T_94b97cb4_6119_11ea_afab_2cfda1bf595flevel0_row3\" class=\"row_heading level0 row3\" >3</th>\n",
       "                        <td id=\"T_94b97cb4_6119_11ea_afab_2cfda1bf595frow3_col0\" class=\"data row3 col0\" >0.525</td>\n",
       "                        <td id=\"T_94b97cb4_6119_11ea_afab_2cfda1bf595frow3_col1\" class=\"data row3 col1\" >Hello care team on Daisy ward</td>\n",
       "            </tr>\n",
       "            <tr>\n",
       "                        <th id=\"T_94b97cb4_6119_11ea_afab_2cfda1bf595flevel0_row4\" class=\"row_heading level0 row4\" >4</th>\n",
       "                        <td id=\"T_94b97cb4_6119_11ea_afab_2cfda1bf595frow4_col0\" class=\"data row4 col0\" >0.429</td>\n",
       "                        <td id=\"T_94b97cb4_6119_11ea_afab_2cfda1bf595frow4_col1\" class=\"data row4 col1\" >our galaxy has uninhabited planets</td>\n",
       "            </tr>\n",
       "            <tr>\n",
       "                        <th id=\"T_94b97cb4_6119_11ea_afab_2cfda1bf595flevel0_row5\" class=\"row_heading level0 row5\" >5</th>\n",
       "                        <td id=\"T_94b97cb4_6119_11ea_afab_2cfda1bf595frow5_col0\" class=\"data row5 col0\" >0.404</td>\n",
       "                        <td id=\"T_94b97cb4_6119_11ea_afab_2cfda1bf595frow5_col1\" class=\"data row5 col1\" >sincerely, John</td>\n",
       "            </tr>\n",
       "    </tbody></table>"
      ],
      "text/plain": [
       "<pandas.io.formats.style.Styler at 0x12f19dec848>"
      ]
     },
     "metadata": {},
     "output_type": "display_data"
    },
    {
     "data": {
      "text/html": [
       "<style  type=\"text/css\" >\n",
       "</style><table id=\"T_94b97cb5_6119_11ea_823c_2cfda1bf595f\" ><thead>    <tr>        <th class=\"blank level0\" ></th>        <th class=\"col_heading level0 col0\" >similarity</th>        <th class=\"col_heading level0 col1\" >sentence</th>    </tr></thead><tbody>\n",
       "        </tbody></table>"
      ],
      "text/plain": [
       "<pandas.io.formats.style.Styler at 0x12f67a78748>"
      ]
     },
     "metadata": {},
     "output_type": "display_data"
    },
    {
     "data": {
      "text/html": [
       "<style  type=\"text/css\" >\n",
       "</style><table id=\"T_94b97cb6_6119_11ea_89e6_2cfda1bf595f\" ><thead>    <tr>        <th class=\"blank level0\" ></th>        <th class=\"col_heading level0 col0\" >similarity</th>        <th class=\"col_heading level0 col1\" >sentence</th>    </tr></thead><tbody>\n",
       "        </tbody></table>"
      ],
      "text/plain": [
       "<pandas.io.formats.style.Styler at 0x12f685da7c8>"
      ]
     },
     "metadata": {},
     "output_type": "display_data"
    }
   ],
   "source": [
    "sentences = [nlp(x) for x in sentences]\n",
    "getSimilarText(nlp, sentences, target_meaning, min_sentence_length=2, n=(10, 0, 0), plot=False)"
   ]
  },
  {
   "cell_type": "code",
   "execution_count": null,
   "metadata": {},
   "outputs": [],
   "source": []
  },
  {
   "cell_type": "markdown",
   "metadata": {
    "hideCode": false,
    "hidePrompt": false
   },
   "source": [
    "## Adding and subtracting meanings?\n",
    "If words are represented as numbers, then, can we do mathematics with the meanings?\n",
    "\n",
    "What if we start with the meaning of 'king' subtract 'man' and add 'woman' - what would the outcome be?"
   ]
  },
  {
   "cell_type": "code",
   "execution_count": 4,
   "metadata": {
    "ExecuteTime": {
     "end_time": "2020-03-08T08:22:53.751927Z",
     "start_time": "2020-03-08T08:22:38.906620Z"
    },
    "hideCode": false,
    "hidePrompt": false
   },
   "outputs": [
    {
     "name": "stdout",
     "output_type": "stream",
     "text": [
      "'king' minus 'man' add 'woman' = queen\n"
     ]
    }
   ],
   "source": [
    "start = 'king'\n",
    "subtract = 'man'\n",
    "add = 'woman'\n",
    "\n",
    "mathsOnMeaning(start, subtract, add)"
   ]
  },
  {
   "cell_type": "markdown",
   "metadata": {},
   "source": [
    "- Try: 'uk' minus 'london' add 'geneva'\n",
    "- Try: 'berlin' minus 'germany' add 'france'\n",
    "- Try: 'india' minus 'curry' add 'pizza'\n",
    "- Try: 'man' minus 'boy' add 'girl'\n",
    "- Try: 'paris' minus 'france' add 'uk'"
   ]
  },
  {
   "cell_type": "markdown",
   "metadata": {
    "hideCode": false,
    "hidePrompt": false
   },
   "source": [
    "## 'Thought vectors'"
   ]
  },
  {
   "cell_type": "markdown",
   "metadata": {
    "hideCode": false,
    "hidePrompt": false
   },
   "source": [
    "Geoffrey Hinton, one of the developers of 'deep learning' techniques, talks about the above examples that focus on single words as only the first step: he (and Google) are working towards 'thought vectors'. \n",
    "\n",
    "While the above examples represent the meanings of words in a 300 dimensional mathematical space, they aim to map thoughts, ideas, sentences, and even whole articles and books into a multi-million dimensional space.\n",
    "\n",
    "Transcritpts, texts, and even audio-visual data will become open ho high-level semantic analysis (meaning clusters, emotion, contradictions, meta-perspectives and dialogical tensions).\n",
    "\n",
    "- Longitudinal analyses of an individual life-course\n",
    "- Comparison of perspectives of groups in conflict\n",
    "- Identifying the emergence of novelty and new ideas\n",
    "\n",
    "And, all done, on any size of dataset, in real-time, and for almost zero cost."
   ]
  },
  {
   "cell_type": "markdown",
   "metadata": {
    "hideCode": false,
    "hidePrompt": false
   },
   "source": [
    "# Hospital Staff Responding to Criticism \n",
    "Accidents in hospitals are a leading cause of death. At least 10% of people going into hospital come out with a new health problem. Causes include: delays, hospital infections, errors, wrong-site surgery, misdiagnosis, medication errors, not reading patient notes etc. \n",
    "\n",
    "While aviation, construction, and heavy industry have all become much safer over the last 50 years, healthcare has remained dangerous, and seems resistant to improvement. Some hospitals have a 'blame culture' with high defensiveness.\n",
    "\n",
    "One idea is that medical staff could learn from patients: patients know their own bodies, are usually the only person who has been at all the meetings, and have increasing access to medical knowledge."
   ]
  },
  {
   "cell_type": "markdown",
   "metadata": {
    "hideCode": false,
    "hidePrompt": false
   },
   "source": [
    "## Research context\n",
    "Question: How do healthcare staff respond to critical feedback?\n",
    "    \n",
    "Data: Online discussions between patients and staff in the UK (about 250k paired dialogs)\n",
    "    \n",
    "- What is the divergence of perspective between patients and staff?\n",
    "\n",
    "- How are staff listening to and/or ignoring the patient point of view?"
   ]
  },
  {
   "cell_type": "code",
   "execution_count": 5,
   "metadata": {
    "ExecuteTime": {
     "end_time": "2020-03-08T08:23:14.834149Z",
     "start_time": "2020-03-08T08:22:53.751927Z"
    },
    "hideCode": false,
    "hidePrompt": false
   },
   "outputs": [
    {
     "data": {
      "text/plain": [
       "response    326\n",
       "story       326\n",
       "Name: post_type, dtype: int64"
      ]
     },
     "execution_count": 5,
     "metadata": {},
     "output_type": "execute_result"
    }
   ],
   "source": [
    "# loading the data\n",
    "df = pd.read_csv('co_crit3.csv')\n",
    "df['text_doc'] = df['post_body'].apply(nlp)\n",
    "df['post_type'].value_counts()"
   ]
  },
  {
   "cell_type": "markdown",
   "metadata": {
    "hideCode": false,
    "hidePrompt": false
   },
   "source": [
    "## Comparing perspectives: words\n",
    "The plot below compares the text of 'patient stories' with 'staff responses' in terms of past-tense verbs.\n",
    "- The vertical axis is for patients; horizontal axis is for staff\n",
    "- Words in the top-right are common to both patients and staff (i.e., was, were, did, had)\n",
    "- Words in the top-left are peculiar to patients (i.e., took, died, called, started, tried, refused)\n",
    "- Words in the bottom-right are peculiar to staff (i.e., raised, expectations, experiences, mentioned, expressed)\n",
    "- Clicking on a word 'died' shows the original text (85 patient posts, 1 staff post)\n"
   ]
  },
  {
   "cell_type": "code",
   "execution_count": 10,
   "metadata": {
    "ExecuteTime": {
     "end_time": "2020-03-08T08:28:09.536223Z",
     "start_time": "2020-03-08T08:28:09.520601Z"
    },
    "hideCode": false,
    "hidePrompt": false
   },
   "outputs": [
    {
     "data": {
      "text/html": [
       "\n",
       "        <iframe\n",
       "            width=\"1300\"\n",
       "            height=\"1000\"\n",
       "            src=\"co_crit3_past.html\"\n",
       "            frameborder=\"0\"\n",
       "            allowfullscreen\n",
       "        ></iframe>\n",
       "        "
      ],
      "text/plain": [
       "<IPython.lib.display.IFrame at 0x12f20f1afc8>"
      ]
     },
     "execution_count": 10,
     "metadata": {},
     "output_type": "execute_result"
    }
   ],
   "source": [
    "#html = scattertextTag('VBD')\n",
    "file_name = 'co_crit3_past.html'\n",
    "#open(file_name, 'wb').write(html.encode('utf-8'))\n",
    "IFrame(src=file_name, width=1300, height=1000)"
   ]
  },
  {
   "cell_type": "markdown",
   "metadata": {
    "hideCode": false,
    "hidePrompt": false
   },
   "source": [
    "## Comparing perspectives: themes\n",
    "Based on an examination of the patient and staff text, we can formulate two ideas.\n",
    "\n",
    "1. Patients seem to be talking about 'real' clinical issues.\n",
    "\n",
    "2. Staff seem reluctant to address these clinical issues, and prefer to talk about 'valuing feedback' and 'patient experience'\n",
    "\n",
    "To test these ideas, we can make some 'topic themes' that we then map into the semantic space."
   ]
  },
  {
   "cell_type": "code",
   "execution_count": 7,
   "metadata": {
    "ExecuteTime": {
     "end_time": "2020-03-08T08:23:19.459148Z",
     "start_time": "2020-03-08T08:23:14.849776Z"
    },
    "hideCode": false,
    "hidePrompt": false
   },
   "outputs": [
    {
     "data": {
      "text/html": [
       "\n",
       "        <iframe\n",
       "            width=\"1000\"\n",
       "            height=\"700\"\n",
       "            src=\"co_crit3_themes.html\"\n",
       "            frameborder=\"0\"\n",
       "            allowfullscreen\n",
       "        ></iframe>\n",
       "        "
      ],
      "text/plain": [
       "<IPython.lib.display.IFrame at 0x12f77be52c8>"
      ]
     },
     "execution_count": 7,
     "metadata": {},
     "output_type": "execute_result"
    }
   ],
   "source": [
    "themes = {\n",
    "    'clinical': ['clinical', 'unsafe', 'doctor', 'nurse', 'operation', 'diagnosis', 'misdiagnosis'],\n",
    "    'pain': ['agony', 'suffering', 'pains', 'suffer', 'screaming'],\n",
    "    'feedback': ['value', 'feedback', 'learning', 'listen', 'listening'],\n",
    "    'experience': ['experience', 'concern', 'concerns', 'feelings']\n",
    "}\n",
    "\n",
    "html = scattertextThemes(themes)\n",
    "file_name = 'co_crit3_themes.html'\n",
    "open(file_name, 'wb').write(html.encode('utf-8'))\n",
    "IFrame(src=file_name, width=1000, height=700)"
   ]
  },
  {
   "cell_type": "markdown",
   "metadata": {
    "hideCode": false,
    "hidePrompt": false
   },
   "source": [
    "## Which responses have least perspective taking?"
   ]
  },
  {
   "cell_type": "markdown",
   "metadata": {
    "hideCode": false,
    "hidePrompt": false
   },
   "source": [
    "Using the 'word embeddings' method, can we identify the staff response with the least perspective taking?\n",
    "\n",
    "Method: compare the word vectors for the staff responses with the original patient story and find the biggest difference.\n"
   ]
  },
  {
   "cell_type": "code",
   "execution_count": 8,
   "metadata": {
    "ExecuteTime": {
     "end_time": "2020-03-08T08:23:19.474775Z",
     "start_time": "2020-03-08T08:23:19.459148Z"
    },
    "hideCode": false,
    "hidePrompt": false
   },
   "outputs": [
    {
     "name": "stdout",
     "output_type": "stream",
     "text": [
      "ORIGINAL POST\n",
      "I was admitted in November 09 for a total thyroidectomy after being diagnosed with cancer in October (had a hemithyroidectomy in September). The surgery went well, my consultant is a great guy. Ward 21: very busy. However, I hardly dared ask anything when after requesting some pain killers, I was told rather nastily: you're not the only one 'love'; you'll have to wait! And wait I did. For an hour! \r\n",
      "Discharged in the middle of November, whilst complaining of feeling nauseous and tingly but 'you'll be fine' I was told. Got home feeling worse; didn't sleep as I was tingling all over and rang the ward on the next day  at 7 am to ask for advice; I was told to come back straight away before I started 'cramping' and to bring my suitcase with me. My partner drove me back but I got into such a state - fingers paralysed, unable to talk that an ambulance picked me up and rushed me in. \r\n",
      "Hypocalcemia: no calcium left in my body. I was re-admitted for a couple of days and given loads of calcium. My consultant came to explain that the glands that produce the calcium were damaged during surgery and only one was left which was re attached to the muscle. I should have had a blood test before I was discharged, especially when I was complaining of tingling but I didn't have on. I believe this was because they needed the bed. This was a very scary experience. Following my second discharge, I got terrible headaches: I kept losing my balance, hitting furniture, tripping until I became totally confused: couldn't figure out how to get dressed, use the toilets, write etc. \r\n",
      "I went to the A & E at 1 pm at the beginning of December; my partner explained how confused I was and getting slowly worse; I was seen by a triage nurse at 16.30! Then a doctor said I needed a CT scan but needed to be admitted. Got a bed at 18.30 in the assessment ward and just waited there with this excruciating headache. Saw another doctor at 23.30 who again said I needed to have a CT scan but it was by then too late. He thought I might have had a slight stroke. I asked for something for the pain. Come the next morning I was still waiting for pain relief, saw another doctor who said yet again that I needed to have a CT scan! But I'd have to wait as they were very busy; still waiting for pain relief; then got told that I'd have to wait until Tuesday as they had emergencies to deal with first and I was not one of them. Then, I was told I'd have to wait until Wednesday.\r\n",
      "Anyway, another junior doctor got involved and managed to book me an MRI for the Tuesday. This took place and the doctor told me that I'd had a bleed in the brain but they were sending the scan to Royal Hallamshire for advice. I was still in the assessment unit by then and finally heard from Hallamshire two days later.\r\n",
      " Was then told by another doctor that it was not a bleed but a blot clot and I could go home; just like that? yes, it'll get better by itself. Can it happen again? oh yes, as it's happened once already! And it's safe for me to go home even with this terrible headache? Yes. This was 10 in the morning: I left at 4 pm as it took 6 hours of waiting to get the medicine from the pharmacist. By then, I was not 'confused' anymore but very unhappy as I was scared. \r\n",
      "I went to see my GP and they made enquiries which led to the following: none of the neurosurgeons and radiographers could agree on a diagnosis. So, nearly a month later, the headaches have more or less gone but my head feels 'tight' and 'fuzzy' at times, not to mention slight episodes of confusion and I am having another MRI in Sheffield this week. Well before starting my radioactive treatment.\r\n",
      "I know how busy nurses and doctors are but being courteous and showing a bit of understanding doesn't take any longer than being uncaring or rude. Don't these doctors and nurses realise how this series of events could be distressing to me, especially in my vulnerable position? I am angry that I have been treated like this, with no regards whatsoever for my feelings and after my experiences I do not want to be treated at Doncaster Royal Infirmary again.\r\n",
      "\n",
      "STAFF RESPONSE\n",
      "Thank you for your feedback.\n"
     ]
    }
   ],
   "source": [
    "df_index = 1\n",
    "df = df.sort_values(by='similarityToOrigin', ascending=True, axis='index').reset_index(drop=True)\n",
    "selected_row = df.iloc[df_index, :,]\n",
    "print(f\"ORIGINAL POST\\n{selected_row[['thread_originText']][0]}\")\n",
    "print(f\"STAFF RESPONSE\\n{selected_row[['post_body']][0]}\")"
   ]
  },
  {
   "cell_type": "markdown",
   "metadata": {
    "hideCode": false,
    "hidePrompt": false
   },
   "source": [
    "The distressed cancer patient had her glads that produce calcilum damaged during surgery resulting in paralysis and provided conflicting information about a blood clot in her brain. \n",
    "\n",
    "Despite the clinical error, her main concern is the rudeness of staff who have ignored her feelings.\n",
    "\n",
    "The staff response is generic: 'Thank you for your feedback'"
   ]
  },
  {
   "cell_type": "markdown",
   "metadata": {
    "hideCode": false,
    "hidePrompt": false
   },
   "source": [
    "## Which responses have most psychological distancing?\n",
    "Psychological distancing (not distanciation) refers to defensive routines that hold problematic perspectives at a semantic distance, so as to neutralise their transformative potential. \n",
    "\n",
    "One type of psychological distancing is to refer to problematic perspectives as 'beliefs' or 'experiences'."
   ]
  },
  {
   "cell_type": "code",
   "execution_count": 9,
   "metadata": {
    "ExecuteTime": {
     "end_time": "2020-03-08T08:23:19.537275Z",
     "start_time": "2020-03-08T08:23:19.474775Z"
    },
    "hideCode": false,
    "hidePrompt": false
   },
   "outputs": [
    {
     "name": "stdout",
     "output_type": "stream",
     "text": [
      "\n",
      "We understand that following the experience you have had you would feel that we have been uncaring and unresponsive to your concerns and we are sorry for giving you this impression.\n"
     ]
    }
   ],
   "source": [
    "sentence_subject = ['you']\n",
    "sentence_object = ['experience']\n",
    "sentence_contains = ['impression', 'subjective']\n",
    "\n",
    "findSentence(sentence_subject, sentence_object, sentence_contains)"
   ]
  },
  {
   "cell_type": "markdown",
   "metadata": {
    "hideCode": false,
    "hidePrompt": false
   },
   "source": [
    "In the above excerpt has two types of psychological distancing:\n",
    "\n",
    "First: The distressed patient is writing about a formal complaint they have submitted to the hospital, which has been ignored, and which they cannot get any feedback on (they have tried ringing and calling). Accordingly, the patient has resorted to a public post. Despite multiple failings by the hospital (known to the hospital) the problem is described in a psychologising manner:\n",
    "- 'the experience'\n",
    "- 'you would feel'\n",
    "- 'your concerns'\n",
    "- 'this impression'\n",
    "\n",
    "Second: The staff (as a 'we') psychologises themselves, thus distancing from implications for action\n",
    "- 'we understand'\n",
    "- 'we are sorry'\n"
   ]
  },
  {
   "cell_type": "markdown",
   "metadata": {
    "hideCode": false,
    "hidePrompt": false
   },
   "source": [
    "# Conclusion\n",
    "\n",
    "My substantive interest is to understand the ways that people don't listen. \n",
    "- distancing (psychologising problems)\n",
    "- denial (ignoring topics)\n",
    "- denigration (undermining the motive, stigma, expertise)\n",
    "- rationalisation (individualising problems as one-off problem)\n",
    "\n",
    "These strategies of not-listening guard the threshold between self and other; creating psychological comfort at the cost of transformative dialogue. \n",
    "\n",
    "If we want to understand how 'the social' leads to change, we need to understand 'semantic contact' - how alternative perspectives are accepted, rejected or modified.\n",
    "\n",
    "But, for the purposes of our discussion, I also want to raise methodological questions:\n",
    "- Is there a meeting between sociocultural psychology and NLP?\n",
    "- What can NLP do for sociocultural psychology? - extra evidence, news tools, scale-up analyses?\n",
    "- What can sociocultural psychology do for NLP? - conceptualizing the psychology of 'thought vectors', understanding the inherent dialogicality of language?\n"
   ]
  }
 ],
 "metadata": {
  "hide_code_all_hidden": true,
  "kernelspec": {
   "display_name": "Python 3",
   "language": "python",
   "name": "python3"
  },
  "language_info": {
   "codemirror_mode": {
    "name": "ipython",
    "version": 3
   },
   "file_extension": ".py",
   "mimetype": "text/x-python",
   "name": "python",
   "nbconvert_exporter": "python",
   "pygments_lexer": "ipython3",
   "version": "3.7.6"
  },
  "toc": {
   "base_numbering": 1,
   "nav_menu": {
    "height": "345px",
    "width": "256px"
   },
   "number_sections": true,
   "sideBar": true,
   "skip_h1_title": false,
   "title_cell": "Table of Contents",
   "title_sidebar": "Contents",
   "toc_cell": true,
   "toc_position": {
    "height": "calc(100% - 180px)",
    "left": "10px",
    "top": "150px",
    "width": "165px"
   },
   "toc_section_display": true,
   "toc_window_display": false
  },
  "varInspector": {
   "cols": {
    "lenName": 16,
    "lenType": 16,
    "lenVar": 40
   },
   "kernels_config": {
    "python": {
     "delete_cmd_postfix": "",
     "delete_cmd_prefix": "del ",
     "library": "var_list.py",
     "varRefreshCmd": "print(var_dic_list())"
    },
    "r": {
     "delete_cmd_postfix": ") ",
     "delete_cmd_prefix": "rm(",
     "library": "var_list.r",
     "varRefreshCmd": "cat(var_dic_list()) "
    }
   },
   "types_to_exclude": [
    "module",
    "function",
    "builtin_function_or_method",
    "instance",
    "_Feature"
   ],
   "window_display": false
  }
 },
 "nbformat": 4,
 "nbformat_minor": 2
}
