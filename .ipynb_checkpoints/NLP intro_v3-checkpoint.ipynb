{
 "cells": [
  {
   "cell_type": "code",
   "execution_count": 1,
   "metadata": {
    "ExecuteTime": {
     "end_time": "2020-04-20T13:50:26.958340Z",
     "start_time": "2020-04-20T13:50:26.954339Z"
    }
   },
   "outputs": [],
   "source": [
    "# MOVE FUNCTIONS TO SEPARATE NOTEBOOK"
   ]
  },
  {
   "cell_type": "code",
   "execution_count": 2,
   "metadata": {
    "ExecuteTime": {
     "end_time": "2020-04-20T13:50:36.243337Z",
     "start_time": "2020-04-20T13:50:26.960337Z"
    },
    "code_folding": [],
    "hideCode": false,
    "hidePrompt": false
   },
   "outputs": [
    {
     "data": {
      "text/html": [
       "<style>.container { width:80% !important; }</style>"
      ],
      "text/plain": [
       "<IPython.core.display.HTML object>"
      ]
     },
     "metadata": {},
     "output_type": "display_data"
    },
    {
     "name": "stdout",
     "output_type": "stream",
     "text": [
      "CPython 3.7.6\n",
      "IPython 7.12.0\n",
      "\n",
      "pandas 0.25.1\n",
      "numpy 1.17.2\n",
      "scipy 1.4.1\n",
      "statsmodels 0.11.1\n",
      "matplotlib 3.1.3\n",
      "seaborn 0.10.0\n",
      "spacy 2.2.3\n",
      "tqdm 4.43.0\n",
      "watermark 2.0.2\n",
      "\n",
      "compiler   : MSC v.1916 64 bit (AMD64)\n",
      "system     : Windows\n",
      "release    : 10\n",
      "machine    : AMD64\n",
      "processor  : Intel64 Family 6 Model 158 Stepping 10, GenuineIntel\n",
      "CPU cores  : 12\n",
      "interpreter: 64bit\n",
      "\u001b[1m\n",
      "============================== Info about spaCy ==============================\u001b[0m\n",
      "\n",
      "spaCy version    2.2.3                         \n",
      "Location         C:\\Users\\alexg\\Anaconda3\\envs\\PyR_202003_pandas_0_25_3\\lib\\site-packages\\spacy\n",
      "Platform         Windows-10-10.0.18362-SP0     \n",
      "Python version   3.7.6                         \n",
      "Models                                         \n",
      "\n"
     ]
    }
   ],
   "source": [
    "# LOAD MODULES\n",
    "from IPython.core.display import display, HTML # for max width\n",
    "display(HTML(\"<style>.container { width:80% !important; }</style>\"))\n",
    "import pandas as pd\n",
    "import numpy as np\n",
    "from IPython.core.interactiveshell import InteractiveShell\n",
    "from spacy.tokens import Doc, Span, Token\n",
    "import scattertext as st\n",
    "from IPython.display import IFrame\n",
    "import matplotlib.pyplot as plt\n",
    "from sklearn.decomposition import PCA\n",
    "from scipy import spatial\n",
    "from scipy.spatial import distance\n",
    "cosine_similarity = lambda x, y: 1 - spatial.distance.cosine(x, y)\n",
    "import spacy # software for analysing text\n",
    "from spacy import displacy\n",
    "nlp = spacy.load('en_core_web_lg') # a medium english language model\n",
    "import warnings\n",
    "warnings.filterwarnings('ignore')\n",
    "\n",
    "# LOAD FUNCTIONS\n",
    "def compareMeanings(words):\n",
    "    # calculate similarities\n",
    "    pca = PCA(n_components=2)\n",
    "    pca.fit([nlp(word).vector for word in words])\n",
    "    word_vecs_2d = pca.transform([nlp(word).vector for word in words])\n",
    "    \n",
    "    # create plot \n",
    "    plt.figure(figsize=(5,5))\n",
    "    plt.scatter(word_vecs_2d[:,0], word_vecs_2d[:,1])\n",
    "    # for each word and coordinate pair: draw the text on the plot\n",
    "    for word, coord in zip(words, word_vecs_2d):\n",
    "        x, y = coord\n",
    "        plt.text(x, y, word, size= 15)\n",
    "    #plt.savefig('fig.jpg', dpi=1000)\n",
    "    # show the plot\n",
    "    plt.show()\n",
    "    \n",
    "    \n",
    "def mathsOnMeaning(start, subtract, add):\n",
    "    x = nlp.vocab[start].vector - nlp.vocab[subtract].vector + nlp.vocab[add].vector\n",
    "    \n",
    "    similar_words = []\n",
    "    for word in nlp.vocab:\n",
    "        if not (word.has_vector & word.is_lower):\n",
    "            continue\n",
    "        if not ((word.text!=start)&(word.text!=add)&(word.text!=subtract)):\n",
    "            continue\n",
    "     \n",
    "        similarity = cosine_similarity(x, word.vector)\n",
    "        similar_words.append((word, similarity))\n",
    "        \n",
    "    similar_words = sorted(similar_words, key=lambda item: -item[1])\n",
    "    result = [w[0].text for w in similar_words[:5]][0]\n",
    "    print(f\"'{start}' minus '{subtract}' add '{add}' = {result}\")\n",
    "    \n",
    "def scattertextTag(tag):\n",
    "    def getX(doc):\n",
    "        out = [x.text for x in doc if (x.tag_ in [tag])]\n",
    "        return nlp(' '.join(out))\n",
    "    df['text_x'] = df['text_doc'].apply(getX)\n",
    "    \n",
    "    corpus = st.CorpusFromParsedDocuments(df, \n",
    "                                          parsed_col='text_x',\n",
    "                                category_col='post_type'\n",
    "                                         ).build()\n",
    "    html = st.produce_scattertext_explorer(corpus,\n",
    "             category='story',\n",
    "             category_name='Patient Criticism',\n",
    "             not_category_name='Staff Responses',\n",
    "             #characteristic_scorer=None,\n",
    "             alternative_text_field='post_body',\n",
    "             show_characteristic=False,                              \n",
    "             width_in_pixels=800)\n",
    "    return html\n",
    "\n",
    "def scattertextThemes(topics):\n",
    "    topic_feature_builder = st.FeatsFromTopicModel(topics)\n",
    "    \n",
    "    #CREATE CORPUS\n",
    "    corpus = st.CorpusFromParsedDocuments(df, \n",
    "                                          parsed_col='text_doc',\n",
    "                                          category_col='post_type',\n",
    "                                          feats_from_spacy_doc=topic_feature_builder\n",
    "                                          ).build()\n",
    "    \n",
    "    # CREATE PLOT\n",
    "    html = st.produce_scattertext_explorer(corpus,\n",
    "                                          category='story',\n",
    "                                          category_name='Patient Criticism',\n",
    "                                          not_category_name = 'Hospital Response',\n",
    "                                          width_in_pixels=600,\n",
    "                                           height_in_pixels=400,\n",
    "                                          show_characteristic=False,\n",
    "                                           use_non_text_features=True,\n",
    "                                           show_top_terms=True,\n",
    "                                          minimum_term_frequency=5,\n",
    "                                          use_full_doc=True,\n",
    "                                          p_value_colors=True,\n",
    "                                          max_snippets = 11,\n",
    "                                           pmi_threshold_coefficient=0,\n",
    "                                        topic_model_term_lists=topic_feature_builder.get_top_model_term_lists()\n",
    "                                          )\n",
    "    return html\n",
    "\n",
    "def findSentence(sentence_subject, sentence_objecet, sentence_contains):\n",
    "    print('')\n",
    "    if len(sentence_contains)>0:\n",
    "        for doc in df.loc[df['post_type']=='response', 'text_doc']:\n",
    "            for sent in doc.sents:\n",
    "                for tok in sent:\n",
    "                    if tok.text.lower() in sentence_contains:\n",
    "                        for tok in sent:\n",
    "                            if 'obj' in tok.dep_:\n",
    "                                if tok.text.lower() in sentence_object:\n",
    "                                    for tok in sent:\n",
    "                                        if 'subj' in tok.dep_:\n",
    "                                            if tok.text.lower() in sentence_subject:\n",
    "                                                print(tok.sent)\n",
    "                                                #displacy.render(tok.sent, jupyter=True, style='dep')\n",
    "                                                break\n",
    "    else:\n",
    "        for doc in df.loc[df['post_type']=='response', 'text_doc']:\n",
    "            for sent in doc.sents:\n",
    "                for tok in sent:\n",
    "                    if 'obj' in tok.dep_:\n",
    "                        if tok.text.lower() in sentence_object:\n",
    "                            for tok in sent:\n",
    "                                if 'subj' in tok.dep_:\n",
    "                                    if tok.text.lower() in sentence_subject:\n",
    "                                        print(tok.sent)\n",
    "                                        #displacy.render(tok.sent, jupyter=True, style='dep')\n",
    "                                        break\n",
    "\n",
    "                                        \n",
    "def getTokensNearVector(nlp, vector, limit=300, debug=False):\n",
    "    '''\n",
    "    takes a vector (does not need to be based on a word)\n",
    "    returns a list of the nearest tokens\n",
    "    all returned vectors are lower case, so duplicates are removed\n",
    "    '''\n",
    "        \n",
    "    # INPUT CHECKS\n",
    "    # if input is vector\n",
    "    if isinstance(vector, np.ndarray):\n",
    "        input_is_string=False\n",
    "        # Format the input vector for use in the distance function\n",
    "        p = [np.array(vector)]\n",
    "        if debug==True:\n",
    "            print('INPUT IS A VECTOR')\n",
    "            print('type(p):', type(p))\n",
    "        \n",
    "    # if input is string\n",
    "    elif isinstance(vector, str):\n",
    "        input_is_string=True\n",
    "        #print(f'the input was a string:  \"{vector}\"')\n",
    "        #print('converting each token into a vector and taking the average\\n')\n",
    "        doc = nlp(vector)\n",
    "        vectors = []\n",
    "        for tok in [tok for tok in doc if tok.is_alpha]:\n",
    "            try:\n",
    "                vectors.append(tok.vector)\n",
    "            except:\n",
    "                print('error getting vector for ', tok.text)\n",
    "        #sum vectors\n",
    "        vector_sum=0\n",
    "        for v in vectors:\n",
    "            vector_sum=vector_sum+v\n",
    "        \n",
    "        #get mean vector\n",
    "        vector=vector_sum/len(vectors)\n",
    "        # Format the input vector for use in the distance function\n",
    "        p = [np.array(vector)]\n",
    "\n",
    "        if debug==True:\n",
    "            print('INPUT IS A STRING')\n",
    "            print('type(p):', type(p))\n",
    "            #print('THIS IS THE CONVERTED VECTOR: ', vector)\n",
    "            \n",
    "    elif isinstance(vector, list):\n",
    "        print('THIS IS A LIST - TAKING FIRST ITEM')\n",
    "        vector=vector[0]\n",
    "    else:\n",
    "        print('UNKNOWN TYPE: ', type(vector))\n",
    "        \n",
    "    # Format the vocabulary for use in the distance function\n",
    "    ids = [x for x in nlp.vocab.vectors.keys()]\n",
    "    vectors1 = [nlp.vocab.vectors[x] for x in ids]\n",
    "    vectors2 = np.array(vectors1)\n",
    "        \n",
    "    if debug==True:\n",
    "        print('THIS IS THE FORMATTED VECTOR (p) BEING SENT TO THE DISTANCE FUNCTION')\n",
    "        print(p)\n",
    "        print('THESE ARE THE IDS')\n",
    "        print(ids[:100])\n",
    "        print('THESE ARE vectors1 - BEFORE BEING FORMATTED')\n",
    "        print(vectors1[:2])\n",
    "        print('THESE ARE vectors2 - ALL NLP VECTORS FORMATTED FOR COMPARISON BY DIST FUNCTION')\n",
    "        print(vectors2[:2])\n",
    "    \n",
    "    # measure distances\n",
    "    dist = distance.cdist(p,vectors2)[0]\n",
    "    \n",
    "    # create df of results\n",
    "    df = pd.DataFrame({'distance':[x for x in dist]})\n",
    "    df.sort_values('distance', inplace=True)\n",
    "    \n",
    "    if debug==True:\n",
    "        print('THIS IS THE DATAFRAME OF DISTANCES')\n",
    "        display(df)\n",
    "    \n",
    "    # print results\n",
    "    words = []\n",
    "    for i in df.index[:limit]:\n",
    "        word_id = ids[i]\n",
    "        output_word = nlp.vocab[word_id].text\n",
    "        output_word = output_word.lower()\n",
    "        if output_word not in words:\n",
    "            words.append(output_word.lower())\n",
    "            \n",
    "    #if input was string, then remove input tokens\n",
    "    if input_is_string==True:\n",
    "        words = [word for word in words if word not in [tok.lower_ for tok in doc]]\n",
    "            \n",
    "    print('\\nTOKENS NEAR VECTOR:   ', ' '.join(words), '\\n')\n",
    "\n",
    "    \n",
    "def mathsOnMeaning(start, subtract, add):\n",
    "    x = nlp.vocab[start].vector - nlp.vocab[subtract].vector + nlp.vocab[add].vector\n",
    "    \n",
    "    similar_words = []\n",
    "    for word in nlp.vocab:\n",
    "        if not (word.has_vector & word.is_lower):\n",
    "            continue\n",
    "        if not ((word.text!=start)&(word.text!=add)&(word.text!=subtract)):\n",
    "            continue\n",
    "     \n",
    "        similarity = cosine_similarity(x, word.vector)\n",
    "        #similarity = word.similarity(x)\n",
    "        similar_words.append((word, similarity))\n",
    "        \n",
    "    similar_words = sorted(similar_words, key=lambda item: -item[1])\n",
    "    result = [w[0].text for w in similar_words[:5]][0]\n",
    "    print(f\"'{start}' minus '{subtract}' add '{add}' = {result}\")\n",
    "    \n",
    "\n",
    "# set up info\n",
    "%load_ext watermark\n",
    "%watermark -m -v -p pandas,numpy,scipy,statsmodels,matplotlib,seaborn,spacy,tqdm,watermark\n",
    "\n",
    "# spacy model info\n",
    "!python -m spacy info \n",
    "#!python -m spacy info en_core_web_md"
   ]
  },
  {
   "cell_type": "markdown",
   "metadata": {
    "hideCode": false,
    "hidePrompt": false,
    "toc": true
   },
   "source": [
    "<h1>Table of Contents<span class=\"tocSkip\"></span></h1>\n",
    "<div class=\"toc\"><ul class=\"toc-item\"><li><span><a href=\"#Introduction\" data-toc-modified-id=\"Introduction-1\"><span class=\"toc-item-num\">1&nbsp;&nbsp;</span>Introduction</a></span><ul class=\"toc-item\"><li><span><a href=\"#Notebooks\" data-toc-modified-id=\"Notebooks-1.1\"><span class=\"toc-item-num\">1.1&nbsp;&nbsp;</span>Notebooks</a></span></li></ul></li><li><span><a href=\"#Natural-Language-Processing-(NLP)\" data-toc-modified-id=\"Natural-Language-Processing-(NLP)-2\"><span class=\"toc-item-num\">2&nbsp;&nbsp;</span>Natural Language Processing (NLP)</a></span><ul class=\"toc-item\"><li><span><a href=\"#Search-is-AI-in-action\" data-toc-modified-id=\"Search-is-AI-in-action-2.1\"><span class=\"toc-item-num\">2.1&nbsp;&nbsp;</span>Search is AI in action</a></span></li><li><span><a href=\"#It-wasn't-always-so-easy\" data-toc-modified-id=\"It-wasn't-always-so-easy-2.2\"><span class=\"toc-item-num\">2.2&nbsp;&nbsp;</span>It wasn't always so easy</a></span></li><li><span><a href=\"#Generation-1:-Word-Frequency\" data-toc-modified-id=\"Generation-1:-Word-Frequency-2.3\"><span class=\"toc-item-num\">2.3&nbsp;&nbsp;</span>Generation 1: Word Frequency</a></span></li><li><span><a href=\"#Generation-2:-Word-embeddings\" data-toc-modified-id=\"Generation-2:-Word-embeddings-2.4\"><span class=\"toc-item-num\">2.4&nbsp;&nbsp;</span>Generation 2: Word embeddings</a></span></li></ul></li><li><span><a href=\"#Using-word-Embeddings\" data-toc-modified-id=\"Using-word-Embeddings-3\"><span class=\"toc-item-num\">3&nbsp;&nbsp;</span>Using word Embeddings</a></span><ul class=\"toc-item\"><li><span><a href=\"#Find-similar-words\" data-toc-modified-id=\"Find-similar-words-3.1\"><span class=\"toc-item-num\">3.1&nbsp;&nbsp;</span>Find similar words</a></span></li><li><span><a href=\"#Comparing-word-similarity\" data-toc-modified-id=\"Comparing-word-similarity-3.2\"><span class=\"toc-item-num\">3.2&nbsp;&nbsp;</span>Comparing word similarity</a></span></li><li><span><a href=\"#Comparing-sentence-meaning\" data-toc-modified-id=\"Comparing-sentence-meaning-3.3\"><span class=\"toc-item-num\">3.3&nbsp;&nbsp;</span>Comparing sentence meaning</a></span></li><li><span><a href=\"#Measuring-sentences-for-target-concept\" data-toc-modified-id=\"Measuring-sentences-for-target-concept-3.4\"><span class=\"toc-item-num\">3.4&nbsp;&nbsp;</span>Measuring sentences for target concept</a></span></li><li><span><a href=\"#Adding-and-subtracting-meanings\" data-toc-modified-id=\"Adding-and-subtracting-meanings-3.5\"><span class=\"toc-item-num\">3.5&nbsp;&nbsp;</span>Adding and subtracting meanings</a></span></li><li><span><a href=\"#Syntax\" data-toc-modified-id=\"Syntax-3.6\"><span class=\"toc-item-num\">3.6&nbsp;&nbsp;</span>Syntax</a></span></li><li><span><a href=\"#Semantic-components\" data-toc-modified-id=\"Semantic-components-3.7\"><span class=\"toc-item-num\">3.7&nbsp;&nbsp;</span>Semantic components</a></span></li></ul></li><li><span><a href=\"#Use-in-social-research?\" data-toc-modified-id=\"Use-in-social-research?-4\"><span class=\"toc-item-num\">4&nbsp;&nbsp;</span>Use in social research?</a></span></li><li><span><a href=\"#Hospital-Staff-Responding-to-Criticism\" data-toc-modified-id=\"Hospital-Staff-Responding-to-Criticism-5\"><span class=\"toc-item-num\">5&nbsp;&nbsp;</span>Hospital Staff Responding to Criticism</a></span><ul class=\"toc-item\"><li><span><a href=\"#Research-context\" data-toc-modified-id=\"Research-context-5.1\"><span class=\"toc-item-num\">5.1&nbsp;&nbsp;</span>Research context</a></span></li><li><span><a href=\"#Comparing-perspectives:-words\" data-toc-modified-id=\"Comparing-perspectives:-words-5.2\"><span class=\"toc-item-num\">5.2&nbsp;&nbsp;</span>Comparing perspectives: words</a></span></li><li><span><a href=\"#Comparing-perspectives:-themes\" data-toc-modified-id=\"Comparing-perspectives:-themes-5.3\"><span class=\"toc-item-num\">5.3&nbsp;&nbsp;</span>Comparing perspectives: themes</a></span></li><li><span><a href=\"#Which-responses-have-least-perspective-taking?\" data-toc-modified-id=\"Which-responses-have-least-perspective-taking?-5.4\"><span class=\"toc-item-num\">5.4&nbsp;&nbsp;</span>Which responses have least perspective taking?</a></span></li><li><span><a href=\"#Which-responses-have-most-psychological-distancing?\" data-toc-modified-id=\"Which-responses-have-most-psychological-distancing?-5.5\"><span class=\"toc-item-num\">5.5&nbsp;&nbsp;</span>Which responses have most psychological distancing?</a></span></li></ul></li><li><span><a href=\"#Conclusion\" data-toc-modified-id=\"Conclusion-6\"><span class=\"toc-item-num\">6&nbsp;&nbsp;</span>Conclusion</a></span></li></ul></div>"
   ]
  },
  {
   "cell_type": "markdown",
   "metadata": {
    "hideCode": true,
    "hidePrompt": true
   },
   "source": [
    "# Introduction"
   ]
  },
  {
   "cell_type": "markdown",
   "metadata": {},
   "source": [
    "**Aims**\n",
    "- Introduce recent advances in Natural Language Processing (NLP)\n",
    "- Demonstrate how these advances can be used in social research"
   ]
  },
  {
   "cell_type": "markdown",
   "metadata": {},
   "source": [
    "**Format**\n",
    "- Interactive lecture\n",
    "- Code-along\n",
    "- RUN THIS LINK"
   ]
  },
  {
   "cell_type": "markdown",
   "metadata": {
    "ExecuteTime": {
     "end_time": "2020-04-19T13:34:33.351914Z",
     "start_time": "2020-04-19T13:34:33.348913Z"
    }
   },
   "source": [
    "## Notebooks"
   ]
  },
  {
   "cell_type": "markdown",
   "metadata": {
    "ExecuteTime": {
     "end_time": "2020-04-18T13:53:13.634174Z",
     "start_time": "2020-04-18T13:53:13.629176Z"
    }
   },
   "source": [
    "- Scientific articles separate text from data and analysis.\n",
    "- Data science notebooks enable researchers and readers to present text, data and analysis side-by-side.\n",
    "- [Jupyter notebooks](https://jupyter.org/) (and more recently Jupyter Lab) are language agnostic notebooks. \n",
    "- They can run many languages, especially: **Ju**lia, **Pyt**hon, and **R**. \n",
    "- Initiated in 2014, Jupyter notebooks have rapidly become a [dominant platform for data analysis](https://www.nature.com/articles/d41586-018-07196-1).\n",
    "- Maybe notebooks will [replace the scientific article](https://www.theatlantic.com/science/archive/2018/04/the-scientific-paper-is-obsolete/556676/).\n",
    "- Notebooks can display and process numeric, image, sound, and text data.\n",
    "- Notebooks are an accessible, reproducible and transparent way to share research.\n",
    "- Here is a [gallery of interesting notebooks](https://github.com/jupyter/jupyter/wiki/A-gallery-of-interesting-Jupyter-Notebooks)."
   ]
  },
  {
   "cell_type": "markdown",
   "metadata": {},
   "source": [
    "The current notebook is in Python, so it can run Python code. \n",
    "\n",
    "For example:"
   ]
  },
  {
   "cell_type": "code",
   "execution_count": 3,
   "metadata": {
    "ExecuteTime": {
     "end_time": "2020-04-20T13:50:36.247337Z",
     "start_time": "2020-04-20T13:50:36.244337Z"
    }
   },
   "outputs": [
    {
     "name": "stdout",
     "output_type": "stream",
     "text": [
      "Hello world!\n"
     ]
    }
   ],
   "source": [
    "print('Hello world!')"
   ]
  },
  {
   "cell_type": "code",
   "execution_count": 4,
   "metadata": {
    "ExecuteTime": {
     "end_time": "2020-04-20T13:50:36.260337Z",
     "start_time": "2020-04-20T13:50:36.248338Z"
    }
   },
   "outputs": [
    {
     "data": {
      "text/plain": [
       "5"
      ]
     },
     "execution_count": 4,
     "metadata": {},
     "output_type": "execute_result"
    }
   ],
   "source": [
    "a = 2\n",
    "b = 3\n",
    "a+b"
   ]
  },
  {
   "cell_type": "markdown",
   "metadata": {},
   "source": [
    "Try it: \n",
    "\n",
    "1. Insert a new cell: Menu > 'Insert' > 'Insert Cell Above' (or double-tap 'a' (above) or 'b' (below))\n",
    "\n",
    "1. Type: `name = input('What is your name? ')`\n",
    "\n",
    "2. Type: `print('Hello ', name)`\n",
    "\n",
    "3. Press Menu > 'Run' (or shift/ctrl-return)"
   ]
  },
  {
   "cell_type": "markdown",
   "metadata": {
    "hideCode": false,
    "hidePrompt": false
   },
   "source": [
    "# Natural Language Processing (NLP)\n",
    "\n",
    "NLP refers to using computers to search, manipulate and respond to human language.\n",
    "\n",
    "It is closely connected to AI, Machine Learning, Big Data.\n",
    "\n",
    "Google, Facebook, etc. are investing vast resources in making computers understand text, image and sound."
   ]
  },
  {
   "cell_type": "markdown",
   "metadata": {},
   "source": [
    "## Search is AI in action"
   ]
  },
  {
   "cell_type": "markdown",
   "metadata": {
    "ExecuteTime": {
     "end_time": "2020-04-19T14:48:57.809295Z",
     "start_time": "2020-04-19T14:48:57.804295Z"
    }
   },
   "source": [
    "Have you noticed how Google search has become very good at [finding what you want](https://www.google.com/intl/en_uk/search/howsearchworks/algorithms/)?\n",
    "\n",
    "Not only does it index billions of web pages, but, it also:\n",
    "- spell checks (try: '[appple piee](https://www.google.co.uk/search?hl=en&q=appple%20piee&meta=)')\n",
    "- considers words in context (try: '[apple shares](https://www.google.co.uk/search?hl=en&q=apple%20shares&meta=)' vs. '[apple pie](https://www.google.co.uk/search?hl=en&q=apple%20pie&meta=)')\n",
    "- understands synonyms (try: '[apple with pastry top](https://www.google.co.uk/search?hl=en&q=apple%20with%20pastry%20top&meta=)')\n",
    "- and intent (try: '[how should one prepare a pie made with apples?](https://www.google.co.uk/search?hl=en&q=how%20should%20one%20prepare%20a%20pie%20made%20with%20apples%3F&meta=)')"
   ]
  },
  {
   "cell_type": "markdown",
   "metadata": {},
   "source": [
    "## It wasn't always so easy"
   ]
  },
  {
   "cell_type": "markdown",
   "metadata": {},
   "source": [
    "Does anyone remember searching with AltaVista, Lycos, WebCrawler, Ask Jeeves ....\n",
    "\n",
    "Yahoo search in the 1990s was a glorified telephone directory"
   ]
  },
  {
   "cell_type": "markdown",
   "metadata": {},
   "source": [
    "![Yahoo search in the 1990s - a glorified telephone directory](yahoo_1990-compressor.jpg)"
   ]
  },
  {
   "cell_type": "markdown",
   "metadata": {
    "ExecuteTime": {
     "end_time": "2020-04-19T14:47:24.804269Z",
     "start_time": "2020-04-19T14:47:24.799271Z"
    }
   },
   "source": [
    "So, what happened?\n",
    "1. identifying quality based on links ('page rank') - not our focus\n",
    "2. advances in understanding the meaning of words - our focus"
   ]
  },
  {
   "cell_type": "markdown",
   "metadata": {
    "hideCode": false,
    "hidePrompt": false
   },
   "source": [
    "## Generation 1: Word Frequency"
   ]
  },
  {
   "cell_type": "markdown",
   "metadata": {
    "hideCode": false,
    "hidePrompt": false
   },
   "source": [
    "Before 2013 most search was based on words occurance. Given the some text, search engines counted how often words occured.\n",
    "\n"
   ]
  },
  {
   "cell_type": "code",
   "execution_count": 5,
   "metadata": {
    "ExecuteTime": {
     "end_time": "2020-04-20T13:50:36.267336Z",
     "start_time": "2020-04-20T13:50:36.261336Z"
    }
   },
   "outputs": [
    {
     "data": {
      "text/plain": [
       "2"
      ]
     },
     "execution_count": 5,
     "metadata": {},
     "output_type": "execute_result"
    }
   ],
   "source": [
    "text_to_search = 'This webpage is about Bob the cat and other cats but not The Cat'\n",
    "\n",
    "text_to_search.count('cat')"
   ]
  },
  {
   "cell_type": "markdown",
   "metadata": {},
   "source": [
    "In social research, word frequency has been counted since the 1960s.\n",
    "\n",
    "One of the most popular software platforms for this is the LIWC ('[Linguistic Inquiry Word Count](https://liwc.wpengine.com/)').\n",
    "\n",
    "This proprietary software was developed by James Pennebaker et al., and has validated psychometric properties ([2015](https://repositories.lib.utexas.edu/bitstream/handle/2152/31333/LIWC2015_LanguageManual.pdf))."
   ]
  },
  {
   "cell_type": "markdown",
   "metadata": {},
   "source": [
    "![LIWC](LIWC.jpg)"
   ]
  },
  {
   "cell_type": "markdown",
   "metadata": {
    "ExecuteTime": {
     "end_time": "2020-04-20T09:48:01.986853Z",
     "start_time": "2020-04-20T09:48:01.980847Z"
    }
   },
   "source": [
    "Indicative research: <br>\n",
    "- Identifying [authorship in Shakespeare's plays](http://elizabethan-theatre.org/wps/wp-content/uploads/2015/07/Double-Falsehood-by-Ryan-Boyd-Psychological-Science-2015.pdf)\n",
    "- Longitudinal studies of Mayor [Giuliani's adaptation to the crisis of 9/11](https://www.sciencedirect.com/science/article/abs/pii/S0092656602923494)\n",
    "- Detecting people's [personality from their writing style](https://www.ncbi.nlm.nih.gov/pmc/articles/PMC2885844/?_escaped_fragment_=po=2.77778)\n",
    "- Monitoring [public anxiety](https://www.tandfonline.com/doi/abs/10.1080/10410236.2011.571759) and public mood (which is [associated with stock prices](https://arxiv.org/pdf/1010.3003&))\n",
    "- CFOs who copy the CEO style of [speech speak-up less](https://journals.aom.org/doi/abs/10.5465/amj.2016.1062)\n",
    "\n",
    "But, all these studies use fairly basic word count techniques, or, slightly more advanced sentiment analysis."
   ]
  },
  {
   "cell_type": "markdown",
   "metadata": {},
   "source": [
    "The problems with word counting:\n",
    "- similarity is based on characters\n",
    "- 'dog' is not the same as 'Dog' (capital) or 'dgo' (typo)\n",
    "- 'dog' is similar to 'dogs' (same stem)\n",
    "- 'dog' is also similar to 'god' (same characters)\n",
    "- But, 'dog' is not similar to 'labrador' (type of dog) or 'cat' (also a pet)"
   ]
  },
  {
   "cell_type": "markdown",
   "metadata": {
    "hideCode": false,
    "hidePrompt": false
   },
   "source": [
    "## Generation 2: Word embeddings"
   ]
  },
  {
   "cell_type": "markdown",
   "metadata": {
    "hideCode": true,
    "hidePrompt": true
   },
   "source": [
    "'Word embeddings' were developed by [Yoshua Bengio](https://scholar.google.co.uk/citations?user=kukA0LcAAAAJ&hl=en), [Yann LeCun](https://scholar.google.co.uk/citations?user=WLN3QrAAAAAJ&hl=en&oi=ao), [Geoffrey Hinton](https://scholar.google.co.uk/citations?user=JicYPdAAAAAJ&hl=en&oi=ao) et al. using neural networks and deep learning techniques. This work has recently led to a huge breakthrough in NLP.\n",
    "\n",
    "The core idea is evident Wittgenstein's ([1953](https://en.wikipedia.org/wiki/Philosophical_Investigations); also Firth, [1957](https://en.wikipedia.org/wiki/John_Rupert_Firth)) insight: the meaning of words comes from the context in which they are used. \n",
    "\n",
    "Consider the sentence 'the X sat on the mat' - most people would agree that 'dog' and 'cat' are plausible candidates for X. That is to say, 'dog' and 'cat' occupy similar roles within similar sentences. \n",
    "\n",
    "This is also the core idea behind predictive text: where algorithms try to predict the next word you might use on the basis of what has been typed. ([Demo: can predictive text finish your manuscript?](https://talktotransformer.com/)).\n",
    "\n",
    "These are statistical models of language. Based on huge (billions of words) datasets, the statistics are used to predict words.\n",
    "\n",
    "The key idea: instead of counting words, ignore the word itself, and count the words that it co-occurs with.\n",
    "\n",
    "This might seem odd, but, when scaled accross billions of pages of text (books, webpages) it produces models that *seem to encode meaning."
   ]
  },
  {
   "cell_type": "markdown",
   "metadata": {},
   "source": [
    "Word embeddings encode the meaning of words not in terms of the words themselves, but, in terms of the context in which the words appear. By analyzing billions of webpages and books, statistical models are built based on which words occur in the same context. These models _seem_ to encode meaning.\n",
    "\n",
    "Here is an [interactive illustration](https://projector.tensorflow.org/) of a small model (10k words mapped in 200 dimensions).\n"
   ]
  },
  {
   "cell_type": "markdown",
   "metadata": {},
   "source": [
    "# Using word Embeddings"
   ]
  },
  {
   "cell_type": "markdown",
   "metadata": {},
   "source": [
    "## Find similar words"
   ]
  },
  {
   "cell_type": "markdown",
   "metadata": {},
   "source": [
    "Try single words, such as: 'blue', 'summer', 'university' or 'psychology'. <br>\n",
    "Also, try combinations of words: 'sad happy' (yields 'hope'), "
   ]
  },
  {
   "cell_type": "code",
   "execution_count": 6,
   "metadata": {
    "ExecuteTime": {
     "end_time": "2020-04-20T13:50:38.183357Z",
     "start_time": "2020-04-20T13:50:36.268337Z"
    }
   },
   "outputs": [
    {
     "name": "stdout",
     "output_type": "stream",
     "text": [
      "\n",
      "TOKENS NEAR VECTOR:    unfortunately wonder there sadly one but why though imagine fact because still reason nothing thought surprised obviously so meant admit thing way same hardly too doubt gone what indeed remember seriously even well wondering concerned far yet suppose perhaps where supposed reminded wish besides realize not hope kind yes now shame just reasons unfortunate it i̇t when mention that how bad know say anyway forget guess ironically surely \n",
      "\n"
     ]
    }
   ],
   "source": [
    "getTokensNearVector(nlp, 'sad university')"
   ]
  },
  {
   "cell_type": "markdown",
   "metadata": {
    "hideCode": false,
    "hidePrompt": false
   },
   "source": [
    "## Comparing word similarity\n",
    "Most people would agree that 'dog' is more similar to 'cat' than 'road' - and the models agree:"
   ]
  },
  {
   "cell_type": "code",
   "execution_count": 7,
   "metadata": {
    "ExecuteTime": {
     "end_time": "2020-04-20T13:50:38.361355Z",
     "start_time": "2020-04-20T13:50:38.184357Z"
    },
    "hideCode": false,
    "hidePrompt": false
   },
   "outputs": [
    {
     "data": {
      "image/png": "[encoded data removed]",
      "text/plain": [
       "<Figure size 360x360 with 1 Axes>"
      ]
     },
     "metadata": {
      "needs_background": "light"
     },
     "output_type": "display_data"
    }
   ],
   "source": [
    "words = ['dog', 'cat', 'car', 'road', 'traffic', 'ideas']\n",
    "    \n",
    "compareMeanings(words)"
   ]
  },
  {
   "cell_type": "markdown",
   "metadata": {},
   "source": [
    "Change the above code, to see how similar 'dog', 'Dog', 'canine', and 'K9' are."
   ]
  },
  {
   "cell_type": "markdown",
   "metadata": {
    "hideCode": false,
    "hidePrompt": false
   },
   "source": [
    "## Comparing sentence meaning"
   ]
  },
  {
   "cell_type": "markdown",
   "metadata": {
    "hideCode": false,
    "hidePrompt": false
   },
   "source": [
    "We can also use these models to compare sentences. Consider the following (all using unique words). Just by averaging the word embeddings for each sentence, we can see, that the model corresponds broadly to our human judgement. <br>\n",
    "<br>\n",
    "Change the sentences and re-run the cell to see the result."
   ]
  },
  {
   "cell_type": "code",
   "execution_count": 8,
   "metadata": {
    "ExecuteTime": {
     "end_time": "2020-04-20T13:50:38.542357Z",
     "start_time": "2020-04-20T13:50:38.362356Z"
    },
    "hideCode": false,
    "hidePrompt": false
   },
   "outputs": [
    {
     "data": {
      "image/png": "[encoded data removed]",
      "text/plain": [
       "<Figure size 360x360 with 1 Axes>"
      ]
     },
     "metadata": {
      "needs_background": "light"
     },
     "output_type": "display_data"
    }
   ],
   "source": [
    "sentences = ['the pilot flew the plane', \n",
    "             'trees do not grow on rocks',\n",
    "             'i broke my arm', \n",
    "             'he snapped his leg',\n",
    "             'a helicopter soared up',\n",
    "             'plants need lots of water']\n",
    "\n",
    "compareMeanings(sentences)"
   ]
  },
  {
   "cell_type": "markdown",
   "metadata": {},
   "source": [
    "## Measuring sentences for target concept\n",
    "The idea here comes from the [Garten et al. (2018)](https://link.springer.com/article/10.3758/s13428-017-0875-9) who argue that "
   ]
  },
  {
   "cell_type": "code",
   "execution_count": 9,
   "metadata": {
    "ExecuteTime": {
     "end_time": "2020-04-20T13:50:38.602356Z",
     "start_time": "2020-04-20T13:50:38.543358Z"
    }
   },
   "outputs": [
    {
     "name": "stdout",
     "output_type": "stream",
     "text": [
      "Similarity to 'died':  0.04  'Superb excellent ++'\n",
      "Similarity to 'died':  0.2   'accessible car park'\n",
      "Similarity to 'died':  0.4   'my arm broke'\n",
      "Similarity to 'died':  0.68  'she was dying'\n",
      "Similarity to 'died':  0.85  'he died later'\n",
      "Similarity to 'died':  1.0   'died died died'\n"
     ]
    }
   ],
   "source": [
    "target = 'died'\n",
    "\n",
    "sentences = [\"Superb excellent ++\",\n",
    "             'accessible car park',\n",
    "             'my arm broke', \n",
    "             'she was dying', \n",
    "             'he died later',\n",
    "             'died died died']\n",
    "\n",
    "for sent in sentences:\n",
    "    score = round(nlp(sent).similarity(nlp(target)), 2)\n",
    "    print(\"Similarity to 'died':  {:<4}  '{:}'\".format(score, sent))"
   ]
  },
  {
   "cell_type": "markdown",
   "metadata": {
    "hideCode": false,
    "hidePrompt": false
   },
   "source": [
    "## Adding and subtracting meanings\n",
    "If words are represented as numbers, then, can we do mathematics with the meanings?\n",
    "\n",
    "What if we start with the meaning of 'king' subtract 'man' and add 'woman' - what would the outcome be?"
   ]
  },
  {
   "cell_type": "markdown",
   "metadata": {},
   "source": [
    "Here are the words near 'died dead and dying'. "
   ]
  },
  {
   "cell_type": "code",
   "execution_count": 10,
   "metadata": {
    "ExecuteTime": {
     "end_time": "2020-04-20T13:50:40.484358Z",
     "start_time": "2020-04-20T13:50:38.603357Z"
    }
   },
   "outputs": [
    {
     "name": "stdout",
     "output_type": "stream",
     "text": [
      "\n",
      "TOKENS NEAR VECTOR:    died death born lived killed survived dying dead dies father buried resided was alive remembered later came perished after succumbed murdered tragically deceased became had mother drowned suffered grandfather shortly widow daughter brother disappeared since knew took happened apparently broke lives husband believed wife moved deaths passed he remembers grandson arrived who went late when years gone turned brought ended married lost once brother-in-law escaped whom d. sadly eldest uncle remarried stayed did eventually before last grandmother until succeeded ill sometime wounded cousin never departed fell hospitalized still suddenly there \n",
      "\n"
     ]
    }
   ],
   "source": [
    "v = nlp('died').vector\n",
    "getTokensNearVector(nlp, v)"
   ]
  },
  {
   "cell_type": "markdown",
   "metadata": {},
   "source": [
    "But, people tend to die in two ways: unintentional and intentional (murder). <br>\n",
    "To find words associated with intentionall death, we subtract the concept of 'accident' and add the concept 'murder'."
   ]
  },
  {
   "cell_type": "code",
   "execution_count": 11,
   "metadata": {
    "ExecuteTime": {
     "end_time": "2020-04-20T13:50:42.385358Z",
     "start_time": "2020-04-20T13:50:40.485357Z"
    }
   },
   "outputs": [
    {
     "name": "stdout",
     "output_type": "stream",
     "text": [
      "\n",
      "TOKENS NEAR VECTOR:    murder murdered died death murdering murders murderer killed killing hanged imprisoned born slaying lived convicted dead sentenced assassinated slain father alive dying killings widow acquitted survived prison brother mother buried murderers jailed assassination confessed daughter massacre raped guilty gunned arrested stabbed kill wife sons prisoner married kidnapping resided accused dies stepfather suicide jail indicted grandfather suspects massacred beheaded brother-in-law tortured killer daughters kidnapped raping whom brothers killers uncle treason husband martyred escaped fled pleaded condemned eldest believed slayings grandson martyr freed succeeded slaughtered murderous who rapist deceased was nephew lives cousin remembered crimes convict son \n",
      "\n"
     ]
    }
   ],
   "source": [
    "v = nlp('died').vector - nlp('accident').vector + nlp('murder').vector\n",
    "getTokensNearVector(nlp, v)"
   ]
  },
  {
   "cell_type": "markdown",
   "metadata": {},
   "source": [
    "Or, we can look at the words associated with 'died' excluding the 'murder' and focusing on 'accidents'."
   ]
  },
  {
   "cell_type": "code",
   "execution_count": 12,
   "metadata": {
    "ExecuteTime": {
     "end_time": "2020-04-20T13:50:44.295358Z",
     "start_time": "2020-04-20T13:50:42.386357Z"
    }
   },
   "outputs": [
    {
     "name": "stdout",
     "output_type": "stream",
     "text": [
      "\n",
      "TOKENS NEAR VECTOR:    died accident crash crashed suffered accidents injured injuries wreck survived mishap hospitalized born collision was collided shortly tragically fatal perished after lived dying dies ambulance lost arrived later succumbed happened crashes passed occurred death resided wrecked remembered since traveled came hospital due casualty fatality luckily caused sometime had departed injury took motorcyclist collapsed fortunately recovering broke moved fell went when until buried unexpectedly stopped suddenly drowned travelled affected automobile before became killed last exited illness leaving stuck late disappeared realized catastrophic deceased badly once landed recuperating afterward hospitalised apparently sudden ended dead sadly fatalities rescued discovered damaged \n",
      "\n"
     ]
    }
   ],
   "source": [
    "v = nlp('died').vector + nlp('accident').vector - nlp('murder').vector\n",
    "getTokensNearVector(nlp, v)"
   ]
  },
  {
   "cell_type": "code",
   "execution_count": 13,
   "metadata": {
    "ExecuteTime": {
     "end_time": "2020-04-20T13:50:46.195356Z",
     "start_time": "2020-04-20T13:50:44.296358Z"
    }
   },
   "outputs": [
    {
     "name": "stdout",
     "output_type": "stream",
     "text": [
      "\n",
      "TOKENS NEAR VECTOR:    doctor nurse doctors pregnant physician woman gynecologist pharmacist midwife medical patient pediatrician pregnancy clinic surgeon obstetrician mother medication medicine lady hospital consult therapist psychiatrist she nurses oncologist herself veterinarian her breastfeeding practitioner mom surgery dermatologist medications physicians dentist gynaecologist prescribe cardiologist meds husband girl chiropractor wife mothers aunt receptionist anesthesiologist advised prescribing pain breast-feeding hers dietician women elderly pharmacy checkup naturopath treatment birth neurologist ask care childbirth grandmother breast nursing prescriptions counselor patients dr. treating taking treat informed tell worried prescription immediately internist acupuncturist expectant medically health caregiver co-worker housewife prescribed pill miscarriage appointment coworker nutritionist \n",
      "\n"
     ]
    }
   ],
   "source": [
    "v = nlp('doctor').vector + nlp('woman').vector - nlp('man').vector\n",
    "getTokensNearVector(nlp, v)"
   ]
  },
  {
   "cell_type": "code",
   "execution_count": 14,
   "metadata": {
    "ExecuteTime": {
     "end_time": "2020-04-20T13:50:48.096768Z",
     "start_time": "2020-04-20T13:50:46.196357Z"
    }
   },
   "outputs": [
    {
     "name": "stdout",
     "output_type": "stream",
     "text": [
      "\n",
      "TOKENS NEAR VECTOR:    rome england italy uk europe london ireland britain france australia greece germany spain manchester usa zealand scotland canada dublin glasgow european birmingham sydney paris york edinburgh prague poland british chicago africa toronto leeds venice melbourne america liverpool wales netherlands atlanta florence amsterdam switzerland austria egypt athens ohio malta belgium columbus perth brisbane american orlando denmark cyprus holland boston roman sweden bristol italia nz florida hungary italian dallas newcastle india roma vancouver cambridge brighton indiana seattle washington milan georgia russia singapore berlin denver united virginia maryland mexico nyc asia richmond sheffield baltimore romania montreal barcelona australian ontario \n",
      "\n"
     ]
    }
   ],
   "source": [
    "v = nlp('rome').vector + nlp('uk england').vector \n",
    "getTokensNearVector(nlp, v)"
   ]
  },
  {
   "cell_type": "code",
   "execution_count": 15,
   "metadata": {
    "ExecuteTime": {
     "end_time": "2020-04-20T13:50:50.025767Z",
     "start_time": "2020-04-20T13:50:48.097768Z"
    }
   },
   "outputs": [
    {
     "name": "stdout",
     "output_type": "stream",
     "text": [
      "\n",
      "TOKENS NEAR VECTOR:    austria belgium switzerland netherlands finland germany hungary sweden denmark poland europe norway slovenia luxembourg vienna italy slovakia prague romania spain bulgaria moscow budapest austrian croatia salzburg holland cyprus malta russia france schweiz berlin argentina warsaw european graz iceland britain hamburg innsbruck czech deutschland amsterdam greece munich serbia zurich helsinki montreal andorra winnipeg u.k. wien estonia stockholm nederland england belfast zealand portugal monaco usa espana ukraine u.s. ireland arabia eire glasgow helena geneva europa leeds vermont albany albuquerque sheffield bavaria calgary ottawa lithuania edmonton cardiff dublin birmingham copenhagen boise u.s.a. bonn beijing uruguay edinburgh benelux frankfurt regina bremen columbus peru colombia \n",
      "\n"
     ]
    }
   ],
   "source": [
    "v = nlp('austria').vector\n",
    "getTokensNearVector(nlp, v)"
   ]
  },
  {
   "cell_type": "code",
   "execution_count": null,
   "metadata": {},
   "outputs": [],
   "source": []
  },
  {
   "cell_type": "code",
   "execution_count": null,
   "metadata": {},
   "outputs": [],
   "source": []
  },
  {
   "cell_type": "code",
   "execution_count": 16,
   "metadata": {
    "ExecuteTime": {
     "end_time": "2020-04-20T13:50:51.601767Z",
     "start_time": "2020-04-20T13:50:50.026768Z"
    }
   },
   "outputs": [
    {
     "data": {
      "text/plain": [
       "['doctor',\n",
       " 'nurse',\n",
       " 'doctors',\n",
       " 'pregnant',\n",
       " 'physician',\n",
       " 'woman',\n",
       " 'gynecologist',\n",
       " 'pharmacist',\n",
       " 'midwife',\n",
       " 'medical',\n",
       " 'patient',\n",
       " 'pediatrician',\n",
       " 'pregnancy',\n",
       " 'clinic',\n",
       " 'surgeon',\n",
       " 'obstetrician']"
      ]
     },
     "execution_count": 16,
     "metadata": {},
     "output_type": "execute_result"
    }
   ],
   "source": [
    "start = 'he'\n",
    "subtract = 'doctor'\n",
    "add = 'woman'\n",
    "\n",
    "start = 'doctor'\n",
    "subtract = 'man'\n",
    "add = 'woman'\n",
    "\n",
    "\n",
    "v = nlp.vocab[start].vector - nlp.vocab[subtract].vector + nlp.vocab[add].vector\n",
    "#print(v)\n",
    "\n",
    "from scipy.spatial import distance\n",
    "import numpy as np\n",
    "\n",
    "# Format the vocabulary for use in the distance function\n",
    "ids = [x for x in nlp.vocab.vectors.keys()]\n",
    "vectors1 = [nlp.vocab.vectors[x] for x in ids]\n",
    "vectors2 = np.array(vectors1)\n",
    "#print(vectors2)\n",
    "        \n",
    "# measure distances\n",
    "dist = distance.cdist([np.array(v)],vectors2)[0]\n",
    "    \n",
    "# create df of results\n",
    "df = pd.DataFrame({'distance':[x for x in dist]})\n",
    "df.sort_values('distance', inplace=True)\n",
    "\n",
    "# print output\n",
    "words = []\n",
    "for i in df.index[:50]:\n",
    "    word_id = ids[i]\n",
    "    output_word = nlp.vocab[word_id].text\n",
    "    output_word = output_word.lower()\n",
    "    if output_word not in words:\n",
    "        words.append(output_word.lower())\n",
    "        \n",
    "words         \n",
    "#remove input tokens"
   ]
  },
  {
   "cell_type": "code",
   "execution_count": 17,
   "metadata": {
    "ExecuteTime": {
     "end_time": "2020-04-20T13:50:53.496793Z",
     "start_time": "2020-04-20T13:50:51.602767Z"
    }
   },
   "outputs": [
    {
     "name": "stdout",
     "output_type": "stream",
     "text": [
      "\n",
      "TOKENS NEAR VECTOR:    italian italy pizzeria pizzas resturant sandwich florence chicago cafe columbus deli diner hamburger bologna austin nyc dominos roma syracuse lastly bakery athens supper seattle naples roman greek portland yep burger toronto european bc pittsburgh fyi besides baker caesar sunday restuarant ditto marco pasta pie cincinnati french milan cleveland restaraunt ie europe i.e baked manhattan mcdonalds francisco fro e.g diego mention ect venice phoenix malta philly johns brooklyn sandwiches place alexandria recipies american p.s. unlike york denver a. instead like philadelphia whole ours food meant apart natch richmond a.k.a. jim bread there charlotte forget \n",
      "\n"
     ]
    }
   ],
   "source": [
    "getTokensNearVector(nlp, 'rome pizza')"
   ]
  },
  {
   "cell_type": "code",
   "execution_count": 18,
   "metadata": {
    "ExecuteTime": {
     "end_time": "2020-04-20T13:50:53.500794Z",
     "start_time": "2020-04-20T13:50:53.497793Z"
    }
   },
   "outputs": [
    {
     "name": "stdout",
     "output_type": "stream",
     "text": [
      "apple vs banana:  0.5831844210624695\n"
     ]
    }
   ],
   "source": [
    "from scipy import spatial\n",
    "cosine_similarity = lambda x, y: 1-spatial.distance.cosine(x, y)\n",
    "print(\"apple vs banana: \", cosine_similarity(nlp.vocab['apple'].vector, nlp.vocab['banana'].vector))"
   ]
  },
  {
   "cell_type": "code",
   "execution_count": 19,
   "metadata": {
    "ExecuteTime": {
     "end_time": "2020-04-20T13:51:08.677832Z",
     "start_time": "2020-04-20T13:50:53.502794Z"
    },
    "hideCode": false,
    "hidePrompt": false
   },
   "outputs": [
    {
     "name": "stdout",
     "output_type": "stream",
     "text": [
      "'king' minus 'man' add 'woman' = queen\n"
     ]
    }
   ],
   "source": [
    "start = 'king'\n",
    "subtract = 'man'\n",
    "add = 'woman'\n",
    "\n",
    "mathsOnMeaning(start, subtract, add)"
   ]
  },
  {
   "cell_type": "markdown",
   "metadata": {},
   "source": [
    "- Try: 'uk' minus 'london' add 'geneva'\n",
    "- Try: 'berlin' minus 'germany' add 'france'\n",
    "- Try: 'india' minus 'curry' add 'pizza'\n",
    "- Try: 'man' minus 'boy' add 'girl'\n",
    "- Try: 'paris' minus 'france' add 'uk'"
   ]
  },
  {
   "cell_type": "code",
   "execution_count": 20,
   "metadata": {
    "ExecuteTime": {
     "end_time": "2020-04-20T13:51:23.795832Z",
     "start_time": "2020-04-20T13:51:08.678831Z"
    }
   },
   "outputs": [
    {
     "name": "stdout",
     "output_type": "stream",
     "text": [
      "'uk' minus 'london' add 'geneva' = switzerland\n"
     ]
    }
   ],
   "source": [
    "start = 'uk'\n",
    "subtract = 'london'\n",
    "add = 'geneva'\n",
    "\n",
    "mathsOnMeaning(start, subtract, add)"
   ]
  },
  {
   "cell_type": "markdown",
   "metadata": {},
   "source": [
    "## Syntax"
   ]
  },
  {
   "cell_type": "markdown",
   "metadata": {},
   "source": [
    "Language models have also been developed to understand the syntactic components of text.\n",
    "\n",
    "These models identify traditional grammatical components (e.g., pronouns, verbs, nouns) and 'dependency grammar' - which is how the words are related to one another (e.g., who is the subject of the verb).\n"
   ]
  },
  {
   "cell_type": "code",
   "execution_count": 21,
   "metadata": {
    "ExecuteTime": {
     "end_time": "2020-04-20T13:51:23.806833Z",
     "start_time": "2020-04-20T13:51:23.796833Z"
    }
   },
   "outputs": [
    {
     "data": {
      "text/html": [
       "<svg xmlns=\"http://www.w3.org/2000/svg\" xmlns:xlink=\"http://www.w3.org/1999/xlink\" xml:lang=\"en\" id=\"aadb25ef55fa43b0ac26d6ac58d1c704-0\" class=\"displacy\" width=\"925\" height=\"312.0\" direction=\"ltr\" style=\"max-width: none; height: 312.0px; color: #000000; background: #ffffff; font-family: Arial; direction: ltr\">\n",
       "<text class=\"displacy-token\" fill=\"currentColor\" text-anchor=\"middle\" y=\"222.0\">\n",
       "    <tspan class=\"displacy-word\" fill=\"currentColor\" x=\"50\">i</tspan>\n",
       "    <tspan class=\"displacy-tag\" dy=\"2em\" fill=\"currentColor\" x=\"50\">PRON</tspan>\n",
       "</text>\n",
       "\n",
       "<text class=\"displacy-token\" fill=\"currentColor\" text-anchor=\"middle\" y=\"222.0\">\n",
       "    <tspan class=\"displacy-word\" fill=\"currentColor\" x=\"225\">went</tspan>\n",
       "    <tspan class=\"displacy-tag\" dy=\"2em\" fill=\"currentColor\" x=\"225\">VERB</tspan>\n",
       "</text>\n",
       "\n",
       "<text class=\"displacy-token\" fill=\"currentColor\" text-anchor=\"middle\" y=\"222.0\">\n",
       "    <tspan class=\"displacy-word\" fill=\"currentColor\" x=\"400\">to</tspan>\n",
       "    <tspan class=\"displacy-tag\" dy=\"2em\" fill=\"currentColor\" x=\"400\">ADP</tspan>\n",
       "</text>\n",
       "\n",
       "<text class=\"displacy-token\" fill=\"currentColor\" text-anchor=\"middle\" y=\"222.0\">\n",
       "    <tspan class=\"displacy-word\" fill=\"currentColor\" x=\"575\">the</tspan>\n",
       "    <tspan class=\"displacy-tag\" dy=\"2em\" fill=\"currentColor\" x=\"575\">DET</tspan>\n",
       "</text>\n",
       "\n",
       "<text class=\"displacy-token\" fill=\"currentColor\" text-anchor=\"middle\" y=\"222.0\">\n",
       "    <tspan class=\"displacy-word\" fill=\"currentColor\" x=\"750\">shop</tspan>\n",
       "    <tspan class=\"displacy-tag\" dy=\"2em\" fill=\"currentColor\" x=\"750\">NOUN</tspan>\n",
       "</text>\n",
       "\n",
       "<g class=\"displacy-arrow\">\n",
       "    <path class=\"displacy-arc\" id=\"arrow-aadb25ef55fa43b0ac26d6ac58d1c704-0-0\" stroke-width=\"2px\" d=\"M70,177.0 C70,89.5 220.0,89.5 220.0,177.0\" fill=\"none\" stroke=\"currentColor\"/>\n",
       "    <text dy=\"1.25em\" style=\"font-size: 0.8em; letter-spacing: 1px\">\n",
       "        <textPath xlink:href=\"#arrow-aadb25ef55fa43b0ac26d6ac58d1c704-0-0\" class=\"displacy-label\" startOffset=\"50%\" side=\"left\" fill=\"currentColor\" text-anchor=\"middle\">nsubj</textPath>\n",
       "    </text>\n",
       "    <path class=\"displacy-arrowhead\" d=\"M70,179.0 L62,167.0 78,167.0\" fill=\"currentColor\"/>\n",
       "</g>\n",
       "\n",
       "<g class=\"displacy-arrow\">\n",
       "    <path class=\"displacy-arc\" id=\"arrow-aadb25ef55fa43b0ac26d6ac58d1c704-0-1\" stroke-width=\"2px\" d=\"M245,177.0 C245,89.5 395.0,89.5 395.0,177.0\" fill=\"none\" stroke=\"currentColor\"/>\n",
       "    <text dy=\"1.25em\" style=\"font-size: 0.8em; letter-spacing: 1px\">\n",
       "        <textPath xlink:href=\"#arrow-aadb25ef55fa43b0ac26d6ac58d1c704-0-1\" class=\"displacy-label\" startOffset=\"50%\" side=\"left\" fill=\"currentColor\" text-anchor=\"middle\">prep</textPath>\n",
       "    </text>\n",
       "    <path class=\"displacy-arrowhead\" d=\"M395.0,179.0 L403.0,167.0 387.0,167.0\" fill=\"currentColor\"/>\n",
       "</g>\n",
       "\n",
       "<g class=\"displacy-arrow\">\n",
       "    <path class=\"displacy-arc\" id=\"arrow-aadb25ef55fa43b0ac26d6ac58d1c704-0-2\" stroke-width=\"2px\" d=\"M595,177.0 C595,89.5 745.0,89.5 745.0,177.0\" fill=\"none\" stroke=\"currentColor\"/>\n",
       "    <text dy=\"1.25em\" style=\"font-size: 0.8em; letter-spacing: 1px\">\n",
       "        <textPath xlink:href=\"#arrow-aadb25ef55fa43b0ac26d6ac58d1c704-0-2\" class=\"displacy-label\" startOffset=\"50%\" side=\"left\" fill=\"currentColor\" text-anchor=\"middle\">det</textPath>\n",
       "    </text>\n",
       "    <path class=\"displacy-arrowhead\" d=\"M595,179.0 L587,167.0 603,167.0\" fill=\"currentColor\"/>\n",
       "</g>\n",
       "\n",
       "<g class=\"displacy-arrow\">\n",
       "    <path class=\"displacy-arc\" id=\"arrow-aadb25ef55fa43b0ac26d6ac58d1c704-0-3\" stroke-width=\"2px\" d=\"M420,177.0 C420,2.0 750.0,2.0 750.0,177.0\" fill=\"none\" stroke=\"currentColor\"/>\n",
       "    <text dy=\"1.25em\" style=\"font-size: 0.8em; letter-spacing: 1px\">\n",
       "        <textPath xlink:href=\"#arrow-aadb25ef55fa43b0ac26d6ac58d1c704-0-3\" class=\"displacy-label\" startOffset=\"50%\" side=\"left\" fill=\"currentColor\" text-anchor=\"middle\">pobj</textPath>\n",
       "    </text>\n",
       "    <path class=\"displacy-arrowhead\" d=\"M750.0,179.0 L758.0,167.0 742.0,167.0\" fill=\"currentColor\"/>\n",
       "</g>\n",
       "</svg>"
      ],
      "text/plain": [
       "<IPython.core.display.HTML object>"
      ]
     },
     "metadata": {},
     "output_type": "display_data"
    }
   ],
   "source": [
    "text = \"i went to the shop\"\n",
    "displacy.render(nlp(text), style=\"dep\", jupyter=True)"
   ]
  },
  {
   "cell_type": "markdown",
   "metadata": {},
   "source": [
    "Change the text in the above example to try and confuse the language model.\n",
    "- try: `'to the shop i went'`\n",
    "- try: `'i weeent to the shopppp'`"
   ]
  },
  {
   "cell_type": "markdown",
   "metadata": {},
   "source": [
    "## Semantic components"
   ]
  },
  {
   "cell_type": "markdown",
   "metadata": {},
   "source": [
    "Using the analysis of syntax, the language models have become quite good at identifying people, organisations, products, dates, etc."
   ]
  },
  {
   "cell_type": "code",
   "execution_count": 22,
   "metadata": {
    "ExecuteTime": {
     "end_time": "2020-04-20T13:51:23.817833Z",
     "start_time": "2020-04-20T13:51:23.807833Z"
    }
   },
   "outputs": [
    {
     "data": {
      "text/html": [
       "<div class=\"entities\" style=\"line-height: 2.5; direction: ltr\">\n",
       "<mark class=\"entity\" style=\"background: #aa9cfc; padding: 0.45em 0.6em; margin: 0 0.25em; line-height: 1; border-radius: 0.35em;\">\n",
       "    Elon Musk\n",
       "    <span style=\"font-size: 0.8em; font-weight: bold; line-height: 1; border-radius: 0.35em; text-transform: uppercase; vertical-align: middle; margin-left: 0.5rem\">PERSON</span>\n",
       "</mark>\n",
       " is CEO of \n",
       "<mark class=\"entity\" style=\"background: #7aecec; padding: 0.45em 0.6em; margin: 0 0.25em; line-height: 1; border-radius: 0.35em;\">\n",
       "    Tesla\n",
       "    <span style=\"font-size: 0.8em; font-weight: bold; line-height: 1; border-radius: 0.35em; text-transform: uppercase; vertical-align: middle; margin-left: 0.5rem\">ORG</span>\n",
       "</mark>\n",
       "</div>"
      ],
      "text/plain": [
       "<IPython.core.display.HTML object>"
      ]
     },
     "metadata": {},
     "output_type": "display_data"
    }
   ],
   "source": [
    "text = 'Elon Musk is CEO of Tesla'\n",
    "displacy.render(nlp(text), jupyter=True, style=\"ent\")"
   ]
  },
  {
   "cell_type": "markdown",
   "metadata": {
    "ExecuteTime": {
     "end_time": "2020-04-20T11:48:06.176982Z",
     "start_time": "2020-04-20T11:48:06.171982Z"
    }
   },
   "source": [
    "Again, these language models have a degree of robustness against unfamiliar words and typos. \n",
    "\n",
    "- Try a typo: `'Elon Mussk is CEO of Tsla'`\n",
    "- Try: `'I saw the mona lisa on the 25th of sept'`"
   ]
  },
  {
   "cell_type": "markdown",
   "metadata": {},
   "source": [
    "# Use in social research?"
   ]
  },
  {
   "cell_type": "markdown",
   "metadata": {},
   "source": [
    "[Salganik (2019)](https://www.bitbybitbook.com/en/1st-ed/preface/) gives a good overview of the impact of NLP (and data science in general) on social research"
   ]
  },
  {
   "cell_type": "markdown",
   "metadata": {},
   "source": [
    "Popular apps and web-pages provide:\n",
    "1. Analysis of [speeches in parliament](https://pudding.cool/2018/07/women-in-parliament/) (very good)\n",
    "1. Analysis of [Trump's Tweets](https://www.dremio.com/trump-twitter-sentiment-analysis/)\n"
   ]
  },
  {
   "cell_type": "markdown",
   "metadata": {},
   "source": [
    "There is an ever-growing list of datasets:\n",
    "- Github has a community maintained list of [big data sets](https://github.com/awesomedata/awesome-public-datasets#socialsciences)\n",
    "- The Internet Archive has a [data collection](https://archive.org/details/datasets)\n",
    "- Google has launched a search engine [just for data](https://datasetsearch.research.google.com/)\n",
    "- And here is a [huge collection of text data](https://datasets.quantumstat.com/)\n",
    "                           "
   ]
  },
  {
   "cell_type": "markdown",
   "metadata": {
    "ExecuteTime": {
     "end_time": "2020-04-19T15:28:18.906178Z",
     "start_time": "2020-04-19T15:28:18.901177Z"
    }
   },
   "source": [
    "These datasets grow rapidly. For COVID-19, there is already:\n",
    "- 4 million Tweets per day, [available for download](http://www.panacealab.org/covid19/)\n",
    "- Google social distancing data, [for all major regions in 131 countries](https://www.google.com/covid19/mobility/)\n",
    "- And, of course, the WHO COVID-19 mortality data is [available for download](https://covid.ourworldindata.org/data/owid-covid-data.csv)"
   ]
  },
  {
   "cell_type": "markdown",
   "metadata": {
    "ExecuteTime": {
     "end_time": "2020-04-20T11:28:40.834757Z",
     "start_time": "2020-04-20T11:27:45.561Z"
    }
   },
   "source": [
    "Examples of recent research:\n",
    "- Organizations that have diversity within employees are more creative & profitable ([Corritore et al., 2019](https://journals.sagepub.com/doi/abs/10.1177/0001839219844175))\n",
    "\n",
    "- Detecting unsafe restaurants based on phone location and searches ([Sadilek et al., 2018](https://www.nature.com/articles/s41746-018-0045-1.pdf?origin=ppub))\n",
    "\n",
    "- Simulating human judgement using distributed language models ([Bhatia et al., 2019](https://www.sciencedirect.com/science/article/pii/S2352154618301712))\n"
   ]
  },
  {
   "cell_type": "markdown",
   "metadata": {
    "hideCode": false,
    "hidePrompt": false
   },
   "source": [
    "# Conclusion\n",
    "\n",
    "\n"
   ]
  }
 ],
 "metadata": {
  "hide_code_all_hidden": true,
  "kernelspec": {
   "display_name": "Python 3",
   "language": "python",
   "name": "python3"
  },
  "language_info": {
   "codemirror_mode": {
    "name": "ipython",
    "version": 3
   },
   "file_extension": ".py",
   "mimetype": "text/x-python",
   "name": "python",
   "nbconvert_exporter": "python",
   "pygments_lexer": "ipython3",
   "version": "3.7.6"
  },
  "toc": {
   "base_numbering": 1,
   "nav_menu": {
    "height": "345px",
    "width": "256px"
   },
   "number_sections": true,
   "sideBar": true,
   "skip_h1_title": false,
   "title_cell": "Table of Contents",
   "title_sidebar": "Contents",
   "toc_cell": true,
   "toc_position": {
    "height": "calc(100% - 180px)",
    "left": "10px",
    "top": "150px",
    "width": "165px"
   },
   "toc_section_display": true,
   "toc_window_display": true
  },
  "varInspector": {
   "cols": {
    "lenName": 16,
    "lenType": 16,
    "lenVar": 40
   },
   "kernels_config": {
    "python": {
     "delete_cmd_postfix": "",
     "delete_cmd_prefix": "del ",
     "library": "var_list.py",
     "varRefreshCmd": "print(var_dic_list())"
    },
    "r": {
     "delete_cmd_postfix": ") ",
     "delete_cmd_prefix": "rm(",
     "library": "var_list.r",
     "varRefreshCmd": "cat(var_dic_list()) "
    }
   },
   "types_to_exclude": [
    "module",
    "function",
    "builtin_function_or_method",
    "instance",
    "_Feature"
   ],
   "window_display": false
  }
 },
 "nbformat": 4,
 "nbformat_minor": 2
}
